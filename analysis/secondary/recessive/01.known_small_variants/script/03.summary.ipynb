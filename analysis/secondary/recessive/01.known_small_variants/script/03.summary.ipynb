{
 "cells": [
  {
   "cell_type": "code",
   "execution_count": 28,
   "id": "5dfe67c8-058d-47ff-b095-3258161449d1",
   "metadata": {
    "execution": {
     "iopub.execute_input": "2025-03-11T01:16:46.822995Z",
     "iopub.status.busy": "2025-03-11T01:16:46.822737Z",
     "iopub.status.idle": "2025-03-11T01:16:46.834265Z",
     "shell.execute_reply": "2025-03-11T01:16:46.833806Z",
     "shell.execute_reply.started": "2025-03-11T01:16:46.822975Z"
    }
   },
   "outputs": [],
   "source": [
    "from pathlib import Path\n",
    "import pandas as pd\n",
    "import numpy as np\n",
    "import multiprocessing\n",
    "from collections import defaultdict\n",
    "from datetime import datetime\n",
    "from itertools import chain, islice\n",
    "from tqdm import tqdm\n",
    "import matplotlib.pyplot as plt\n",
    "import seaborn as sns\n",
    "import shutil\n",
    "import re\n",
    "\n",
    "sns.set_style(\"whitegrid\")"
   ]
  },
  {
   "cell_type": "code",
   "execution_count": 58,
   "id": "f3d2ad18-da0b-4838-a364-b92ae051aee3",
   "metadata": {
    "execution": {
     "iopub.execute_input": "2025-03-11T04:07:21.358714Z",
     "iopub.status.busy": "2025-03-11T04:07:21.357851Z",
     "iopub.status.idle": "2025-03-11T04:07:21.368389Z",
     "shell.execute_reply": "2025-03-11T04:07:21.367203Z",
     "shell.execute_reply.started": "2025-03-11T04:07:21.358661Z"
    }
   },
   "outputs": [],
   "source": [
    "projectDir = Path(\"/home/_shared/jscliu/project/2025/Flagship/analysis/secondary/recessive/01.known_variants\")\n",
    "referenceDir = Path(\"/home/_shared/jscliu/project/2025/Flagship/reference\")\n",
    "\n",
    "# Input\n",
    "cohort_list = referenceDir/\"cohort_founder_list.2024-11-12.csv\"\n",
    "sample_info_csv = referenceDir/\"sample_info_annot.2024-11-12.csv\"\n",
    "resultDir = projectDir/\"results\"\n",
    "\n",
    "# Reference\n",
    "recessive_genes_bed = referenceDir/\"hkgi_recessive.ext200bp.bed\"\n",
    "known_var_tsv = projectDir/\"data/recessive.known_variants.hgnc.tsv\"\n",
    "vcf_header = projectDir/\"script/vcf_header.txt\"\n",
    "\n",
    "# Output\n",
    "summaryDir = projectDir/\"summary\"\n",
    "summaryDir.mkdir(parents=True, exist_ok=True)\n",
    "clinvar_plp_tsv = summaryDir/\"recessive.known_variants.tsv\"\n",
    "clinvar_plp_vcf = summaryDir/\"recessive.known_variants.vcf\""
   ]
  },
  {
   "cell_type": "markdown",
   "id": "359c455a-3cd9-47ce-8f35-5875bdc9490e",
   "metadata": {},
   "source": [
    "# Read and pre-process clinvar annotated VCF"
   ]
  },
  {
   "cell_type": "code",
   "execution_count": 75,
   "id": "d0746264-1bff-4c48-b658-68fff35323e7",
   "metadata": {
    "execution": {
     "iopub.execute_input": "2025-03-11T04:48:36.941819Z",
     "iopub.status.busy": "2025-03-11T04:48:36.941391Z",
     "iopub.status.idle": "2025-03-11T04:48:40.982703Z",
     "shell.execute_reply": "2025-03-11T04:48:40.981449Z",
     "shell.execute_reply.started": "2025-03-11T04:48:36.941772Z"
    }
   },
   "outputs": [],
   "source": [
    "clinvar_ref_df = pd.read_table(known_var_tsv, names=['CHROM', 'POS', 'REF', 'ALT', 'clinVar_ID', 'GENEINFO', 'CLNSIG', 'CLNREVSTAT'])\n",
    "\n",
    "# Construct CPRA and set as index\n",
    "clinvar_ref_df['CPRA'] = clinvar_ref_df.apply(lambda r: f\"{r.CHROM}-{r.POS}-{r.REF}-{r.ALT}\", axis=1)\n",
    "clinvar_ref_df.set_index(\"CPRA\", inplace=True)"
   ]
  },
  {
   "cell_type": "code",
   "execution_count": 77,
   "id": "b7ab9301-f496-4f1b-bb4e-a3fd9135e7e4",
   "metadata": {
    "execution": {
     "iopub.execute_input": "2025-03-11T04:48:40.993842Z",
     "iopub.status.busy": "2025-03-11T04:48:40.993701Z",
     "iopub.status.idle": "2025-03-11T04:48:41.005541Z",
     "shell.execute_reply": "2025-03-11T04:48:41.004765Z",
     "shell.execute_reply.started": "2025-03-11T04:48:40.993828Z"
    }
   },
   "outputs": [],
   "source": [
    "# Re-order the columns before merging\n",
    "keep_cols = ['clinVar_ID', 'GENEINFO', 'CLNSIG', 'CLNREVSTAT']\n",
    "clinvar_ref_df = clinvar_ref_df.loc[:, keep_cols].copy()"
   ]
  },
  {
   "cell_type": "markdown",
   "id": "e6b83d79-cbfd-4833-b0ab-1aa51dd95bba",
   "metadata": {},
   "source": [
    "# Subset result TSV for participants/samples belonging to this cohort only"
   ]
  },
  {
   "cell_type": "code",
   "execution_count": 59,
   "id": "11f50b40-2bf1-4384-b6f5-c30efe1edd8a",
   "metadata": {
    "execution": {
     "iopub.execute_input": "2025-03-11T04:07:28.520775Z",
     "iopub.status.busy": "2025-03-11T04:07:28.519935Z",
     "iopub.status.idle": "2025-03-11T04:07:28.553568Z",
     "shell.execute_reply": "2025-03-11T04:07:28.552604Z",
     "shell.execute_reply.started": "2025-03-11T04:07:28.520722Z"
    }
   },
   "outputs": [],
   "source": [
    "cohort_list_df = pd.read_csv(cohort_list, names=['participant_id', 'sample_id']).drop_duplicates(subset=['participant_id'])"
   ]
  },
  {
   "cell_type": "code",
   "execution_count": null,
   "id": "e0e97f37-bab5-4fca-a463-a98b7afce2d1",
   "metadata": {
    "execution": {
     "iopub.execute_input": "2025-03-11T04:40:19.539133Z",
     "iopub.status.busy": "2025-03-11T04:40:19.538061Z",
     "iopub.status.idle": "2025-03-11T04:40:19.666952Z",
     "shell.execute_reply": "2025-03-11T04:40:19.666412Z",
     "shell.execute_reply.started": "2025-03-11T04:40:19.539032Z"
    }
   },
   "outputs": [],
   "source": [
    "tsv_ls:list = [ resultDir/f\"{p}.smallvar.recessive.tsv\" for p in cohort_list_df['sample_id'].tolist() ]\n",
    "tsv_ls:list = [ p for p in tsv_ls if p.is_file() ]\n",
    "print(f\"Expected N TSV: {len(cohort_list_df):,}\")\n",
    "print(f\"Found N TSV: {len(tsv_ls):,}\")"
   ]
  },
  {
   "cell_type": "code",
   "execution_count": 65,
   "id": "a8085ac1-1070-454f-905b-719719782dc1",
   "metadata": {
    "execution": {
     "iopub.execute_input": "2025-03-11T04:40:32.085122Z",
     "iopub.status.busy": "2025-03-11T04:40:32.084302Z",
     "iopub.status.idle": "2025-03-11T04:40:32.095894Z",
     "shell.execute_reply": "2025-03-11T04:40:32.094796Z",
     "shell.execute_reply.started": "2025-03-11T04:40:32.085069Z"
    }
   },
   "outputs": [],
   "source": [
    "def split_list(lst, chunk_size):\n",
    "    it = iter(lst)\n",
    "    return [list(islice(it, chunk_size)) for _ in range(0, len(lst), chunk_size)]\n",
    "\n",
    "chunk_tsv_ls = split_list(tsv_ls, 2000)"
   ]
  },
  {
   "cell_type": "markdown",
   "id": "d7db2508-952a-462b-a1b7-8613af9401c1",
   "metadata": {},
   "source": [
    "# Read and concatenate result TSV as master pd.DataFrame"
   ]
  },
  {
   "cell_type": "code",
   "execution_count": 66,
   "id": "ce78ccdd-7839-4315-82d1-13058a76e273",
   "metadata": {
    "execution": {
     "iopub.execute_input": "2025-03-11T04:40:34.582592Z",
     "iopub.status.busy": "2025-03-11T04:40:34.581707Z",
     "iopub.status.idle": "2025-03-11T04:40:34.593399Z",
     "shell.execute_reply": "2025-03-11T04:40:34.591856Z",
     "shell.execute_reply.started": "2025-03-11T04:40:34.582536Z"
    }
   },
   "outputs": [],
   "source": [
    "def read_result_tsv(tsv:Path):\n",
    "    tsv_header:list = ['chrom', 'pos', 'ref', 'alt', 'genotype']\n",
    "    df_header:list = ['CPRA', 'sample_id', 'genotype']\n",
    "    df = pd.read_table(tsv, names=tsv_header)\n",
    "    df['CPRA'] = df.apply(lambda r: f\"{r.chrom}-{r.pos}-{r.ref}-{r.alt}\", axis=1)\n",
    "    df['sample_id'] = tsv.name.split(\".\")[0]\n",
    "    df = df.loc[:, df_header].copy()\n",
    "    return df"
   ]
  },
  {
   "cell_type": "code",
   "execution_count": null,
   "id": "ba19dc2c-7094-41d0-88aa-a13ad646be57",
   "metadata": {
    "execution": {
     "iopub.execute_input": "2025-03-11T04:40:35.156408Z",
     "iopub.status.busy": "2025-03-11T04:40:35.155477Z",
     "iopub.status.idle": "2025-03-11T04:40:56.246125Z",
     "shell.execute_reply": "2025-03-11T04:40:56.244709Z",
     "shell.execute_reply.started": "2025-03-11T04:40:35.156351Z"
    }
   },
   "outputs": [],
   "source": [
    "group_df_ls = list()\n",
    "for working_tsv_ls in tqdm(chunk_tsv_ls):\n",
    "    # Read TSV in parallel\n",
    "    # print(f\"{datetime.strftime(datetime.now(), '%H:%M')} - Reading TSVs in parallel\")\n",
    "    pool = multiprocessing.Pool(processes=20)    # Create Pool of 10 parallel processes max\n",
    "    results = pool.starmap(read_result_tsv, [(tsv,) for tsv in working_tsv_ls])    # If the function only takes one arguments\n",
    "    pool.close()    # Wait until all processes completed\n",
    "    pool.join()    # Join all output from processes\n",
    "\n",
    "    # Concatenate TSV df\n",
    "    # print(f\"{datetime.strftime(datetime.now(), '%H:%M')} - Concatenating\")\n",
    "    result_df = pd.concat(results)\n",
    "    # print(f\"{datetime.strftime(datetime.now(), '%H:%M')} - Groupby\")\n",
    "    group_df = result_df.groupby('CPRA').agg(list)\n",
    "\n",
    "    # Append to group_df_ls\n",
    "    group_df_ls.append(group_df)"
   ]
  },
  {
   "cell_type": "code",
   "execution_count": 68,
   "id": "bddf941e-22bb-415c-b2e4-895fc8aadfed",
   "metadata": {
    "execution": {
     "iopub.execute_input": "2025-03-11T04:41:01.171144Z",
     "iopub.status.busy": "2025-03-11T04:41:01.170134Z",
     "iopub.status.idle": "2025-03-11T04:41:02.873316Z",
     "shell.execute_reply": "2025-03-11T04:41:02.872446Z",
     "shell.execute_reply.started": "2025-03-11T04:41:01.171059Z"
    }
   },
   "outputs": [],
   "source": [
    "# Concatenate the grouped df, final groupby to get a master df\n",
    "recessive_df = pd.concat(group_df_ls).groupby('CPRA').agg(list)"
   ]
  },
  {
   "cell_type": "code",
   "execution_count": 69,
   "id": "3fccce6d-5653-41db-bab5-cdd217c379d2",
   "metadata": {
    "execution": {
     "iopub.execute_input": "2025-03-11T04:41:04.948162Z",
     "iopub.status.busy": "2025-03-11T04:41:04.947797Z",
     "iopub.status.idle": "2025-03-11T04:41:05.512245Z",
     "shell.execute_reply": "2025-03-11T04:41:05.510893Z",
     "shell.execute_reply.started": "2025-03-11T04:41:04.948134Z"
    }
   },
   "outputs": [],
   "source": [
    "for col in recessive_df.columns:\n",
    "    recessive_df[col] = recessive_df[col].apply(lambda c: list(chain.from_iterable(c)))"
   ]
  },
  {
   "cell_type": "markdown",
   "id": "ed8a1222-9a4d-4463-b1f4-1c22d295ee67",
   "metadata": {},
   "source": [
    "## Merge clinvar_ref_df to recessive_df"
   ]
  },
  {
   "cell_type": "code",
   "execution_count": 139,
   "id": "6b5c6445-cd57-4bd6-993e-440fef74df93",
   "metadata": {
    "execution": {
     "iopub.execute_input": "2025-03-11T06:36:24.501869Z",
     "iopub.status.busy": "2025-03-11T06:36:24.500992Z",
     "iopub.status.idle": "2025-03-11T06:36:24.558140Z",
     "shell.execute_reply": "2025-03-11T06:36:24.557223Z",
     "shell.execute_reply.started": "2025-03-11T06:36:24.501808Z"
    }
   },
   "outputs": [],
   "source": [
    "recessive_clinvar_df = clinvar_ref_df.merge(recessive_df, left_index=True, right_index=True, how='right')"
   ]
  },
  {
   "cell_type": "code",
   "execution_count": 140,
   "id": "b40a97f3-5634-419e-8722-6fe8f5cf4e98",
   "metadata": {
    "execution": {
     "iopub.execute_input": "2025-03-11T06:36:24.955420Z",
     "iopub.status.busy": "2025-03-11T06:36:24.954499Z",
     "iopub.status.idle": "2025-03-11T06:36:24.976446Z",
     "shell.execute_reply": "2025-03-11T06:36:24.975233Z",
     "shell.execute_reply.started": "2025-03-11T06:36:24.955366Z"
    }
   },
   "outputs": [],
   "source": [
    "recessive_clinvar_df = recessive_clinvar_df.loc[~recessive_clinvar_df['clinVar_ID'].isna(), :].copy()\n",
    "\n",
    "# Convert clinVarID to class int\n",
    "recessive_clinvar_df = recessive_clinvar_df.astype({'clinVar_ID': int})"
   ]
  },
  {
   "cell_type": "markdown",
   "id": "7dc95762-8eb0-425b-80aa-bac0a8baf567",
   "metadata": {},
   "source": [
    "# Extract gene names from the \"GENEINFO\" columns"
   ]
  },
  {
   "cell_type": "code",
   "execution_count": 143,
   "id": "aedb0482-12cd-4e22-a611-16e1f2d2e11b",
   "metadata": {
    "execution": {
     "iopub.execute_input": "2025-03-11T06:36:26.958720Z",
     "iopub.status.busy": "2025-03-11T06:36:26.957764Z",
     "iopub.status.idle": "2025-03-11T06:36:26.974661Z",
     "shell.execute_reply": "2025-03-11T06:36:26.973698Z",
     "shell.execute_reply.started": "2025-03-11T06:36:26.958661Z"
    }
   },
   "outputs": [],
   "source": [
    "# Read from reference\n",
    "gene_panel_df = pd.read_table(recessive_genes_bed, comment='#', names=['chr', 'start', 'end', 'gene', 'score', 'strand'])\n",
    "recessive_gene_ls = gene_panel_df['gene'].tolist()\n",
    "recessive_gene_dict = { re.split(\",aka\", g)[1]: re.split(\",aka\", g)[0] for g in recessive_gene_ls if \"aka\" in g }\n",
    "recessive_gene_ls = [ re.split(\",aka\", g)[0] if \"aka\" in g else g for g in recessive_gene_ls ]"
   ]
  },
  {
   "cell_type": "code",
   "execution_count": 146,
   "id": "051fa795-3b9e-42cd-a90e-8142902618da",
   "metadata": {
    "execution": {
     "iopub.execute_input": "2025-03-11T06:36:28.798371Z",
     "iopub.status.busy": "2025-03-11T06:36:28.796866Z",
     "iopub.status.idle": "2025-03-11T06:36:37.947396Z",
     "shell.execute_reply": "2025-03-11T06:36:37.946351Z",
     "shell.execute_reply.started": "2025-03-11T06:36:28.798316Z"
    }
   },
   "outputs": [],
   "source": [
    "def identify_panel_genes(cpra, gene_info, gene_panel_df, recessive_gene_ls, recessive_gene_dict):\n",
    "    chr, pos, ref, alt = cpra.split('-')\n",
    "    # Gene by locations in BED files\n",
    "    gene_by_loc = gene_panel_df.loc[\n",
    "        (gene_panel_df['#chr']==chr) & (gene_panel_df['start']<=int(pos)) & (gene_panel_df['end']>=int(pos)), \n",
    "        'gene'\n",
    "    ].tolist()\n",
    "    gene_by_loc = gene_by_loc if gene_by_loc else np.nan\n",
    "\n",
    "    # Gene by GENEINFO in clinvar VCF\n",
    "    gene_by_name:list = []\n",
    "    for gene in [ g.split(':')[0] for g in gene_info.split('|') ]:\n",
    "        if gene in recessive_gene_ls:\n",
    "            gene_by_name.append(gene)\n",
    "        elif gene in recessive_gene_dict.keys():\n",
    "            gene_by_name.append(recessive_gene_dict[gene])\n",
    "    gene_by_name = gene_by_name if gene_by_name else np.nan\n",
    "    return pd.Series([gene_by_name, gene_by_loc])    \n",
    "\n",
    "recessive_clinvar_df[['recessive_genes_byinfo', 'recessive_genes_byloc']] = recessive_clinvar_df.apply(\n",
    "    lambda r: identify_panel_genes(r.name, r.GENEINFO, gene_panel_df, recessive_gene_ls, recessive_gene_dict), \n",
    "    axis=1\n",
    ")"
   ]
  },
  {
   "cell_type": "code",
   "execution_count": 148,
   "id": "2b6baeb7-083a-4556-8ea8-6585cac13310",
   "metadata": {
    "execution": {
     "iopub.execute_input": "2025-03-11T06:36:37.956475Z",
     "iopub.status.busy": "2025-03-11T06:36:37.955489Z",
     "iopub.status.idle": "2025-03-11T06:36:38.127417Z",
     "shell.execute_reply": "2025-03-11T06:36:38.126523Z",
     "shell.execute_reply.started": "2025-03-11T06:36:37.956422Z"
    }
   },
   "outputs": [],
   "source": [
    "# Determine the \"Actual\" recessive genes\n",
    "recessive_clinvar_df['recessive_genes'] = recessive_clinvar_df.apply(\n",
    "    lambda r: r['recessive_genes_byloc'] if r['recessive_genes_byinfo'] != r['recessive_genes_byinfo'] else r['recessive_genes_byinfo'], \n",
    "    axis=1\n",
    ")"
   ]
  },
  {
   "cell_type": "code",
   "execution_count": 151,
   "id": "aec7293d-7e80-4fd4-b323-ed77c301d2a6",
   "metadata": {
    "execution": {
     "iopub.execute_input": "2025-03-11T06:37:01.424189Z",
     "iopub.status.busy": "2025-03-11T06:37:01.423118Z",
     "iopub.status.idle": "2025-03-11T06:37:01.446332Z",
     "shell.execute_reply": "2025-03-11T06:37:01.444992Z",
     "shell.execute_reply.started": "2025-03-11T06:37:01.424123Z"
    }
   },
   "outputs": [],
   "source": [
    "recessive_clinvar_df.dropna(subset=['recessive_genes'], inplace=True)"
   ]
  },
  {
   "cell_type": "markdown",
   "id": "9c4407a1-5dd6-43ed-b7b0-7ba9fa355c2f",
   "metadata": {},
   "source": [
    "# Subset for clinvar P/LP variants only through interpreting CLNSIG"
   ]
  },
  {
   "cell_type": "code",
   "execution_count": null,
   "id": "f4fede1a-e68e-400e-b8d5-abc094d46f6e",
   "metadata": {
    "execution": {
     "iopub.execute_input": "2025-04-14T08:15:21.078202Z",
     "iopub.status.busy": "2025-04-14T08:15:21.077357Z",
     "iopub.status.idle": "2025-04-14T08:15:21.236069Z",
     "shell.execute_reply": "2025-04-14T08:15:21.235147Z",
     "shell.execute_reply.started": "2025-04-14T08:15:21.078145Z"
    }
   },
   "outputs": [],
   "source": [
    "# Map clinvar.vcf.gz_CLNSIG to clinical_relevance\n",
    "def map_clinical_relevance(clnsig):\n",
    "    # Classify P/LP/B/LB by text match\n",
    "    if \"Likely_pathogenic\" in clnsig:\n",
    "        return \"likely_pathogenic\"\n",
    "    elif \"Pathogenic\" in clnsig:\n",
    "        return \"pathogenic\"\n",
    "    elif \"Likely_benign\" in clnsig:\n",
    "        return \"likely_benign\"\n",
    "    elif \"Benign\" in clnsig:\n",
    "        return \"benign\"\n",
    "    \n",
    "    # Classify VUS\n",
    "    vus_clnsig:list = [\n",
    "        \"Uncertain_significance\", \"Conflicting_classifications_of_pathogenicity\", \n",
    "        \"Uncertain_risk_allele\", \"Likely_risk_allele\"\n",
    "    ]\n",
    "    for term in vus_clnsig:\n",
    "        if term in clnsig:\n",
    "            return \"vus\"\n",
    "            \n",
    "    # Classify \"others\"\n",
    "    other_clnsig:list = [\n",
    "        \"not_provided\", \"drug_response\", \n",
    "        \"no_classification_for_the_single_variant\", \n",
    "        \"other\", \"risk_factor\", \"association\", \n",
    "        \"Affects\", \"protective\"\n",
    "    ]\n",
    "    for term in other_clnsig:\n",
    "        if term in clnsig:\n",
    "            return \"other\"\n",
    "    print(f\"[ERROR] Cannot interpret {clnsig}\")\n",
    "    return\n",
    "    \n",
    "recessive_clinvar_df['clinical_relevance'] = recessive_clinvar_df['CLNSIG'].apply(map_clinical_relevance)"
   ]
  },
  {
   "cell_type": "code",
   "execution_count": 157,
   "id": "85f8affb-dc02-42b9-8ff5-d288c5fc746b",
   "metadata": {
    "execution": {
     "iopub.execute_input": "2025-03-11T06:39:20.573170Z",
     "iopub.status.busy": "2025-03-11T06:39:20.572330Z",
     "iopub.status.idle": "2025-03-11T06:39:20.586357Z",
     "shell.execute_reply": "2025-03-11T06:39:20.585323Z",
     "shell.execute_reply.started": "2025-03-11T06:39:20.573116Z"
    }
   },
   "outputs": [],
   "source": [
    "# Subset for P/LP only\n",
    "recessive_clinvar_plp_df = recessive_clinvar_df.loc[recessive_clinvar_df['clinical_relevance'].isin(['pathogenic', 'likely_pathogenic']), :].copy()"
   ]
  },
  {
   "cell_type": "markdown",
   "id": "3a06e314-ee70-4928-9c58-96c51702c295",
   "metadata": {},
   "source": [
    "# Subset for one gs or up through interpreting CLNREVSTAT"
   ]
  },
  {
   "cell_type": "code",
   "execution_count": 160,
   "id": "a1178215-27c0-495f-8028-a222028e8e72",
   "metadata": {
    "execution": {
     "iopub.execute_input": "2025-03-11T06:40:29.942394Z",
     "iopub.status.busy": "2025-03-11T06:40:29.941018Z",
     "iopub.status.idle": "2025-03-11T06:40:29.958643Z",
     "shell.execute_reply": "2025-03-11T06:40:29.958008Z",
     "shell.execute_reply.started": "2025-03-11T06:40:29.942308Z"
    }
   },
   "outputs": [],
   "source": [
    "def classify_goldstar(clnrevstat:str)->str:\n",
    "    map_d = {\n",
    "        'practice_guideline': 4, \n",
    "        'reviewed_by_expert_panel': 3, \n",
    "        'criteria_provided&_multiple_submitters&_no_conflicts': 2, \n",
    "        'criteria_provided&_conflicting_classifications': 1, \n",
    "        'criteria_provided&_single_submitter': 1, \n",
    "        'no_assertion_criteria_provided': 0, \n",
    "        'no_classification_provided': 0, \n",
    "        'no_classification_for_the_single_variant': 0\n",
    "    }\n",
    "    return map_d[clnrevstat]\n",
    "recessive_clinvar_plp_df['CLNREVSTAT'] = recessive_clinvar_plp_df['CLNREVSTAT'].apply(lambda c: c.replace(\",\", \"&\"))\n",
    "recessive_clinvar_plp_df['goldstars_n'] = recessive_clinvar_plp_df['CLNREVSTAT'].apply(classify_goldstar)"
   ]
  },
  {
   "cell_type": "code",
   "execution_count": 161,
   "id": "44b7529f-332a-4deb-a371-2541ad940102",
   "metadata": {
    "execution": {
     "iopub.execute_input": "2025-03-11T06:40:30.994471Z",
     "iopub.status.busy": "2025-03-11T06:40:30.993612Z",
     "iopub.status.idle": "2025-03-11T06:40:31.013834Z",
     "shell.execute_reply": "2025-03-11T06:40:31.012954Z",
     "shell.execute_reply.started": "2025-03-11T06:40:30.994417Z"
    }
   },
   "outputs": [],
   "source": [
    "recessive_clinvar_plp_filtered_df = recessive_clinvar_plp_df.loc[recessive_clinvar_plp_df['goldstars_n']>0, :].copy()"
   ]
  },
  {
   "cell_type": "markdown",
   "id": "a295021a-5a07-406e-80b7-c4c9a4c8720b",
   "metadata": {},
   "source": [
    "# Filter columns"
   ]
  },
  {
   "cell_type": "code",
   "execution_count": 166,
   "id": "22e67dae-d7c0-4ed3-baa3-c8a7cce4f59e",
   "metadata": {
    "execution": {
     "iopub.execute_input": "2025-03-11T06:42:46.709875Z",
     "iopub.status.busy": "2025-03-11T06:42:46.709426Z",
     "iopub.status.idle": "2025-03-11T06:42:46.713795Z",
     "shell.execute_reply": "2025-03-11T06:42:46.713292Z",
     "shell.execute_reply.started": "2025-03-11T06:42:46.709851Z"
    }
   },
   "outputs": [],
   "source": [
    "recessive_clinvar_plp_filtered_df['Chr-Pos-Ref-Alt'] = recessive_clinvar_plp_filtered_df.index"
   ]
  },
  {
   "cell_type": "code",
   "execution_count": 167,
   "id": "429e874a-6afa-40ec-b61a-44bcc0c9da8a",
   "metadata": {
    "execution": {
     "iopub.execute_input": "2025-03-11T06:42:46.945502Z",
     "iopub.status.busy": "2025-03-11T06:42:46.945052Z",
     "iopub.status.idle": "2025-03-11T06:42:46.951753Z",
     "shell.execute_reply": "2025-03-11T06:42:46.951005Z",
     "shell.execute_reply.started": "2025-03-11T06:42:46.945479Z"
    }
   },
   "outputs": [],
   "source": [
    "filtered_col = [\n",
    "    'Chr-Pos-Ref-Alt', 'clinVar_ID', 'recessive_genes', 'CLNSIG', \n",
    "    'clinical_relevance', 'goldstars_n', \n",
    "    'sample_id', 'genotype'\n",
    "]\n",
    "recessive_clinvar_plp_filtered_df = recessive_clinvar_plp_filtered_df.loc[:, filtered_col].copy()"
   ]
  },
  {
   "cell_type": "markdown",
   "id": "6438f643-ce7e-4581-a621-0afb2c438640",
   "metadata": {},
   "source": [
    "# Export report"
   ]
  },
  {
   "cell_type": "code",
   "execution_count": 169,
   "id": "5c335bb4-70dd-41c0-9281-f1532a8939de",
   "metadata": {
    "execution": {
     "iopub.execute_input": "2025-03-11T06:49:46.329346Z",
     "iopub.status.busy": "2025-03-11T06:49:46.328890Z",
     "iopub.status.idle": "2025-03-11T06:49:47.023040Z",
     "shell.execute_reply": "2025-03-11T06:49:47.022121Z",
     "shell.execute_reply.started": "2025-03-11T06:49:46.329324Z"
    }
   },
   "outputs": [],
   "source": [
    "# Export recessive_clinvar_plp_filtered_df to TSV\n",
    "export_df = recessive_clinvar_plp_filtered_df.copy()\n",
    "listed_cols:list = [\"recessive_genes\", \"sample_id\", \"genotype\"]\n",
    "for col in listed_cols:\n",
    "    export_df[col] = export_df[col].apply(lambda x: \".\".join(x))\n",
    "export_df.to_csv(clinvar_plp_tsv, index=False, sep='\\t')\n",
    "\n",
    "# Export the CPRA as VCF\n",
    "export_vcf_df = export_df.rename(columns={\"Chr-Pos-Ref-Alt\": \"CPRA\", \"clinVar_ID\": \"ID\"})\n",
    "vcf_cols:list = [\"#CHROM\", \"POS\", \"ID\", \"REF\", \"ALT\", \"QUAL\", \"FILTER\", \"INFO\"]\n",
    "export_vcf_df[[\"#CHROM\", \"POS\", \"REF\", \"ALT\"]] = export_vcf_df['CPRA'].apply(\n",
    "    lambda x: pd.Series(x.split('-'))\n",
    ")\n",
    "for col in vcf_cols[-3:]:\n",
    "    export_vcf_df[col] = \".\"\n",
    "export_vcf_df = export_vcf_df.loc[:, vcf_cols].copy()\n",
    "shutil.copy(vcf_header, clinvar_plp_vcf)\n",
    "export_vcf_df.to_csv(clinvar_plp_vcf, index=False, sep='\\t', mode='a')"
   ]
  },
  {
   "cell_type": "code",
   "execution_count": null,
   "id": "d137d0e4-3e49-475c-8303-2d69ab0fe7f3",
   "metadata": {},
   "outputs": [],
   "source": []
  }
 ],
 "metadata": {
  "kernelspec": {
   "display_name": "Python 3 (ipykernel)",
   "language": "python",
   "name": "python3"
  },
  "language_info": {
   "codemirror_mode": {
    "name": "ipython",
    "version": 3
   },
   "file_extension": ".py",
   "mimetype": "text/x-python",
   "name": "python",
   "nbconvert_exporter": "python",
   "pygments_lexer": "ipython3",
   "version": "3.10.12"
  }
 },
 "nbformat": 4,
 "nbformat_minor": 5
}
