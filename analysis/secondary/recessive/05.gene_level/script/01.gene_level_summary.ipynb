{
 "cells": [
  {
   "cell_type": "code",
   "execution_count": null,
   "id": "24c06c70-3da9-4266-8725-8d3886c02141",
   "metadata": {
    "execution": {
     "iopub.execute_input": "2025-06-02T07:02:50.795713Z",
     "iopub.status.busy": "2025-06-02T07:02:50.794994Z",
     "iopub.status.idle": "2025-06-02T07:02:50.805342Z",
     "shell.execute_reply": "2025-06-02T07:02:50.802766Z",
     "shell.execute_reply.started": "2025-06-02T07:02:50.795655Z"
    }
   },
   "outputs": [],
   "source": [
    "from pathlib import Path\n",
    "import pandas as pd\n",
    "import numpy as np\n",
    "import re\n",
    "from collections import defaultdict\n",
    "from scipy import stats\n",
    "import math\n",
    "import sys"
   ]
  },
  {
   "cell_type": "code",
   "execution_count": null,
   "id": "012ae956-6b7b-4242-9451-f0dd3c394345",
   "metadata": {
    "execution": {
     "iopub.execute_input": "2025-06-02T07:02:51.242565Z",
     "iopub.status.busy": "2025-06-02T07:02:51.241843Z",
     "iopub.status.idle": "2025-06-02T07:02:51.259003Z",
     "shell.execute_reply": "2025-06-02T07:02:51.256450Z",
     "shell.execute_reply.started": "2025-06-02T07:02:51.242510Z"
    }
   },
   "outputs": [],
   "source": [
    "projectDir = Path(\"/home/_shared/jscliu/project/2025/Flagship/analysis/secondary/recessive\")\n",
    "referenceDir = Path(\"/home/_shared/jscliu/project/2025/Flagship/reference\")\n",
    "dataDir = projectDir/\"05.gene_level/data\"\n",
    "summaryDir = projectDir/\"05.gene_level/summary\"\n",
    "\n",
    "# Reference\n",
    "hg38_gtf = Path(\"/home/_shared/database/reference/Homo_sapiens.GRCh38.111.gtf.gz\")\n",
    "gene_panel = referenceDir/\"hkgi_recessive.ext200bp.bed\"\n",
    "sample_info = dataDir/\"recessive_founder_info.csv\"\n",
    "acmg_tiers_csv = dataDir/\"acmg_genes.csv\"\n",
    "rm_parent = dataDir/\"exclude_parents.txt\"\n",
    "acmg_genes_hkgp_naming = dataDir/\"acmg_gene_list.hkgp_naming.txt\"\n",
    "mackenzies_genes_hkgp_naming = dataDir/\"mackenzies_gene_list.hkgp_naming.txt\"\n",
    "hkgpT3_genes_hkgp_naming = dataDir/\"HKGP-tier3_gene_list.hkgp_naming.txt\"\n",
    "sample_trio = dataDir/\"sample_trios.chinese.2024-11-12.csv\"\n",
    "\n",
    "# Input\n",
    "var_csv = projectDir/\"03.filtering/summary/recessive.var.filtered.csv\"\n",
    "hkgi_HBA_sv_csv = projectDir/\"04b.HBA/summary/HBA_per_sample_result.csv\"\n",
    "hkgi_SMN_sv_csv = projectDir/\"04a.SMN/summary/filtered_smn_output.tsv\"\n",
    "sv_csv = projectDir/\"04c.sv/summary/SF_recessive_manual_curated.csv\"\n",
    "\n",
    "gnomad_gene_csv = dataDir/\"gnomADv4_suppTable6.csv\"\n",
    "gnomad_xgene_csv = dataDir/\"gnomADv4_suppTable7.csv\"\n",
    "gnomad_ancestry_landscape = dataDir/\"gnomAD_v4_ethnicity_landscape.csv\"\n",
    "\n",
    "# List of variants to be manually removed\n",
    "rm_var_csv = dataDir/\"recessive.rm_var_manual.csv\"\n",
    "\n",
    "# Output\n",
    "recessive_final_csv = summaryDir/\"recessive.cross_studies_comparison.csv\""
   ]
  },
  {
   "cell_type": "code",
   "execution_count": null,
   "id": "15df9b00-2927-4a5e-8c57-3c0c108c4a3e",
   "metadata": {
    "execution": {
     "iopub.execute_input": "2025-06-03T06:18:41.093817Z",
     "iopub.status.busy": "2025-06-03T06:18:41.093448Z",
     "iopub.status.idle": "2025-06-03T06:18:41.098872Z",
     "shell.execute_reply": "2025-06-03T06:18:41.098222Z",
     "shell.execute_reply.started": "2025-06-03T06:18:41.093791Z"
    }
   },
   "outputs": [],
   "source": [
    "def get_panel_genes(txt):\n",
    "    with open(txt, 'r') as f:\n",
    "        genes = [l.strip() for l in f]\n",
    "    return genes\n",
    "acmg_panel_genes = get_panel_genes(acmg_genes_hkgp_naming)\n",
    "hkgi_panel_genes = get_panel_genes(hkgpT3_genes_hkgp_naming)\n",
    "mackenzies_panel_genes = get_panel_genes(mackenzies_genes_hkgp_naming)"
   ]
  },
  {
   "cell_type": "markdown",
   "id": "b7a36c8f-511b-496d-aee6-469f0798aeff",
   "metadata": {},
   "source": [
    "## Cohort cnt and sex"
   ]
  },
  {
   "cell_type": "code",
   "execution_count": null,
   "id": "997e7050-b74f-4fac-a3c0-95545692aadc",
   "metadata": {
    "execution": {
     "iopub.execute_input": "2025-06-02T07:02:52.507281Z",
     "iopub.status.busy": "2025-06-02T07:02:52.506546Z",
     "iopub.status.idle": "2025-06-02T07:02:52.580075Z",
     "shell.execute_reply": "2025-06-02T07:02:52.578015Z",
     "shell.execute_reply.started": "2025-06-02T07:02:52.507224Z"
    }
   },
   "outputs": [],
   "source": [
    "founder_info_df = pd.read_csv(sample_info, index_col=[0])"
   ]
  },
  {
   "cell_type": "code",
   "execution_count": null,
   "id": "7d8bfbce-c74f-4d12-92db-5eb5faca15f0",
   "metadata": {
    "execution": {
     "iopub.execute_input": "2025-06-02T07:02:53.344070Z",
     "iopub.status.busy": "2025-06-02T07:02:53.343369Z",
     "iopub.status.idle": "2025-06-02T07:02:53.495666Z",
     "shell.execute_reply": "2025-06-02T07:02:53.493486Z",
     "shell.execute_reply.started": "2025-06-02T07:02:53.344014Z"
    }
   },
   "outputs": [],
   "source": [
    "founder_sex_d = founder_info_df.to_dict()['inferred_sex']\n",
    "founder_cnt = len(founder_info_df)\n",
    "founder_male_cnt = len(founder_info_df.loc[founder_info_df['inferred_sex']=='Male', :])\n",
    "founder_female_cnt = len(founder_info_df.loc[founder_info_df['inferred_sex']=='Female', :])"
   ]
  },
  {
   "cell_type": "markdown",
   "id": "7f054e86-e399-40f6-b141-811f4fcd11c7",
   "metadata": {},
   "source": [
    "## gnomad_sample_size"
   ]
  },
  {
   "cell_type": "code",
   "execution_count": null,
   "id": "bab9e73b-ae50-4995-b2d1-0739cb5b43db",
   "metadata": {
    "execution": {
     "iopub.execute_input": "2025-06-02T07:02:54.186360Z",
     "iopub.status.busy": "2025-06-02T07:02:54.185605Z",
     "iopub.status.idle": "2025-06-02T07:02:54.205722Z",
     "shell.execute_reply": "2025-06-02T07:02:54.203220Z",
     "shell.execute_reply.started": "2025-06-02T07:02:54.186302Z"
    }
   },
   "outputs": [],
   "source": [
    "gnomad_ancestry_df = pd.read_csv(gnomad_ancestry_landscape, index_col=[0])\n",
    "gnomad_sample_size_d = gnomad_ancestry_df.loc[:, ['Ancestry_count']].drop_duplicates().to_dict()['Ancestry_count']\n",
    "gnomad_sample_size_d = { a: int(c.replace(\",\", \"\")) for a, c in gnomad_sample_size_d.items() }"
   ]
  },
  {
   "cell_type": "markdown",
   "id": "148ab669-ea08-4381-85d4-36729e53e7c2",
   "metadata": {},
   "source": [
    "## Gene panels"
   ]
  },
  {
   "cell_type": "code",
   "execution_count": null,
   "id": "360dc49d-6072-4e63-84b2-ebc1b2898e1c",
   "metadata": {
    "execution": {
     "iopub.execute_input": "2025-06-02T07:02:54.872799Z",
     "iopub.status.busy": "2025-06-02T07:02:54.872078Z",
     "iopub.status.idle": "2025-06-02T07:02:54.902439Z",
     "shell.execute_reply": "2025-06-02T07:02:54.900282Z",
     "shell.execute_reply.started": "2025-06-02T07:02:54.872742Z"
    }
   },
   "outputs": [],
   "source": [
    "# Handle gene panels\n",
    "gene_df = pd.read_table(gene_panel, comment='#', names=['#chr',\t'start', 'end', 'gene', 'score', 'strand'])\n",
    "gene_list = gene_df['gene'].tolist()\n",
    "gene_map_d = { re.split(\",aka\", g)[1]: re.split(\",aka\", g)[0] for g in gene_list if \"aka\" in g }\n",
    "gene_list = [ re.split(\",aka\", g)[0] if \"aka\" in g else g for g in gene_list ]\n",
    "gene_chr_d:dict = gene_df.set_index(\"gene\").to_dict()['#chr']\n",
    "gene_chr_d = { re.split(',aka', g)[0]:c for g, c in gene_chr_d.items() if 'aka' in g } | { g:c for g, c in gene_chr_d.items() if 'aka' not in g } \n",
    "gene_chr_d['HBA1/HBA2'] = 'chr16'"
   ]
  },
  {
   "cell_type": "markdown",
   "id": "077b43e5-6ad3-4858-b366-ae67e0f6ce08",
   "metadata": {},
   "source": [
    "## hg38_gtf"
   ]
  },
  {
   "cell_type": "code",
   "execution_count": null,
   "id": "0dc98740-5a48-44a9-8838-9e01e04cd2a7",
   "metadata": {
    "execution": {
     "iopub.execute_input": "2025-06-02T07:02:55.841998Z",
     "iopub.status.busy": "2025-06-02T07:02:55.841249Z",
     "iopub.status.idle": "2025-06-02T07:03:07.764485Z",
     "shell.execute_reply": "2025-06-02T07:03:07.763457Z",
     "shell.execute_reply.started": "2025-06-02T07:02:55.841941Z"
    }
   },
   "outputs": [],
   "source": [
    "gtf_cols = [\n",
    "    \"seqname\", \"source\", \"feature\", \"start\", \"end\", \n",
    "    \"score\", \"strand\", \"frame\", \"attribute\"\n",
    "]\n",
    "hg38_df = pd.read_table(hg38_gtf, comment='#', names=gtf_cols)\n",
    "hg38_df = hg38_df.loc[hg38_df['feature']=='gene', :].copy()"
   ]
  },
  {
   "cell_type": "code",
   "execution_count": null,
   "id": "13958d64-f884-4428-a953-f40253add96e",
   "metadata": {
    "execution": {
     "iopub.execute_input": "2025-06-02T07:03:07.765896Z",
     "iopub.status.busy": "2025-06-02T07:03:07.765760Z",
     "iopub.status.idle": "2025-06-02T07:03:07.814528Z",
     "shell.execute_reply": "2025-06-02T07:03:07.813620Z",
     "shell.execute_reply.started": "2025-06-02T07:03:07.765884Z"
    }
   },
   "outputs": [],
   "source": [
    "def extract_gene(attribute):\n",
    "    m = re.search(r'gene_name \"[A-Za-z0-9-]+\"', attribute)\n",
    "    if m:\n",
    "        return m[0].split('\"')[1]\n",
    "    else:\n",
    "        return np.nan\n",
    "hg38_df['gene'] = hg38_df['attribute'].apply(extract_gene)\n",
    "hg38_df['chr'] = hg38_df['seqname'].apply(lambda x: f\"chr{x}\")"
   ]
  },
  {
   "cell_type": "markdown",
   "id": "84da27fd-177a-486f-b8e7-6e6f560c38ea",
   "metadata": {},
   "source": [
    "## Internal landscape on variant level"
   ]
  },
  {
   "cell_type": "code",
   "execution_count": null,
   "id": "2debb445-eddc-4408-949e-d6aa5ec605ef",
   "metadata": {
    "execution": {
     "iopub.execute_input": "2025-06-02T07:03:07.815405Z",
     "iopub.status.busy": "2025-06-02T07:03:07.815276Z",
     "iopub.status.idle": "2025-06-02T07:03:07.846854Z",
     "shell.execute_reply": "2025-06-02T07:03:07.846039Z",
     "shell.execute_reply.started": "2025-06-02T07:03:07.815393Z"
    }
   },
   "outputs": [],
   "source": [
    "var_df = pd.read_csv(var_csv, index_col=[0])"
   ]
  },
  {
   "cell_type": "code",
   "execution_count": null,
   "id": "912ccc1a-dbac-4235-a4f6-c393adf9b433",
   "metadata": {
    "execution": {
     "iopub.execute_input": "2025-06-02T07:03:07.848061Z",
     "iopub.status.busy": "2025-06-02T07:03:07.847936Z",
     "iopub.status.idle": "2025-06-02T07:03:07.866562Z",
     "shell.execute_reply": "2025-06-02T07:03:07.865807Z",
     "shell.execute_reply.started": "2025-06-02T07:03:07.848049Z"
    }
   },
   "outputs": [],
   "source": [
    "tblisted_c:list = ['recessive_genes', 'participant_id', 'QUAL', 'variant_info_record', 'variant_record']\n",
    "var_df[tblisted_c[0]] = var_df[tblisted_c[0]].apply(lambda x: x.split(\".\") if not pd.isna(x) else np.nan)\n",
    "for c in tblisted_c[1:]:\n",
    "    var_df[c] = var_df[c].apply(lambda x: x.split(\"%\") if not pd.isna(x) else np.nan)"
   ]
  },
  {
   "cell_type": "code",
   "execution_count": null,
   "id": "8a8e6a23-9b93-4f89-bc9f-8907126ef6e9",
   "metadata": {
    "execution": {
     "iopub.execute_input": "2025-06-02T07:03:07.867303Z",
     "iopub.status.busy": "2025-06-02T07:03:07.867193Z",
     "iopub.status.idle": "2025-06-02T07:03:07.874938Z",
     "shell.execute_reply": "2025-06-02T07:03:07.874215Z",
     "shell.execute_reply.started": "2025-06-02T07:03:07.867292Z"
    }
   },
   "outputs": [],
   "source": [
    "# Explode by recessive_genes\n",
    "exploded_var_df = var_df.explode(\"recessive_genes\")"
   ]
  },
  {
   "cell_type": "code",
   "execution_count": null,
   "id": "e9558e7f-86f5-4206-a232-224f8d0e8005",
   "metadata": {
    "execution": {
     "iopub.execute_input": "2025-06-02T07:03:07.993672Z",
     "iopub.status.busy": "2025-06-02T07:03:07.991948Z",
     "iopub.status.idle": "2025-06-02T07:03:08.010720Z",
     "shell.execute_reply": "2025-06-02T07:03:08.009472Z",
     "shell.execute_reply.started": "2025-06-02T07:03:07.993595Z"
    }
   },
   "outputs": [],
   "source": [
    "# Fix the gene columns to ensure its integrity\n",
    "exploded_var_df['recessive_genes'] = exploded_var_df['recessive_genes'].apply(\n",
    "    lambda g: re.split(\",aka\", g)[0] if \"aka\" in g else g\n",
    ")\n",
    "exploded_var_df['recessive_genes'] = exploded_var_df['recessive_genes'].apply(\n",
    "    lambda g: gene_map_d[g] if g in gene_map_d.keys() else g\n",
    ")\n",
    "\n",
    "# Consider HBA1 and HBA2 altogether\n",
    "exploded_var_df['recessive_genes'] = exploded_var_df['recessive_genes'].apply(\n",
    "    lambda x: \"HBA1/HBA2\" if x in [\"HBA1\", \"HBA2\"] else x\n",
    ")"
   ]
  },
  {
   "cell_type": "markdown",
   "id": "d221f3fa-9752-4a4c-a249-dfd9460abaac",
   "metadata": {},
   "source": [
    "# Remove variants after manual curation"
   ]
  },
  {
   "cell_type": "code",
   "execution_count": null,
   "id": "79ab3606-6abd-455b-8856-f90307321c93",
   "metadata": {
    "execution": {
     "iopub.execute_input": "2025-06-02T07:03:08.967017Z",
     "iopub.status.busy": "2025-06-02T07:03:08.966023Z",
     "iopub.status.idle": "2025-06-02T07:03:08.979675Z",
     "shell.execute_reply": "2025-06-02T07:03:08.978169Z",
     "shell.execute_reply.started": "2025-06-02T07:03:08.966961Z"
    }
   },
   "outputs": [],
   "source": [
    "rm_var_df = pd.read_csv(rm_var_csv)"
   ]
  },
  {
   "cell_type": "code",
   "execution_count": null,
   "id": "148e211d-b285-420a-9d03-d6ea4df8956d",
   "metadata": {
    "execution": {
     "iopub.execute_input": "2025-06-02T07:03:09.464507Z",
     "iopub.status.busy": "2025-06-02T07:03:09.462669Z",
     "iopub.status.idle": "2025-06-02T07:03:09.477848Z",
     "shell.execute_reply": "2025-06-02T07:03:09.476363Z",
     "shell.execute_reply.started": "2025-06-02T07:03:09.464419Z"
    }
   },
   "outputs": [],
   "source": [
    "exploded_var_df.drop(index=rm_var_df['cpra'].tolist(), inplace=True)"
   ]
  },
  {
   "cell_type": "markdown",
   "id": "4318d22e-dd3e-4076-8191-59a847c6a793",
   "metadata": {},
   "source": [
    "# Get subset and gene list for different gene panel"
   ]
  },
  {
   "cell_type": "code",
   "execution_count": null,
   "id": "5a0b45b6-7043-4e15-9bdb-1089d27520cb",
   "metadata": {
    "execution": {
     "iopub.execute_input": "2025-06-02T07:03:10.714932Z",
     "iopub.status.busy": "2025-06-02T07:03:10.713972Z",
     "iopub.status.idle": "2025-06-02T07:03:10.725240Z",
     "shell.execute_reply": "2025-06-02T07:03:10.723777Z",
     "shell.execute_reply.started": "2025-06-02T07:03:10.714876Z"
    }
   },
   "outputs": [],
   "source": [
    "with open(acmg_genes_hkgp_naming, 'r') as f:\n",
    "    acmg_genes = [l.strip() for l in f]\n",
    "\n",
    "with open(mackenzies_genes_hkgp_naming, 'r') as f:\n",
    "    mackenzies_genes = [l.strip() for l in f]\n",
    "\n",
    "with open(hkgpT3_genes_hkgp_naming, 'r') as f:\n",
    "    hkgpT3_genes = [l.strip() for l in f]"
   ]
  },
  {
   "cell_type": "code",
   "execution_count": null,
   "id": "577adbad-c9b6-4bc8-8581-592f2835ffa6",
   "metadata": {
    "execution": {
     "iopub.execute_input": "2025-06-02T07:03:11.429656Z",
     "iopub.status.busy": "2025-06-02T07:03:11.427771Z",
     "iopub.status.idle": "2025-06-02T07:03:11.453763Z",
     "shell.execute_reply": "2025-06-02T07:03:11.452463Z",
     "shell.execute_reply.started": "2025-06-02T07:03:11.429566Z"
    }
   },
   "outputs": [],
   "source": [
    "acmg_var_df = exploded_var_df.loc[exploded_var_df.recessive_genes.isin(acmg_genes), :].copy()\n",
    "mackenzies_var_df = exploded_var_df.loc[exploded_var_df.recessive_genes.isin(mackenzies_genes), :].copy()\n",
    "hkgpT3_var_df = exploded_var_df.loc[exploded_var_df.recessive_genes.isin(hkgpT3_genes), :].copy()"
   ]
  },
  {
   "cell_type": "code",
   "execution_count": null,
   "id": "03096c73-bbe2-4bd8-9433-51cc62834c2f",
   "metadata": {
    "execution": {
     "iopub.execute_input": "2025-06-02T07:03:11.711200Z",
     "iopub.status.busy": "2025-06-02T07:03:11.709358Z",
     "iopub.status.idle": "2025-06-02T07:03:11.720017Z",
     "shell.execute_reply": "2025-06-02T07:03:11.718565Z",
     "shell.execute_reply.started": "2025-06-02T07:03:11.711111Z"
    }
   },
   "outputs": [],
   "source": [
    "acmg_found_genes:set = set(acmg_var_df.recessive_genes)\n",
    "mackenzies_found_genes:set = set(mackenzies_var_df.recessive_genes)\n",
    "hkgpT3_found_genes:set = set(hkgpT3_var_df.recessive_genes)"
   ]
  },
  {
   "cell_type": "markdown",
   "id": "b33f8512-33c4-483f-aea3-ef6205b22dd6",
   "metadata": {},
   "source": [
    "## Convert to carrier level"
   ]
  },
  {
   "cell_type": "code",
   "execution_count": null,
   "id": "c15ae07e-4903-4f11-a05d-9b7b24790730",
   "metadata": {
    "execution": {
     "iopub.execute_input": "2025-06-02T07:03:12.308005Z",
     "iopub.status.busy": "2025-06-02T07:03:12.306117Z",
     "iopub.status.idle": "2025-06-02T07:03:12.676899Z",
     "shell.execute_reply": "2025-06-02T07:03:12.676021Z",
     "shell.execute_reply.started": "2025-06-02T07:03:12.307917Z"
    }
   },
   "outputs": [],
   "source": [
    "gene_carrier_d = defaultdict(set)\n",
    "for gene in exploded_var_df['recessive_genes'].unique():\n",
    "    for id_ls in exploded_var_df.loc[exploded_var_df['recessive_genes']==gene, 'participant_id'].tolist():\n",
    "        for id in id_ls:\n",
    "            gene_carrier_d[gene].add(id)"
   ]
  },
  {
   "cell_type": "code",
   "execution_count": null,
   "id": "e0ed5930-92e4-47f2-88df-eb5ff6cb50ac",
   "metadata": {
    "execution": {
     "iopub.execute_input": "2025-06-02T07:03:12.677924Z",
     "iopub.status.busy": "2025-06-02T07:03:12.677802Z",
     "iopub.status.idle": "2025-06-02T07:03:12.693078Z",
     "shell.execute_reply": "2025-06-02T07:03:12.692297Z",
     "shell.execute_reply.started": "2025-06-02T07:03:12.677912Z"
    }
   },
   "outputs": [],
   "source": [
    "# Append HBA and SMN carrier to gene_carrier_d\n",
    "hkgi_hba_sv_df = pd.read_csv(hkgi_HBA_sv_csv)\n",
    "carrier_labels = ['SEA', '3.7K', '4.2K', 'SEA + 3.7K', 'SEA + 4.2K', '4.2K_hom', '3.7K_hom']\n",
    "hkgi_hba_sv_carrier:set = set(hkgi_hba_sv_df.loc[hkgi_hba_sv_df['Label'].isin(carrier_labels), 'SRE ID'].tolist())\n",
    "\n",
    "hkgi_SMN_sv_df = pd.read_csv(hkgi_SMN_sv_csv)\n",
    "hkgi_smn_sv_carrier:set = set([ s[:-3] for s in hkgi_SMN_sv_df.loc[hkgi_SMN_sv_df['isCarrier'], 'Sample'].tolist() ])\n",
    "\n",
    "gene_carrier_d['HBA1/HBA2'] = gene_carrier_d['HBA1/HBA2'] | hkgi_hba_sv_carrier \n",
    "gene_carrier_d['SMN1'] = gene_carrier_d['SMN1'] | hkgi_smn_sv_carrier"
   ]
  },
  {
   "cell_type": "markdown",
   "id": "3915cc92-2772-4524-b46b-f9f10cae6106",
   "metadata": {
    "execution": {
     "iopub.execute_input": "2025-04-28T08:39:26.693918Z",
     "iopub.status.busy": "2025-04-28T08:39:26.693791Z",
     "iopub.status.idle": "2025-04-28T08:39:26.697543Z",
     "shell.execute_reply": "2025-04-28T08:39:26.696848Z",
     "shell.execute_reply.started": "2025-04-28T08:39:26.693907Z"
    }
   },
   "source": [
    "# Append other SV to gene_carrier_d"
   ]
  },
  {
   "cell_type": "code",
   "execution_count": null,
   "id": "991f9ae6",
   "metadata": {},
   "outputs": [],
   "source": [
    "# Read sv_csv and filter for variants found in unrelated individuals only\n",
    "sv_df = pd.read_csv(sv_csv)\n",
    "sv_df = sv_df.loc[sv_df.sample_id.isin(founder_info_df.index.tolist()), :].copy()"
   ]
  },
  {
   "cell_type": "code",
   "execution_count": null,
   "id": "bb3c2469",
   "metadata": {},
   "outputs": [],
   "source": [
    "# Explode variants by \"gene_symbols\"\n",
    "sv_df['recessive_genes'] = sv_df['gene_symbols'].apply(lambda x: x.split(','))\n",
    "gene_sv_df = sv_df.explode('recessive_genes')\n",
    "gene_sv_df['SVTYPE'] = gene_sv_df['INFO'].apply(lambda x: re.findall(r'SVTYPE=[A-Za-z]+', x)[0].split('=')[-1])\n",
    "gene_sv_df['id'] = gene_sv_df.apply(lambda r: f\"{r.chrom}-{r.start}-{r.end}-{r.SVTYPE}\", axis=1)"
   ]
  },
  {
   "cell_type": "code",
   "execution_count": null,
   "id": "016f662a-d2f8-4c40-aebf-429a01457c79",
   "metadata": {
    "execution": {
     "iopub.execute_input": "2025-06-03T06:31:10.567195Z",
     "iopub.status.busy": "2025-06-03T06:31:10.566922Z",
     "iopub.status.idle": "2025-06-03T06:31:10.629811Z",
     "shell.execute_reply": "2025-06-03T06:31:10.628892Z",
     "shell.execute_reply.started": "2025-06-03T06:31:10.567177Z"
    }
   },
   "outputs": [],
   "source": [
    "# Filter for SV affecting carrier finding genes only\n",
    "gene_sv_df['recessive_genes'] = gene_sv_df['recessive_genes'].apply(\n",
    "    lambda g: gene_map_d[g] if g in gene_map_d.keys() else g\n",
    ")\n",
    "carrier_gene_sv_df = gene_sv_df.loc[gene_sv_df['recessive_genes'].isin(gene_list), :].copy()"
   ]
  },
  {
   "cell_type": "code",
   "execution_count": null,
   "id": "c1d7ffe7-4187-4b83-b3d7-af05a251c47c",
   "metadata": {
    "execution": {
     "iopub.execute_input": "2025-06-02T07:03:24.462712Z",
     "iopub.status.busy": "2025-06-02T07:03:24.462008Z",
     "iopub.status.idle": "2025-06-02T07:03:24.990470Z",
     "shell.execute_reply": "2025-06-02T07:03:24.988495Z",
     "shell.execute_reply.started": "2025-06-02T07:03:24.462656Z"
    }
   },
   "outputs": [],
   "source": [
    "for gene in carrier_gene_sv_df['recessive_genes'].unique():\n",
    "    gene_sv_carrier:set = set(carrier_gene_sv_df.loc[\n",
    "                              carrier_gene_sv_df['recessive_genes']==gene, \n",
    "                              'sample_id'].tolist())\n",
    "    gene_carrier_d[gene] = gene_carrier_d[gene] | gene_sv_carrier"
   ]
  },
  {
   "cell_type": "markdown",
   "id": "fba3e7ef-1436-46b5-b50a-d872428a3a8b",
   "metadata": {},
   "source": [
    "### Remove male from gene_carrier_d if the gene is X-linked"
   ]
  },
  {
   "cell_type": "code",
   "execution_count": null,
   "id": "77a3a1ba-8f02-4dc1-9066-272fd794c9b9",
   "metadata": {
    "execution": {
     "iopub.execute_input": "2025-06-02T07:03:26.301388Z",
     "iopub.status.busy": "2025-06-02T07:03:26.300664Z",
     "iopub.status.idle": "2025-06-02T07:03:26.318244Z",
     "shell.execute_reply": "2025-06-02T07:03:26.315796Z",
     "shell.execute_reply.started": "2025-06-02T07:03:26.301331Z"
    }
   },
   "outputs": [],
   "source": [
    "sex_adjusted_gene_carrier_d = dict()\n",
    "for gene, carriers in gene_carrier_d.items():\n",
    "    if gene_chr_d[gene] == 'chrX':\n",
    "        f_carriers = [c for c in carriers if founder_sex_d[c]=='Female']\n",
    "        sex_adjusted_gene_carrier_d[gene] = f_carriers\n",
    "    else:\n",
    "        sex_adjusted_gene_carrier_d[gene] = carriers"
   ]
  },
  {
   "cell_type": "code",
   "execution_count": null,
   "id": "fb74314b-5d53-4c70-8d77-6e24dc153962",
   "metadata": {
    "execution": {
     "iopub.execute_input": "2025-06-02T07:03:26.752331Z",
     "iopub.status.busy": "2025-06-02T07:03:26.751606Z",
     "iopub.status.idle": "2025-06-02T07:03:26.768576Z",
     "shell.execute_reply": "2025-06-02T07:03:26.766065Z",
     "shell.execute_reply.started": "2025-06-02T07:03:26.752274Z"
    }
   },
   "outputs": [],
   "source": [
    "carrier_cnt_d = { g: [len(s), list(s)] for g, s in sex_adjusted_gene_carrier_d.items() }\n",
    "missing_d = { g: [0, np.nan] for g in gene_list if (g not in carrier_cnt_d.keys()) & ('HBA' not in g) }\n",
    "carrier_cnt_d = carrier_cnt_d | missing_d"
   ]
  },
  {
   "cell_type": "markdown",
   "id": "18e0b2b8-4ce4-48de-b93a-11e2ee45e43a",
   "metadata": {},
   "source": [
    "### Construct hkgi_gene_df"
   ]
  },
  {
   "cell_type": "code",
   "execution_count": null,
   "id": "7ad5ec17-810d-445d-82e9-282e3bcbfb6b",
   "metadata": {
    "execution": {
     "iopub.execute_input": "2025-06-02T07:03:46.645459Z",
     "iopub.status.busy": "2025-06-02T07:03:46.644631Z",
     "iopub.status.idle": "2025-06-02T07:03:46.690651Z",
     "shell.execute_reply": "2025-06-02T07:03:46.689817Z",
     "shell.execute_reply.started": "2025-06-02T07:03:46.645404Z"
    }
   },
   "outputs": [],
   "source": [
    "hkgi_gene_df = pd.DataFrame(carrier_cnt_d, index=['carrier_count_hkgi', 'carriers_hkgi']).T\n",
    "hkgi_gene_df['chr'] = hkgi_gene_df.apply(lambda r: gene_chr_d[r.name], axis=1)"
   ]
  },
  {
   "cell_type": "code",
   "execution_count": null,
   "id": "c78e8c25-d138-488b-8d0c-bbc2ecee0378",
   "metadata": {
    "execution": {
     "iopub.execute_input": "2025-06-02T07:03:47.055864Z",
     "iopub.status.busy": "2025-06-02T07:03:47.053625Z",
     "iopub.status.idle": "2025-06-02T07:03:47.108310Z",
     "shell.execute_reply": "2025-06-02T07:03:47.107316Z",
     "shell.execute_reply.started": "2025-06-02T07:03:47.055784Z"
    }
   },
   "outputs": [],
   "source": [
    "# Calculate the carrier rate. Pay attension to X-linked genes\n",
    "hkgi_gene_df['sample_size_hkgi'] = hkgi_gene_df.apply(\n",
    "    lambda r: founder_female_cnt if r.chr=='chrX' else founder_cnt, axis=1\n",
    ")\n",
    "hkgi_gene_df['carrier_rate_hkgi'] = hkgi_gene_df.apply(\n",
    "    lambda r: float(f\"{r.carrier_count_hkgi/r.sample_size_hkgi:.5f}\"), \n",
    "    axis=1\n",
    ")\n",
    "hkgi_gene_df.sort_values(by=['carrier_rate_hkgi'], ascending=False, inplace=True)"
   ]
  },
  {
   "cell_type": "code",
   "execution_count": null,
   "id": "ddc74e42-493c-4df2-993b-0e221e36132b",
   "metadata": {
    "execution": {
     "iopub.execute_input": "2025-06-02T07:03:48.426884Z",
     "iopub.status.busy": "2025-06-02T07:03:48.426149Z",
     "iopub.status.idle": "2025-06-02T07:03:48.713335Z",
     "shell.execute_reply": "2025-06-02T07:03:48.711032Z",
     "shell.execute_reply.started": "2025-06-02T07:03:48.426827Z"
    }
   },
   "outputs": [],
   "source": [
    "# Calculate the 95% Confidence interval for hkgi's carrier_rate\n",
    "def calc_CI(successes, trials, confidence=0.95):\n",
    "    '''Function to calculate confidence interval'''\n",
    "    if trials == 0:\n",
    "        return (0, 0)\n",
    "    # Calculate the standard error\n",
    "    p = successes / trials\n",
    "    se = np.sqrt(p * (1 - p) / trials)\n",
    "    # Z-score for the given confidence level\n",
    "    z = stats.norm.ppf((1 + confidence) / 2)\n",
    "    # Margin of error\n",
    "    margin_of_error = z * se\n",
    "    # Confidence interval\n",
    "    return pd.Series([p - margin_of_error, p + margin_of_error])\n",
    "\n",
    "hkgi_gene_df[['carrier_rate_CI_Lower_hkgi', 'carrier_rate_CI_Upper_hkgi']] = hkgi_gene_df.apply(\n",
    "    lambda r: calc_CI(r.carrier_count_hkgi, r.sample_size_hkgi), axis=1\n",
    ")"
   ]
  },
  {
   "cell_type": "markdown",
   "id": "0df82d04-c386-4582-a45a-b0fb3d5db747",
   "metadata": {},
   "source": [
    "## Append carrier rates from gnomAD v4"
   ]
  },
  {
   "cell_type": "code",
   "execution_count": null,
   "id": "56022249-66fd-4caa-905d-dc8d38b1f290",
   "metadata": {
    "execution": {
     "iopub.execute_input": "2025-06-02T07:03:57.263425Z",
     "iopub.status.busy": "2025-06-02T07:03:57.262704Z",
     "iopub.status.idle": "2025-06-02T07:03:57.276657Z",
     "shell.execute_reply": "2025-06-02T07:03:57.274069Z",
     "shell.execute_reply.started": "2025-06-02T07:03:57.263370Z"
    }
   },
   "outputs": [],
   "source": [
    "master_df = hkgi_gene_df.copy()"
   ]
  },
  {
   "cell_type": "code",
   "execution_count": null,
   "id": "9c822ef8-80ba-40a2-8b0e-1a49cde0a871",
   "metadata": {
    "execution": {
     "iopub.execute_input": "2025-06-02T07:04:04.079201Z",
     "iopub.status.busy": "2025-06-02T07:04:04.078461Z",
     "iopub.status.idle": "2025-06-02T07:04:04.114108Z",
     "shell.execute_reply": "2025-06-02T07:04:04.111901Z",
     "shell.execute_reply.started": "2025-06-02T07:04:04.079145Z"
    }
   },
   "outputs": [],
   "source": [
    "gnomad_gene_df = pd.read_csv(gnomad_gene_csv, index_col=[0], na_values=['ND'])\n",
    "# Manually drop duplicated genes due to synonyms\n",
    "genes_to_drop = [\"GBA\", \"SPATA5\"]\n",
    "gnomad_gene_df.drop(index=genes_to_drop, inplace=True)\n",
    "pop_rank = ['EAS', 'SAS', 'AMR', 'ASJ', 'MID', 'NFE', 'FIN', 'AFR']"
   ]
  },
  {
   "cell_type": "code",
   "execution_count": null,
   "id": "524eb858-9b21-4edf-805f-f3f54d938b49",
   "metadata": {
    "execution": {
     "iopub.execute_input": "2025-06-02T07:04:04.504135Z",
     "iopub.status.busy": "2025-06-02T07:04:04.503427Z",
     "iopub.status.idle": "2025-06-02T07:04:04.537647Z",
     "shell.execute_reply": "2025-06-02T07:04:04.535598Z",
     "shell.execute_reply.started": "2025-06-02T07:04:04.504079Z"
    }
   },
   "outputs": [],
   "source": [
    "# Adjust gene symbols to match\n",
    "gnomad_gene_df['gene'] = gnomad_gene_df.apply(lambda r: \"HBA1/HBA2\" if r.name in [\"HBA1\", \"HBA2\"] else r.name, axis=1)\n",
    "gnomad_gene_df['gene'] = gnomad_gene_df['gene'].apply(lambda g: gene_map_d[g] if g in gene_map_d.keys() else g)\n",
    "gnomad_gene_df.set_index('gene', inplace=True)"
   ]
  },
  {
   "cell_type": "code",
   "execution_count": null,
   "id": "e4d8e612-8611-43ac-8cab-365bda13bc9e",
   "metadata": {
    "execution": {
     "iopub.execute_input": "2025-06-02T07:04:04.900459Z",
     "iopub.status.busy": "2025-06-02T07:04:04.899736Z",
     "iopub.status.idle": "2025-06-02T07:04:04.920353Z",
     "shell.execute_reply": "2025-06-02T07:04:04.917939Z",
     "shell.execute_reply.started": "2025-06-02T07:04:04.900402Z"
    }
   },
   "outputs": [],
   "source": [
    "# Add x-linked genes\n",
    "gnomad_xgene_df = pd.read_csv(gnomad_xgene_csv, index_col=[0], na_values=['ND'])\n",
    "gnomad_gene_df = pd.concat([\n",
    "    gnomad_gene_df.loc[:, gnomad_xgene_df.columns.tolist()], \n",
    "    gnomad_xgene_df\n",
    "])"
   ]
  },
  {
   "cell_type": "code",
   "execution_count": null,
   "id": "d3c92ab1-ad7b-43b9-91a2-9eb40fd9e1a8",
   "metadata": {
    "execution": {
     "iopub.execute_input": "2025-06-02T07:04:05.295973Z",
     "iopub.status.busy": "2025-06-02T07:04:05.295249Z",
     "iopub.status.idle": "2025-06-02T07:04:05.312521Z",
     "shell.execute_reply": "2025-06-02T07:04:05.310059Z",
     "shell.execute_reply.started": "2025-06-02T07:04:05.295916Z"
    }
   },
   "outputs": [],
   "source": [
    "# Rename columns\n",
    "for pop in pop_rank:\n",
    "    gnomad_gene_df.rename(\n",
    "        columns={f\"{pop} Genomes GCF\": f\"carrier_rate_gnomAD-{pop}\"}, \n",
    "        inplace=True\n",
    "    )\n",
    "gnomad_gene_df = gnomad_gene_df.loc[:, [f\"carrier_rate_gnomAD-{pop}\" for pop in pop_rank]]"
   ]
  },
  {
   "cell_type": "code",
   "execution_count": null,
   "id": "0feba8c7-8192-4cbd-8b8f-9f27f5d0ab1a",
   "metadata": {
    "execution": {
     "iopub.execute_input": "2025-06-02T07:04:08.086708Z",
     "iopub.status.busy": "2025-06-02T07:04:08.085979Z",
     "iopub.status.idle": "2025-06-02T07:04:08.105510Z",
     "shell.execute_reply": "2025-06-02T07:04:08.103098Z",
     "shell.execute_reply.started": "2025-06-02T07:04:08.086651Z"
    }
   },
   "outputs": [],
   "source": [
    "for pop in pop_rank:\n",
    "    gnomad_gene_df[f\"sample_size_gnomAD-{pop}\"] = gnomad_sample_size_d[pop]"
   ]
  },
  {
   "cell_type": "code",
   "execution_count": null,
   "id": "39233cb3-0fcb-4c8f-b2b6-4cb3cdd6e229",
   "metadata": {
    "execution": {
     "iopub.execute_input": "2025-06-02T07:04:09.550838Z",
     "iopub.status.busy": "2025-06-02T07:04:09.550113Z",
     "iopub.status.idle": "2025-06-02T07:04:09.572311Z",
     "shell.execute_reply": "2025-06-02T07:04:09.569894Z",
     "shell.execute_reply.started": "2025-06-02T07:04:09.550780Z"
    }
   },
   "outputs": [],
   "source": [
    "# Merge df\n",
    "master_df = master_df.merge(\n",
    "    gnomad_gene_df, \n",
    "    left_index=True, right_index=True, \n",
    "    how='outer'\n",
    ")"
   ]
  },
  {
   "cell_type": "markdown",
   "id": "7f759b95-62c8-4c99-aa58-bd685c939774",
   "metadata": {},
   "source": [
    "## Map the chromosomes of the genes"
   ]
  },
  {
   "cell_type": "code",
   "execution_count": null,
   "id": "2c09275e-0138-4872-86ee-36bca3b77f4f",
   "metadata": {
    "execution": {
     "iopub.execute_input": "2025-06-02T07:04:11.268046Z",
     "iopub.status.busy": "2025-06-02T07:04:11.267322Z",
     "iopub.status.idle": "2025-06-02T07:04:11.571932Z",
     "shell.execute_reply": "2025-06-02T07:04:11.569844Z",
     "shell.execute_reply.started": "2025-06-02T07:04:11.267989Z"
    }
   },
   "outputs": [],
   "source": [
    "# Label the chr\n",
    "gtf_gene_chr_d = hg38_df.set_index('gene').to_dict()['chr']\n",
    "manual_gene_chr_d = {\n",
    "    'ARMC4': 'chr10', \n",
    "    'CPAP': 'chr13', \n",
    "    'DNAAF19': 'chr17', \n",
    "    'HBA1/HBA2': 'chr16', \n",
    "    'SPATA5L1': 'chr15', \n",
    "    'TRU-TCA1-1': 'chr19', \n",
    "    'TTC26': 'chr7'\n",
    "}\n",
    "\n",
    "def find_gene_chr(gene, gtf_gene_chr_d, manual_gene_chr_d):\n",
    "    if gene in gtf_gene_chr_d.keys():\n",
    "        return gtf_gene_chr_d[gene]\n",
    "    elif gene in manual_gene_chr_d.keys():\n",
    "        return manual_gene_chr_d[gene]\n",
    "    else:\n",
    "        return np.nan\n",
    "        \n",
    "master_df['chr'] = master_df.apply(lambda r: find_gene_chr(r.name, gtf_gene_chr_d, manual_gene_chr_d), axis=1)"
   ]
  },
  {
   "cell_type": "markdown",
   "id": "81db7145-b744-4b9c-be9f-c3f494cb2fd4",
   "metadata": {
    "execution": {
     "iopub.execute_input": "2025-03-12T08:48:13.453300Z",
     "iopub.status.busy": "2025-03-12T08:48:13.452889Z",
     "iopub.status.idle": "2025-03-12T08:48:13.460851Z",
     "shell.execute_reply": "2025-03-12T08:48:13.458737Z",
     "shell.execute_reply.started": "2025-03-12T08:48:13.453269Z"
    }
   },
   "source": [
    "## Classify genes by tiers as suggested in the carrier frequency of other publications"
   ]
  },
  {
   "cell_type": "code",
   "execution_count": null,
   "id": "1959338b-639d-4ca9-b99c-336649b808ae",
   "metadata": {
    "execution": {
     "iopub.execute_input": "2025-06-02T07:04:13.725716Z",
     "iopub.status.busy": "2025-06-02T07:04:13.724995Z",
     "iopub.status.idle": "2025-06-02T07:04:13.747058Z",
     "shell.execute_reply": "2025-06-02T07:04:13.744672Z",
     "shell.execute_reply.started": "2025-06-02T07:04:13.725659Z"
    }
   },
   "outputs": [],
   "source": [
    "def classify_tier(gene, chr, freq, pop, freq_lowCI=None, is_asian=False): \n",
    "    ###########################\n",
    "    ##### Manual classify #####\n",
    "    ###########################\n",
    "    \n",
    "    ##### Pan-ethinic tier 1\n",
    "    if gene in ['SMN1', 'CFTR']:\n",
    "        return 'tier_1'\n",
    "    ##### Population-specific tier 1 recommended by ACOG\n",
    "    if (is_asian) & (gene in ['HBA1/HBA2', 'HBB']):\n",
    "        return 'tier_1'\n",
    "\n",
    "    ##### Population-specific tier 3 (i.e, Table 5)\n",
    "    manual_AFR_tier3_genes = [\"HBA1/HBA2\"]\n",
    "    manual_AMR_tier3_genes = [\"HBA1/HBA2\", \"HPS1\", \"HPS3\", \"FXN\"]\n",
    "    manual_ASJ_tier3_genes = [\"HBA1/HBA2\", \"ELP1\", \"DLD\", \"NEB\", \"CLRN1\", \"BLM\"]\n",
    "    manual_EAS_tier3_genes = []\n",
    "    manual_FIN_tier3_genes = [\"HBA1/HBA2\", \"FXN\"]\n",
    "    manual_MID_tier3_genes = [\"HBA1/HBA2\"]\n",
    "    manual_NFE_tier3_genes = [\"HBA1/HBA2\", \"FXN\"]\n",
    "    manual_SAS_tier3_genes = []\n",
    "    \n",
    "    if (pop=='AFR') & (gene in manual_AFR_tier3_genes):\n",
    "        return 'tier_3_pop'\n",
    "    elif (pop=='AMR') & (gene in manual_AMR_tier3_genes):\n",
    "        return 'tier_3_pop'\n",
    "    elif (pop=='ASJ') & (gene in manual_ASJ_tier3_genes):\n",
    "        return 'tier_3_pop'\n",
    "    elif (pop=='EAS') & (gene in manual_EAS_tier3_genes):\n",
    "        return 'tier_3_pop'\n",
    "    elif (pop=='FIN') & (gene in manual_FIN_tier3_genes):\n",
    "        return 'tier_3_pop'\n",
    "    elif (pop=='MID') & (gene in manual_MID_tier3_genes):\n",
    "        return 'tier_3_pop'\n",
    "    elif (pop=='NFE') & (gene in manual_NFE_tier3_genes):\n",
    "        return 'tier_3_pop'\n",
    "    elif (pop=='SAS') & (gene in manual_SAS_tier3_genes):\n",
    "        return 'tier_3_pop'\n",
    "\n",
    "\n",
    "    ########################\n",
    "    ##### By frequency #####\n",
    "    ########################\n",
    "    # Return tier_4 if no freq\n",
    "    if pd.isna(freq):\n",
    "        return 'tier_4'\n",
    "        \n",
    "    ##### X-linked tier 3 by frequency\n",
    "    if chr == 'chrX':\n",
    "        # Use the lower 95% interval of the frequency\n",
    "        chrX_freq = freq if freq_lowCI is None else freq_lowCI\n",
    "        if chrX_freq >=  0.000025:\n",
    "            return 'tier_3_xlink'\n",
    "        else:\n",
    "            return 'tier_4'\n",
    "        \n",
    "    #### Classify by carrier frequency\n",
    "    tier_threshold = {\n",
    "        'tier_2': 0.01, \n",
    "        'tier_3': 0.005\n",
    "    }\n",
    "    if freq >= tier_threshold['tier_2']:\n",
    "        return 'tier_2'\n",
    "    elif freq >= tier_threshold['tier_3']:\n",
    "        return 'tier_3'\n",
    "    else:\n",
    "        return 'tier_4'\n",
    "    return "
   ]
  },
  {
   "cell_type": "code",
   "execution_count": null,
   "id": "428d74a7-e24b-4c5a-bc93-7d0fa81997cb",
   "metadata": {
    "execution": {
     "iopub.execute_input": "2025-06-02T07:04:14.472729Z",
     "iopub.status.busy": "2025-06-02T07:04:14.472006Z",
     "iopub.status.idle": "2025-06-02T07:04:14.844122Z",
     "shell.execute_reply": "2025-06-02T07:04:14.841750Z",
     "shell.execute_reply.started": "2025-06-02T07:04:14.472672Z"
    }
   },
   "outputs": [],
   "source": [
    "# Internal\n",
    "pop = 'hkgi'\n",
    "master_df[f'tier_{pop}'] = master_df.apply(\n",
    "    lambda r: classify_tier(r.name, r.chr, r.carrier_rate_hkgi, pop, \n",
    "        freq_lowCI=r.carrier_rate_CI_Lower_hkgi, is_asian=True), \n",
    "    axis=1\n",
    ")\n",
    "\n",
    "# Other Asian populations\n",
    "asian_pops = ['EAS', 'SAS']\n",
    "for pop in asian_pops:\n",
    "    master_df[f'tier_gnomAD-{pop}'] = master_df.apply(\n",
    "        lambda r: classify_tier(r.name, r.chr, r[f'carrier_rate_gnomAD-{pop}'], pop, is_asian=True), \n",
    "        axis=1\n",
    "    )\n",
    "\n",
    "# Remaining populations\n",
    "other_pops = ['AMR', 'AMR', 'ASJ', 'MID', 'NFE', 'FIN', 'AFR']\n",
    "for pop in other_pops:\n",
    "    master_df[f'tier_gnomAD-{pop}'] = master_df.apply(\n",
    "        lambda r: classify_tier(r.name, r.chr, r[f'carrier_rate_gnomAD-{pop}'], pop), axis=1\n",
    "    )"
   ]
  },
  {
   "cell_type": "markdown",
   "id": "17544e94-67f2-4e67-b2d9-4d52699ff813",
   "metadata": {},
   "source": [
    "## Append the ACMG tiers as a columns"
   ]
  },
  {
   "cell_type": "code",
   "execution_count": null,
   "id": "98c62b5d-2790-4472-8ccc-3a375f7ee105",
   "metadata": {
    "execution": {
     "iopub.execute_input": "2025-06-02T07:04:17.194158Z",
     "iopub.status.busy": "2025-06-02T07:04:17.193396Z",
     "iopub.status.idle": "2025-06-02T07:04:17.220169Z",
     "shell.execute_reply": "2025-06-02T07:04:17.217897Z",
     "shell.execute_reply.started": "2025-06-02T07:04:17.194102Z"
    }
   },
   "outputs": [],
   "source": [
    "# Read acmg tier csv as df\n",
    "acmg_df = pd.read_csv(acmg_tiers_csv)\n",
    "acmg_df['gene'] = acmg_df['OMIM gene name'].apply(lambda g: gene_map_d[g] if g in gene_map_d.keys() else g)\n",
    "acmg_tiers_d = acmg_df.drop_duplicates(subset=['gene']).set_index('gene').to_dict()['Table']\n",
    "acmg_tiers_d = { g: t.split('.')[0] for g, t in acmg_tiers_d.items() }\n",
    "acmg_tiers_d['HBA1/HBA2'] = 'Table 5'\n",
    "acmg_tiers_df = pd.DataFrame(acmg_tiers_d, index=['acmg_table']).T\n",
    "acmg_tiers_df.drop(index=['HBA1', 'HBA2'], inplace=True)"
   ]
  },
  {
   "cell_type": "code",
   "execution_count": null,
   "id": "bcdccb06-724d-4461-ba04-e737b504a209",
   "metadata": {
    "execution": {
     "iopub.execute_input": "2025-06-02T07:04:17.641952Z",
     "iopub.status.busy": "2025-06-02T07:04:17.640118Z",
     "iopub.status.idle": "2025-06-02T07:04:17.656611Z",
     "shell.execute_reply": "2025-06-02T07:04:17.654008Z",
     "shell.execute_reply.started": "2025-06-02T07:04:17.641867Z"
    }
   },
   "outputs": [],
   "source": [
    "# Pan-ethnic classification\n",
    "def classify_acmg_tier(r):\n",
    "    if r.name in ['SMN1', 'CFTR']:\n",
    "        return 'tier_1'\n",
    "    \n",
    "    acmg_table = r['acmg_table']   \n",
    "    if acmg_table in ['Table 1', 'Table 2']:\n",
    "        return 'tier_2'\n",
    "    elif acmg_table in ['Table 3', 'Table 4', 'Table 6']:\n",
    "        return 'tier_3'\n",
    "    else:\n",
    "        return 'tier_4'\n",
    "acmg_tiers_df['acmg_panethnic_tier'] = acmg_tiers_df.apply(classify_acmg_tier, axis=1)"
   ]
  },
  {
   "cell_type": "code",
   "execution_count": null,
   "id": "f3e44953-cd7d-463f-bc3f-75d12f36936f",
   "metadata": {
    "execution": {
     "iopub.execute_input": "2025-06-02T07:04:18.226688Z",
     "iopub.status.busy": "2025-06-02T07:04:18.225954Z",
     "iopub.status.idle": "2025-06-02T07:04:18.242149Z",
     "shell.execute_reply": "2025-06-02T07:04:18.239596Z",
     "shell.execute_reply.started": "2025-06-02T07:04:18.226631Z"
    }
   },
   "outputs": [],
   "source": [
    "for c in [c for c in master_df.columns if c.startswith('tier')]:\n",
    "    acmg_tiers_df[f\"acmg_{c}\"] = acmg_tiers_df['acmg_panethnic_tier']"
   ]
  },
  {
   "cell_type": "code",
   "execution_count": null,
   "id": "7ea17d7f-7090-4c7c-98c7-f235f2de48ee",
   "metadata": {
    "execution": {
     "iopub.execute_input": "2025-06-02T07:04:19.929010Z",
     "iopub.status.busy": "2025-06-02T07:04:19.928296Z",
     "iopub.status.idle": "2025-06-02T07:04:19.954462Z",
     "shell.execute_reply": "2025-06-02T07:04:19.952124Z",
     "shell.execute_reply.started": "2025-06-02T07:04:19.928953Z"
    }
   },
   "outputs": [],
   "source": [
    "# Manual assign table 5 (SMN1 already in tier 1)\n",
    "asian_pops = ['hkgi', 'gnomAD-EAS', 'gnomAD-SAS']\n",
    "asian_spec_tab5_genes = ['HBA1/HBA2', 'HBB']    # To tier 1\n",
    "for pop in asian_pops:\n",
    "    acmg_tiers_df.loc[asian_spec_tab5_genes, f'acmg_tier_{pop}'] = 'tier_1'\n",
    "\n",
    "amr_spec_tab5_genes = ['HBA1/HBA2', \"HPS1\", \"HPS3\", \"FXN\"]\n",
    "acmg_tiers_df.loc[amr_spec_tab5_genes, f'acmg_tier_gnomAD-AMR'] = 'tier_3'\n",
    "\n",
    "asj_spec_tab5_genes = ['HBA1/HBA2', \"ELP1\", \"DLD\", \"NEB\", \"CLRN1\", \"BLM\"]\n",
    "acmg_tiers_df.loc[asj_spec_tab5_genes, f'acmg_tier_gnomAD-ASJ'] = 'tier_3'\n",
    "\n",
    "mid_spec_tab5_genes = ['HBA1/HBA2']\n",
    "acmg_tiers_df.loc[mid_spec_tab5_genes, f'acmg_tier_gnomAD-MID'] = 'tier_3'\n",
    "\n",
    "nfe_spec_tab5_genes = ['HBA1/HBA2', \"FXN\"]\n",
    "acmg_tiers_df.loc[nfe_spec_tab5_genes, f'acmg_tier_gnomAD-NFE'] = 'tier_3'\n",
    "\n",
    "fin_spec_tab5_genes = ['HBA1/HBA2', \"FXN\"]\n",
    "acmg_tiers_df.loc[fin_spec_tab5_genes, f'acmg_tier_gnomAD-FIN'] = 'tier_3'\n",
    "\n",
    "afr_spec_tab5_genes = ['HBA1/HBA2']\n",
    "acmg_tiers_df.loc[afr_spec_tab5_genes, f'acmg_tier_gnomAD-AFR'] = 'tier_3'"
   ]
  },
  {
   "cell_type": "code",
   "execution_count": null,
   "id": "c8be5675-1ea0-420f-bef6-d9d704fb6929",
   "metadata": {
    "execution": {
     "iopub.execute_input": "2025-06-02T07:04:20.948286Z",
     "iopub.status.busy": "2025-06-02T07:04:20.947562Z",
     "iopub.status.idle": "2025-06-02T07:04:20.973460Z",
     "shell.execute_reply": "2025-06-02T07:04:20.970795Z",
     "shell.execute_reply.started": "2025-06-02T07:04:20.948230Z"
    }
   },
   "outputs": [],
   "source": [
    "master_df = master_df.merge(\n",
    "    acmg_tiers_df.drop(columns=['acmg_table', 'acmg_panethnic_tier']), \n",
    "    left_index=True, right_index=True, how='left'\n",
    ")"
   ]
  },
  {
   "cell_type": "code",
   "execution_count": null,
   "id": "7b0ac637-7c32-4df3-9695-2ea256558ee8",
   "metadata": {
    "execution": {
     "iopub.execute_input": "2025-06-02T07:04:21.580733Z",
     "iopub.status.busy": "2025-06-02T07:04:21.580008Z",
     "iopub.status.idle": "2025-06-02T07:04:21.609517Z",
     "shell.execute_reply": "2025-06-02T07:04:21.607292Z",
     "shell.execute_reply.started": "2025-06-02T07:04:21.580676Z"
    }
   },
   "outputs": [],
   "source": [
    "# Classify as 'tier 4' if not mentioned in ACMG\n",
    "for c in [col for col in master_df.columns if col.startswith('acmg_tier')]:\n",
    "    master_df[c] = master_df[c].fillna('tier_4')"
   ]
  },
  {
   "cell_type": "markdown",
   "id": "81b286c6",
   "metadata": {},
   "source": [
    "## Determine whether the gene is X-linked or not"
   ]
  },
  {
   "cell_type": "code",
   "execution_count": null,
   "id": "4d42f215",
   "metadata": {},
   "outputs": [],
   "source": [
    "master_df['is_xlinked'] = master_df['chr'].apply(lambda x: True if x=='chrX' else False)"
   ]
  },
  {
   "cell_type": "markdown",
   "id": "b668e2e7",
   "metadata": {},
   "source": [
    "## Calculate the at-risk couple rate"
   ]
  },
  {
   "cell_type": "code",
   "execution_count": null,
   "id": "18c6fdbe",
   "metadata": {},
   "outputs": [],
   "source": [
    "# Calculate the number of virtual couples\n",
    "all_combinations = math.comb(founder_cnt, 2)\n",
    "xlinked_combinations = founder_male_cnt*founder_female_cnt"
   ]
  },
  {
   "cell_type": "code",
   "execution_count": null,
   "id": "2264d7b0",
   "metadata": {},
   "outputs": [],
   "source": [
    "# List and count all at-risk couples in HKGP\n",
    "def list_at_risk_couples(carriers:list, is_xlinked:bool, founder_sex_d:dict):\n",
    "    \"\"\"List and count all at-risk couples in HKGP\"\"\"\n",
    "    # Return np.nan if carrier count is 0\n",
    "    if carriers != carriers:\n",
    "        return pd.Series([set(), 0])\n",
    "    \n",
    "    at_risks_couples:set = set()\n",
    "    if is_xlinked:\n",
    "        # X-linked genes: all possible combinations of female carriers and any male are at-risk couples\n",
    "        for c in carriers:\n",
    "            at_risks_couples = at_risks_couples | { \".\".join(sorted([c, m])) for m, sex in founder_sex_d.items() if sex=='Male' }\n",
    "    else:\n",
    "        # Autosomal recessive genes: all possible combinations of carriers are at-risk couples\n",
    "        at_risks_couples:set = { \".\".join(sorted([a, b])) for a in carriers for b in carriers if a!=b }\n",
    "    \n",
    "    return pd.Series([at_risks_couples, len(at_risks_couples)])\n",
    "\n",
    "master_df[['at_risks_couples_hkgi', 'at_risks_couples_count_hkgi']] = master_df.apply(\n",
    "    lambda r: list_at_risk_couples(r.carriers_hkgi, r.is_xlinked, founder_sex_d), \n",
    "    axis=1\n",
    ")"
   ]
  },
  {
   "cell_type": "code",
   "execution_count": null,
   "id": "5acd2739",
   "metadata": {},
   "outputs": [],
   "source": [
    "# Specific to HBA1/HBA2: remove false-positive in at-risk couples\n",
    "hba_label_d:dict = hkgi_hba_sv_df.set_index('SRE ID').to_dict()['Label']\n",
    "def remove_false_arc(arc_set:set, hba_label_d):\n",
    "    true_arc_set = set()\n",
    "    all_comb = set()\n",
    "    all_out_comb = set()\n",
    "    for arc in arc_set:\n",
    "        comb = \".\".join([hba_label_d[s] for s in arc.split(\".\")])\n",
    "        if 'SEA' in comb:\n",
    "            true_arc_set.add(arc)\n",
    "            all_comb.add(comb)\n",
    "        else:\n",
    "            all_out_comb.add(comb)\n",
    "    return true_arc_set\n",
    "master_df['at_risks_couples_hkgi'] = master_df.apply(\n",
    "    lambda r: r.at_risks_couples_hkgi if r.name!='HBA1/HBA2' else remove_false_arc(r.at_risks_couples_hkgi, hba_label_d), \n",
    "    axis=1\n",
    ")"
   ]
  },
  {
   "cell_type": "code",
   "execution_count": null,
   "id": "2feffdae",
   "metadata": {},
   "outputs": [],
   "source": [
    "# Calculate the at_risks_couple_rate_hkgi\n",
    "master_df['at_risks_couples_rate_hkgi'] = master_df.apply(\n",
    "    lambda r: r['at_risks_couples_count_hkgi']/xlinked_combinations if r.is_xlinked else r['at_risks_couples_count_hkgi']/all_combinations, \n",
    "    axis=1\n",
    ")"
   ]
  },
  {
   "cell_type": "markdown",
   "id": "deae4158",
   "metadata": {},
   "source": [
    "## Extract the actual at-risk couple frequencies"
   ]
  },
  {
   "cell_type": "code",
   "execution_count": null,
   "id": "d0886585",
   "metadata": {},
   "outputs": [],
   "source": [
    "trio_df = pd.read_csv(sample_trio)"
   ]
  },
  {
   "cell_type": "code",
   "execution_count": null,
   "id": "a2395be9",
   "metadata": {},
   "outputs": [],
   "source": [
    "# Remove trios where the mother and(or) father are not founders\n",
    "def keep_trio(r, incl_founders):\n",
    "    mother_is_founder = True if r['mother_sre_lab_id'][:-3] in incl_founders else False\n",
    "    father_is_founder = True if r['father_sre_lab_id'][:-3] in incl_founders else False\n",
    "    if mother_is_founder & father_is_founder:\n",
    "        return True\n",
    "    else:\n",
    "        return False\n",
    "trio_df['keep_trio'] = trio_df.apply(lambda r: keep_trio(r, founder_info_df.index.tolist()), axis=1)\n",
    "trio_df = trio_df.loc[trio_df.keep_trio, :].drop(columns=['keep_trio'])\n",
    "\n",
    "# Assign a trio ID\n",
    "trio_df['couple_id'] = trio_df.apply(\n",
    "    lambda r: \".\".join(sorted([r['mother_sre_lab_id'][:-3], r['father_sre_lab_id'][:-3]])), \n",
    "    axis=1\n",
    ")\n",
    "\n",
    "all_couple_ids:set = set(trio_df['couple_id'].tolist())"
   ]
  },
  {
   "cell_type": "code",
   "execution_count": null,
   "id": "ff2f5a1d",
   "metadata": {},
   "outputs": [],
   "source": [
    "# Append per-gene at risk couples\n",
    "actual_at_risks_couples_hkgi:list = list()    # List of sets\n",
    "for gene, row in master_df.iterrows():\n",
    "    couples = row['at_risks_couples_hkgi']\n",
    "    if pd.isna(couples):\n",
    "        actual_at_risks_couples_hkgi.append(np.nan)\n",
    "        continue\n",
    "    arc = all_couple_ids.intersection(couples)\n",
    "    actual_at_risks_couples_hkgi.append(arc)\n",
    "\n",
    "master_df['actual_at_risks_couples_hkgi'] = pd.DataFrame({\"actual_at_risks_couples_hkgi\": actual_at_risks_couples_hkgi}, index=master_df.index)"
   ]
  },
  {
   "cell_type": "code",
   "execution_count": null,
   "id": "224c9b8e",
   "metadata": {},
   "outputs": [],
   "source": [
    "master_df['actual_at_risks_couples_count_hkgi'] = master_df['actual_at_risks_couples_hkgi'].apply(len)\n",
    "master_df['actual_at_risks_couples_rate_hkgi'] = master_df['actual_at_risks_couples_count_hkgi'].apply(lambda x: x/len(all_couple_ids))"
   ]
  },
  {
   "cell_type": "markdown",
   "id": "5c568b2f",
   "metadata": {},
   "source": [
    "## Subset columns for output"
   ]
  },
  {
   "cell_type": "code",
   "execution_count": null,
   "id": "fdacff2a",
   "metadata": {},
   "outputs": [],
   "source": [
    "export_cols:list = [\n",
    "    \"is_xlinked\", \"carrier_count_hkgi\", \"sample_size_hkgi\", \n",
    "    \"carrier_rate_hkgi\", \"carrier_rate_CI_Lower_hkgi\", \"carrier_rate_CI_Upper_hkgi\", \n",
    "    \"sample_size_gnomAD-EAS\", \"sample_size_gnomAD-NFE\", \"sample_size_gnomAD-AFR\", \n",
    "    \"carrier_rate_gnomAD-EAS\", \"carrier_rate_gnomAD-NFE\", \"carrier_rate_gnomAD-AFR\", \n",
    "    \"acmg_tier_hkgi\", \"acmg_tier_gnomAD-EAS\", \"acmg_tier_gnomAD-NFE\", \"acmg_tier_gnomAD-AFR\", \n",
    "    \"tier_hkgi\", \"tier_gnomAD-EAS\", \"tier_gnomAD-NFE\", \"tier_gnomAD-AFR\", \n",
    "    \"at_risks_couples_count_hkgi\", \"at_risks_couples_rate_hkgi\", \n",
    "    \"actual_at_risks_couples_count_hkgi\", \"actual_at_risks_couples_rate_hkgi\", \n",
    "]\n",
    "export_df = master_df.loc[:, export_cols].sort_values(by=['carrier_rate_hkgi'], ascending=False)"
   ]
  },
  {
   "cell_type": "code",
   "execution_count": null,
   "id": "843c8750",
   "metadata": {},
   "outputs": [],
   "source": [
    "export_df.to_csv(recessive_final_csv, index=True, index_label='gene')"
   ]
  },
  {
   "cell_type": "code",
   "execution_count": null,
   "id": "b6d373fa",
   "metadata": {},
   "outputs": [],
   "source": []
  }
 ],
 "metadata": {
  "kernelspec": {
   "display_name": "Python 3 (ipykernel)",
   "language": "python",
   "name": "python3"
  },
  "language_info": {
   "codemirror_mode": {
    "name": "ipython",
    "version": 3
   },
   "file_extension": ".py",
   "mimetype": "text/x-python",
   "name": "python",
   "nbconvert_exporter": "python",
   "pygments_lexer": "ipython3",
   "version": "3.10.12"
  }
 },
 "nbformat": 4,
 "nbformat_minor": 5
}
