{
 "cells": [
  {
   "cell_type": "markdown",
   "id": "d133dec9-da5f-4428-9327-b750c365dedf",
   "metadata": {},
   "source": [
    "# Apply gnomAD filters and append gnomAD frequency info"
   ]
  },
  {
   "cell_type": "code",
   "execution_count": 7,
   "id": "1ed1862d-98c3-408b-810a-7899238ab02e",
   "metadata": {
    "execution": {
     "iopub.execute_input": "2025-03-12T02:29:44.032158Z",
     "iopub.status.busy": "2025-03-12T02:29:44.029444Z",
     "iopub.status.idle": "2025-03-12T02:29:44.042146Z",
     "shell.execute_reply": "2025-03-12T02:29:44.039861Z",
     "shell.execute_reply.started": "2025-03-12T02:29:44.032066Z"
    }
   },
   "outputs": [],
   "source": [
    "from pathlib import Path\n",
    "import pandas as pd\n",
    "import numpy as np\n",
    "import shutil\n",
    "from tqdm import tqdm\n",
    "import re"
   ]
  },
  {
   "cell_type": "code",
   "execution_count": 8,
   "id": "24ebd42a-1edd-4e77-9983-722fcafdcf04",
   "metadata": {
    "execution": {
     "iopub.execute_input": "2025-03-12T02:29:44.499365Z",
     "iopub.status.busy": "2025-03-12T02:29:44.498697Z",
     "iopub.status.idle": "2025-03-12T02:29:44.509674Z",
     "shell.execute_reply": "2025-03-12T02:29:44.507219Z",
     "shell.execute_reply.started": "2025-03-12T02:29:44.499309Z"
    }
   },
   "outputs": [],
   "source": [
    "projectDir = Path(\"/home/_shared/jscliu/project/2025/Flagship/analysis/secondary/recessive/03.filtering\")\n",
    "dataDir = projectDir/\"data\"\n",
    "summaryDir = projectDir/\"summary\"\n",
    "\n",
    "# Reference gnomad_info\n",
    "gnomad_info_tsv = dataDir/\"recessive.gnomad-annotated.tsv\"\n",
    "\n",
    "# Input\n",
    "concat_tsv = summaryDir/\"recessive.var.tsv\"\n",
    "\n",
    "# Output\n",
    "gnomad_annot_tsv = summaryDir/\"recessive.var.gnomad-annotated.tsv\""
   ]
  },
  {
   "cell_type": "markdown",
   "id": "5182856d-48c8-4eb8-88d0-d77f4b9e70ba",
   "metadata": {},
   "source": [
    "## Read gnomad_info_tsv as pd.DataFrame"
   ]
  },
  {
   "cell_type": "code",
   "execution_count": 9,
   "id": "df29c061-6b63-4677-8939-9d3971abd848",
   "metadata": {
    "execution": {
     "iopub.execute_input": "2025-03-12T02:29:45.284909Z",
     "iopub.status.busy": "2025-03-12T02:29:45.284255Z",
     "iopub.status.idle": "2025-03-12T02:29:45.324763Z",
     "shell.execute_reply": "2025-03-12T02:29:45.322992Z",
     "shell.execute_reply.started": "2025-03-12T02:29:45.284855Z"
    }
   },
   "outputs": [],
   "source": [
    "gnomad_info = pd.read_table(gnomad_info_tsv, index_col=[0])"
   ]
  },
  {
   "cell_type": "markdown",
   "id": "fb9854a4-1fd3-4ab6-8979-0cbecf1b4496",
   "metadata": {},
   "source": [
    "## Read concat_tsv as pd.DataFrame"
   ]
  },
  {
   "cell_type": "code",
   "execution_count": 13,
   "id": "fb0d9df2-be05-478a-bdf8-e7618f4712a2",
   "metadata": {
    "execution": {
     "iopub.execute_input": "2025-03-12T02:31:23.422204Z",
     "iopub.status.busy": "2025-03-12T02:31:23.421487Z",
     "iopub.status.idle": "2025-03-12T02:31:23.504749Z",
     "shell.execute_reply": "2025-03-12T02:31:23.502993Z",
     "shell.execute_reply.started": "2025-03-12T02:31:23.422150Z"
    }
   },
   "outputs": [],
   "source": [
    "df = pd.read_table(concat_tsv, index_col=[0])"
   ]
  },
  {
   "cell_type": "markdown",
   "id": "ac9c7968-40e0-418b-888b-99c3096dc5d4",
   "metadata": {},
   "source": [
    "# Merge"
   ]
  },
  {
   "cell_type": "code",
   "execution_count": 17,
   "id": "78cb189e-221d-45ba-846b-6b0584254050",
   "metadata": {
    "execution": {
     "iopub.execute_input": "2025-03-12T02:34:24.325371Z",
     "iopub.status.busy": "2025-03-12T02:34:24.324525Z",
     "iopub.status.idle": "2025-03-12T02:34:24.357611Z",
     "shell.execute_reply": "2025-03-12T02:34:24.356630Z",
     "shell.execute_reply.started": "2025-03-12T02:34:24.325316Z"
    }
   },
   "outputs": [],
   "source": [
    "gnomad_annotated_columns = [\n",
    "    'recessive_genes', 'source', 'rsID',\n",
    "    'clinVar_ID', 'CLNSIG', 'clinical_relevance', 'goldstars_n',\n",
    "    'variant_location', 'HGVSc', 'HGVSp', 'REVEL', 'SpliceAI',\n",
    "    'Consequence', 'consequence_class',\n",
    "    'gnomAD_filter', 'gnomad_v3_AN', 'gnomad_v3_AF', 'gnomad_v3_AN_eas', 'gnomad_v3_AF_eas', \n",
    "    'participant_id', 'GT'\n",
    "]\n",
    "gnomad_annotated_df = df.merge(gnomad_info, left_index=True, right_index=True, how='left').loc[:, gnomad_annotated_columns]"
   ]
  },
  {
   "cell_type": "markdown",
   "id": "a49626c7-fe90-4b3f-b408-e1770b116ae4",
   "metadata": {},
   "source": [
    "# Discard variants which has gnomAD_filter but not \"PASS\""
   ]
  },
  {
   "cell_type": "code",
   "execution_count": 26,
   "id": "0e81125e-a194-407c-81fb-8f0c4f0f489f",
   "metadata": {
    "execution": {
     "iopub.execute_input": "2025-03-12T02:44:32.084292Z",
     "iopub.status.busy": "2025-03-12T02:44:32.083636Z",
     "iopub.status.idle": "2025-03-12T02:44:32.114048Z",
     "shell.execute_reply": "2025-03-12T02:44:32.112027Z",
     "shell.execute_reply.started": "2025-03-12T02:44:32.084236Z"
    }
   },
   "outputs": [],
   "source": [
    "gnomad_filtered_df = gnomad_annotated_df.loc[\n",
    "    (pd.isna(gnomad_annotated_df['gnomAD_filter'])) | (gnomad_annotated_df['gnomAD_filter']=='PASS'), \n",
    "    :\n",
    "].drop(columns=['gnomAD_filter'])"
   ]
  },
  {
   "cell_type": "code",
   "execution_count": 28,
   "id": "f0156e57-6281-4fa5-b021-dbbc83342c24",
   "metadata": {
    "execution": {
     "iopub.execute_input": "2025-03-12T02:44:33.611398Z",
     "iopub.status.busy": "2025-03-12T02:44:33.610746Z",
     "iopub.status.idle": "2025-03-12T02:44:33.736820Z",
     "shell.execute_reply": "2025-03-12T02:44:33.735063Z",
     "shell.execute_reply.started": "2025-03-12T02:44:33.611346Z"
    }
   },
   "outputs": [],
   "source": [
    "gnomad_filtered_df.to_csv(gnomad_annot_tsv, index=True, index_label=\"Chr-Pos-Ref-Alt\", sep='\\t')"
   ]
  },
  {
   "cell_type": "code",
   "execution_count": null,
   "id": "be80c183-d91b-40e5-917d-c12e363bb49d",
   "metadata": {},
   "outputs": [],
   "source": []
  }
 ],
 "metadata": {
  "kernelspec": {
   "display_name": "Python 3 (ipykernel)",
   "language": "python",
   "name": "python3"
  },
  "language_info": {
   "codemirror_mode": {
    "name": "ipython",
    "version": 3
   },
   "file_extension": ".py",
   "mimetype": "text/x-python",
   "name": "python",
   "nbconvert_exporter": "python",
   "pygments_lexer": "ipython3",
   "version": "3.10.12"
  }
 },
 "nbformat": 4,
 "nbformat_minor": 5
}
