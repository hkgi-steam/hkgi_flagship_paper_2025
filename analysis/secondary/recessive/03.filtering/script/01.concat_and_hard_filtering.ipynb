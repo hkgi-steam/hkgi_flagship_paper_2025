{
 "cells": [
  {
   "cell_type": "markdown",
   "id": "96355eb6-2af9-47ce-b244-e7bbf1e9132f",
   "metadata": {},
   "source": [
    "# Consolidate the unfiltered, known and novel variants"
   ]
  },
  {
   "cell_type": "code",
   "execution_count": 1,
   "id": "0a4b0686-ade0-4d88-9de1-4258b0ddcc1c",
   "metadata": {
    "execution": {
     "iopub.execute_input": "2025-03-12T02:22:03.099703Z",
     "iopub.status.busy": "2025-03-12T02:22:03.099104Z",
     "iopub.status.idle": "2025-03-12T02:22:03.360054Z",
     "shell.execute_reply": "2025-03-12T02:22:03.359173Z",
     "shell.execute_reply.started": "2025-03-12T02:22:03.099643Z"
    }
   },
   "outputs": [],
   "source": [
    "from pathlib import Path\n",
    "import pandas as pd\n",
    "import numpy as np\n",
    "import shutil\n",
    "from tqdm import tqdm\n",
    "import re"
   ]
  },
  {
   "cell_type": "code",
   "execution_count": 2,
   "id": "ee903929-32d3-4454-a1e7-8bc370a68cbb",
   "metadata": {
    "execution": {
     "iopub.execute_input": "2025-03-12T02:22:03.361873Z",
     "iopub.status.busy": "2025-03-12T02:22:03.360999Z",
     "iopub.status.idle": "2025-03-12T02:22:03.367346Z",
     "shell.execute_reply": "2025-03-12T02:22:03.366591Z",
     "shell.execute_reply.started": "2025-03-12T02:22:03.361851Z"
    }
   },
   "outputs": [],
   "source": [
    "projectDir = Path(\"/home/_shared/jscliu/project/2025/Flagship/analysis/secondary/recessive\")\n",
    "referenceDir = Path(\"/home/_shared/jscliu/project/2025/Flagship/reference\")\n",
    "\n",
    "summaryDir = projectDir/\"03.filtering/summary\"\n",
    "\n",
    "# Input\n",
    "known_var_tsv = projectDir/\"01.known_small_variants/summary/recessive.known_variants.tsv\"\n",
    "novel_pvs1_vstrong_tsv = projectDir/\"02.novel_small_variants/summary/recessive.novel.allResults.PVS1-verystrong.tsv\"\n",
    "\n",
    "# Reference\n",
    "vcf_columns:list = [\"#CHROM\", \"POS\", \"ID\", \"REF\", \"ALT\", \"QUAL\", \"FILTER\", \"INFO\"]\n",
    "vcf_header = projectDir/\"03.filtering/script/vcf_headers.txt\"\n",
    "sample_info = referenceDir/\"sample_info_annot.2024-11-12.csv\"\n",
    "cohort_founders = referenceDir/\"cohort_founder_list.2024-11-12.csv\"\n",
    "\n",
    "# Output\n",
    "concat_tsv = summaryDir/\"recessive.var.tsv\""
   ]
  },
  {
   "cell_type": "code",
   "execution_count": 3,
   "id": "8959d497-af5c-4831-8f75-e5e9c0ecfc89",
   "metadata": {
    "execution": {
     "iopub.execute_input": "2025-03-12T02:22:03.368124Z",
     "iopub.status.busy": "2025-03-12T02:22:03.367973Z",
     "iopub.status.idle": "2025-03-12T02:22:03.373413Z",
     "shell.execute_reply": "2025-03-12T02:22:03.372521Z",
     "shell.execute_reply.started": "2025-03-12T02:22:03.368109Z"
    }
   },
   "outputs": [],
   "source": [
    "concat_columns:list = [\n",
    "    'Chr-Pos-Ref-Alt',\n",
    "    'recessive_genes',\n",
    "    'source', \n",
    "    'clinVar_ID',\n",
    "    'CLNSIG',\n",
    "    'clinical_relevance',\n",
    "    'goldstars_n',    \n",
    "    'variant_location',\n",
    "    'HGVSc',\n",
    "    'HGVSp',\n",
    "    'REVEL',\n",
    "    'SpliceAI',\n",
    "    'Consequence',\n",
    "    'consequence_class',\n",
    "    'participant_id',\n",
    "    'GT'\n",
    "]"
   ]
  },
  {
   "cell_type": "markdown",
   "id": "9ecb7759-c86d-44dc-80c7-bb94d5ccb410",
   "metadata": {},
   "source": [
    "## Pre-process table for clinvar P/LP"
   ]
  },
  {
   "cell_type": "code",
   "execution_count": 4,
   "id": "df3bf748-570e-42c1-81be-6e50b00037bb",
   "metadata": {
    "execution": {
     "iopub.execute_input": "2025-03-12T02:22:03.374352Z",
     "iopub.status.busy": "2025-03-12T02:22:03.374162Z",
     "iopub.status.idle": "2025-03-12T02:22:03.397078Z",
     "shell.execute_reply": "2025-03-12T02:22:03.396162Z",
     "shell.execute_reply.started": "2025-03-12T02:22:03.374334Z"
    }
   },
   "outputs": [],
   "source": [
    "known_var_df = pd.read_table(known_var_tsv)\n",
    "known_var_df['source'] = 'clinvar'"
   ]
  },
  {
   "cell_type": "code",
   "execution_count": 5,
   "id": "5823cc71-3182-43d2-aa38-9713c99952fb",
   "metadata": {
    "execution": {
     "iopub.execute_input": "2025-03-12T02:22:03.397960Z",
     "iopub.status.busy": "2025-03-12T02:22:03.397798Z",
     "iopub.status.idle": "2025-03-12T02:22:03.408903Z",
     "shell.execute_reply": "2025-03-12T02:22:03.408156Z",
     "shell.execute_reply.started": "2025-03-12T02:22:03.397945Z"
    }
   },
   "outputs": [],
   "source": [
    "# For columns participant_id and GT\n",
    "known_var_df['participant_id'] = known_var_df['sample_id'].apply(lambda x: \".\".join([ y[:-3] for y in x.split(\".\") ]))\n",
    "known_var_df.rename(columns={'genotype': 'GT'}, inplace=True)"
   ]
  },
  {
   "cell_type": "code",
   "execution_count": 6,
   "id": "35eade32-2891-47d9-95a4-ea6f08ed6460",
   "metadata": {
    "execution": {
     "iopub.execute_input": "2025-03-12T02:22:03.410763Z",
     "iopub.status.busy": "2025-03-12T02:22:03.410343Z",
     "iopub.status.idle": "2025-03-12T02:22:03.419186Z",
     "shell.execute_reply": "2025-03-12T02:22:03.418429Z",
     "shell.execute_reply.started": "2025-03-12T02:22:03.410748Z"
    }
   },
   "outputs": [],
   "source": [
    "# make known_var_toConcat_df\n",
    "for c in concat_columns:\n",
    "    if c not in known_var_df.columns:\n",
    "        known_var_df[c] = np.nan\n",
    "\n",
    "known_var_toConcat_df = known_var_df.loc[:, concat_columns].copy()"
   ]
  },
  {
   "cell_type": "markdown",
   "id": "e3286504-ecc8-4000-8405-caa87b614041",
   "metadata": {},
   "source": [
    "## Pre-process table for novel vep PVS1-verystrong"
   ]
  },
  {
   "cell_type": "code",
   "execution_count": 8,
   "id": "b8305a0d-c441-4303-bf04-7d09a3744118",
   "metadata": {
    "execution": {
     "iopub.execute_input": "2025-03-12T02:22:03.435589Z",
     "iopub.status.busy": "2025-03-12T02:22:03.435441Z",
     "iopub.status.idle": "2025-03-12T02:22:03.491734Z",
     "shell.execute_reply": "2025-03-12T02:22:03.490951Z",
     "shell.execute_reply.started": "2025-03-12T02:22:03.435575Z"
    }
   },
   "outputs": [],
   "source": [
    "novel_pvs1vstrong_df = pd.read_table(novel_pvs1_vstrong_tsv)\n",
    "novel_pvs1vstrong_df['source'] = 'novel'"
   ]
  },
  {
   "cell_type": "code",
   "execution_count": 9,
   "id": "e7584e67-4752-4670-a33d-28bd5403a63b",
   "metadata": {
    "execution": {
     "iopub.execute_input": "2025-03-12T02:22:03.492472Z",
     "iopub.status.busy": "2025-03-12T02:22:03.492326Z",
     "iopub.status.idle": "2025-03-12T02:22:03.504833Z",
     "shell.execute_reply": "2025-03-12T02:22:03.504101Z",
     "shell.execute_reply.started": "2025-03-12T02:22:03.492458Z"
    }
   },
   "outputs": [],
   "source": [
    "# make novel_pvs1vstrong_toConcat_df\n",
    "for c in concat_columns:\n",
    "    if c not in novel_pvs1vstrong_df.columns:\n",
    "        novel_pvs1vstrong_df[c] = np.nan\n",
    "\n",
    "novel_pvs1vstrong_toConcat_df = novel_pvs1vstrong_df.loc[:, concat_columns].copy()"
   ]
  },
  {
   "cell_type": "markdown",
   "id": "e51fcf5e-37f8-4acf-a1f1-24f547d096b8",
   "metadata": {},
   "source": [
    "# Concatenate"
   ]
  },
  {
   "cell_type": "code",
   "execution_count": 12,
   "id": "1f4a18fc-542e-46ba-b647-3d761142529c",
   "metadata": {
    "execution": {
     "iopub.execute_input": "2025-03-12T02:22:38.203335Z",
     "iopub.status.busy": "2025-03-12T02:22:38.202428Z",
     "iopub.status.idle": "2025-03-12T02:22:38.217900Z",
     "shell.execute_reply": "2025-03-12T02:22:38.216569Z",
     "shell.execute_reply.started": "2025-03-12T02:22:38.203279Z"
    }
   },
   "outputs": [],
   "source": [
    "recessive_master_df = pd.concat([known_var_toConcat_df, novel_pvs1vstrong_toConcat_df])"
   ]
  },
  {
   "cell_type": "markdown",
   "id": "d596724b-1ff5-42c6-8979-e86fe0b33a35",
   "metadata": {},
   "source": [
    "# Sort by chr and pos"
   ]
  },
  {
   "cell_type": "code",
   "execution_count": 15,
   "id": "7b7943af-f066-4419-8b8e-c5d3c39f5ce6",
   "metadata": {
    "execution": {
     "iopub.execute_input": "2025-03-12T02:26:12.721692Z",
     "iopub.status.busy": "2025-03-12T02:26:12.719699Z",
     "iopub.status.idle": "2025-03-12T02:26:14.052747Z",
     "shell.execute_reply": "2025-03-12T02:26:14.051695Z",
     "shell.execute_reply.started": "2025-03-12T02:26:12.721620Z"
    }
   },
   "outputs": [],
   "source": [
    "recessive_master_df[['chr', 'pos']] = recessive_master_df['Chr-Pos-Ref-Alt'].apply(\n",
    "    lambda x: pd.Series([\n",
    "        re.sub('chr', '', x.split('-')[0]), \n",
    "        int(x.split('-')[1])\n",
    "    ])\n",
    ")"
   ]
  },
  {
   "cell_type": "code",
   "execution_count": 17,
   "id": "5e64f75a-c05a-415f-aed4-22a7fabb88f2",
   "metadata": {
    "execution": {
     "iopub.execute_input": "2025-03-12T02:27:17.338795Z",
     "iopub.status.busy": "2025-03-12T02:27:17.338135Z",
     "iopub.status.idle": "2025-03-12T02:27:17.376626Z",
     "shell.execute_reply": "2025-03-12T02:27:17.374723Z",
     "shell.execute_reply.started": "2025-03-12T02:27:17.338746Z"
    }
   },
   "outputs": [],
   "source": [
    "recessive_master_df.sort_values(by=['chr', 'pos'], ascending=True, inplace=True)\n",
    "recessive_master_df.drop(columns=['chr', 'pos'], inplace=True)"
   ]
  },
  {
   "cell_type": "code",
   "execution_count": 19,
   "id": "543c9116-95e8-43dc-8aa1-22087a290dcf",
   "metadata": {
    "execution": {
     "iopub.execute_input": "2025-03-12T02:27:50.069129Z",
     "iopub.status.busy": "2025-03-12T02:27:50.068468Z",
     "iopub.status.idle": "2025-03-12T02:27:50.181171Z",
     "shell.execute_reply": "2025-03-12T02:27:50.179285Z",
     "shell.execute_reply.started": "2025-03-12T02:27:50.069077Z"
    }
   },
   "outputs": [],
   "source": [
    "recessive_master_df.to_csv(concat_tsv, index=False, sep='\\t')"
   ]
  },
  {
   "cell_type": "code",
   "execution_count": null,
   "id": "03ae7dc3-3c13-4740-a62d-a98bfe1c8046",
   "metadata": {},
   "outputs": [],
   "source": []
  }
 ],
 "metadata": {
  "kernelspec": {
   "display_name": "Python 3 (ipykernel)",
   "language": "python",
   "name": "python3"
  },
  "language_info": {
   "codemirror_mode": {
    "name": "ipython",
    "version": 3
   },
   "file_extension": ".py",
   "mimetype": "text/x-python",
   "name": "python",
   "nbconvert_exporter": "python",
   "pygments_lexer": "ipython3",
   "version": "3.10.12"
  }
 },
 "nbformat": 4,
 "nbformat_minor": 5
}
