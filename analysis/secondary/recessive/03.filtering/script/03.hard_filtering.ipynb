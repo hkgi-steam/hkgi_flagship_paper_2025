{
 "cells": [
  {
   "cell_type": "markdown",
   "id": "41854aea-04b4-46e0-90e5-9472276fa32d",
   "metadata": {},
   "source": [
    "# Apply hard filtering to gnomad annotated variants"
   ]
  },
  {
   "cell_type": "code",
   "execution_count": null,
   "id": "1dbff206-777f-4c96-a2b7-dd0ce86c024d",
   "metadata": {
    "execution": {
     "iopub.execute_input": "2025-03-24T08:02:48.594260Z",
     "iopub.status.busy": "2025-03-24T08:02:48.593486Z",
     "iopub.status.idle": "2025-03-24T08:02:49.624585Z",
     "shell.execute_reply": "2025-03-24T08:02:49.622219Z",
     "shell.execute_reply.started": "2025-03-24T08:02:48.594177Z"
    }
   },
   "outputs": [],
   "source": [
    "from pathlib import Path\n",
    "import pandas as pd\n",
    "import numpy as np\n",
    "import shutil\n",
    "from tqdm import tqdm\n",
    "import re\n",
    "import matplotlib.pyplot as plt\n",
    "import seaborn as sns\n",
    "sns.set_style('whitegrid')"
   ]
  },
  {
   "cell_type": "code",
   "execution_count": null,
   "id": "691a527d-7d2e-47d0-882d-e1ca6eeda59d",
   "metadata": {
    "execution": {
     "iopub.execute_input": "2025-03-24T08:02:49.880588Z",
     "iopub.status.busy": "2025-03-24T08:02:49.879675Z",
     "iopub.status.idle": "2025-03-24T08:02:49.896160Z",
     "shell.execute_reply": "2025-03-24T08:02:49.893325Z",
     "shell.execute_reply.started": "2025-03-24T08:02:49.880524Z"
    }
   },
   "outputs": [],
   "source": [
    "projectDir = Path(\"/home/_shared/jscliu/project/2025/Flagship/analysis/secondary/recessive/03.filtering\")\n",
    "referenceDir = Path(\"/home/_shared/jscliu/project/2025/Flagship/reference\")\n",
    "resultDir = projectDir/\"results\"\n",
    "summaryDir = projectDir/\"summary\"\n",
    "resultDir.mkdir(exist_ok=True, parents=True)\n",
    "\n",
    "# Reference\n",
    "vcf_columns:list = [\"#CHROM\", \"POS\", \"ID\", \"REF\", \"ALT\", \"QUAL\", \"FILTER\", \"INFO\"]\n",
    "vcf_header = projectDir/\"script/vcf_headers.txt\"\n",
    "sample_info = referenceDir/\"sample_info_annot.2024-11-12.csv\"\n",
    "cohort_founders = referenceDir/\"cohort_founder_list.2024-11-12.csv\"\n",
    "\n",
    "# Input\n",
    "gnomad_annot_tsv = summaryDir/\"recessive.var.gnomad-annotated.tsv\"\n",
    "\n",
    "# Output\n",
    "out_csv = summaryDir/\"recessive.var.filtered.csv\""
   ]
  },
  {
   "cell_type": "markdown",
   "id": "460add2d-2c5e-4112-abfc-dd39ae197f97",
   "metadata": {},
   "source": [
    "## Read gnomad_annot_tsv as df"
   ]
  },
  {
   "cell_type": "code",
   "execution_count": null,
   "id": "b67c8585-2baa-4e60-a1a7-6e2501124f09",
   "metadata": {
    "execution": {
     "iopub.execute_input": "2025-03-24T08:02:50.941985Z",
     "iopub.status.busy": "2025-03-24T08:02:50.941226Z",
     "iopub.status.idle": "2025-03-24T08:02:51.051472Z",
     "shell.execute_reply": "2025-03-24T08:02:51.049351Z",
     "shell.execute_reply.started": "2025-03-24T08:02:50.941923Z"
    }
   },
   "outputs": [],
   "source": [
    "gnomad_annot_df = pd.read_table(gnomad_annot_tsv)\n",
    "gnomad_annot_df.rename(columns={'Chr-Pos-Ref-Alt': 'ID'}, inplace=True)"
   ]
  },
  {
   "cell_type": "code",
   "execution_count": null,
   "id": "0c78131f-73d0-4168-9579-4024d2c354d3",
   "metadata": {
    "execution": {
     "iopub.execute_input": "2025-03-12T03:01:07.830317Z",
     "iopub.status.busy": "2025-03-12T03:01:07.829645Z",
     "iopub.status.idle": "2025-03-12T03:01:07.913070Z",
     "shell.execute_reply": "2025-03-12T03:01:07.911379Z",
     "shell.execute_reply.started": "2025-03-12T03:01:07.830264Z"
    }
   },
   "outputs": [],
   "source": [
    "listed_cols:list = ['participant_id', 'GT']\n",
    "for c in listed_cols:\n",
    "    gnomad_annot_df[c] = gnomad_annot_df[c].apply(lambda x: x.split('.'))\n",
    "master_query_vcf_df = gnomad_annot_df.explode(['participant_id', 'GT'])"
   ]
  },
  {
   "cell_type": "code",
   "execution_count": null,
   "id": "0fca6724-3a70-4184-bda6-6bfd9d33b87b",
   "metadata": {
    "execution": {
     "iopub.execute_input": "2025-03-12T03:02:49.940596Z",
     "iopub.status.busy": "2025-03-12T03:02:49.939769Z",
     "iopub.status.idle": "2025-03-12T03:02:53.026306Z",
     "shell.execute_reply": "2025-03-12T03:02:53.025401Z",
     "shell.execute_reply.started": "2025-03-12T03:02:49.940543Z"
    }
   },
   "outputs": [],
   "source": [
    "master_query_vcf_df[[\"#CHROM\", \"POS\", \"REF\", \"ALT\"]] = master_query_vcf_df['ID'].apply(lambda x: pd.Series(x.split('-')))\n",
    "for col in vcf_columns[-3:]: \n",
    "    master_query_vcf_df[col] = \".\""
   ]
  },
  {
   "cell_type": "code",
   "execution_count": null,
   "id": "ca07dfd7-c093-43ed-a18e-0f2323ebfb07",
   "metadata": {
    "execution": {
     "iopub.execute_input": "2025-03-12T03:05:51.293085Z",
     "iopub.status.busy": "2025-03-12T03:05:51.292249Z",
     "iopub.status.idle": "2025-03-12T03:07:30.883481Z",
     "shell.execute_reply": "2025-03-12T03:07:30.882590Z",
     "shell.execute_reply.started": "2025-03-12T03:05:51.293031Z"
    }
   },
   "outputs": [],
   "source": [
    "for id in tqdm(master_query_vcf_df['participant_id'].unique()):\n",
    "    query_vcf = resultDir/f\"{id}.query.vcf\"\n",
    "    tmp_vcf_df = master_query_vcf_df.loc[master_query_vcf_df['participant_id']==id, vcf_columns].copy()\n",
    "    shutil.copy(vcf_header, query_vcf)\n",
    "    tmp_vcf_df.to_csv(query_vcf, index=False, sep='\\t', mode='a')"
   ]
  },
  {
   "cell_type": "markdown",
   "id": "54a0fd88-6e52-44d8-a8fd-5d45556f44f2",
   "metadata": {},
   "source": [
    "## Run 04.retrieve_gatk_info.sh to retrieve INFO fields from raw VCF"
   ]
  },
  {
   "cell_type": "code",
   "execution_count": null,
   "id": "4aa4b0ae",
   "metadata": {},
   "outputs": [],
   "source": [
    "# False pause to run 02.retrieve_gatk_info.sh first before proceeding\n",
    "sys.exit()"
   ]
  },
  {
   "cell_type": "markdown",
   "id": "ad2c3436-0922-4cba-84d8-1ecbf992d8d9",
   "metadata": {},
   "source": [
    "# Read and extract GATK INFO from the query VCF"
   ]
  },
  {
   "cell_type": "code",
   "execution_count": null,
   "id": "665cf2ed-64c0-4306-b927-5f49f151d5c8",
   "metadata": {
    "execution": {
     "iopub.execute_input": "2025-03-12T03:48:32.608477Z",
     "iopub.status.busy": "2025-03-12T03:48:32.607614Z",
     "iopub.status.idle": "2025-03-12T03:48:32.618844Z",
     "shell.execute_reply": "2025-03-12T03:48:32.617376Z",
     "shell.execute_reply.started": "2025-03-12T03:48:32.608408Z"
    }
   },
   "outputs": [],
   "source": [
    "def read_gatk_vcf(vcf_gz:Path):\n",
    "    vcf_columns:list = [\"#CHROM\", \"POS\", \"ID\", \"REF\", \"ALT\", \"QUAL\", \"FILTER\", \"INFO\", \"FORMAT\", \"GT\"]\n",
    "    gatk_df = pd.read_table(vcf_gz, comment='#', names=vcf_columns)\n",
    "    gatk_df['participant_id'] = vcf_gz.name.split('.')[0]\n",
    "    return gatk_df"
   ]
  },
  {
   "cell_type": "code",
   "execution_count": null,
   "id": "366e2ca6-37e5-4813-9449-28ea201aa252",
   "metadata": {
    "execution": {
     "iopub.execute_input": "2025-03-12T03:48:45.985993Z",
     "iopub.status.busy": "2025-03-12T03:48:45.985138Z",
     "iopub.status.idle": "2025-03-12T03:49:15.951611Z",
     "shell.execute_reply": "2025-03-12T03:49:15.950701Z",
     "shell.execute_reply.started": "2025-03-12T03:48:45.985940Z"
    }
   },
   "outputs": [],
   "source": [
    "gatk_vcf_ls:list = list()\n",
    "for vcf_gz in tqdm(resultDir.glob(\"*.gatk_info.vcf.gz\")):\n",
    "    gatk_vcf_ls.append(read_gatk_vcf(vcf_gz))\n",
    "gatk_vcf_df = pd.concat(gatk_vcf_ls).reset_index(drop=True)"
   ]
  },
  {
   "cell_type": "markdown",
   "id": "b88d1858-22a7-4367-8140-0be34281b491",
   "metadata": {},
   "source": [
    "# Merge gatk_vcf_df to master_query_vcf_df"
   ]
  },
  {
   "cell_type": "code",
   "execution_count": null,
   "id": "b26e71c5-0026-45fd-9ed9-fa470d150826",
   "metadata": {
    "execution": {
     "iopub.execute_input": "2025-03-12T03:53:07.824178Z",
     "iopub.status.busy": "2025-03-12T03:53:07.823341Z",
     "iopub.status.idle": "2025-03-12T03:53:09.239423Z",
     "shell.execute_reply": "2025-03-12T03:53:09.238482Z",
     "shell.execute_reply.started": "2025-03-12T03:53:07.824124Z"
    }
   },
   "outputs": [],
   "source": [
    "def set_idcp_index(df):\n",
    "    df['ID_CP'] = df.apply(lambda r: f\"{r['#CHROM']}-{r.POS}-{r.participant_id}\", axis=1)\n",
    "    return df.set_index('ID_CP', drop=True)\n",
    "\n",
    "gatk_vcf_df = set_idcp_index(gatk_vcf_df)\n",
    "master_query_vcf_df = set_idcp_index(master_query_vcf_df)"
   ]
  },
  {
   "cell_type": "code",
   "execution_count": null,
   "id": "12371009-7223-42fb-8534-5dd3d0d8962c",
   "metadata": {
    "execution": {
     "iopub.execute_input": "2025-03-12T03:54:57.582976Z",
     "iopub.status.busy": "2025-03-12T03:54:57.582141Z",
     "iopub.status.idle": "2025-03-12T03:54:57.708306Z",
     "shell.execute_reply": "2025-03-12T03:54:57.707373Z",
     "shell.execute_reply.started": "2025-03-12T03:54:57.582922Z"
    }
   },
   "outputs": [],
   "source": [
    "# Merge gatk_vcf_df to all_var_df \n",
    "matched_df = master_query_vcf_df.drop(columns=['GT', 'QUAL', 'FILTER', 'INFO']).merge(\n",
    "    gatk_vcf_df.drop(columns=[\"#CHROM\", \"POS\", \"ID\", \"FILTER\", \"participant_id\"]), \n",
    "    left_index=True, right_index=True, \n",
    "    suffixes=(\"\", \"_gatk\"), how='inner'\n",
    ")"
   ]
  },
  {
   "cell_type": "code",
   "execution_count": null,
   "id": "89dc023e-75d2-4305-9f5c-dc8684ff2e98",
   "metadata": {
    "execution": {
     "iopub.execute_input": "2025-03-12T03:55:08.155773Z",
     "iopub.status.busy": "2025-03-12T03:55:08.154924Z",
     "iopub.status.idle": "2025-03-12T03:55:12.692706Z",
     "shell.execute_reply": "2025-03-12T03:55:12.691812Z",
     "shell.execute_reply.started": "2025-03-12T03:55:08.155719Z"
    }
   },
   "outputs": [],
   "source": [
    "# Fix the REF_gatk and ALT_gatk columns for variants from multiallelic sites\n",
    "def fix_multiallelic_ref_alt(row:pd.Series):\n",
    "    ref_gatk = row[\"REF_gatk\"]\n",
    "    alt_gatk = row[\"ALT_gatk\"]\n",
    "    while ref_gatk[-1] == alt_gatk[-1]:\n",
    "        ref_gatk = ref_gatk[:-1]\n",
    "        alt_gatk = alt_gatk[:-1]\n",
    "    return pd.Series([ref_gatk, alt_gatk])\n",
    "matched_df[['REF_gatk', 'ALT_gatk']] = matched_df.apply(lambda r: fix_multiallelic_ref_alt(r), axis=1)"
   ]
  },
  {
   "cell_type": "code",
   "execution_count": null,
   "id": "0abcbb57-0825-497f-bc27-326e5f9b2e4e",
   "metadata": {
    "execution": {
     "iopub.execute_input": "2025-03-12T03:55:19.683898Z",
     "iopub.status.busy": "2025-03-12T03:55:19.683059Z",
     "iopub.status.idle": "2025-03-12T03:55:20.854184Z",
     "shell.execute_reply": "2025-03-12T03:55:20.853233Z",
     "shell.execute_reply.started": "2025-03-12T03:55:19.683845Z"
    }
   },
   "outputs": [],
   "source": [
    "matched_df['matched_REF'] = matched_df.apply(lambda r: True if r.REF==r.REF_gatk else False, axis=1)\n",
    "matched_df['matched_ALT'] = matched_df.apply(lambda r: True if r.ALT==r.ALT_gatk else False, axis=1)"
   ]
  },
  {
   "cell_type": "code",
   "execution_count": null,
   "id": "f17962a3-5af3-4c17-8783-ad0ef9b6cc12",
   "metadata": {
    "execution": {
     "iopub.execute_input": "2025-03-12T03:56:07.314208Z",
     "iopub.status.busy": "2025-03-12T03:56:07.313327Z",
     "iopub.status.idle": "2025-03-12T03:56:07.386759Z",
     "shell.execute_reply": "2025-03-12T03:56:07.385821Z",
     "shell.execute_reply.started": "2025-03-12T03:56:07.314154Z"
    }
   },
   "outputs": [],
   "source": [
    "# Only keep entries which both REF and ALT match: those mismatched are multiallelic variants where the genomic positions match\n",
    "matched_biallelic_df = matched_df.loc[(matched_df['matched_REF']) & (matched_df['matched_ALT']), :].copy()"
   ]
  },
  {
   "cell_type": "code",
   "execution_count": null,
   "id": "65968941-2cab-4f22-a92e-69d4ab1abe41",
   "metadata": {
    "execution": {
     "iopub.execute_input": "2025-03-12T03:56:34.308445Z",
     "iopub.status.busy": "2025-03-12T03:56:34.307607Z",
     "iopub.status.idle": "2025-03-12T03:56:34.349995Z",
     "shell.execute_reply": "2025-03-12T03:56:34.349034Z",
     "shell.execute_reply.started": "2025-03-12T03:56:34.308392Z"
    }
   },
   "outputs": [],
   "source": [
    "# Show the landscape of filtered variants\n",
    "n_known_var = len(matched_biallelic_df.loc[matched_biallelic_df['source']=='clinvar', 'ID'].unique())\n",
    "n_novel_var = len(matched_biallelic_df.loc[matched_biallelic_df['source']=='novel', 'ID'].unique())\n",
    "n_var = n_known_var + n_novel_var\n",
    "\n",
    "print(f\"{n_var = :,}\")\n",
    "print(f\"{n_novel_var = :,}\")\n",
    "print(f\"{n_known_var = :,}\")"
   ]
  },
  {
   "cell_type": "markdown",
   "id": "68309733-7e46-4d4a-b482-71cabf7f2b52",
   "metadata": {
    "execution": {
     "iopub.execute_input": "2025-03-12T03:57:12.675957Z",
     "iopub.status.busy": "2025-03-12T03:57:12.675109Z",
     "iopub.status.idle": "2025-03-12T03:57:12.682237Z",
     "shell.execute_reply": "2025-03-12T03:57:12.680654Z",
     "shell.execute_reply.started": "2025-03-12T03:57:12.675903Z"
    }
   },
   "source": [
    "# Extract information from \"INFO\" and \"FORMAT\" columns"
   ]
  },
  {
   "cell_type": "code",
   "execution_count": null,
   "id": "063b59f5-2007-422a-9372-430aad54cccf",
   "metadata": {
    "execution": {
     "iopub.execute_input": "2025-03-12T03:57:21.902545Z",
     "iopub.status.busy": "2025-03-12T03:57:21.901676Z",
     "iopub.status.idle": "2025-03-12T03:57:27.156794Z",
     "shell.execute_reply": "2025-03-12T03:57:27.154961Z",
     "shell.execute_reply.started": "2025-03-12T03:57:21.902488Z"
    }
   },
   "outputs": [],
   "source": [
    "def extract_gt(format, gt):\n",
    "    gt_d = { a[0]: a[1] for a in zip(format.split(':'), gt.split(':')) }\n",
    "    return pd.Series([gt_d['GT'], gt_d['AD'], int(gt_d['DP']), int(gt_d['GQ']), gt_d['PL']])\n",
    "matched_biallelic_df[['GT', 'AD', 'DP', 'GQ', 'PL']] = matched_biallelic_df.apply(lambda r: extract_gt(r['FORMAT'], r['GT']), axis=1)"
   ]
  },
  {
   "cell_type": "code",
   "execution_count": null,
   "id": "fecec4af-83bc-4e70-af8b-1418523a2e77",
   "metadata": {
    "execution": {
     "iopub.execute_input": "2025-03-12T03:57:30.704373Z",
     "iopub.status.busy": "2025-03-12T03:57:30.703517Z",
     "iopub.status.idle": "2025-03-12T03:57:34.190288Z",
     "shell.execute_reply": "2025-03-12T03:57:34.189330Z",
     "shell.execute_reply.started": "2025-03-12T03:57:30.704317Z"
    }
   },
   "outputs": [],
   "source": [
    "def extract_info(x):\n",
    "    info_d = { y.split('=')[0]: y.split('=')[1] for y in x.split(';') }\n",
    "    BaseQRankSum = float(info_d['BaseQRankSum']) if 'BaseQRankSum' in info_d.keys() else np.nan\n",
    "    ExcessHet = float(info_d['ExcessHet']) if 'ExcessHet' in info_d.keys() else np.nan\n",
    "    FS = float(info_d['FS']) if 'FS' in info_d.keys() else np.nan\n",
    "    MLEAC = float(info_d['MLEAC']) if 'MLEAC' in info_d.keys() else np.nan\n",
    "    MLEAF = float(info_d['MLEAF']) if 'MLEAF' in info_d.keys() else np.nan\n",
    "    MQ = float(info_d['MQ']) if 'MQ' in info_d.keys() else np.nan\n",
    "    MQRankSum = float(info_d['MQRankSum']) if 'MQRankSum' in info_d.keys() else np.nan\n",
    "    QD = float(info_d['QD']) if 'QD' in info_d.keys() else np.nan\n",
    "    ReadPosRankSum = float(info_d['ReadPosRankSum']) if 'ReadPosRankSum' in info_d.keys() else np.nan\n",
    "    SOR = float(info_d['SOR']) if 'SOR' in info_d.keys() else np.nan\n",
    "    \n",
    "    return pd.Series([\n",
    "        BaseQRankSum, \n",
    "        ExcessHet, \n",
    "        FS, \n",
    "        MLEAC, \n",
    "        MLEAF, \n",
    "        MQ,  \n",
    "        MQRankSum, \n",
    "        QD, \n",
    "        ReadPosRankSum, \n",
    "        SOR\n",
    "    ])\n",
    "matched_biallelic_df[['BaseQRankSum', 'ExcessHet', 'FS', 'MLEAC', 'MLEAF', 'MQ', 'MQRankSum', 'QD', 'ReadPosRankSum', 'SOR']] = matched_biallelic_df['INFO'].apply(extract_info)"
   ]
  },
  {
   "cell_type": "code",
   "execution_count": null,
   "id": "4da9c0ea-5a3d-4a8d-ac8e-a8e9cdc0d4b3",
   "metadata": {
    "execution": {
     "iopub.execute_input": "2025-03-12T03:57:40.634954Z",
     "iopub.status.busy": "2025-03-12T03:57:40.634286Z",
     "iopub.status.idle": "2025-03-12T03:57:40.664275Z",
     "shell.execute_reply": "2025-03-12T03:57:40.662397Z",
     "shell.execute_reply.started": "2025-03-12T03:57:40.634902Z"
    }
   },
   "outputs": [],
   "source": [
    "# Fix \"1/0\" of GT, which should actually be \"0/1\" as a result of splitting multiallelic sites\n",
    "matched_biallelic_df['GT'] = matched_biallelic_df['GT'].apply(lambda x: \"0/1\" if x==\"1/0\" else x)"
   ]
  },
  {
   "cell_type": "code",
   "execution_count": null,
   "id": "b50a2f01-6952-43c6-95b4-b86950341718",
   "metadata": {
    "execution": {
     "iopub.execute_input": "2025-03-12T03:57:45.020871Z",
     "iopub.status.busy": "2025-03-12T03:57:45.020607Z",
     "iopub.status.idle": "2025-03-12T03:57:46.633868Z",
     "shell.execute_reply": "2025-03-12T03:57:46.632329Z",
     "shell.execute_reply.started": "2025-03-12T03:57:45.020852Z"
    }
   },
   "outputs": [],
   "source": [
    "# Allele depth of ALT allele\n",
    "matched_biallelic_df['ALT_AD'] = matched_biallelic_df.apply(lambda r: sum(\n",
    "    [int(i[1]) for i in zip(re.split(r\"[/|]\", r.GT), r['AD'].split(',')) if int(i[0])==1]\n",
    "), axis=1)\n",
    "\n",
    "# Allele depth ratio of ALT to REF\n",
    "def cal_alt_AD_ratio(r):\n",
    "    AD_ALL = sum([int(i[1]) for i in zip(re.split(r\"[/|]\", r.GT), r['AD'].split(','))])\n",
    "    AD_ALT = sum([int(i[1]) for i in zip(re.split(r\"[/|]\", r.GT), r['AD'].split(',')) if int(i[0])==1])\n",
    "    if AD_ALL==0:\n",
    "        return 1\n",
    "    else:\n",
    "        return AD_ALT/AD_ALL\n",
    "matched_biallelic_df['alt_AD_ratio'] = matched_biallelic_df.apply(lambda r: cal_alt_AD_ratio(r), axis=1)"
   ]
  },
  {
   "cell_type": "code",
   "execution_count": null,
   "id": "6508b441-d6e8-4212-a36b-a6fd83fd165c",
   "metadata": {
    "execution": {
     "iopub.execute_input": "2025-03-12T03:59:49.773757Z",
     "iopub.status.busy": "2025-03-12T03:59:49.772921Z",
     "iopub.status.idle": "2025-03-12T03:59:50.484890Z",
     "shell.execute_reply": "2025-03-12T03:59:50.483940Z",
     "shell.execute_reply.started": "2025-03-12T03:59:49.773702Z"
    }
   },
   "outputs": [],
   "source": [
    "dist_df = matched_biallelic_df.reset_index(drop=True)\n",
    "\n",
    "# Determine if the variants are SNVs or INDELs\n",
    "dist_df['is_snv'] = dist_df.apply(lambda r: True if len(r.REF)==len(r.ALT)==1 else False, axis=1)\n",
    "dist_snv_df = dist_df.loc[dist_df['is_snv'], :].copy()\n",
    "dist_indel_df = dist_df.loc[~dist_df['is_snv'], :].copy()\n",
    "\n",
    "# Print out the landscape before filtering\n",
    "print(f\"{len(dist_snv_df) = :,}\")\n",
    "print(f\"{len(dist_indel_df) = :,}\")"
   ]
  },
  {
   "cell_type": "markdown",
   "id": "d872570e-cf07-4524-8731-08cd03f90981",
   "metadata": {},
   "source": [
    "# Applying hard filtering"
   ]
  },
  {
   "cell_type": "code",
   "execution_count": null,
   "id": "a3cde48f-8797-44a0-9852-e51bce2f33f8",
   "metadata": {
    "execution": {
     "iopub.execute_input": "2025-03-12T04:02:13.377970Z",
     "iopub.status.busy": "2025-03-12T04:02:13.377085Z",
     "iopub.status.idle": "2025-03-12T04:02:13.390909Z",
     "shell.execute_reply": "2025-03-12T04:02:13.389005Z",
     "shell.execute_reply.started": "2025-03-12T04:02:13.377915Z"
    }
   },
   "outputs": [],
   "source": [
    "#####Filters on SNVs\n",
    "# QD: 2 -> 5\n",
    "# MQ: 40 -> 55\n",
    "snv_filters_d:dict = {\n",
    "    \"QD\": {\"threshold\": 5.0, \"allowed_range\": \">\"}, \n",
    "    \"QUAL\": {\"threshold\": 30.0, \"allowed_range\": \">\"}, \n",
    "    \"SOR\": {\"threshold\": 3.0, \"allowed_range\": \"<\"}, \n",
    "    \"FS\": {\"threshold\": 60.0, \"allowed_range\": \"<\"}, \n",
    "    \"MQ\": {\"threshold\": 55.0, \"allowed_range\": \">\"}, \n",
    "    \"MQRankSum\": {\"threshold\": -12.5, \"allowed_range\": \">\"}, \n",
    "    \"ReadPosRankSum\": {\"threshold\": -8.0, \"allowed_range\": \">\"}\n",
    "}\n",
    "\n",
    "# # For SNV\n",
    "# GATK VariantFiltration \\\n",
    "#     -V ${outputPrefix}.snps.biallelelic.vcf.gz \\\n",
    "#     -filter \"QD < 2.0\" --filter-name \"QD2\" \\\n",
    "#     -filter \"QUAL < 30.0\" --filter-name \"QUAL30\" \\\n",
    "#     -filter \"SOR > 3.0\" --filter-name \"SOR3\" \\\n",
    "#     -filter \"FS > 60.0\" --filter-name \"FS60\" \\\n",
    "#     -filter \"MQ < 40.0\" --filter-name \"MQ40\" \\\n",
    "#     -filter \"MQRankSum < -12.5\" --filter-name \"MQRankSum-12.5\" \\\n",
    "#     -filter \"ReadPosRankSum < -8.0\" --filter-name \"ReadPosRankSum-8\" \\\n",
    "#     -O ${outputPrefix}.snps_annotated.biallelelic.vcf.gz\n",
    "\n",
    "\n",
    "#####Filters on INDELs\n",
    "# QD: 2 -> 5\n",
    "indel_filters_d:dict = {\n",
    "    \"QD\": {\"threshold\": 5.0, \"allowed_range\": \">\"}, \n",
    "    \"QUAL\": {\"threshold\": 30.0, \"allowed_range\": \">\"}, \n",
    "    \"FS\": {\"threshold\": 200.0, \"allowed_range\": \"<\"}, \n",
    "    \"MQ\": {\"threshold\": 55.0, \"allowed_range\": \">\"}, \n",
    "    \"ReadPosRankSum\": {\"threshold\": -20.0, \"allowed_range\": \">\"}\n",
    "}\n",
    "\n",
    "# # For INDEL\n",
    "# GATK VariantFiltration \\\n",
    "#     -V ${outputPrefix}.indels.biallelelic.vcf.gz \\\n",
    "#     -filter \"QD < 2.0\" --filter-name \"QD2\" \\\n",
    "#     -filter \"QUAL < 30.0\" --filter-name \"QUAL30\" \\\n",
    "#     -filter \"FS > 200.0\" --filter-name \"FS200\" \\\n",
    "#     -filter \"ReadPosRankSum < -20.0\" --filter-name \"ReadPosRankSum-20\" \\"
   ]
  },
  {
   "cell_type": "code",
   "execution_count": null,
   "id": "a57125f1-0336-420c-9ed0-8b4d01490ede",
   "metadata": {
    "execution": {
     "iopub.execute_input": "2025-03-12T04:02:19.652945Z",
     "iopub.status.busy": "2025-03-12T04:02:19.652115Z",
     "iopub.status.idle": "2025-03-12T04:02:19.662551Z",
     "shell.execute_reply": "2025-03-12T04:02:19.660903Z",
     "shell.execute_reply.started": "2025-03-12T04:02:19.652889Z"
    }
   },
   "outputs": [],
   "source": [
    "def plot_distributions_subplots(df, plot_fields):\n",
    "    fig, ax = plt.subplots(len(plot_fields), 1, figsize=(15, len(plot_fields)*2))\n",
    "    for i, field in enumerate(plot_fields):\n",
    "        sns.kdeplot(data=df, x=field, fill=True, ax=ax[i])\n",
    "        ax[i].set_xlabel(\"\")\n",
    "        ax[i].set_ylabel(field)\n",
    "    plt.show()\n",
    "    return"
   ]
  },
  {
   "cell_type": "code",
   "execution_count": null,
   "id": "ffc69d55-6a91-4af9-997c-feb515d5d1a3",
   "metadata": {
    "execution": {
     "iopub.execute_input": "2025-03-12T04:02:23.396729Z",
     "iopub.status.busy": "2025-03-12T04:02:23.395243Z",
     "iopub.status.idle": "2025-03-12T04:02:25.922287Z",
     "shell.execute_reply": "2025-03-12T04:02:25.921448Z",
     "shell.execute_reply.started": "2025-03-12T04:02:23.396657Z"
    }
   },
   "outputs": [],
   "source": [
    "##### Filter SNVs\n",
    "filtered_snv_df = dist_snv_df.reset_index(drop=True)\n",
    "drop_indices:set = set()\n",
    "for key, hard_filter in snv_filters_d.items():\n",
    "    threshold = hard_filter['threshold']\n",
    "    allowed_range = hard_filter['allowed_range']\n",
    "    if allowed_range == \">\":\n",
    "        key_drop_indices:list = filtered_snv_df.loc[filtered_snv_df[key]<threshold, :].index.tolist()\n",
    "    elif allowed_range == \"<\":\n",
    "        key_drop_indices:list = filtered_snv_df.loc[filtered_snv_df[key]>threshold, :].index.tolist()\n",
    "    print(f\"No. of records failing the {key} filter: {len(key_drop_indices):,}\")\n",
    "    drop_indices = drop_indices | set(key_drop_indices)\n",
    "print(f\"No. of UNIQUE variant records failing any filter: {len(drop_indices):,}\")\n",
    "\n",
    "# Apply filter\n",
    "keep_indices:set = set(filtered_snv_df.index.tolist()).difference(drop_indices)\n",
    "filtered_snv_df = filtered_snv_df.loc[sorted(list(keep_indices)), :].copy()\n",
    "\n",
    "# Print out the change\n",
    "pre_nVarRecords:int = len(dist_snv_df)\n",
    "post_nVarRecords:int = len(filtered_snv_df)\n",
    "print(f\"Change in variant records: {pre_nVarRecords:,} -> {post_nVarRecords:,} ({(post_nVarRecords-pre_nVarRecords)*100/pre_nVarRecords:.2f}%)\")\n",
    "pre_nVar:int = len(dist_snv_df['ID'].unique())\n",
    "post_nVar:int = len(filtered_snv_df['ID'].unique())\n",
    "print(f\"Change in variant number: {pre_nVar:,} -> {post_nVar:,} ({(post_nVar-pre_nVar)*100/pre_nVar:.2f}%)\")\n",
    "# Plot\n",
    "plot_distributions_subplots(filtered_snv_df, plot_INFO_fields)\n",
    "plot_distributions_subplots(filtered_snv_df, plot_FORMAT_fields)"
   ]
  },
  {
   "cell_type": "code",
   "execution_count": null,
   "id": "dc914f65-3c7f-4906-a9ce-0e1aead4164c",
   "metadata": {
    "execution": {
     "iopub.execute_input": "2025-03-12T04:02:55.101568Z",
     "iopub.status.busy": "2025-03-12T04:02:55.100699Z",
     "iopub.status.idle": "2025-03-12T04:02:56.919547Z",
     "shell.execute_reply": "2025-03-12T04:02:56.918715Z",
     "shell.execute_reply.started": "2025-03-12T04:02:55.101514Z"
    }
   },
   "outputs": [],
   "source": [
    "##### Filter INDELs\n",
    "filtered_indel_df = dist_indel_df.reset_index(drop=True)\n",
    "drop_indices:set = set()\n",
    "for key, hard_filter in indel_filters_d.items():\n",
    "    threshold = hard_filter['threshold']\n",
    "    allowed_range = hard_filter['allowed_range']\n",
    "    if allowed_range == \">\":\n",
    "        key_drop_indices:list = filtered_indel_df.loc[filtered_indel_df[key]<threshold, :].index.tolist()\n",
    "    elif allowed_range == \"<\":\n",
    "        key_drop_indices:list = filtered_indel_df.loc[filtered_indel_df[key]>threshold, :].index.tolist()\n",
    "    print(f\"No. of records failing the {key} filter: {len(key_drop_indices):,}\")\n",
    "    drop_indices = drop_indices | set(key_drop_indices)\n",
    "print(f\"No. of UNIQUE variant records failing any filter: {len(drop_indices):,}\")\n",
    "\n",
    "# Apply filter\n",
    "keep_indices:set = set(filtered_indel_df.index.tolist()).difference(drop_indices)\n",
    "filtered_indel_df = filtered_indel_df.loc[sorted(list(keep_indices)), :].copy()\n",
    "\n",
    "# Print out the change\n",
    "pre_nVarRecords:int = len(dist_indel_df)\n",
    "post_nVarRecords:int = len(filtered_indel_df)\n",
    "print(f\"Change in variant records: {pre_nVarRecords:,} -> {post_nVarRecords:,} ({(post_nVarRecords-pre_nVarRecords)*100/pre_nVarRecords:.2f}%)\")\n",
    "pre_nVar:int = len(dist_indel_df['ID'].unique())\n",
    "post_nVar:int = len(filtered_indel_df['ID'].unique())\n",
    "print(f\"Change in variant number: {pre_nVar:,} -> {post_nVar:,} ({(post_nVar-pre_nVar)*100/pre_nVar:.2f}%)\")\n",
    "# Plot\n",
    "plot_distributions_subplots(filtered_indel_df, plot_INFO_fields)\n",
    "plot_distributions_subplots(filtered_indel_df, plot_FORMAT_fields)"
   ]
  },
  {
   "cell_type": "code",
   "execution_count": null,
   "id": "0ab38481-297a-4aa1-a19d-3978854ea757",
   "metadata": {
    "execution": {
     "iopub.execute_input": "2025-03-12T04:03:41.335676Z",
     "iopub.status.busy": "2025-03-12T04:03:41.334792Z",
     "iopub.status.idle": "2025-03-12T04:03:44.923682Z",
     "shell.execute_reply": "2025-03-12T04:03:44.922801Z",
     "shell.execute_reply.started": "2025-03-12T04:03:41.335617Z"
    }
   },
   "outputs": [],
   "source": [
    "# Disualize the INDEL length pre- and post-filtering\n",
    "def cal_indel_length(ref, alt):\n",
    "    ref_len = len(ref)\n",
    "    alt_len = len(alt)\n",
    "    indel = 'ins' if alt_len > ref_len else 'del'\n",
    "    return pd.Series([abs(alt_len-ref_len), indel])\n",
    "    \n",
    "dist_indel_df[['indel_len', 'type']] = dist_indel_df.apply(lambda r: cal_indel_length(r.REF, r.ALT), axis=1)\n",
    "filtered_indel_df[['indel_len', 'type']] = filtered_indel_df.apply(lambda r: cal_indel_length(r.REF, r.ALT), axis=1)"
   ]
  },
  {
   "cell_type": "code",
   "execution_count": null,
   "id": "ffd592f1-295a-422a-bd9f-a33e46498527",
   "metadata": {
    "execution": {
     "iopub.execute_input": "2025-03-12T04:03:47.066245Z",
     "iopub.status.busy": "2025-03-12T04:03:47.065420Z",
     "iopub.status.idle": "2025-03-12T04:03:47.083619Z",
     "shell.execute_reply": "2025-03-12T04:03:47.082462Z",
     "shell.execute_reply.started": "2025-03-12T04:03:47.066193Z"
    }
   },
   "outputs": [],
   "source": [
    "# Pre-filter\n",
    "pre_filter_indel_len_df = dist_indel_df[['indel_len', 'type']]\n",
    "pre_filter_indel_len_df.loc[:, ['source']] = 'Pre-filter'\n",
    "# Post-filter\n",
    "post_filter_indel_len_df = filtered_indel_df[['indel_len', 'type']]\n",
    "post_filter_indel_len_df.loc[:, ['source']] = 'Post-filter'\n",
    "\n",
    "# Concat and plot\n",
    "comp_indel_len_df = pd.concat([pre_filter_indel_len_df, post_filter_indel_len_df])"
   ]
  },
  {
   "cell_type": "code",
   "execution_count": null,
   "id": "f9e001fa-d3f4-4fac-8c6a-41ea6418e162",
   "metadata": {
    "execution": {
     "iopub.execute_input": "2025-03-12T04:03:50.998378Z",
     "iopub.status.busy": "2025-03-12T04:03:50.997521Z",
     "iopub.status.idle": "2025-03-12T04:03:51.369678Z",
     "shell.execute_reply": "2025-03-12T04:03:51.368868Z",
     "shell.execute_reply.started": "2025-03-12T04:03:50.998324Z"
    }
   },
   "outputs": [],
   "source": [
    "fig, ax = plt.subplots(1, 1, figsize=(12, 5))\n",
    "sns.violinplot(data=comp_indel_len_df, y='source', x='indel_len', hue='type', split=True, fill=False)\n",
    "ax.set_xticks(range(0, 150, 10), labels=range(0, 150, 10))\n",
    "ax.set_xlabel(\"Variant length in bp\")\n",
    "ax.set_ylabel(\"\")"
   ]
  },
  {
   "cell_type": "markdown",
   "id": "95e600d1-1d44-4e9e-bf0a-65036d07fbce",
   "metadata": {
    "execution": {
     "iopub.execute_input": "2025-03-12T04:04:42.125232Z",
     "iopub.status.busy": "2025-03-12T04:04:42.124994Z",
     "iopub.status.idle": "2025-03-12T04:04:42.129592Z",
     "shell.execute_reply": "2025-03-12T04:04:42.128656Z",
     "shell.execute_reply.started": "2025-03-12T04:04:42.125214Z"
    }
   },
   "source": [
    "# Consolidate all information regarding the variants passing the filters"
   ]
  },
  {
   "cell_type": "code",
   "execution_count": null,
   "id": "4f186425-3083-4348-85b3-e3bd0c6d4bfd",
   "metadata": {
    "execution": {
     "iopub.execute_input": "2025-03-12T04:06:55.234673Z",
     "iopub.status.busy": "2025-03-12T04:06:55.233814Z",
     "iopub.status.idle": "2025-03-12T04:06:55.248170Z",
     "shell.execute_reply": "2025-03-12T04:06:55.246970Z",
     "shell.execute_reply.started": "2025-03-12T04:06:55.234617Z"
    }
   },
   "outputs": [],
   "source": [
    "# Calculate AC, AN, AF, N_Het, N_Hom, N_Hem, N_All, prevalence from column \"AC\" and \"AN\"\n",
    "def cal_freq(ac_ls:list, ploidy_ls:list, chr:str, n_male:int, n_female:int):\n",
    "    ac = sum(ac_ls)\n",
    "    an = n_male + 2*n_female if chr=='chrX' else 2*(n_male+n_female)\n",
    "    af = ac/an\n",
    "    N_Het, N_Hom, N_Hem = 0, 0, 0\n",
    "    for tmp_ac, tmp_ploidy in zip(ac_ls, ploidy_ls):\n",
    "        if (tmp_ac==1) & (tmp_ploidy=='haploid'):\n",
    "            N_Hem+=1\n",
    "        elif (tmp_ac==1) & (tmp_ploidy=='diploid'):\n",
    "            N_Het+=1\n",
    "        elif (tmp_ac==2) & (tmp_ploidy=='diploid'):\n",
    "            N_Hom+=1\n",
    "        else:\n",
    "            sys.exit()    # System exit because it's unexpected\n",
    "    N_All = N_Het + N_Hom + N_Hem\n",
    "    if N_All == 1:\n",
    "        prevalence = 'private'\n",
    "    elif af < 0.05:\n",
    "        prevalence = 'rare'\n",
    "    else:\n",
    "        prevalence = 'common'\n",
    "    return pd.Series([ac, an, af, N_Het, N_Hom, N_Hem, N_All, prevalence])"
   ]
  },
  {
   "cell_type": "code",
   "execution_count": null,
   "id": "d917b49e-ae46-42dd-849d-65b0db9ed8ec",
   "metadata": {
    "execution": {
     "iopub.execute_input": "2025-03-12T04:08:59.438409Z",
     "iopub.status.busy": "2025-03-12T04:08:59.437546Z",
     "iopub.status.idle": "2025-03-12T04:08:59.535518Z",
     "shell.execute_reply": "2025-03-12T04:08:59.534642Z",
     "shell.execute_reply.started": "2025-03-12T04:08:59.438356Z"
    }
   },
   "outputs": [],
   "source": [
    "# Get the number of male and female in all unrelated individuals\n",
    "sample_info_df = pd.read_csv(sample_info).set_index('sre_participant_id')\n",
    "with open(cohort_founders, 'r') as f:\n",
    "    cohort_founders_ls = [ line.strip().split(',')[0] for line in f ]\n",
    "\n",
    "n_male = sample_info_df.loc[cohort_founders_ls, 'inferred_sex'].value_counts()['Male']\n",
    "n_female = sample_info_df.loc[cohort_founders_ls, 'inferred_sex'].value_counts()['Female']"
   ]
  },
  {
   "cell_type": "markdown",
   "id": "1f7aacbc-815b-4465-b9b0-88ae3438deef",
   "metadata": {},
   "source": [
    "### Pre-process df for SNVs"
   ]
  },
  {
   "cell_type": "code",
   "execution_count": null,
   "id": "db0e463d-a6ff-4387-a4bd-d06c804d8124",
   "metadata": {
    "execution": {
     "iopub.execute_input": "2025-03-12T04:15:36.323922Z",
     "iopub.status.busy": "2025-03-12T04:15:36.323066Z",
     "iopub.status.idle": "2025-03-12T04:15:36.362278Z",
     "shell.execute_reply": "2025-03-12T04:15:36.361350Z",
     "shell.execute_reply.started": "2025-03-12T04:15:36.323867Z"
    }
   },
   "outputs": [],
   "source": [
    "keep_cols:list = [\n",
    "    'ID', '#CHROM', 'POS', 'REF', 'ALT', 'recessive_genes', 'source', \n",
    "    'QUAL', 'QD', 'SOR', 'FS', 'MQ', \n",
    "    'participant_id', 'GT', 'AD', 'DP', 'GQ', 'PL'\n",
    "]\n",
    "filtered_snv_var_df = filtered_snv_df.loc[:, keep_cols].copy()\n",
    "filtered_snv_var_df.fillna(\".\", inplace=True)"
   ]
  },
  {
   "cell_type": "code",
   "execution_count": null,
   "id": "40798354-89fe-4acf-980e-94199e6343ba",
   "metadata": {
    "execution": {
     "iopub.execute_input": "2025-03-12T04:15:36.717276Z",
     "iopub.status.busy": "2025-03-12T04:15:36.715825Z",
     "iopub.status.idle": "2025-03-12T04:15:36.786878Z",
     "shell.execute_reply": "2025-03-12T04:15:36.786051Z",
     "shell.execute_reply.started": "2025-03-12T04:15:36.717203Z"
    }
   },
   "outputs": [],
   "source": [
    "# Deduce AC and ploidy from GT\n",
    "filtered_snv_var_df['AC'] = filtered_snv_var_df['GT'].apply(lambda x: re.split(r'[/|]', x).count('1'))\n",
    "filtered_snv_var_df['ploidy'] = filtered_snv_var_df['GT'].apply(lambda x: 'diploid' if len(re.split(r'[/|]', x))==2 else 'haploid')"
   ]
  },
  {
   "cell_type": "code",
   "execution_count": null,
   "id": "6ea7ada0-6cc1-4756-a7c0-80fa3b525b26",
   "metadata": {
    "execution": {
     "iopub.execute_input": "2025-03-12T04:15:37.012425Z",
     "iopub.status.busy": "2025-03-12T04:15:37.011696Z",
     "iopub.status.idle": "2025-03-12T04:15:37.571675Z",
     "shell.execute_reply": "2025-03-12T04:15:37.570730Z",
     "shell.execute_reply.started": "2025-03-12T04:15:37.012375Z"
    }
   },
   "outputs": [],
   "source": [
    "# Concat QD, SOR, FS, MQ to \"variant_info_record\"\n",
    "filtered_snv_var_df['variant_info_record'] = filtered_snv_var_df.apply(\n",
    "    lambda r: f\"QD={r.QD};SOR={r.SOR};FS={r.FS};MQ={r.MQ}\", \n",
    "    axis=1\n",
    ")\n",
    "filtered_snv_var_df.drop(columns=['QD', 'SOR', 'FS', 'MQ'], inplace=True)"
   ]
  },
  {
   "cell_type": "code",
   "execution_count": null,
   "id": "ccee201b-e4a3-4728-8692-0c4e8f02f364",
   "metadata": {
    "execution": {
     "iopub.execute_input": "2025-03-12T04:15:37.573014Z",
     "iopub.status.busy": "2025-03-12T04:15:37.572845Z",
     "iopub.status.idle": "2025-03-12T04:15:38.187611Z",
     "shell.execute_reply": "2025-03-12T04:15:38.186674Z",
     "shell.execute_reply.started": "2025-03-12T04:15:37.572998Z"
    }
   },
   "outputs": [],
   "source": [
    "# Concat GT, AD, DP, FQ, PL to \"variant_record\"\n",
    "filtered_snv_var_df['FORMAT'] = \"GT:AD:DP:GQ:PL\"\n",
    "filtered_snv_var_df['variant_record'] = filtered_snv_var_df.apply(\n",
    "    lambda r: f\"{r.GT}:{r.AD}:{r.DP}:{r.GQ}:{r.PL}\", \n",
    "    axis=1\n",
    ")\n",
    "filtered_snv_var_df.drop(columns=['GT', 'AD', 'DP', 'GQ', 'PL'], inplace=True)"
   ]
  },
  {
   "cell_type": "code",
   "execution_count": null,
   "id": "9a12f5f9-4c2a-4d48-a9ed-e07ee9c6d3a3",
   "metadata": {
    "execution": {
     "iopub.execute_input": "2025-03-12T04:15:38.188565Z",
     "iopub.status.busy": "2025-03-12T04:15:38.188408Z",
     "iopub.status.idle": "2025-03-12T04:15:39.126310Z",
     "shell.execute_reply": "2025-03-12T04:15:39.125349Z",
     "shell.execute_reply.started": "2025-03-12T04:15:38.188549Z"
    }
   },
   "outputs": [],
   "source": [
    "filtered_snv_var_df = filtered_snv_var_df.groupby('ID').agg(list)\n",
    "variant_unique_cols:list = [\"#CHROM\", 'POS', 'REF', 'ALT', 'recessive_genes', 'source', 'FORMAT']\n",
    "for col in variant_unique_cols:\n",
    "    filtered_snv_var_df[col] = filtered_snv_var_df[col].apply(lambda x: x[0])"
   ]
  },
  {
   "cell_type": "code",
   "execution_count": null,
   "id": "5e806b0b-d7fe-48de-bc96-65f7ab34a8ae",
   "metadata": {
    "execution": {
     "iopub.execute_input": "2025-03-12T04:15:39.139928Z",
     "iopub.status.busy": "2025-03-12T04:15:39.139782Z",
     "iopub.status.idle": "2025-03-12T04:15:40.126759Z",
     "shell.execute_reply": "2025-03-12T04:15:40.125823Z",
     "shell.execute_reply.started": "2025-03-12T04:15:39.139913Z"
    }
   },
   "outputs": [],
   "source": [
    "filtered_snv_var_df[['AC', 'AN', 'AF', 'N_Het', 'N_Hom', 'N_Hem', 'N_All', 'prevalence']] = filtered_snv_var_df.apply(\n",
    "    lambda r: cal_freq(r.AC, r.ploidy, r['#CHROM'], n_male, n_female), \n",
    "    axis=1\n",
    ")"
   ]
  },
  {
   "cell_type": "markdown",
   "id": "edf01429-68e5-4b53-96b4-a9c40d75230a",
   "metadata": {},
   "source": [
    "### Pre-process df for INDELs"
   ]
  },
  {
   "cell_type": "code",
   "execution_count": null,
   "id": "60cb67d4-8f3f-4192-b0cb-e71f9f0deae2",
   "metadata": {
    "execution": {
     "iopub.execute_input": "2025-03-12T04:18:02.949405Z",
     "iopub.status.busy": "2025-03-12T04:18:02.948581Z",
     "iopub.status.idle": "2025-03-12T04:18:02.976685Z",
     "shell.execute_reply": "2025-03-12T04:18:02.975646Z",
     "shell.execute_reply.started": "2025-03-12T04:18:02.949351Z"
    }
   },
   "outputs": [],
   "source": [
    "keep_cols:list = [\n",
    "    'ID', '#CHROM', 'POS', 'REF', 'ALT', 'recessive_genes', 'source', \n",
    "    'QUAL', 'QD', 'SOR', 'FS', 'MQ', \n",
    "    'participant_id', 'GT', 'AD', 'DP', 'GQ', 'PL'\n",
    "]\n",
    "filtered_indel_var_df = filtered_indel_df.loc[:, keep_cols].copy()\n",
    "filtered_indel_var_df.fillna(\".\", inplace=True)"
   ]
  },
  {
   "cell_type": "code",
   "execution_count": null,
   "id": "23771b8b-65e6-45b4-a068-c55ec4ce6238",
   "metadata": {
    "execution": {
     "iopub.execute_input": "2025-03-12T04:18:03.186872Z",
     "iopub.status.busy": "2025-03-12T04:18:03.186144Z",
     "iopub.status.idle": "2025-03-12T04:18:03.235540Z",
     "shell.execute_reply": "2025-03-12T04:18:03.234691Z",
     "shell.execute_reply.started": "2025-03-12T04:18:03.186820Z"
    }
   },
   "outputs": [],
   "source": [
    "# Deduce AC and ploidy from GT\n",
    "filtered_indel_var_df['AC'] = filtered_indel_var_df['GT'].apply(lambda x: re.split(r'[/|]', x).count('1'))\n",
    "filtered_indel_var_df['ploidy'] = filtered_indel_var_df['GT'].apply(lambda x: 'diploid' if len(re.split(r'[/|]', x))==2 else 'haploid')"
   ]
  },
  {
   "cell_type": "code",
   "execution_count": null,
   "id": "e650e3fa-7a90-4471-b801-a5a411a80603",
   "metadata": {
    "execution": {
     "iopub.execute_input": "2025-03-12T04:18:03.382570Z",
     "iopub.status.busy": "2025-03-12T04:18:03.381803Z",
     "iopub.status.idle": "2025-03-12T04:18:03.665490Z",
     "shell.execute_reply": "2025-03-12T04:18:03.664618Z",
     "shell.execute_reply.started": "2025-03-12T04:18:03.382516Z"
    }
   },
   "outputs": [],
   "source": [
    "# Concat QD, SOR, FS, MQ to \"variant_info_record\"\n",
    "filtered_indel_var_df['variant_info_record'] = filtered_indel_var_df.apply(\n",
    "    lambda r: f\"QD={r.QD};SOR={r.SOR};FS={r.FS};MQ={r.MQ}\", \n",
    "    axis=1\n",
    ")\n",
    "filtered_indel_var_df.drop(columns=['QD', 'SOR', 'FS', 'MQ'], inplace=True)"
   ]
  },
  {
   "cell_type": "code",
   "execution_count": null,
   "id": "9490038b-49a0-45af-a380-7bd82ae8fdcf",
   "metadata": {
    "execution": {
     "iopub.execute_input": "2025-03-12T04:18:03.666648Z",
     "iopub.status.busy": "2025-03-12T04:18:03.666490Z",
     "iopub.status.idle": "2025-03-12T04:18:03.969672Z",
     "shell.execute_reply": "2025-03-12T04:18:03.968818Z",
     "shell.execute_reply.started": "2025-03-12T04:18:03.666632Z"
    }
   },
   "outputs": [],
   "source": [
    "# Concat GT, AD, DP, FQ, PL to \"variant_record\"\n",
    "filtered_indel_var_df['FORMAT'] = \"GT:AD:DP:GQ:PL\"\n",
    "filtered_indel_var_df['variant_record'] = filtered_indel_var_df.apply(\n",
    "    lambda r: f\"{r.GT}:{r.AD}:{r.DP}:{r.GQ}:{r.PL}\", \n",
    "    axis=1\n",
    ")\n",
    "filtered_indel_var_df.drop(columns=['GT', 'AD', 'DP', 'GQ', 'PL'], inplace=True)"
   ]
  },
  {
   "cell_type": "code",
   "execution_count": null,
   "id": "5e43672b-9756-4ecc-bc3f-824eff9328f6",
   "metadata": {
    "execution": {
     "iopub.execute_input": "2025-03-12T04:18:03.970888Z",
     "iopub.status.busy": "2025-03-12T04:18:03.970729Z",
     "iopub.status.idle": "2025-03-12T04:18:04.815790Z",
     "shell.execute_reply": "2025-03-12T04:18:04.814853Z",
     "shell.execute_reply.started": "2025-03-12T04:18:03.970872Z"
    }
   },
   "outputs": [],
   "source": [
    "filtered_indel_var_df = filtered_indel_var_df.groupby('ID').agg(list)\n",
    "variant_unique_cols:list = [\"#CHROM\", 'POS', 'REF', 'ALT', 'recessive_genes', 'source', 'FORMAT']\n",
    "for col in variant_unique_cols:\n",
    "    # print(col)\n",
    "    filtered_indel_var_df[col] = filtered_indel_var_df[col].apply(lambda x: x[0])"
   ]
  },
  {
   "cell_type": "code",
   "execution_count": null,
   "id": "71b2bfaf-11bf-4ac4-8d47-85de4b9dc25c",
   "metadata": {
    "execution": {
     "iopub.execute_input": "2025-03-12T04:18:21.909518Z",
     "iopub.status.busy": "2025-03-12T04:18:21.908704Z",
     "iopub.status.idle": "2025-03-12T04:18:22.885535Z",
     "shell.execute_reply": "2025-03-12T04:18:22.884613Z",
     "shell.execute_reply.started": "2025-03-12T04:18:21.909463Z"
    }
   },
   "outputs": [],
   "source": [
    "filtered_indel_var_df[['AC', 'AN', 'AF', 'N_Het', 'N_Hom', 'N_Hem', 'N_All', 'prevalence']] = filtered_indel_var_df.apply(\n",
    "    lambda r: cal_freq(r.AC, r.ploidy, r['#CHROM'], n_male, n_female), \n",
    "    axis=1\n",
    ")"
   ]
  },
  {
   "cell_type": "markdown",
   "id": "6f43376b-5817-4e36-9022-a3a1190732af",
   "metadata": {},
   "source": [
    "# Concat, re-annotate and export"
   ]
  },
  {
   "cell_type": "code",
   "execution_count": null,
   "id": "de90d2b6-f165-424d-8313-6ffa5cdb3f71",
   "metadata": {
    "execution": {
     "iopub.execute_input": "2025-03-12T04:18:54.228270Z",
     "iopub.status.busy": "2025-03-12T04:18:54.227510Z",
     "iopub.status.idle": "2025-03-12T04:18:54.259922Z",
     "shell.execute_reply": "2025-03-12T04:18:54.258951Z",
     "shell.execute_reply.started": "2025-03-12T04:18:54.228214Z"
    }
   },
   "outputs": [],
   "source": [
    "# Concatenate filtered_snv_var_df and filtered_indel_var_df\n",
    "filtered_var_df = pd.concat([filtered_snv_var_df, filtered_indel_var_df]).sort_index()"
   ]
  },
  {
   "cell_type": "code",
   "execution_count": null,
   "id": "637748d5-472e-4f24-ba6c-de582b13bfac",
   "metadata": {
    "execution": {
     "iopub.execute_input": "2025-03-12T04:23:00.276049Z",
     "iopub.status.busy": "2025-03-12T04:23:00.275212Z",
     "iopub.status.idle": "2025-03-12T04:23:00.346275Z",
     "shell.execute_reply": "2025-03-12T04:23:00.345319Z",
     "shell.execute_reply.started": "2025-03-12T04:23:00.275995Z"
    }
   },
   "outputs": [],
   "source": [
    "var_info_cols:list = [\n",
    "    'clinVar_ID', 'CLNSIG', 'clinical_relevance', 'goldstars_n', \n",
    "    'gnomad_v3_AN', 'gnomad_v3_AF', \n",
    "    'gnomad_v3_AN_eas', 'gnomad_v3_AF_eas'\n",
    "] \n",
    "filtered_var_df = filtered_var_df.merge(\n",
    "    master_query_vcf_df.set_index('ID').loc[:, var_info_cols].drop_duplicates(), \n",
    "    left_index=True, right_index=True, \n",
    "    suffixes=(\"\", \"_unfiltered\"), how='inner'\n",
    ")"
   ]
  },
  {
   "cell_type": "code",
   "execution_count": null,
   "id": "0ce64d5d-47ac-420e-8061-184429f49d5e",
   "metadata": {
    "execution": {
     "iopub.execute_input": "2025-03-12T04:24:56.028070Z",
     "iopub.status.busy": "2025-03-12T04:24:56.027246Z",
     "iopub.status.idle": "2025-03-12T04:24:56.045924Z",
     "shell.execute_reply": "2025-03-12T04:24:56.044625Z",
     "shell.execute_reply.started": "2025-03-12T04:24:56.028016Z"
    }
   },
   "outputs": [],
   "source": [
    "filtered_var_columns:list = [\n",
    "    '#CHROM', 'POS', 'REF', 'ALT', 'recessive_genes', 'source', 'clinVar_ID', \n",
    "    'CLNSIG', 'clinical_relevance', 'goldstars_n',\n",
    "    'gnomad_v3_AN', 'gnomad_v3_AF', 'gnomad_v3_AN_eas', 'gnomad_v3_AF_eas', \n",
    "    'AF', 'AC', 'AN', 'N_Het', 'N_Hom', 'N_Hem', 'N_All', 'prevalence',\n",
    "    'participant_id', 'QUAL', 'variant_info_record', 'FORMAT', 'variant_record'\n",
    "]\n",
    "filtered_var_df = filtered_var_df.loc[:, filtered_var_columns].copy()"
   ]
  },
  {
   "cell_type": "code",
   "execution_count": null,
   "id": "8bcd678d-27ec-4625-8c8e-bc64aeb2287e",
   "metadata": {
    "execution": {
     "iopub.execute_input": "2025-03-12T04:25:26.506333Z",
     "iopub.status.busy": "2025-03-12T04:25:26.505507Z",
     "iopub.status.idle": "2025-03-12T04:25:26.558824Z",
     "shell.execute_reply": "2025-03-12T04:25:26.557971Z",
     "shell.execute_reply.started": "2025-03-12T04:25:26.506278Z"
    }
   },
   "outputs": [],
   "source": [
    "# Process certain columns before exporting to CSV\n",
    "export_df = filtered_var_df.rename(columns={\"#CHROM\": \"CHROM\"})\n",
    "export_df['clinVar_ID'] = export_df['clinVar_ID'].apply(\n",
    "    lambda x: np.nan if pd.isna(x) else str(int(x))\n",
    ")\n",
    "listed_cols:list = ['participant_id', 'QUAL', 'variant_info_record', 'variant_record']\n",
    "for col in listed_cols:\n",
    "    export_df[col] = export_df[col].apply(lambda x: \"%\".join([str(y) for y in x]))"
   ]
  },
  {
   "cell_type": "code",
   "execution_count": null,
   "id": "6f6ba8cd-2a09-436e-8c59-aac102368a97",
   "metadata": {
    "execution": {
     "iopub.execute_input": "2025-03-12T04:29:40.602905Z",
     "iopub.status.busy": "2025-03-12T04:29:40.602073Z",
     "iopub.status.idle": "2025-03-12T04:29:40.701571Z",
     "shell.execute_reply": "2025-03-12T04:29:40.700642Z",
     "shell.execute_reply.started": "2025-03-12T04:29:40.602853Z"
    }
   },
   "outputs": [],
   "source": [
    "export_df.to_csv(out_csv, index=True, index_label=\"Chr.Pos.Ref.Alt\")"
   ]
  },
  {
   "cell_type": "code",
   "execution_count": null,
   "id": "e7c01325-c20b-4c6b-81a5-dc8db1c5ad0a",
   "metadata": {},
   "outputs": [],
   "source": []
  }
 ],
 "metadata": {
  "kernelspec": {
   "display_name": "Python 3 (ipykernel)",
   "language": "python",
   "name": "python3"
  },
  "language_info": {
   "codemirror_mode": {
    "name": "ipython",
    "version": 3
   },
   "file_extension": ".py",
   "mimetype": "text/x-python",
   "name": "python",
   "nbconvert_exporter": "python",
   "pygments_lexer": "ipython3",
   "version": "3.10.12"
  }
 },
 "nbformat": 4,
 "nbformat_minor": 5
}
