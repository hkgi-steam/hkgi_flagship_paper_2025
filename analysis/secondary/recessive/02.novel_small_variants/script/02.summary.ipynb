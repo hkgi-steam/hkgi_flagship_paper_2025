{
 "cells": [
  {
   "cell_type": "code",
   "execution_count": 38,
   "id": "597938e1-e767-4f38-a1bf-069125a20dce",
   "metadata": {
    "execution": {
     "iopub.execute_input": "2025-03-10T04:57:35.082531Z",
     "iopub.status.busy": "2025-03-10T04:57:35.082197Z",
     "iopub.status.idle": "2025-03-10T04:57:35.399568Z",
     "shell.execute_reply": "2025-03-10T04:57:35.399067Z",
     "shell.execute_reply.started": "2025-03-10T04:57:35.082503Z"
    }
   },
   "outputs": [],
   "source": [
    "from pathlib import Path\n",
    "import pandas as pd\n",
    "import numpy as np\n",
    "import multiprocessing\n",
    "from tqdm import tqdm\n",
    "from datetime import datetime\n",
    "from itertools import chain, islice\n",
    "from collections import defaultdict\n",
    "import shutil\n",
    "import re\n",
    "import sys"
   ]
  },
  {
   "cell_type": "code",
   "execution_count": 39,
   "id": "ff0db288-deb1-49b4-b36e-1fbb61a610a7",
   "metadata": {
    "execution": {
     "iopub.execute_input": "2025-03-10T04:57:54.420776Z",
     "iopub.status.busy": "2025-03-10T04:57:54.420403Z",
     "iopub.status.idle": "2025-03-10T04:57:54.425288Z",
     "shell.execute_reply": "2025-03-10T04:57:54.424634Z",
     "shell.execute_reply.started": "2025-03-10T04:57:54.420754Z"
    }
   },
   "outputs": [],
   "source": [
    "projectDir = Path(\"/home/_shared/jscliu/project/2025/Flagship/analysis/secondary/recessive/02.novel_small_variants\")\n",
    "referenceDir = Path(\"/home/_shared/jscliu/project/2025/Flagship/reference\")\n",
    "resultsDir = projectDir/\"results\"\n",
    "summaryDir = projectDir/\"summary\"\n",
    "\n",
    "# Reference\n",
    "cohort_csv = referenceDir/\"sample_info_annot.2024-11-12.csv\"\n",
    "cohort_founder_csv = referenceDir/\"cohort_founder_list.2024-11-12.csv\"\n",
    "recessive_bed = referenceDir/\"hkgi_recessive.ext200bp.bed\"\n",
    "vcf_header = projectDir/\"script/vcf_headers.txt\"\n",
    "\n",
    "# Output\n",
    "output_tsv = summaryDir/\"recessive.novel.allResults.tsv\"\n",
    "output_vcf = summaryDir/\"recessive.novel.allResults.vcf\""
   ]
  },
  {
   "cell_type": "markdown",
   "id": "380f3323-9943-4561-998c-92a01d559205",
   "metadata": {},
   "source": [
    "# Read and consolidate all TSV belonging to this cohort"
   ]
  },
  {
   "cell_type": "code",
   "execution_count": 3,
   "id": "ec8c506b-8552-4ab5-b522-b7b8beea7f86",
   "metadata": {
    "execution": {
     "iopub.execute_input": "2025-03-10T04:57:56.209697Z",
     "iopub.status.busy": "2025-03-10T04:57:56.209237Z",
     "iopub.status.idle": "2025-03-10T04:57:56.303422Z",
     "shell.execute_reply": "2025-03-10T04:57:56.302718Z",
     "shell.execute_reply.started": "2025-03-10T04:57:56.209660Z"
    }
   },
   "outputs": [],
   "source": [
    "cohort_all_df = pd.read_csv(cohort_csv).drop_duplicates(subset=['sre_participant_id'])\n",
    "cohort_all_df = cohort_all_df.loc[cohort_all_df['treated_ethnicity']==\"Chinese\", :].copy()"
   ]
  },
  {
   "cell_type": "code",
   "execution_count": 4,
   "id": "3b345a34-f437-47f9-b8e5-ab6d8fc81d51",
   "metadata": {
    "execution": {
     "iopub.execute_input": "2025-03-10T04:57:56.435889Z",
     "iopub.status.busy": "2025-03-10T04:57:56.435530Z",
     "iopub.status.idle": "2025-03-10T04:57:56.456552Z",
     "shell.execute_reply": "2025-03-10T04:57:56.455464Z",
     "shell.execute_reply.started": "2025-03-10T04:57:56.435867Z"
    }
   },
   "outputs": [],
   "source": [
    "cohort_df = pd.read_csv(cohort_founder_csv, names=['participant_id', 'sample_id']).drop_duplicates(subset=['participant_id'])"
   ]
  },
  {
   "cell_type": "code",
   "execution_count": 7,
   "id": "d6231975-bc29-45c7-8a11-ddd462ff4c98",
   "metadata": {
    "execution": {
     "iopub.execute_input": "2025-03-10T04:57:57.695922Z",
     "iopub.status.busy": "2025-03-10T04:57:57.695534Z",
     "iopub.status.idle": "2025-03-10T04:57:57.767076Z",
     "shell.execute_reply": "2025-03-10T04:57:57.766244Z",
     "shell.execute_reply.started": "2025-03-10T04:57:57.695897Z"
    }
   },
   "outputs": [],
   "source": [
    "# Get list of TSV to be read\n",
    "tsv_ls:list = [ resultsDir/f\"{i}.split.rare.vep.recessive.tsv\" for i in cohort_df.participant_id.tolist() ]\n",
    "print(f\"{len(tsv_ls) = }\")"
   ]
  },
  {
   "cell_type": "code",
   "execution_count": 8,
   "id": "449eb29d-99e5-4f05-a5f9-ec92e54dcedd",
   "metadata": {
    "execution": {
     "iopub.execute_input": "2025-03-10T04:57:58.079432Z",
     "iopub.status.busy": "2025-03-10T04:57:58.079026Z",
     "iopub.status.idle": "2025-03-10T04:57:58.084320Z",
     "shell.execute_reply": "2025-03-10T04:57:58.083307Z",
     "shell.execute_reply.started": "2025-03-10T04:57:58.079407Z"
    }
   },
   "outputs": [],
   "source": [
    "def split_list(lst, chunk_size):\n",
    "    it = iter(lst)\n",
    "    return [list(islice(it, chunk_size)) for _ in range(0, len(lst), chunk_size)]\n",
    "\n",
    "chunk_tsv_ls = split_list(tsv_ls, 200)"
   ]
  },
  {
   "cell_type": "code",
   "execution_count": 9,
   "id": "102cb7d7-a8f5-47bb-997f-44a4d5746d7b",
   "metadata": {
    "execution": {
     "iopub.execute_input": "2025-03-10T04:57:58.882806Z",
     "iopub.status.busy": "2025-03-10T04:57:58.882296Z",
     "iopub.status.idle": "2025-03-10T04:57:58.888987Z",
     "shell.execute_reply": "2025-03-10T04:57:58.887760Z",
     "shell.execute_reply.started": "2025-03-10T04:57:58.882777Z"
    }
   },
   "outputs": [],
   "source": [
    "def read_recessive_tsv(tsv:Path):\n",
    "    # Read tsv and append columns\n",
    "    df = pd.read_table(tsv, na_values=[\".\"])\n",
    "    df['CPRA'] = df.apply(lambda r: f\"{r.CHROM}-{r.POS}-{r.REF}-{r.ALT}\", axis=1)\n",
    "    df['participant_id'] = tsv.name.split(\".\")[0]\n",
    "    \n",
    "    # Drop known variants (i.e. with clinvar entries)\n",
    "    # Rearrange columns, discard unneeded cols at the same time\n",
    "    keep_col:list = [\n",
    "        'CPRA', 'Gene', 'HGVSc', 'HGVSp', \n",
    "        'Consequence', 'REVEL', 'SpliceAI',\n",
    "        'participant_id', 'GT', 'AD'\n",
    "    ]\n",
    "    df = df.loc[df['clinvar.vcf.gz'].isna(), keep_col].copy()\n",
    "    return df"
   ]
  },
  {
   "cell_type": "code",
   "execution_count": 10,
   "id": "78380dc4-2ff9-428c-bbe7-492e692661f2",
   "metadata": {
    "execution": {
     "iopub.execute_input": "2025-03-10T04:58:19.513021Z",
     "iopub.status.busy": "2025-03-10T04:58:19.512510Z",
     "iopub.status.idle": "2025-03-10T06:35:26.081474Z",
     "shell.execute_reply": "2025-03-10T06:35:26.080857Z",
     "shell.execute_reply.started": "2025-03-10T04:58:19.512998Z"
    }
   },
   "outputs": [],
   "source": [
    "consol_df_ls:list = list()\n",
    "for sub_tsv_ls in tqdm(chunk_tsv_ls):\n",
    "    # Read TSV in parallel \n",
    "    pool = multiprocessing.Pool(processes=10)    # Create Pool of 10 parallel processes max\n",
    "    results = pool.starmap(read_recessive_tsv, [(tsv,) for tsv in sub_tsv_ls])    # If the function only takes one arguments\n",
    "    pool.close()    # Wait until all processes completed\n",
    "    pool.join()    # Join all output from processes\n",
    "\n",
    "    # Consolidate chunked tsv dfs\n",
    "    concat_df = pd.concat(results)\n",
    "    consol_df = concat_df.groupby('CPRA').agg(list)\n",
    "    for c in consol_df.columns.tolist()[:-3]:\n",
    "        consol_df[c] = consol_df[c].apply(lambda x: x[0])\n",
    "\n",
    "    consol_df_ls.append(consol_df)    # Append to consol_df_ls"
   ]
  },
  {
   "cell_type": "code",
   "execution_count": 16,
   "id": "858e64de-3714-40b5-99c0-427171d1ac5f",
   "metadata": {
    "execution": {
     "iopub.execute_input": "2025-03-10T08:02:11.757826Z",
     "iopub.status.busy": "2025-03-10T08:02:11.757364Z",
     "iopub.status.idle": "2025-03-10T08:26:36.942817Z",
     "shell.execute_reply": "2025-03-10T08:26:36.941836Z",
     "shell.execute_reply.started": "2025-03-10T08:02:11.757800Z"
    }
   },
   "outputs": [],
   "source": [
    "master_df = pd.concat(consol_df_ls).groupby('CPRA').agg(list)\n",
    "\n",
    "# Variant-specific columns\n",
    "for c in master_df.columns.tolist()[:-3]:\n",
    "    master_df[c] = master_df[c].apply(lambda x: x[0])\n",
    "\n",
    "# Sample-specific columns\n",
    "def flatten(nested_list):\n",
    "    return list(chain.from_iterable(\n",
    "        item if isinstance(item, list) else [item] for item in nested_list\n",
    "    ))\n",
    "for c in master_df.columns.tolist()[-3:]: \n",
    "    master_df[c] = master_df[c].apply(lambda x: flatten(x))"
   ]
  },
  {
   "cell_type": "markdown",
   "id": "9a4b50fd-3757-4094-aa26-f32b1bd9b05f",
   "metadata": {},
   "source": [
    "# Filter variants by Consequence"
   ]
  },
  {
   "cell_type": "code",
   "execution_count": 17,
   "id": "a2d3f082-f589-4d7e-8fae-b47750f9e26b",
   "metadata": {
    "execution": {
     "iopub.execute_input": "2025-03-10T08:26:36.944591Z",
     "iopub.status.busy": "2025-03-10T08:26:36.944295Z",
     "iopub.status.idle": "2025-03-10T08:27:09.453158Z",
     "shell.execute_reply": "2025-03-10T08:27:09.452365Z",
     "shell.execute_reply.started": "2025-03-10T08:26:36.944575Z"
    }
   },
   "outputs": [],
   "source": [
    "master_df['Consequence'] = master_df['Consequence'].apply(lambda x: x.split('&'))"
   ]
  },
  {
   "cell_type": "code",
   "execution_count": 19,
   "id": "41d47dd2-a348-4357-a74f-a2cbb1aafe3d",
   "metadata": {
    "execution": {
     "iopub.execute_input": "2025-03-10T08:31:40.994862Z",
     "iopub.status.busy": "2025-03-10T08:31:40.994386Z",
     "iopub.status.idle": "2025-03-10T08:31:45.649834Z",
     "shell.execute_reply": "2025-03-10T08:31:45.649042Z",
     "shell.execute_reply.started": "2025-03-10T08:31:40.994836Z"
    }
   },
   "outputs": [],
   "source": [
    "# To validate: List out all consequences in this dataset\n",
    "consequence_set:set = set()\n",
    "for cs in master_df['Consequence'].tolist():\n",
    "    for c in cs:\n",
    "        consequence_set.add(c)\n",
    "consequence_set"
   ]
  },
  {
   "cell_type": "code",
   "execution_count": 21,
   "id": "ffbb5947-3373-4989-a5df-7bc5751b74ba",
   "metadata": {
    "execution": {
     "iopub.execute_input": "2025-03-10T08:32:47.406221Z",
     "iopub.status.busy": "2025-03-10T08:32:47.405742Z",
     "iopub.status.idle": "2025-03-10T08:32:47.412276Z",
     "shell.execute_reply": "2025-03-10T08:32:47.411660Z",
     "shell.execute_reply.started": "2025-03-10T08:32:47.406182Z"
    }
   },
   "outputs": [],
   "source": [
    "def keep_variant(cpra:str, consequences:list, spliceai:str):\n",
    "    ref, alt = cpra.split('-')[-2:]\n",
    "    is_snp:bool = True if len(ref)==len(alt)==1 else False\n",
    "    \n",
    "    consequences_to_keep:list = [\n",
    "        'coding_sequence_variant', 'protein_altering_variant',\n",
    "        'inframe_insertion', 'inframe_deletion', 'missense_variant', 'frameshift_variant',\n",
    "        'start_lost', 'start_retained_variant', 'stop_gained', 'stop_lost', 'stop_retained_variant', \n",
    "        'splice_acceptor_variant', 'splice_polypyrimidine_tract_variant', 'splice_region_variant',\n",
    "        'splice_donor_5th_base_variant', 'splice_donor_region_variant', 'splice_donor_variant'\n",
    "    ]\n",
    "    consequences_to_discard:list = [\n",
    "        'intergenic_variant', 'non_coding_transcript_exon_variant', 'non_coding_transcript_variant'\n",
    "    ]\n",
    "    consequences_nonCoding_keep_conditionally:list = [\n",
    "        '5_prime_UTR_variant', '3_prime_UTR_variant',\n",
    "        'upstream_gene_variant', 'downstream_gene_variant'\n",
    "    ]\n",
    "    consequences_other_keep_conditionally:list = [\n",
    "        'intron_variant', 'synonymous_variant'\n",
    "    ]\n",
    "    \n",
    "    to_keep:list = list()\n",
    "    for c in consequences:\n",
    "        if c in consequences_to_discard:\n",
    "            keep = False\n",
    "        elif c in consequences_to_keep:\n",
    "            keep = True\n",
    "        elif c in consequences_nonCoding_keep_conditionally:\n",
    "            # Keep only if non-coding and there is spliceai annotation\n",
    "            keep = True if not pd.isna(spliceai) else False\n",
    "        elif c in consequences_other_keep_conditionally:\n",
    "            # Keep only if it's a snp and there is spliceai annotation\n",
    "            keep = True if (is_snp & (not pd.isna(spliceai))) else False\n",
    "        else:\n",
    "            print(f\"Undefined consequence: {c}\")\n",
    "            sys.exit(1)\n",
    "        to_keep.append(keep)\n",
    "    \n",
    "    if any(to_keep):\n",
    "        return True\n",
    "    else:\n",
    "        return False"
   ]
  },
  {
   "cell_type": "code",
   "execution_count": 22,
   "id": "bb9f8488-81ff-459d-b2f3-aba618844fce",
   "metadata": {
    "execution": {
     "iopub.execute_input": "2025-03-10T08:32:48.040874Z",
     "iopub.status.busy": "2025-03-10T08:32:48.040470Z",
     "iopub.status.idle": "2025-03-10T08:35:13.735891Z",
     "shell.execute_reply": "2025-03-10T08:35:13.734965Z",
     "shell.execute_reply.started": "2025-03-10T08:32:48.040850Z"
    }
   },
   "outputs": [],
   "source": [
    "master_df['keep_variant'] = master_df.apply(\n",
    "    lambda r: keep_variant(r.name, r.Consequence, r.SpliceAI), axis=1\n",
    ")"
   ]
  },
  {
   "cell_type": "code",
   "execution_count": 23,
   "id": "f6ff48f0-10a7-4f09-8620-82e96cb837f7",
   "metadata": {
    "execution": {
     "iopub.execute_input": "2025-03-10T08:35:13.737917Z",
     "iopub.status.busy": "2025-03-10T08:35:13.737436Z",
     "iopub.status.idle": "2025-03-10T08:35:16.490794Z",
     "shell.execute_reply": "2025-03-10T08:35:16.490065Z",
     "shell.execute_reply.started": "2025-03-10T08:35:13.737892Z"
    }
   },
   "outputs": [],
   "source": [
    "# Filter out variants by consequence\n",
    "master_filtered_df = master_df.loc[master_df['keep_variant'], :].copy()\n",
    "print(f\"{len(master_filtered_df) = }\")"
   ]
  },
  {
   "cell_type": "code",
   "execution_count": 24,
   "id": "146b27e7-4f9e-4ed3-b983-c0311ae16eb6",
   "metadata": {
    "execution": {
     "iopub.execute_input": "2025-03-10T08:45:23.509330Z",
     "iopub.status.busy": "2025-03-10T08:45:23.508918Z",
     "iopub.status.idle": "2025-03-10T08:45:36.916445Z",
     "shell.execute_reply": "2025-03-10T08:45:36.915707Z",
     "shell.execute_reply.started": "2025-03-10T08:45:23.509304Z"
    }
   },
   "outputs": [],
   "source": [
    "master_filtered_df[['#CHROM', 'POS', 'REF', 'ALT']] = master_filtered_df.apply(lambda r: pd.Series([\n",
    "    r.name.split(\"-\")[0], \n",
    "    int(r.name.split(\"-\")[1]), \n",
    "    r.name.split(\"-\")[2], \n",
    "    r.name.split(\"-\")[3]\n",
    "]), axis=1)"
   ]
  },
  {
   "cell_type": "code",
   "execution_count": 25,
   "id": "c7a4b0a7-389e-40bc-b3d5-6a19ac98445a",
   "metadata": {
    "execution": {
     "iopub.execute_input": "2025-03-10T08:45:44.427206Z",
     "iopub.status.busy": "2025-03-10T08:45:44.426782Z",
     "iopub.status.idle": "2025-03-10T08:45:44.628822Z",
     "shell.execute_reply": "2025-03-10T08:45:44.628214Z",
     "shell.execute_reply.started": "2025-03-10T08:45:44.427180Z"
    }
   },
   "outputs": [],
   "source": [
    "# Sort master_df by chr and pos\n",
    "master_filtered_df.sort_values(by=['#CHROM', 'POS'], ascending=True, inplace=True)"
   ]
  },
  {
   "cell_type": "markdown",
   "id": "f3e42b15-adff-4b21-b54c-a22d06c0dd02",
   "metadata": {},
   "source": [
    "# Re-annotate the genes using recessive genes' BED file"
   ]
  },
  {
   "cell_type": "code",
   "execution_count": 26,
   "id": "fba57cd1-ee18-4312-8b2d-6a9f23a15861",
   "metadata": {
    "execution": {
     "iopub.execute_input": "2025-03-10T08:52:55.336058Z",
     "iopub.status.busy": "2025-03-10T08:52:55.335687Z",
     "iopub.status.idle": "2025-03-10T08:52:55.345896Z",
     "shell.execute_reply": "2025-03-10T08:52:55.345247Z",
     "shell.execute_reply.started": "2025-03-10T08:52:55.336032Z"
    }
   },
   "outputs": [],
   "source": [
    "recessive_gene_df = pd.read_table(\n",
    "    recessive_bed, comment='#', \n",
    "    names=['chr', 'start', 'end', 'gene', 'strand'], \n",
    "    usecols=[0, 1, 2, 3, 5]\n",
    ")\n",
    "recessive_gene_df['start'] +=1    # Since BED files are 0-indexed\n",
    "recessive_gene_df['idx_gene'] = recessive_gene_df['gene']\n",
    "recessive_gene_df.set_index('idx_gene', inplace=True)\n",
    "recessive_gene_df.sort_values(by=['chr', 'start'], ascending=True, inplace=True)"
   ]
  },
  {
   "cell_type": "code",
   "execution_count": 28,
   "id": "784ea2e2-4b3f-4ec3-b8a4-8054e0aadac4",
   "metadata": {
    "execution": {
     "iopub.execute_input": "2025-03-10T08:55:07.253656Z",
     "iopub.status.busy": "2025-03-10T08:55:07.253290Z",
     "iopub.status.idle": "2025-03-10T08:55:50.797505Z",
     "shell.execute_reply": "2025-03-10T08:55:50.796772Z",
     "shell.execute_reply.started": "2025-03-10T08:55:07.253638Z"
    }
   },
   "outputs": [],
   "source": [
    "def find_matched_genes(pos_start, ref, chr_gene_df):\n",
    "    pos_end = pos_start + len(ref) - 1\n",
    "    \n",
    "    matched_genes = chr_gene_df.loc[\n",
    "        (chr_gene_df['start']<=pos_end) & (chr_gene_df['end']>=pos_start), \"gene\"\n",
    "    ].tolist()\n",
    "\n",
    "    if len(matched_genes)>0:\n",
    "        return matched_genes\n",
    "    else:\n",
    "        return np.nan\n",
    "\n",
    "matched_chr_df_ls:list = list()\n",
    "for chr in tqdm(master_filtered_df['#CHROM'].unique().tolist()):\n",
    "    chr_df = master_filtered_df.loc[master_filtered_df['#CHROM']==chr, :].copy()\n",
    "    chr_gene_df = recessive_gene_df.loc[recessive_gene_df['chr']==chr, :].copy()\n",
    "    chr_df['recessive_genes'] = chr_df.apply(\n",
    "        lambda r: find_matched_genes(r.POS, r.REF, chr_gene_df), axis=1\n",
    "    )\n",
    "    matched_chr_df_ls.append(chr_df)"
   ]
  },
  {
   "cell_type": "code",
   "execution_count": 29,
   "id": "fc8b01c9-5551-46df-9a75-1f9a1a3c3768",
   "metadata": {
    "execution": {
     "iopub.execute_input": "2025-03-10T08:55:50.799036Z",
     "iopub.status.busy": "2025-03-10T08:55:50.798749Z",
     "iopub.status.idle": "2025-03-10T08:55:51.049245Z",
     "shell.execute_reply": "2025-03-10T08:55:51.048572Z",
     "shell.execute_reply.started": "2025-03-10T08:55:50.799014Z"
    }
   },
   "outputs": [],
   "source": [
    "genes_filtered_df = pd.concat(matched_chr_df_ls)"
   ]
  },
  {
   "cell_type": "markdown",
   "id": "58736b26-c578-4efd-9a2e-2ac363182fd3",
   "metadata": {},
   "source": [
    "### Annotate position relative to the recessive gene"
   ]
  },
  {
   "cell_type": "code",
   "execution_count": 41,
   "id": "fddd9fa8-929f-4557-b96e-e2ddadf51074",
   "metadata": {
    "execution": {
     "iopub.execute_input": "2025-03-10T09:06:31.915033Z",
     "iopub.status.busy": "2025-03-10T09:06:31.914640Z",
     "iopub.status.idle": "2025-03-10T09:06:38.116651Z",
     "shell.execute_reply": "2025-03-10T09:06:38.115720Z",
     "shell.execute_reply.started": "2025-03-10T09:06:31.915010Z"
    }
   },
   "outputs": [],
   "source": [
    "def annotate_recessive_gene(r:pd.Series, recessive_gene_df:pd.DataFrame):\n",
    "    start:int = int(r['POS'])\n",
    "    end:int = int(r['POS']) + len(r['REF'])\n",
    "    genes:list = r['recessive_genes']\n",
    "    located_genes:list = list()\n",
    "    for g in genes:\n",
    "        gene_start:int = recessive_gene_df.loc[g, 'start']+200+1    # positions in BED file is 0-indexed\n",
    "        gene_end:int = recessive_gene_df.loc[g, 'end']-200\n",
    "        strand:str = recessive_gene_df.loc[g, 'strand']\n",
    "        if max(start, gene_start) <= min(end, gene_end):\n",
    "            locate = 'within'\n",
    "        elif end < gene_end:\n",
    "            locate = 'upstream_gene_variant' if strand == \"+\" else \"downstream_gene_variant\"\n",
    "        elif start > gene_end:\n",
    "            locate = 'downstream_gene_variant' if strand == \"+\" else \"upstream_gene_variant\"\n",
    "        try:\n",
    "            located_genes.append(locate)\n",
    "        except:\n",
    "            print(f\"{g = }\\n{start}-{end} vs {gene_start}-{gene_end}\")\n",
    "            \n",
    "    return located_genes\n",
    "genes_filtered_df['variant_location'] = genes_filtered_df.apply(lambda r: annotate_recessive_gene(r, recessive_gene_df), axis=1)"
   ]
  },
  {
   "cell_type": "markdown",
   "id": "1cc51762-dbc6-4ec9-b2d4-bfd3994b0ec0",
   "metadata": {},
   "source": [
    "# Label the prevalence of each variants"
   ]
  },
  {
   "cell_type": "code",
   "execution_count": 42,
   "id": "77ff872e-73ce-4ebd-9344-ad6b49a653d8",
   "metadata": {
    "execution": {
     "iopub.execute_input": "2025-03-10T09:09:27.452559Z",
     "iopub.status.busy": "2025-03-10T09:09:27.452145Z",
     "iopub.status.idle": "2025-03-10T09:09:30.970526Z",
     "shell.execute_reply": "2025-03-10T09:09:30.969701Z",
     "shell.execute_reply.started": "2025-03-10T09:09:27.452536Z"
    }
   },
   "outputs": [],
   "source": [
    "# Count het_n, hom_n, hem_n\n",
    "genes_filtered_df['het_n'] = genes_filtered_df['GT'].apply(lambda g: g.count('0/1') + g.count('0|1') + g.count('1/0') + g.count('1|0'))\n",
    "genes_filtered_df['hom_n'] = genes_filtered_df['GT'].apply(lambda g: g.count('1/1') + g.count('1|1'))\n",
    "genes_filtered_df['hem_n'] = genes_filtered_df['GT'].apply(lambda g: g.count('1'))\n",
    "genes_filtered_df['AN'] = genes_filtered_df.apply(lambda r: r.het_n + r.hom_n*2 + r.hem_n, axis=1)\n",
    "genes_filtered_df['AF'] = genes_filtered_df['AN'] / len(tsv_ls)"
   ]
  },
  {
   "cell_type": "code",
   "execution_count": 43,
   "id": "1cddf8f6-df06-45b7-a4f2-724b35ab79f6",
   "metadata": {
    "execution": {
     "iopub.execute_input": "2025-03-10T09:09:30.972044Z",
     "iopub.status.busy": "2025-03-10T09:09:30.971727Z",
     "iopub.status.idle": "2025-03-10T09:09:33.024286Z",
     "shell.execute_reply": "2025-03-10T09:09:33.023499Z",
     "shell.execute_reply.started": "2025-03-10T09:09:30.972023Z"
    }
   },
   "outputs": [],
   "source": [
    "# Classify the prevelance of each variant by the number of recessive and the AF\n",
    "def classify_prevelence(participant_id:list, AF:float)->str:\n",
    "    if len(participant_id) == 1:\n",
    "        return 'private'\n",
    "    elif AF <= 0.01:\n",
    "        return 'rare'\n",
    "    else:\n",
    "        return 'common'\n",
    "genes_filtered_df['prevalence'] = genes_filtered_df.apply(lambda r: classify_prevelence(r.participant_id, r.AF), axis=1)"
   ]
  },
  {
   "cell_type": "markdown",
   "id": "1e6be8bb-4a7f-4b75-a201-6ee81bf48a82",
   "metadata": {},
   "source": [
    "# Classify the consequences"
   ]
  },
  {
   "cell_type": "code",
   "execution_count": 46,
   "id": "8dc35584-50c1-487e-9ea9-10578a0290a0",
   "metadata": {
    "execution": {
     "iopub.execute_input": "2025-03-10T09:10:23.243821Z",
     "iopub.status.busy": "2025-03-10T09:10:23.243465Z",
     "iopub.status.idle": "2025-03-10T09:10:23.380392Z",
     "shell.execute_reply": "2025-03-10T09:10:23.379647Z",
     "shell.execute_reply.started": "2025-03-10T09:10:23.243805Z"
    }
   },
   "outputs": [],
   "source": [
    "# Get all consequences\n",
    "all_consequences:set = set()\n",
    "for consequences in genes_filtered_df['Consequence']:\n",
    "    for c in consequences:\n",
    "        all_consequences.add(c)"
   ]
  },
  {
   "cell_type": "code",
   "execution_count": 47,
   "id": "6215774d-485e-4d87-a5a4-7eac1c56a62e",
   "metadata": {
    "execution": {
     "iopub.execute_input": "2025-03-10T09:10:29.282506Z",
     "iopub.status.busy": "2025-03-10T09:10:29.282223Z",
     "iopub.status.idle": "2025-03-10T09:10:29.287596Z",
     "shell.execute_reply": "2025-03-10T09:10:29.286749Z",
     "shell.execute_reply.started": "2025-03-10T09:10:29.282485Z"
    }
   },
   "outputs": [],
   "source": [
    "# Classify each consequence\n",
    "consequence_classes:dict = {\n",
    "    'coding': [\n",
    "        'coding_sequence_variant', 'protein_altering_variant', \n",
    "        'start_retained_variant', 'stop_retained_variant', 'synonymous_variant'\n",
    "    ],\n",
    "    'missense': ['missense_variant'],\n",
    "    'frameshift': ['frameshift_variant', 'start_lost', 'stop_gained', 'stop_lost'],\n",
    "    'inframe': ['inframe_deletion', 'inframe_insertion'],\n",
    "    'noncoding': [\n",
    "        'upstream_gene_variant', 'downstream_gene_variant',\n",
    "        '3_prime_UTR_variant', '5_prime_UTR_variant',\n",
    "        'non_coding_transcript_exon_variant', 'non_coding_transcript_variant'\n",
    "    ],\n",
    "    'splicing': [\n",
    "        'splice_donor_5th_base_variant', 'splice_donor_region_variant', 'splice_donor_variant',\n",
    "        'splice_acceptor_variant', 'splice_polypyrimidine_tract_variant', 'splice_region_variant'\n",
    "    ],\n",
    "    'intronic': ['intron_variant']\n",
    "}\n",
    "\n",
    "consequence_map_d:dict = dict()\n",
    "for c_class, consequences in consequence_classes.items():\n",
    "    for c in consequences:\n",
    "        consequence_map_d[c] = c_class"
   ]
  },
  {
   "cell_type": "code",
   "execution_count": 48,
   "id": "e0ca66c6-7080-4707-be7a-b6fdbb20662f",
   "metadata": {
    "execution": {
     "iopub.execute_input": "2025-03-10T09:10:29.566572Z",
     "iopub.status.busy": "2025-03-10T09:10:29.566196Z",
     "iopub.status.idle": "2025-03-10T09:10:29.729720Z",
     "shell.execute_reply": "2025-03-10T09:10:29.728829Z",
     "shell.execute_reply.started": "2025-03-10T09:10:29.566549Z"
    }
   },
   "outputs": [],
   "source": [
    "# Label the consequence_class\n",
    "genes_filtered_df['consequence_class'] = genes_filtered_df['Consequence'].apply(lambda cs: [consequence_map_d[c] for c in cs])"
   ]
  },
  {
   "cell_type": "markdown",
   "id": "8c288a39-cbe3-43f6-a95d-4915184bfe0e",
   "metadata": {},
   "source": [
    "# Reformat and export genes_filtered_df"
   ]
  },
  {
   "cell_type": "code",
   "execution_count": 49,
   "id": "6ffa3442-d6e1-4b97-b107-0a1573e0f56b",
   "metadata": {
    "execution": {
     "iopub.execute_input": "2025-03-10T09:10:35.252311Z",
     "iopub.status.busy": "2025-03-10T09:10:35.251956Z",
     "iopub.status.idle": "2025-03-10T09:10:35.710028Z",
     "shell.execute_reply": "2025-03-10T09:10:35.709190Z",
     "shell.execute_reply.started": "2025-03-10T09:10:35.252291Z"
    }
   },
   "outputs": [],
   "source": [
    "export_df = genes_filtered_df.copy()"
   ]
  },
  {
   "cell_type": "code",
   "execution_count": 50,
   "id": "2dc22d8e-1a24-407d-9f52-db7f085aaff1",
   "metadata": {
    "execution": {
     "iopub.execute_input": "2025-03-10T09:10:39.170044Z",
     "iopub.status.busy": "2025-03-10T09:10:39.169664Z",
     "iopub.status.idle": "2025-03-10T09:10:39.901971Z",
     "shell.execute_reply": "2025-03-10T09:10:39.901318Z",
     "shell.execute_reply.started": "2025-03-10T09:10:39.170022Z"
    }
   },
   "outputs": [],
   "source": [
    "# Reformat the column storing type list\n",
    "listed_cols:list = [\n",
    "    'participant_id', 'GT', 'AD', \n",
    "    'recessive_genes', 'variant_location', \n",
    "    'Consequence', 'consequence_class'\n",
    "]\n",
    "for col in listed_cols:\n",
    "    export_df[col] = export_df[col].apply(lambda x: \".\".join(x))"
   ]
  },
  {
   "cell_type": "code",
   "execution_count": 51,
   "id": "30405684-a2ca-4d65-ba3d-768e5a2d42f9",
   "metadata": {
    "execution": {
     "iopub.execute_input": "2025-03-10T09:10:43.461714Z",
     "iopub.status.busy": "2025-03-10T09:10:43.461257Z",
     "iopub.status.idle": "2025-03-10T09:10:43.715972Z",
     "shell.execute_reply": "2025-03-10T09:10:43.715121Z",
     "shell.execute_reply.started": "2025-03-10T09:10:43.461671Z"
    }
   },
   "outputs": [],
   "source": [
    "# Re-order the columns\n",
    "keep_cols:list = [\n",
    "    '#CHROM', 'POS', 'REF', 'ALT', \n",
    "    'Gene', 'recessive_genes', 'variant_location', \n",
    "    'HGVSc', 'HGVSp', 'REVEL', 'SpliceAI', 'Consequence', 'consequence_class', \n",
    "    'participant_id', 'GT', 'AD'\n",
    "]\n",
    "export_df = export_df.loc[:, keep_cols].copy()"
   ]
  },
  {
   "cell_type": "markdown",
   "id": "e682a85d-e645-495c-8d3d-18086af2b8d9",
   "metadata": {},
   "source": [
    "### Export to TSV"
   ]
  },
  {
   "cell_type": "code",
   "execution_count": 53,
   "id": "85287305-896a-4341-8b2a-e41a4a1bb98b",
   "metadata": {
    "execution": {
     "iopub.execute_input": "2025-03-10T09:11:24.373857Z",
     "iopub.status.busy": "2025-03-10T09:11:24.373471Z",
     "iopub.status.idle": "2025-03-10T09:11:25.856682Z",
     "shell.execute_reply": "2025-03-10T09:11:25.855851Z",
     "shell.execute_reply.started": "2025-03-10T09:11:24.373837Z"
    }
   },
   "outputs": [],
   "source": [
    "export_df.to_csv(output_tsv, index=True, index_label='CPRA', sep='\\t')"
   ]
  },
  {
   "cell_type": "markdown",
   "id": "3e28baac-48ee-497e-8f3c-5f7758a3c4c3",
   "metadata": {},
   "source": [
    "### Export to VCF for more annotations"
   ]
  },
  {
   "cell_type": "code",
   "execution_count": 54,
   "id": "76251aac-b68a-478f-9d20-574b92ea8860",
   "metadata": {
    "execution": {
     "iopub.execute_input": "2025-03-10T09:11:33.359571Z",
     "iopub.status.busy": "2025-03-10T09:11:33.359191Z",
     "iopub.status.idle": "2025-03-10T09:11:33.871577Z",
     "shell.execute_reply": "2025-03-10T09:11:33.870652Z",
     "shell.execute_reply.started": "2025-03-10T09:11:33.359548Z"
    }
   },
   "outputs": [],
   "source": [
    "export_csv_df = export_df.fillna(\".\")"
   ]
  },
  {
   "cell_type": "code",
   "execution_count": 55,
   "id": "241f9d7d-bef6-459f-a3a3-c1799c45e9f8",
   "metadata": {
    "execution": {
     "iopub.execute_input": "2025-03-10T09:11:33.985716Z",
     "iopub.status.busy": "2025-03-10T09:11:33.985226Z",
     "iopub.status.idle": "2025-03-10T09:11:36.649515Z",
     "shell.execute_reply": "2025-03-10T09:11:36.648925Z",
     "shell.execute_reply.started": "2025-03-10T09:11:33.985692Z"
    }
   },
   "outputs": [],
   "source": [
    "# Generate the missing fields\n",
    "export_csv_df['NOTE'] = export_csv_df.apply(lambda r: f\"{r.participant_id}-{r.GT}-{r.AD}\", axis=1)"
   ]
  },
  {
   "cell_type": "code",
   "execution_count": 56,
   "id": "ccde4e28-c143-48f0-a456-3cd68944afb5",
   "metadata": {
    "execution": {
     "iopub.execute_input": "2025-03-10T09:11:38.412755Z",
     "iopub.status.busy": "2025-03-10T09:11:38.412414Z",
     "iopub.status.idle": "2025-03-10T09:11:55.486481Z",
     "shell.execute_reply": "2025-03-10T09:11:55.485741Z",
     "shell.execute_reply.started": "2025-03-10T09:11:38.412734Z"
    }
   },
   "outputs": [],
   "source": [
    "# Prepare the VCF columns\n",
    "vcf_cols:list = [\"#CHROM\", \"POS\", \"ID\", \"REF\", \"ALT\", \"QUAL\", \"FILTER\", \"INFO\", \"FORMAT\", \"FIRST_SAMPLE\"]\n",
    "export_csv_df['ID'] = export_csv_df.index\n",
    "export_csv_df['QUAL'] = \".\"\n",
    "export_csv_df['FILTER'] = \".\"\n",
    "\n",
    "## INFO columns\n",
    "export_csv_df['INFO'] = export_csv_df.apply(lambda r: f\"Gene={r.Gene}\", axis=1)\n",
    "info_cols:list = [\n",
    "    'recessive_genes', 'variant_location', 'HGVSc', 'HGVSp', 'REVEL', 'SpliceAI', 'Consequence', 'consequence_class', 'NOTE'\n",
    "]\n",
    "\n",
    "for col in info_cols:\n",
    "    export_csv_df['INFO'] = export_csv_df.apply(lambda r: f\"{r.INFO};\" + f\"{col}={r[col]}\", axis=1)\n",
    "\n",
    "export_csv_df['FORMAT'] = \"GT:AD\"\n",
    "export_csv_df['FIRST_SAMPLE'] = export_csv_df.apply(\n",
    "    lambda r: f\"{r['GT'].split('.')[0]}:{r['AD'].split('.')[0]}\", axis=1\n",
    ")"
   ]
  },
  {
   "cell_type": "code",
   "execution_count": 57,
   "id": "4aee8350-9adf-479d-8471-1f37f53fc7a8",
   "metadata": {
    "execution": {
     "iopub.execute_input": "2025-03-10T09:11:55.487789Z",
     "iopub.status.busy": "2025-03-10T09:11:55.487529Z",
     "iopub.status.idle": "2025-03-10T09:11:55.613118Z",
     "shell.execute_reply": "2025-03-10T09:11:55.612538Z",
     "shell.execute_reply.started": "2025-03-10T09:11:55.487772Z"
    }
   },
   "outputs": [],
   "source": [
    "# Filter columns for VCF\n",
    "export_csv_df = export_csv_df.loc[:, vcf_cols].copy()"
   ]
  },
  {
   "cell_type": "code",
   "execution_count": 60,
   "id": "e25f4110-fa52-4cec-9bb1-3a1213b5e342",
   "metadata": {
    "execution": {
     "iopub.execute_input": "2025-03-10T09:14:59.980302Z",
     "iopub.status.busy": "2025-03-10T09:14:59.979984Z",
     "iopub.status.idle": "2025-03-10T09:15:01.395904Z",
     "shell.execute_reply": "2025-03-10T09:15:01.395107Z",
     "shell.execute_reply.started": "2025-03-10T09:14:59.980281Z"
    }
   },
   "outputs": [],
   "source": [
    "# Export df to CSV\n",
    "shutil.copy(vcf_header, output_vcf)    # Copy header lines\n",
    "export_csv_df.to_csv(output_vcf, index=False, sep='\\t', mode='a')    # Append CSV"
   ]
  },
  {
   "cell_type": "code",
   "execution_count": null,
   "id": "f572d102-941b-48d8-9aa0-2a846249a680",
   "metadata": {},
   "outputs": [],
   "source": []
  }
 ],
 "metadata": {
  "kernelspec": {
   "display_name": "Python 3 (ipykernel)",
   "language": "python",
   "name": "python3"
  }
 },
 "nbformat": 4,
 "nbformat_minor": 5
}
