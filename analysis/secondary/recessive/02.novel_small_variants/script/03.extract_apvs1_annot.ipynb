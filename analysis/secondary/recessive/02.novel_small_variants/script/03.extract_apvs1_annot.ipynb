{
 "cells": [
  {
   "cell_type": "markdown",
   "id": "f493eed8-24e2-4af4-9d06-78519de7b0c8",
   "metadata": {},
   "source": [
    "# Extract Auto-assgned PVS1 info, filter for PVS1-verystrong variants"
   ]
  },
  {
   "cell_type": "code",
   "execution_count": 18,
   "id": "189e53ec-6cff-4320-99d4-62c0235f0265",
   "metadata": {
    "execution": {
     "iopub.execute_input": "2025-03-12T01:59:31.635577Z",
     "iopub.status.busy": "2025-03-12T01:59:31.634751Z",
     "iopub.status.idle": "2025-03-12T01:59:31.641947Z",
     "shell.execute_reply": "2025-03-12T01:59:31.640585Z",
     "shell.execute_reply.started": "2025-03-12T01:59:31.635523Z"
    }
   },
   "outputs": [],
   "source": [
    "from pathlib import Path\n",
    "import pandas as pd\n",
    "import numpy as np\n",
    "import re"
   ]
  },
  {
   "cell_type": "code",
   "execution_count": 8,
   "id": "5645f6f2-ac21-499d-9f59-3d6465c37887",
   "metadata": {
    "execution": {
     "iopub.execute_input": "2025-03-12T01:55:08.104043Z",
     "iopub.status.busy": "2025-03-12T01:55:08.102111Z",
     "iopub.status.idle": "2025-03-12T01:55:08.113742Z",
     "shell.execute_reply": "2025-03-12T01:55:08.110828Z",
     "shell.execute_reply.started": "2025-03-12T01:55:08.103971Z"
    }
   },
   "outputs": [],
   "source": [
    "projectDir = Path(\"/home/_shared/jscliu/project/2025/Flagship/analysis/secondary/recessive/02.novel_small_variants/summary\")\n",
    "data_tsv = projectDir/\"recessive.novel.allResults.tsv\"\n",
    "apvs1_tsv = projectDir/\"recessive.novel.allResults.apvs1.tsv\"\n",
    "filtered_tsv = projectDir/\"recessive.novel.allResults.PVS1-verystrong.tsv\""
   ]
  },
  {
   "cell_type": "code",
   "execution_count": 34,
   "id": "e4ad5f06-5ae9-43c2-b8a2-a759226c7c61",
   "metadata": {
    "execution": {
     "iopub.execute_input": "2025-03-12T02:07:13.405566Z",
     "iopub.status.busy": "2025-03-12T02:07:13.404915Z",
     "iopub.status.idle": "2025-03-12T02:07:14.132492Z",
     "shell.execute_reply": "2025-03-12T02:07:14.130596Z",
     "shell.execute_reply.started": "2025-03-12T02:07:13.405512Z"
    }
   },
   "outputs": [],
   "source": [
    "data_df = pd.read_table(data_tsv, index_col=[0])\n",
    "apvs1_df = pd.read_table(apvs1_tsv)"
   ]
  },
  {
   "cell_type": "code",
   "execution_count": 35,
   "id": "8e47ca1e-c17a-45e0-b10a-6af7f9375f8c",
   "metadata": {
    "execution": {
     "iopub.execute_input": "2025-03-12T02:07:14.972882Z",
     "iopub.status.busy": "2025-03-12T02:07:14.972235Z",
     "iopub.status.idle": "2025-03-12T02:07:15.087756Z",
     "shell.execute_reply": "2025-03-12T02:07:15.086039Z",
     "shell.execute_reply.started": "2025-03-12T02:07:14.972828Z"
    }
   },
   "outputs": [],
   "source": [
    "# Determine whether the variant is PVS1 very strong\n",
    "apvs1_df['is_PVS1_vstrong'] = apvs1_df['ACMG_criterian'].apply(lambda x: True if re.search(\"PVS1_verystrong\", x) else False)"
   ]
  },
  {
   "cell_type": "code",
   "execution_count": 36,
   "id": "07b4e08b-e62a-4a16-96dd-23963285e6cd",
   "metadata": {
    "execution": {
     "iopub.execute_input": "2025-03-12T02:07:15.196001Z",
     "iopub.status.busy": "2025-03-12T02:07:15.195353Z",
     "iopub.status.idle": "2025-03-12T02:07:15.207440Z",
     "shell.execute_reply": "2025-03-12T02:07:15.205204Z",
     "shell.execute_reply.started": "2025-03-12T02:07:15.195946Z"
    }
   },
   "outputs": [],
   "source": [
    "# Filter variant for PVS1 very strong\n",
    "pvs1_vstrong_cpra:list = apvs1_df.loc[apvs1_df.is_PVS1_vstrong, 'Chr-Pos-Ref-Alt'].tolist()\n",
    "filtered_df = data_df.loc[pvs1_vstrong_cpra, :].copy()"
   ]
  },
  {
   "cell_type": "code",
   "execution_count": 40,
   "id": "b9773c90-ab78-4221-ba4b-e8b5e5a820ae",
   "metadata": {
    "execution": {
     "iopub.execute_input": "2025-03-12T02:07:52.242290Z",
     "iopub.status.busy": "2025-03-12T02:07:52.241622Z",
     "iopub.status.idle": "2025-03-12T02:07:52.341430Z",
     "shell.execute_reply": "2025-03-12T02:07:52.339633Z",
     "shell.execute_reply.started": "2025-03-12T02:07:52.242237Z"
    }
   },
   "outputs": [],
   "source": [
    "# Export to TSV\n",
    "filtered_df.to_csv(filtered_tsv, index=True, index_label='Chr-Pos-Ref-Alt', sep='\\t')"
   ]
  },
  {
   "cell_type": "code",
   "execution_count": null,
   "id": "fc7c5b47-5431-470e-a769-6a0034b07c9d",
   "metadata": {},
   "outputs": [],
   "source": []
  }
 ],
 "metadata": {
  "kernelspec": {
   "display_name": "Python 3 (ipykernel)",
   "language": "python",
   "name": "python3"
  },
  "language_info": {
   "codemirror_mode": {
    "name": "ipython",
    "version": 3
   },
   "file_extension": ".py",
   "mimetype": "text/x-python",
   "name": "python",
   "nbconvert_exporter": "python",
   "pygments_lexer": "ipython3",
   "version": "3.10.12"
  }
 },
 "nbformat": 4,
 "nbformat_minor": 5
}
