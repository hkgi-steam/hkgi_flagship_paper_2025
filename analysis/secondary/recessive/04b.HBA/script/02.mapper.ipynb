{
 "cells": [
  {
   "cell_type": "code",
   "execution_count": 2,
   "metadata": {},
   "outputs": [],
   "source": [
    "from pathlib import Path\n",
    "import pandas as pd\n",
    "import re"
   ]
  },
  {
   "cell_type": "code",
   "execution_count": 7,
   "metadata": {},
   "outputs": [],
   "source": [
    "projectDir = Path(\"/home/_shared/jscliu/project/2025/Flagship/analysis/secondary/recessive/04b.HBA/summary\")\n",
    "hba_file = projectDir/\"result.csv\"\n",
    "output_file = projectDir/\"HBA_per_sample_result.csv\"\n",
    "mapper_file = \"/home/_shared/jscliu/project/2025/Flagship/reference/sample_info_annot.2024-11-12.csv\"\n"
   ]
  },
  {
   "cell_type": "code",
   "execution_count": 30,
   "metadata": {},
   "outputs": [],
   "source": [
    "hba_df = pd.read_csv(hba_file)\n",
    "mapper_df = pd.read_csv(mapper_file)"
   ]
  },
  {
   "cell_type": "code",
   "execution_count": 24,
   "metadata": {},
   "outputs": [],
   "source": [
    "# Get a dict of hkgi_id to sre_id\n",
    "mapper_d = mapper_df.set_index('hkgp_id').to_dict()['sre_participant_id']"
   ]
  },
  {
   "cell_type": "code",
   "execution_count": 31,
   "metadata": {},
   "outputs": [],
   "source": [
    "# Identify the sre_id from the padded_id in the hba_file\n",
    "def extract_sample_id(padded_id:str, mapper_d:dict):\n",
    "    hkgp_id = re.match(r'^[A-Z]+[0-9]+', padded_id.split('_')[2])[0]\n",
    "    return pd.Series([mapper_d[hkgp_id], hkgp_id])\n",
    "hba_df[['SRE ID', 'Sample ID']] = hba_df.apply(lambda r: extract_sample_id(r['Unnamed: 0'], mapper_d), axis=1)"
   ]
  },
  {
   "cell_type": "code",
   "execution_count": 33,
   "metadata": {},
   "outputs": [],
   "source": [
    "output_df = hba_df.loc[:, ['SRE ID', 'Sample ID', 'Label']].copy()"
   ]
  },
  {
   "cell_type": "code",
   "execution_count": 36,
   "metadata": {},
   "outputs": [],
   "source": [
    "output_df.to_csv(output_file, index=False)"
   ]
  },
  {
   "cell_type": "code",
   "execution_count": null,
   "metadata": {},
   "outputs": [],
   "source": []
  }
 ],
 "metadata": {
  "kernelspec": {
   "display_name": "Python 3 (ipykernel)",
   "language": "python",
   "name": "python3"
  }
 },
 "nbformat": 4,
 "nbformat_minor": 2
}
