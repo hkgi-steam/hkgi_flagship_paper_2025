{
 "cells": [
  {
   "cell_type": "code",
   "execution_count": 2,
   "id": "6e9ad67b-91a0-4b5e-ba25-d717aee751e7",
   "metadata": {
    "execution": {
     "iopub.execute_input": "2025-04-17T02:58:38.986046Z",
     "iopub.status.busy": "2025-04-17T02:58:38.985205Z",
     "iopub.status.idle": "2025-04-17T02:58:39.906128Z",
     "shell.execute_reply": "2025-04-17T02:58:39.905187Z",
     "shell.execute_reply.started": "2025-04-17T02:58:38.985987Z"
    }
   },
   "outputs": [],
   "source": [
    "from pathlib import Path\n",
    "import pandas as pd\n",
    "import numpy as np\n",
    "import re\n",
    "from collections import defaultdict\n",
    "import matplotlib.pyplot as plt\n",
    "import seaborn as sns\n",
    "plt.style.use('ggplot')"
   ]
  },
  {
   "cell_type": "code",
   "execution_count": 3,
   "id": "39adf82f-9028-4517-80bc-27b46e8294ea",
   "metadata": {
    "execution": {
     "iopub.execute_input": "2025-04-17T02:58:39.907401Z",
     "iopub.status.busy": "2025-04-17T02:58:39.907201Z",
     "iopub.status.idle": "2025-04-17T02:58:39.912528Z",
     "shell.execute_reply": "2025-04-17T02:58:39.911606Z",
     "shell.execute_reply.started": "2025-04-17T02:58:39.907385Z"
    }
   },
   "outputs": [],
   "source": [
    "projectDir = Path(\"/home/_shared/jscliu/project/2025/Flagship/analysis/secondary/PGx/01c.genotype.HLA-HD/summary\")\n",
    "\n",
    "# Input\n",
    "consolidated_hlaa = projectDir/\"HLA-A.results_all.tsv\"\n",
    "consolidated_hlab = projectDir/\"HLA-B.results_all.tsv\"\n",
    "\n",
    "# Reference\n",
    "sample_info = Path(\"/home/_shared/jscliu/project/2025/Flagship/reference/sample_info_annot.2024-11-12.csv\")\n",
    "cohort_founder = Path(\"/home/_shared/jscliu/project/2025/Flagship/reference/cohort_founder_list.2024-11-12.csv\")\n",
    "hla_a_risk_alleles = ['HLA-A*31:01']\n",
    "hla_b_risk_alleles = ['HLA-B*15:02', 'HLA-B*57:01', 'HLA-B*58:01']\n",
    "\n",
    "# Output\n",
    "all_hla_a_perGene = projectDir/\"all_perGenes.HLA-A.csv\"\n",
    "all_hla_b_perGene = projectDir/\"all_perGenes.HLA-B.csv\"\n",
    "hla_a_perGene = projectDir/\"perGenes.HLA-A.csv\"\n",
    "hla_b_perGene = projectDir/\"perGenes.HLA-B.csv\"\n",
    "hla_a_af = projectDir/\"allele_frequency.HLA-A.csv\"\n",
    "hla_b_af = projectDir/\"allele_frequency.HLA-B.csv\"\n",
    "hla_a_pheno = projectDir/\"phenotype.HLA-A.csv\"\n",
    "hla_b_pheno = projectDir/\"phenotype.HLA-B.csv\""
   ]
  },
  {
   "cell_type": "markdown",
   "id": "083b2693-8de6-40a8-a205-8dcfbf468847",
   "metadata": {},
   "source": [
    "# Read sample information"
   ]
  },
  {
   "cell_type": "code",
   "execution_count": 4,
   "id": "1451c779-4c6a-4b42-8b8e-51b793a5fce2",
   "metadata": {
    "execution": {
     "iopub.execute_input": "2025-04-17T02:58:42.176412Z",
     "iopub.status.busy": "2025-04-17T02:58:42.175586Z",
     "iopub.status.idle": "2025-04-17T02:58:42.273541Z",
     "shell.execute_reply": "2025-04-17T02:58:42.272655Z",
     "shell.execute_reply.started": "2025-04-17T02:58:42.176359Z"
    }
   },
   "outputs": [],
   "source": [
    "with open(cohort_founder, 'r') as fh:\n",
    "    cohort_founders:list = [ line.strip().split(',')[1] for line in fh ]\n",
    "sample_info_df = pd.read_csv(sample_info)\n",
    "founder_info_df = sample_info_df.loc[sample_info_df['sre_lab_id'].isin(cohort_founders), :].copy()"
   ]
  },
  {
   "cell_type": "markdown",
   "id": "9bd2c87f-7006-4571-a357-7457edffb27b",
   "metadata": {},
   "source": [
    "# Read HLA-HD results"
   ]
  },
  {
   "cell_type": "code",
   "execution_count": 5,
   "id": "27f4e2ed-8539-4de6-af13-314ca52aa91d",
   "metadata": {
    "execution": {
     "iopub.execute_input": "2025-04-17T02:58:44.226621Z",
     "iopub.status.busy": "2025-04-17T02:58:44.225631Z",
     "iopub.status.idle": "2025-04-17T02:58:44.295104Z",
     "shell.execute_reply": "2025-04-17T02:58:44.294233Z",
     "shell.execute_reply.started": "2025-04-17T02:58:44.226560Z"
    }
   },
   "outputs": [],
   "source": [
    "hla_a_df = pd.read_table(consolidated_hlaa, index_col=[0]).rename(columns={'diplotype': 'major'})\n",
    "hla_b_df = pd.read_table(consolidated_hlab, index_col=[0]).rename(columns={'diplotype': 'major'})"
   ]
  },
  {
   "cell_type": "markdown",
   "id": "b20f27e5-c090-49b8-b14b-765d861cecf1",
   "metadata": {},
   "source": [
    "# Merge hla_a_df/hla_b_df to founder_info_df"
   ]
  },
  {
   "cell_type": "code",
   "execution_count": 6,
   "id": "a021c19f-bf1d-439a-b4e2-efe706b96cae",
   "metadata": {
    "execution": {
     "iopub.execute_input": "2025-04-17T02:59:56.672164Z",
     "iopub.status.busy": "2025-04-17T02:59:56.671338Z",
     "iopub.status.idle": "2025-04-17T02:59:56.712452Z",
     "shell.execute_reply": "2025-04-17T02:59:56.711603Z",
     "shell.execute_reply.started": "2025-04-17T02:59:56.672109Z"
    }
   },
   "outputs": [],
   "source": [
    "hla_a_result_df = sample_info_df.merge(hla_a_df, left_on='sre_lab_id', right_index=True)\n",
    "hla_b_result_df = sample_info_df.merge(hla_b_df, left_on='sre_lab_id', right_index=True)"
   ]
  },
  {
   "cell_type": "code",
   "execution_count": 8,
   "id": "6db93fbf-1b4a-4ec9-bb00-8ed7383d2c65",
   "metadata": {
    "execution": {
     "iopub.execute_input": "2025-04-17T03:00:23.828179Z",
     "iopub.status.busy": "2025-04-17T03:00:23.827345Z",
     "iopub.status.idle": "2025-04-17T03:00:24.782570Z",
     "shell.execute_reply": "2025-04-17T03:00:24.781640Z",
     "shell.execute_reply.started": "2025-04-17T03:00:23.828125Z"
    }
   },
   "outputs": [],
   "source": [
    "# Add columns: 'gene'\n",
    "hla_a_result_df['gene'] = 'HLA-A'\n",
    "hla_b_result_df['gene'] = 'HLA-B'\n",
    "\n",
    "# Refine columns: 'haplotype_1, haplotype_2\n",
    "hla_a_result_df['haplotype_1'] = hla_a_result_df['haplotype_1'].apply(lambda x: \":\".join(x.split(\":\")[:2]) if not pd.isna(x) else np.nan)\n",
    "hla_a_result_df['haplotype_2'] = hla_a_result_df['haplotype_2'].apply(lambda x: \":\".join(x.split(\":\")[:2]) if not pd.isna(x) else np.nan)\n",
    "hla_b_result_df['haplotype_1'] = hla_b_result_df['haplotype_1'].apply(lambda x: \":\".join(x.split(\":\")[:2]) if not pd.isna(x) else np.nan)\n",
    "hla_b_result_df['haplotype_2'] = hla_b_result_df['haplotype_2'].apply(lambda x: \":\".join(x.split(\":\")[:2]) if not pd.isna(x) else np.nan) \n",
    "\n",
    "# Add columns: 'minor' and 'genotype'\n",
    "hla_a_result_df['minor'] = hla_a_result_df.apply(lambda r: f\"{r.haplotype_1}/{r.haplotype_2}\"if ((not pd.isna(r.haplotype_1)) & (not pd.isna(r.haplotype_2))) else np.nan, axis=1)\n",
    "hla_a_result_df['genotype'] = hla_a_result_df['minor']\n",
    "hla_b_result_df['minor'] = hla_b_result_df.apply(lambda r: f\"{r.haplotype_1}/{r.haplotype_2}\"if ((not pd.isna(r.haplotype_1)) & (not pd.isna(r.haplotype_2))) else np.nan, axis=1)\n",
    "hla_b_result_df['genotype'] = hla_b_result_df['minor']"
   ]
  },
  {
   "cell_type": "code",
   "execution_count": 9,
   "id": "b640d904-b502-4cb1-9474-cf2d87fb13ee",
   "metadata": {
    "execution": {
     "iopub.execute_input": "2025-04-17T03:00:27.250095Z",
     "iopub.status.busy": "2025-04-17T03:00:27.249248Z",
     "iopub.status.idle": "2025-04-17T03:00:27.313244Z",
     "shell.execute_reply": "2025-04-17T03:00:27.312375Z",
     "shell.execute_reply.started": "2025-04-17T03:00:27.250041Z"
    }
   },
   "outputs": [],
   "source": [
    "# Annotate the allele function\n",
    "def annotate_allele_func(allele:str, risk_alleles:list):\n",
    "    if pd.isna(allele):\n",
    "        return np.nan\n",
    "    elif allele in risk_alleles:\n",
    "        return \"high_risk\"\n",
    "    else:\n",
    "        return \"low_risk\"\n",
    "\n",
    "hla_a_result_df['haplotype_1_func'] = hla_a_result_df['haplotype_1'].apply(lambda x: annotate_allele_func(x, hla_a_risk_alleles))\n",
    "hla_a_result_df['haplotype_2_func'] = hla_a_result_df['haplotype_2'].apply(lambda x: annotate_allele_func(x, hla_a_risk_alleles))\n",
    "hla_b_result_df['haplotype_1_func'] = hla_b_result_df['haplotype_1'].apply(lambda x: annotate_allele_func(x, hla_b_risk_alleles))\n",
    "hla_b_result_df['haplotype_2_func'] = hla_b_result_df['haplotype_2'].apply(lambda x: annotate_allele_func(x, hla_b_risk_alleles))"
   ]
  },
  {
   "cell_type": "code",
   "execution_count": 10,
   "id": "eb8f7916-72c1-4481-b4c9-0e6dca34ae62",
   "metadata": {
    "execution": {
     "iopub.execute_input": "2025-04-17T03:00:29.622136Z",
     "iopub.status.busy": "2025-04-17T03:00:29.621322Z",
     "iopub.status.idle": "2025-04-17T03:00:30.159150Z",
     "shell.execute_reply": "2025-04-17T03:00:30.158078Z",
     "shell.execute_reply.started": "2025-04-17T03:00:29.622082Z"
    }
   },
   "outputs": [],
   "source": [
    "# Annotate the phenotype\n",
    "def annotate_phenotype(hap_1, hap_2):\n",
    "    if pd.isna(hap_1) | pd.isna(hap_2):\n",
    "        return np.nan\n",
    "    elif \"high_risk\" in [hap_1, hap_2]:\n",
    "        return \"Carrier_of_risk_alleles\"\n",
    "    else:\n",
    "        return \"Non_carrier_of_risk_alleles\"\n",
    "\n",
    "hla_a_result_df['phenotype'] = hla_a_result_df.apply(lambda r: annotate_phenotype(r.haplotype_1_func, r.haplotype_2_func), axis=1)\n",
    "hla_b_result_df['phenotype'] = hla_b_result_df.apply(lambda r: annotate_phenotype(r.haplotype_1_func, r.haplotype_2_func), axis=1)"
   ]
  },
  {
   "cell_type": "code",
   "execution_count": 11,
   "id": "a020ceb1-1677-48bc-87d9-8ae3decf3c6e",
   "metadata": {
    "execution": {
     "iopub.execute_input": "2025-04-17T03:00:30.160542Z",
     "iopub.status.busy": "2025-04-17T03:00:30.160376Z",
     "iopub.status.idle": "2025-04-17T03:00:30.165653Z",
     "shell.execute_reply": "2025-04-17T03:00:30.164710Z",
     "shell.execute_reply.started": "2025-04-17T03:00:30.160525Z"
    }
   },
   "outputs": [],
   "source": [
    "# Annotate the pseudo_priority_notation\n",
    "hla_a_result_df['EHR_priority_notation'] = np.nan\n",
    "hla_b_result_df['EHR_priority_notation'] = np.nan"
   ]
  },
  {
   "cell_type": "markdown",
   "id": "308ff36c-7453-4c72-afcf-350c99731365",
   "metadata": {},
   "source": [
    "# Subset for required columns and export to CSV"
   ]
  },
  {
   "cell_type": "code",
   "execution_count": 12,
   "id": "f430d455-b3e2-47ec-ad2e-107e39da4fe8",
   "metadata": {
    "execution": {
     "iopub.execute_input": "2025-04-17T03:00:33.806150Z",
     "iopub.status.busy": "2025-04-17T03:00:33.805332Z",
     "iopub.status.idle": "2025-04-17T03:00:33.847097Z",
     "shell.execute_reply": "2025-04-17T03:00:33.846184Z",
     "shell.execute_reply.started": "2025-04-17T03:00:33.806095Z"
    }
   },
   "outputs": [],
   "source": [
    "keep_cols:list = [\n",
    "    'sre_participant_id','sre_lab_id', 'gene',\n",
    "    'major', 'minor', 'haplotype_1', 'haplotype_2', 'genotype',\n",
    "    'haplotype_1_func', 'haplotype_2_func', 'phenotype', 'EHR_priority_notation'\n",
    "]\n",
    "hla_a_allResults_df = hla_a_result_df.loc[:, keep_cols].copy()\n",
    "hla_b_allResults_df = hla_b_result_df.loc[:, keep_cols].copy()"
   ]
  },
  {
   "cell_type": "code",
   "execution_count": 14,
   "id": "f8f78285-0d43-42e2-a22e-294c214dd2e8",
   "metadata": {
    "execution": {
     "iopub.execute_input": "2025-04-17T03:01:10.386672Z",
     "iopub.status.busy": "2025-04-17T03:01:10.385841Z",
     "iopub.status.idle": "2025-04-17T03:01:10.566655Z",
     "shell.execute_reply": "2025-04-17T03:01:10.565738Z",
     "shell.execute_reply.started": "2025-04-17T03:01:10.386618Z"
    }
   },
   "outputs": [],
   "source": [
    "# All participants\n",
    "hla_a_allResults_df.to_csv(all_hla_a_perGene, index=False)\n",
    "hla_b_allResults_df.to_csv(all_hla_b_perGene, index=False)"
   ]
  },
  {
   "cell_type": "code",
   "execution_count": 17,
   "id": "086927cf-7580-44f3-b489-a735c75ffeb3",
   "metadata": {
    "execution": {
     "iopub.execute_input": "2025-04-17T03:02:42.558674Z",
     "iopub.status.busy": "2025-04-17T03:02:42.557844Z",
     "iopub.status.idle": "2025-04-17T03:02:42.594334Z",
     "shell.execute_reply": "2025-04-17T03:02:42.593351Z",
     "shell.execute_reply.started": "2025-04-17T03:02:42.558621Z"
    }
   },
   "outputs": [],
   "source": [
    "# Drop non-unrelated-Chinese\n",
    "hla_a_allResults_df =  hla_a_allResults_df.loc[hla_a_allResults_df['sre_lab_id'].isin(cohort_founders), :].copy()\n",
    "hla_b_allResults_df =  hla_b_allResults_df.loc[hla_b_allResults_df['sre_lab_id'].isin(cohort_founders), :].copy()"
   ]
  },
  {
   "cell_type": "code",
   "execution_count": 115,
   "id": "3ec0fb08-3986-427d-8cdd-bbb40452f268",
   "metadata": {},
   "outputs": [],
   "source": [
    "hla_a_allResults_df.to_csv(hla_a_perGene, index=False)\n",
    "hla_b_allResults_df.to_csv(hla_b_perGene, index=False)"
   ]
  },
  {
   "cell_type": "markdown",
   "id": "0de71913-a0c5-45c5-b18a-2abf783396af",
   "metadata": {},
   "source": [
    "# Calculate the allele frequencies"
   ]
  },
  {
   "cell_type": "code",
   "execution_count": 123,
   "id": "d70c3bea-5781-4261-97ca-f27ca05e34e6",
   "metadata": {},
   "outputs": [],
   "source": [
    "def allResults_to_af(in_df, ploidy=\"diploid\"):\n",
    "    df = in_df.copy()\n",
    "    df['zygosity'] = df.apply(lambda r: \"hom\" if r.haplotype_1 == r.haplotype_2 else \"non_hom\", axis=1)\n",
    "    gene = df['gene'].unique().tolist()[0]\n",
    "    \n",
    "    af_df = pd.concat([\n",
    "        df.loc[:, ['haplotype_1', 'haplotype_1_func']].rename(columns={\"haplotype_1\": \"variant\", \"haplotype_1_func\": \"allele_function\"}), \n",
    "        df.loc[:, ['haplotype_2', 'haplotype_2_func']].rename(columns={\"haplotype_2\": \"variant\", \"haplotype_2_func\": \"allele_function\"})\n",
    "    ])\n",
    "    af_df = af_df.groupby('variant', as_index=False).agg(list)\n",
    "    af_df['gene'] = gene\n",
    "    af_df['allele_count'] = af_df['allele_function'].apply(len)\n",
    "    af_df['allele_function'] = af_df['allele_function'].apply(lambda x: x[0])\n",
    "    af_df['allele_number'] = 2*len(df) if ploidy=='diploid' else len(df)\n",
    "    af_df['allele_frequency'] = af_df.apply(lambda r: r.allele_count/r.allele_number, axis=1)\n",
    "    \n",
    "    # Count zygosity\n",
    "    zygosity_df_ls = list()\n",
    "    for i, r in af_df.iterrows():\n",
    "        n_hom = len(df.loc[(df['haplotype_1']==r.variant) & (df.zygosity=='hom'), :])\n",
    "        n_het = len(df.loc[((df['haplotype_1']==r.variant) | (df['haplotype_2']==r.variant)) & (df.zygosity=='non_hom'), :])\n",
    "        zygosity_df_ls.append(pd.DataFrame({\"no_heterozygous_carriers\": n_het, \"no_homozygous_carriers\": n_hom}, index=[i]))\n",
    "    \n",
    "    # Append zygosity to af_df\n",
    "    af_df = af_df.merge(pd.concat(zygosity_df_ls), left_index=True, right_index=True, how='left')\n",
    "    \n",
    "    # Subset columns\n",
    "    af_df_cols:list = [\"gene\", \"variant\", \"allele_function\", \"allele_frequency\", \"allele_count\", \"allele_number\", \"no_heterozygous_carriers\", \"no_homozygous_carriers\"]\n",
    "    af_df = af_df.loc[:, af_df_cols].copy()\n",
    "    \n",
    "    # Sort and reset index, then return\n",
    "    af_df.sort_values(by=[\"allele_function\", \"allele_frequency\", \"variant\"], ascending=[False, False, True], inplace=True)\n",
    "    af_df.reset_index(drop=True, inplace=True)\n",
    "    return af_df"
   ]
  },
  {
   "cell_type": "code",
   "execution_count": 113,
   "id": "1a85f9fd-037f-4cfc-842d-1d68b92b2a86",
   "metadata": {},
   "outputs": [],
   "source": [
    "hla_a_af_df = allResults_to_af(hla_a_allResults_df)\n",
    "hla_b_af_df = allResults_to_af(hla_b_allResults_df)"
   ]
  },
  {
   "cell_type": "code",
   "execution_count": 116,
   "id": "7c295d55-7abd-42d7-bbd9-f6f95ed8145b",
   "metadata": {},
   "outputs": [],
   "source": [
    "hla_a_af_df.to_csv(hla_a_af, index=False)\n",
    "hla_b_af_df.to_csv(hla_b_af, index=False)"
   ]
  },
  {
   "cell_type": "markdown",
   "id": "7c114f2c-c112-4b1c-915a-52d2bb1c4f11",
   "metadata": {},
   "source": [
    "# (Not executed) Calculate the phenotype frequencies"
   ]
  },
  {
   "cell_type": "code",
   "execution_count": 135,
   "id": "ebe7fe9f-8c3d-4794-b3ce-94a73d131571",
   "metadata": {},
   "outputs": [],
   "source": [
    "def allResults_to_pheno(in_df):\n",
    "    df = in_df.copy()\n",
    "    phenotyped_df = df.dropna(subset=[\"phenotype\"])\n",
    "    pheno_df = phenotyped_df.loc[:, ['gene', 'genotype', 'phenotype']].groupby('phenotype', as_index=False).agg(list)\n",
    "    pheno_df['no_carriers_with_risk_alleles'] = pheno_df['gene'].apply(len)\n",
    "    pheno_df['all_genotyped_individuals'] = len(phenotyped_df)\n",
    "    pheno_df['carrier_frequency'] = pheno_df['no_carriers_with_risk_alleles'] / pheno_df['all_genotyped_individuals']\n",
    "    pheno_df['pharmacogene'] = pheno_df['gene'].apply(lambda x: x[0])\n",
    "    pheno_df['genotype'] = pheno_df['genotype'].apply(lambda x: \"/\".join(x))\n",
    "    \n",
    "    # Subset columns\n",
    "    pheno_df_cols:list = [\"pharmacogene\", \"genotype\", \"phenotype\", \"carrier_frequency\", \"no_carriers_with_risk_alleles\", \"all_genotyped_individuals\"]\n",
    "    pheno_df = pheno_df.loc[:, pheno_df_cols].copy()\n",
    "    \n",
    "    # Sort and reset index, then return\n",
    "    pheno_df.sort_values(by=[\"phenotype\", \"carrier_frequency\"], ascending=False, inplace=True)\n",
    "    pheno_df.reset_index(drop=True, inplace=True)\n",
    "    return pheno_df"
   ]
  },
  {
   "cell_type": "code",
   "execution_count": 136,
   "id": "e16782ab-033b-4e1c-a979-672b8f047d3c",
   "metadata": {},
   "outputs": [],
   "source": [
    "hla_a_pheno_df = allResults_to_pheno(hla_a_allResults_df)\n",
    "hla_b_pheno_df = allResults_to_pheno(hla_b_allResults_df)"
   ]
  },
  {
   "cell_type": "code",
   "execution_count": 139,
   "id": "b66b26a7-d868-4986-a165-5a522ccd341a",
   "metadata": {},
   "outputs": [],
   "source": [
    "hla_a_pheno_df.to_csv(hla_a_pheno, index=False)\n",
    "hla_b_pheno_df.to_csv(hla_b_pheno, index=False)"
   ]
  },
  {
   "cell_type": "code",
   "execution_count": null,
   "id": "e86f5243-e412-4272-ab6b-b18d4b2c4a81",
   "metadata": {},
   "outputs": [],
   "source": []
  }
 ],
 "metadata": {
  "kernelspec": {
   "display_name": "Python 3 (ipykernel)",
   "language": "python",
   "name": "python3"
  },
  "language_info": {
   "codemirror_mode": {
    "name": "ipython",
    "version": 3
   },
   "file_extension": ".py",
   "mimetype": "text/x-python",
   "name": "python",
   "nbconvert_exporter": "python",
   "pygments_lexer": "ipython3",
   "version": "3.10.12"
  }
 },
 "nbformat": 4,
 "nbformat_minor": 5
}
