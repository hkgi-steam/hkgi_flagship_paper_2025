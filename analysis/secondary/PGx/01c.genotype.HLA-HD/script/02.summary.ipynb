{
 "cells": [
  {
   "cell_type": "code",
   "execution_count": 11,
   "id": "20e2e1c8-df6d-4232-aaab-ee0b9e122192",
   "metadata": {},
   "outputs": [],
   "source": [
    "from pathlib import Path\n",
    "import pandas as pd\n",
    "import numpy as np\n",
    "import sys\n",
    "import multiprocessing\n",
    "from tqdm import tqdm"
   ]
  },
  {
   "cell_type": "code",
   "execution_count": 12,
   "id": "6b81e7d0-f085-40d2-9d9c-b780d76c370d",
   "metadata": {},
   "outputs": [],
   "source": [
    "resultDir = Path(\"/home/_shared/jscliu/project/2025/Flagship/analysis/secondary/PGx/01c.genotype.HLA-HD/results\")\n",
    "summaryDir = Path(\"/home/_shared/jscliu/project/2025/Flagship/analysis/secondary/PGx/01c.genotype.HLA-HD/summary\")\n",
    "summaryDir.mkdir(exist_ok=True)"
   ]
  },
  {
   "cell_type": "code",
   "execution_count": 18,
   "id": "8a332809-63f1-41d1-9837-47f3227e868e",
   "metadata": {},
   "outputs": [],
   "source": [
    "def extract_allele(result_tab, gene):\n",
    "    with open(result_tab, 'r') as f:\n",
    "        for line in f:\n",
    "            call_ls = line.strip().split('\\t')\n",
    "            if call_ls[0] != gene:\n",
    "                continue\n",
    "            \n",
    "            haplotype_1, haplotype_2 = call_ls[1:3]\n",
    "            if (haplotype_1 == \"Not typed\") or (haplotype_2 == \"Not typed\"):\n",
    "                diplotype = np.nan\n",
    "                haplotype_1 = np.nan if haplotype_1 == \"Not typed\" else haplotype_1\n",
    "                haplotype_2 = np.nan if haplotype_2 == \"Not typed\" else haplotype_2\n",
    "            else:\n",
    "                haplotype_2 = haplotype_1 if haplotype_2 == \"-\" else haplotype_2\n",
    "                diplotype = f'{haplotype_1}/{haplotype_2}'\n",
    "            return haplotype_1, haplotype_2, diplotype\n",
    "    sys.exit(1)"
   ]
  },
  {
   "cell_type": "code",
   "execution_count": 19,
   "id": "df171996-8ca0-4b31-9fab-4e575f09cd29",
   "metadata": {},
   "outputs": [
    {
     "name": "stderr",
     "output_type": "stream",
     "text": [
      "100%|████████████████████████████████████| 24122/24122 [00:28<00:00, 841.72it/s]\n"
     ]
    }
   ],
   "source": [
    "# Consolidate all *final.result.txt into a single matrix\n",
    "hla_a_df = None\n",
    "hla_b_df = None\n",
    "\n",
    "final_result_ls:list = list(resultDir.rglob(\"*_final.result.txt\"))\n",
    "for result_tab in tqdm(final_result_ls):\n",
    "    sample_id = result_tab.parent.parent.name\n",
    "    \n",
    "    # HLA-A\n",
    "    a_h1, a_h2, a_d = extract_allele(result_tab, \"A\")\n",
    "    df = pd.DataFrame({\"haplotype_1\": [a_h1], \"haplotype_2\": [a_h2], \"diplotype\": [a_d]}, index=[sample_id])\n",
    "    hla_a_df = df.copy() if hla_a_df is None else pd.concat([hla_a_df, df])\n",
    "\n",
    "    # HLA-B\n",
    "    b_h1, b_h2, b_d = extract_allele(result_tab, \"B\")\n",
    "    df = pd.DataFrame({\"haplotype_1\": [b_h1], \"haplotype_2\": [b_h2], \"diplotype\": [b_d]}, index=[sample_id])\n",
    "    hla_b_df = df.copy() if hla_b_df is None else pd.concat([hla_b_df, df])"
   ]
  },
  {
   "cell_type": "markdown",
   "id": "469046af-6cbd-49cf-a6cf-b75e024f2288",
   "metadata": {},
   "source": [
    "# Export hla_a_df and hla_b_df to CSV"
   ]
  },
  {
   "cell_type": "code",
   "execution_count": 21,
   "id": "3c275b2f-e5e9-4a94-92ed-b91d34073abd",
   "metadata": {},
   "outputs": [],
   "source": [
    "hla_a_tsv = summaryDir/'HLA-A.results_all.tsv'\n",
    "hla_a_df.to_csv(hla_a_tsv, sep='\\t', index=True, index_label=\"sample_id\")\n",
    "\n",
    "hla_b_tsv = summaryDir/'HLA-B.results_all.tsv'\n",
    "hla_b_df.to_csv(hla_b_tsv, sep='\\t', index=True, index_label=\"sample_id\")"
   ]
  },
  {
   "cell_type": "code",
   "execution_count": null,
   "id": "09b6c2e8-db37-4e53-80b4-b6a7a33e7b8d",
   "metadata": {},
   "outputs": [],
   "source": []
  }
 ],
 "metadata": {
  "kernelspec": {
   "display_name": "Python 3 (ipykernel)",
   "language": "python",
   "name": "python3"
  },
  "language_info": {
   "codemirror_mode": {
    "name": "ipython",
    "version": 3
   },
   "file_extension": ".py",
   "mimetype": "text/x-python",
   "name": "python",
   "nbconvert_exporter": "python",
   "pygments_lexer": "ipython3",
   "version": "3.10.12"
  }
 },
 "nbformat": 4,
 "nbformat_minor": 5
}
