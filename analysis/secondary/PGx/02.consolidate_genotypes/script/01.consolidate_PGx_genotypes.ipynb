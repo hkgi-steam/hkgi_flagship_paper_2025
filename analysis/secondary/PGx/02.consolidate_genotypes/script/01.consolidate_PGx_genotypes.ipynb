{
 "cells": [
  {
   "cell_type": "code",
   "execution_count": 7,
   "id": "1c7b42bc-6b90-4026-a966-91f61ffc7f6c",
   "metadata": {
    "execution": {
     "iopub.execute_input": "2025-05-13T09:51:27.267784Z",
     "iopub.status.busy": "2025-05-13T09:51:27.267043Z",
     "iopub.status.idle": "2025-05-13T09:51:27.280379Z",
     "shell.execute_reply": "2025-05-13T09:51:27.277695Z",
     "shell.execute_reply.started": "2025-05-13T09:51:27.267725Z"
    }
   },
   "outputs": [],
   "source": [
    "from pathlib import Path\n",
    "import pandas as pd\n",
    "import numpy as np\n",
    "from yaml import load\n",
    "from yaml import CLoader as Loader\n",
    "import re"
   ]
  },
  {
   "cell_type": "code",
   "execution_count": 8,
   "id": "d058ef1f-a63b-4dde-be36-9e59f009e037",
   "metadata": {
    "execution": {
     "iopub.execute_input": "2025-05-13T09:51:27.494630Z",
     "iopub.status.busy": "2025-05-13T09:51:27.493891Z",
     "iopub.status.idle": "2025-05-13T09:51:27.508812Z",
     "shell.execute_reply": "2025-05-13T09:51:27.506436Z",
     "shell.execute_reply.started": "2025-05-13T09:51:27.494571Z"
    }
   },
   "outputs": [],
   "source": [
    "projectDir = Path(\"/home/_shared/jscliu/project/2025/Flagship/analysis/secondary/PGx\")\n",
    "summaryDir = projectDir/\"02.consolidate_genotypes/summary\"\n",
    "pheno_cat = projectDir/\"02.consolidate_genotypes/script/phenotype_category.yml\"\n",
    "sample_info = Path(\"/home/_shared/jscliu/project/2025/Flagship/reference/sample_info_annot.2024-11-12.csv\")\n",
    "\n",
    "aldy_summary_dir = projectDir/f\"01a.genotype.aldy/summary\"\n",
    "cyrius_summary_dir = projectDir/f\"01b.genotype.Cyrius/summary\"\n",
    "hlahd_summary_dir = projectDir/f\"01c.genotype.HLA-HD/summary\"\n",
    "manual_summary_dir = projectDir/f\"01d.genotype.manual/summary\"\n",
    "\n",
    "# Output\n",
    "consolidate_perGene = summaryDir/\"pgx_allParticipants_allGenes.csv\""
   ]
  },
  {
   "cell_type": "code",
   "execution_count": 9,
   "id": "db1112d2-4645-4549-9752-f487563172f9",
   "metadata": {
    "execution": {
     "iopub.execute_input": "2025-05-13T09:51:27.867032Z",
     "iopub.status.busy": "2025-05-13T09:51:27.866289Z",
     "iopub.status.idle": "2025-05-13T09:51:27.883159Z",
     "shell.execute_reply": "2025-05-13T09:51:27.880192Z",
     "shell.execute_reply.started": "2025-05-13T09:51:27.866972Z"
    }
   },
   "outputs": [],
   "source": [
    "# Read pheno_cat as python dict\n",
    "with open(pheno_cat) as handle:\n",
    "    pheno_cat_d = load(handle, Loader=Loader)"
   ]
  },
  {
   "cell_type": "code",
   "execution_count": 10,
   "id": "ad68fee1-25ef-4940-9f59-b87bfe00ffab",
   "metadata": {
    "execution": {
     "iopub.execute_input": "2025-05-13T09:51:28.195427Z",
     "iopub.status.busy": "2025-05-13T09:51:28.194693Z",
     "iopub.status.idle": "2025-05-13T09:51:28.208563Z",
     "shell.execute_reply": "2025-05-13T09:51:28.205294Z",
     "shell.execute_reply.started": "2025-05-13T09:51:28.195367Z"
    }
   },
   "outputs": [],
   "source": [
    "level_1AB_genes:dict = {\n",
    "    \"aldy\": [\n",
    "        \"CYP4F2\", \"CYP2C19\", \"CYP2C9\", \"NUDT15\", \"TPMT\", \n",
    "        \"VKORC1\", \"CYP3A5\", \"CFTR\", \"CYP2B6\", \"DPYD\", \n",
    "        \"G6PD\", \"IFNL3\", \"SLCO1B1\", \"UGT1A1\", \"CYP3A4\", \n",
    "        \"NAT2\", \"CYP2A6\", \"VKORC1_rs2359612\", \"VKORC1_rs7294\", \n",
    "        \"VKORC1_rs8050894\", \"VKORC1_rs9934438\"\n",
    "    ], \n",
    "    \"Cyrius\": [\"CYP2D6\"], \n",
    "    \"HLA-HD\": [\"HLA-A\", \"HLA-B\"], \n",
    "    \"manual\": [\n",
    "        \"CACNA1S\", \"RYR1\", \"MT-RNR1\", \"ABCG2\", \n",
    "        \"IFNL3_rs8099917\", \"IFNL4_rs11322783\"\n",
    "    ]\n",
    "}\n",
    "\n",
    "tool_summary_d:dict = {\n",
    "    \"aldy\": aldy_summary_dir, \n",
    "    \"Cyrius\": cyrius_summary_dir, \n",
    "    \"HLA-HD\": hlahd_summary_dir, \n",
    "    \"manual\": manual_summary_dir \n",
    "}"
   ]
  },
  {
   "cell_type": "markdown",
   "id": "6958ab45-6695-4540-922b-cdd78b8ec479",
   "metadata": {},
   "source": [
    "# Read and extract sample info"
   ]
  },
  {
   "cell_type": "code",
   "execution_count": 11,
   "id": "0f5276a9-4f0f-49fe-a1cf-3f671ce4dfa5",
   "metadata": {
    "execution": {
     "iopub.execute_input": "2025-05-13T09:51:28.931135Z",
     "iopub.status.busy": "2025-05-13T09:51:28.930411Z",
     "iopub.status.idle": "2025-05-13T09:51:29.018867Z",
     "shell.execute_reply": "2025-05-13T09:51:29.016791Z",
     "shell.execute_reply.started": "2025-05-13T09:51:28.931075Z"
    }
   },
   "outputs": [],
   "source": [
    "sample_info_df = pd.read_csv(sample_info, index_col=[0])"
   ]
  },
  {
   "cell_type": "code",
   "execution_count": 12,
   "id": "609a080c-e50e-4fd7-9a47-6f0573156571",
   "metadata": {
    "execution": {
     "iopub.execute_input": "2025-05-13T09:51:29.348945Z",
     "iopub.status.busy": "2025-05-13T09:51:29.348213Z",
     "iopub.status.idle": "2025-05-13T09:51:29.367424Z",
     "shell.execute_reply": "2025-05-13T09:51:29.364928Z",
     "shell.execute_reply.started": "2025-05-13T09:51:29.348885Z"
    }
   },
   "outputs": [],
   "source": [
    "drop_cols = [\n",
    "    \"sample_nature\", \"sex\", \"X_logratio\", \"Y_logratio\", \n",
    "    \"birth_date\", \"father_ethnicity\", \"mother ethnicity\", \n",
    "    \"inferred_ethnicity\", \"chineseOrNotPredicted\"\n",
    "]\n",
    "sample_info_df.drop(columns=drop_cols, inplace=True)"
   ]
  },
  {
   "cell_type": "markdown",
   "id": "404c6772-9d84-4172-a9af-b1c50bba159f",
   "metadata": {},
   "source": [
    "# Read individual perGene df and append to sample_info_df"
   ]
  },
  {
   "cell_type": "code",
   "execution_count": 13,
   "id": "bcb9acd8-b30b-42a3-9fca-98a913fed658",
   "metadata": {
    "execution": {
     "iopub.execute_input": "2025-05-13T09:51:31.336397Z",
     "iopub.status.busy": "2025-05-13T09:51:31.335671Z",
     "iopub.status.idle": "2025-05-13T09:51:31.352245Z",
     "shell.execute_reply": "2025-05-13T09:51:31.349226Z",
     "shell.execute_reply.started": "2025-05-13T09:51:31.336337Z"
    }
   },
   "outputs": [],
   "source": [
    "def read_pgx_csv(csv, gene):\n",
    "    if gene == \"MT-RNR1\":\n",
    "        keep_colnames:list = ['genotype', 'phenotype']\n",
    "    else:\n",
    "        keep_colnames:list = ['genotype', 'haplotype_1', 'haplotype_2', 'haplotype_1_func', 'haplotype_2_func', 'phenotype']\n",
    "    gene_colnames:dict = { c: f\"{gene}_{c}\" for c in keep_colnames }\n",
    "    df = pd.read_csv(csv, index_col=[0])\n",
    "    df['sre_patient_id'] = df.index\n",
    "    df = df.drop_duplicates(subset=['sre_patient_id']).set_index('sre_patient_id', drop=True)\n",
    "    df = df.loc[:, keep_colnames].rename(columns=gene_colnames)\n",
    "    return df"
   ]
  },
  {
   "cell_type": "code",
   "execution_count": 14,
   "id": "c015a98d-7137-4d71-81d4-909219a32eeb",
   "metadata": {
    "execution": {
     "iopub.execute_input": "2025-05-13T09:51:32.223917Z",
     "iopub.status.busy": "2025-05-13T09:51:32.223193Z",
     "iopub.status.idle": "2025-05-13T09:51:35.858735Z",
     "shell.execute_reply": "2025-05-13T09:51:35.857770Z",
     "shell.execute_reply.started": "2025-05-13T09:51:32.223858Z"
    }
   },
   "outputs": [],
   "source": [
    "master_perGene_df = sample_info_df.copy()\n",
    "for tool, gene_ls in level_1AB_genes.items():\n",
    "    tool_summary = tool_summary_d[tool]\n",
    "    for gene in gene_ls:\n",
    "        # Define perGene CSV and read as df\n",
    "        all_perGene = tool_summary/f\"all_perGenes.{gene}.csv\"\n",
    "        df = read_pgx_csv(all_perGene, gene)\n",
    "        df[f\"{gene}_actionability\"] = df[f'{gene}_phenotype'].apply(lambda p: pheno_cat_d[gene][p] if p==p else \"NA\")\n",
    "\n",
    "        # Merge to master_perGene_df\n",
    "        master_perGene_df = master_perGene_df.merge(df, left_index=True, right_index=True, how='left')"
   ]
  },
  {
   "cell_type": "code",
   "execution_count": 15,
   "id": "b3bdc503-d186-4084-8ec6-bd0eb01d3ce5",
   "metadata": {
    "execution": {
     "iopub.execute_input": "2025-05-13T09:51:38.374500Z",
     "iopub.status.busy": "2025-05-13T09:51:38.373678Z",
     "iopub.status.idle": "2025-05-13T09:51:39.849302Z",
     "shell.execute_reply": "2025-05-13T09:51:39.848391Z",
     "shell.execute_reply.started": "2025-05-13T09:51:38.374435Z"
    }
   },
   "outputs": [],
   "source": [
    "# Treat VKORC1 and IFNL3 on gene level\n",
    "master_perGene_df['VKORC1_1AB_combined_actionability'] = master_perGene_df.apply(\n",
    "    lambda r: \"Actionable\" if \"Actionable\" in [ r[c] for c in master_perGene_df.columns if (c.startswith(\"VKORC1\")) & (c.endswith(\"_actionability\"))] else \"Normal\", \n",
    "    axis=1\n",
    ")\n",
    "master_perGene_df['IFNL3_1AB_combined_actionability'] = master_perGene_df.apply(\n",
    "    lambda r: \"Actionable\" if \"Actionable\" in [ r[c] for c in master_perGene_df.columns if (c.startswith(\"IFNL3\")) & (c.endswith(\"_actionability\"))] else \"Normal\", \n",
    "    axis=1\n",
    ")"
   ]
  },
  {
   "cell_type": "code",
   "execution_count": 45,
   "id": "49650b5b-fcf9-4af6-a4ba-47367d07246d",
   "metadata": {
    "execution": {
     "iopub.execute_input": "2025-05-13T09:51:40.549158Z",
     "iopub.status.busy": "2025-05-13T09:51:40.548413Z",
     "iopub.status.idle": "2025-05-13T09:51:41.490537Z",
     "shell.execute_reply": "2025-05-13T09:51:41.489516Z",
     "shell.execute_reply.started": "2025-05-13T09:51:40.549099Z"
    }
   },
   "outputs": [],
   "source": [
    "master_perGene_df.to_csv(consolidate_perGene, index=True, index_label=\"sre_participant_id\")"
   ]
  },
  {
   "cell_type": "code",
   "execution_count": null,
   "id": "087e39b9",
   "metadata": {},
   "outputs": [],
   "source": []
  }
 ],
 "metadata": {
  "kernelspec": {
   "display_name": "Python 3 (ipykernel)",
   "language": "python",
   "name": "python3"
  },
  "language_info": {
   "codemirror_mode": {
    "name": "ipython",
    "version": 3
   },
   "file_extension": ".py",
   "mimetype": "text/x-python",
   "name": "python",
   "nbconvert_exporter": "python",
   "pygments_lexer": "ipython3",
   "version": "3.10.12"
  }
 },
 "nbformat": 4,
 "nbformat_minor": 5
}
