{
 "cells": [
  {
   "cell_type": "code",
   "execution_count": 17,
   "id": "9c168c45-36d7-458a-8cfa-a87d75988115",
   "metadata": {
    "execution": {
     "iopub.execute_input": "2025-05-28T02:01:06.069851Z",
     "iopub.status.busy": "2025-05-28T02:01:06.069190Z",
     "iopub.status.idle": "2025-05-28T02:01:06.079559Z",
     "shell.execute_reply": "2025-05-28T02:01:06.077703Z",
     "shell.execute_reply.started": "2025-05-28T02:01:06.069817Z"
    }
   },
   "outputs": [],
   "source": [
    "from pathlib import Path\n",
    "import pandas as pd\n",
    "import numpy as np\n",
    "from yaml import load\n",
    "from yaml import CLoader as Loader\n",
    "import matplotlib.pyplot as plt\n",
    "import seaborn as sns\n",
    "sns.set_style('white')"
   ]
  },
  {
   "cell_type": "code",
   "execution_count": 18,
   "id": "bd0c9452-84ee-4efa-8d81-8413ea2f6410",
   "metadata": {
    "execution": {
     "iopub.execute_input": "2025-05-28T02:01:07.937344Z",
     "iopub.status.busy": "2025-05-28T02:01:07.936476Z",
     "iopub.status.idle": "2025-05-28T02:01:07.947044Z",
     "shell.execute_reply": "2025-05-28T02:01:07.945663Z",
     "shell.execute_reply.started": "2025-05-28T02:01:07.937291Z"
    }
   },
   "outputs": [],
   "source": [
    "projectDir = Path(\"/home/_shared/jscliu/project/2025/Flagship/analysis/secondary/PGx/02.consolidate_genotypes\")\n",
    "summaryDir = projectDir/\"summary\"\n",
    "master_csv = summaryDir/\"pgx_allParticipants_allGenes.csv\"\n",
    "pheno_cat = projectDir/\"script/phenotype_category.yml\"\n",
    "\n",
    "# Output table\n",
    "per_gene_actionability = summaryDir/\"per_gene_actionability.tsv\"\n",
    "per_indiv_actionability = summaryDir/\"per_idv_actionability.tsv\"\n",
    "\n",
    "summaryDir.mkdir(exist_ok=True)"
   ]
  },
  {
   "cell_type": "markdown",
   "id": "e26c9ad6-ef8d-4eb5-a748-d498599757c6",
   "metadata": {},
   "source": [
    "# Read master table (CSV) as df"
   ]
  },
  {
   "cell_type": "code",
   "execution_count": 19,
   "id": "5fd6dd4d-f43e-4d53-84c0-a3c14881a1d6",
   "metadata": {
    "execution": {
     "iopub.execute_input": "2025-05-28T02:01:12.856496Z",
     "iopub.status.busy": "2025-05-28T02:01:12.855569Z",
     "iopub.status.idle": "2025-05-28T02:01:13.733169Z",
     "shell.execute_reply": "2025-05-28T02:01:13.731615Z",
     "shell.execute_reply.started": "2025-05-28T02:01:12.856440Z"
    }
   },
   "outputs": [],
   "source": [
    "master_df = pd.read_csv(master_csv, index_col=[0])\n",
    "master_df = master_df.loc[\n",
    "    (master_df['founder_status']=='Founder') & (master_df['treated_ethnicity']=='Chinese'), \n",
    "    :\n",
    "].copy()"
   ]
  },
  {
   "cell_type": "code",
   "execution_count": 20,
   "id": "183e0f5e-9854-4475-91ce-da3b90cf18cc",
   "metadata": {
    "execution": {
     "iopub.execute_input": "2025-05-28T02:01:14.377639Z",
     "iopub.status.busy": "2025-05-28T02:01:14.376781Z",
     "iopub.status.idle": "2025-05-28T02:01:14.384156Z",
     "shell.execute_reply": "2025-05-28T02:01:14.382780Z",
     "shell.execute_reply.started": "2025-05-28T02:01:14.377587Z"
    }
   },
   "outputs": [],
   "source": [
    "n_samples = len(master_df)"
   ]
  },
  {
   "cell_type": "markdown",
   "id": "1dd1f767-4be4-4f40-bc39-4889f089dc19",
   "metadata": {},
   "source": [
    "# Read pheno cat as python dict"
   ]
  },
  {
   "cell_type": "code",
   "execution_count": 21,
   "id": "9b057315-7339-41c6-a11f-422c5ee6ae3b",
   "metadata": {
    "execution": {
     "iopub.execute_input": "2025-05-28T02:03:52.758975Z",
     "iopub.status.busy": "2025-05-28T02:03:52.758532Z",
     "iopub.status.idle": "2025-05-28T02:03:52.763742Z",
     "shell.execute_reply": "2025-05-28T02:03:52.763152Z",
     "shell.execute_reply.started": "2025-05-28T02:03:52.758948Z"
    }
   },
   "outputs": [],
   "source": [
    "with open(pheno_cat) as handle:\n",
    "    pheno_cat_d = load(handle, Loader=Loader)"
   ]
  },
  {
   "cell_type": "code",
   "execution_count": 22,
   "id": "388cd48c-f324-4712-889f-945e64461a85",
   "metadata": {
    "execution": {
     "iopub.execute_input": "2025-05-28T02:03:54.338156Z",
     "iopub.status.busy": "2025-05-28T02:03:54.337732Z",
     "iopub.status.idle": "2025-05-28T02:03:54.341708Z",
     "shell.execute_reply": "2025-05-28T02:03:54.341115Z",
     "shell.execute_reply.started": "2025-05-28T02:03:54.338130Z"
    }
   },
   "outputs": [],
   "source": [
    "genes = list()\n",
    "for col in master_df.columns:\n",
    "    if \"_phenotype\" in col:\n",
    "        genes.append(col.rsplit('_', maxsplit=1)[0])"
   ]
  },
  {
   "cell_type": "markdown",
   "id": "fa8071ca-55e7-4cac-a4fb-ffe23328da37",
   "metadata": {},
   "source": [
    "# Calculate the number of actionable genes per individuals"
   ]
  },
  {
   "cell_type": "code",
   "execution_count": 23,
   "id": "11a1455a-863f-4f1b-b77b-c2b388530a59",
   "metadata": {
    "execution": {
     "iopub.execute_input": "2025-05-28T02:04:00.403269Z",
     "iopub.status.busy": "2025-05-28T02:04:00.402842Z",
     "iopub.status.idle": "2025-05-28T02:04:00.406452Z",
     "shell.execute_reply": "2025-05-28T02:04:00.405875Z",
     "shell.execute_reply.started": "2025-05-28T02:04:00.403239Z"
    }
   },
   "outputs": [],
   "source": [
    "gene_1b:list = [\n",
    "    \"NAT2\", \"CYP2A6\", \n",
    "    'IFNL3_rs8099917', \n",
    "    'IFNL4_rs11322783', \n",
    "    'VKORC1_rs2359612', \n",
    "    'VKORC1_rs7294', \n",
    "    'VKORC1_rs8050894', \n",
    "    'VKORC1_rs9934438'\n",
    "]"
   ]
  },
  {
   "cell_type": "code",
   "execution_count": 24,
   "id": "134e6717-c1f1-4a04-8858-13223f11a71d",
   "metadata": {
    "execution": {
     "iopub.execute_input": "2025-05-28T02:04:03.518184Z",
     "iopub.status.busy": "2025-05-28T02:04:03.517734Z",
     "iopub.status.idle": "2025-05-28T02:04:06.704445Z",
     "shell.execute_reply": "2025-05-28T02:04:06.703733Z",
     "shell.execute_reply.started": "2025-05-28T02:04:03.518158Z"
    }
   },
   "outputs": [],
   "source": [
    "def count_actionables(r:pd.Series, gene_1b:list):\n",
    "    # Given the PGx profile of an individual, \n",
    "    #   count the number of actionable 1A and 1B genes\n",
    "    actionable_1a, actionable_1b = list(), list()\n",
    "    for col, value in r.items():\n",
    "        if \"_actionability\" not in col:\n",
    "            continue    # Skip unrelated columns\n",
    "        if value != \"Actionable\":\n",
    "            continue    # Skip if not actionable\n",
    "        \n",
    "        # Determine whether the acitonable gene is class 1A or 1B\n",
    "        gene = col.rsplit(\"_\", maxsplit=1)[0]\n",
    "        if gene not in gene_1b:\n",
    "            actionable_1a.append(gene.split('_')[0])\n",
    "        else:\n",
    "            actionable_1b.append(gene.split('_')[0])\n",
    "    # Deduplicate\n",
    "    actionable_1a = list(set(actionable_1a))\n",
    "    actionable_1b = list(set(actionable_1b))\n",
    "    actionable_1ab = list(set(actionable_1a + actionable_1b))\n",
    "\n",
    "    # Consolidate and return\n",
    "    return pd.Series([\n",
    "        \"|\".join(actionable_1a), \n",
    "        len(actionable_1a), \n",
    "        \"|\".join(actionable_1b), \n",
    "        len(actionable_1b), \n",
    "        len(actionable_1ab)])\n",
    "\n",
    "master_df[[\n",
    "    'actionable_1A_gene', \n",
    "    'actionable_1A_gene_count', \n",
    "    'actionable_1B_gene', \n",
    "    'actionable_1B_gene_count', \n",
    "    'actionable_gene_count'\n",
    "]] = master_df.apply(lambda r: count_actionables(r, gene_1b), axis=1)"
   ]
  },
  {
   "cell_type": "markdown",
   "id": "3978e135-c657-4a98-93f5-51e9db270a61",
   "metadata": {},
   "source": [
    "## Per sample: # pharmacogenes with clinical annotation level 1A + 1B"
   ]
  },
  {
   "cell_type": "code",
   "execution_count": 28,
   "id": "2b57b230-4b4c-4aa2-82ca-9d529844584a",
   "metadata": {
    "execution": {
     "iopub.execute_input": "2025-05-28T02:04:06.708451Z",
     "iopub.status.busy": "2025-05-28T02:04:06.708341Z",
     "iopub.status.idle": "2025-05-28T02:04:06.882520Z",
     "shell.execute_reply": "2025-05-28T02:04:06.881872Z",
     "shell.execute_reply.started": "2025-05-28T02:04:06.708441Z"
    }
   },
   "outputs": [
    {
     "name": "stderr",
     "output_type": "stream",
     "text": [
      "/tmp/ipykernel_3947821/3181085412.py:2: PerformanceWarning: DataFrame is highly fragmented.  This is usually the result of calling `frame.insert` many times, which has poor performance.  Consider joining all columns at once using pd.concat(axis=1) instead. To get a de-fragmented frame, use `newframe = frame.copy()`\n",
      "  count_df['n_actionable_genes'] = count_df.index\n"
     ]
    }
   ],
   "source": [
    "count_df = master_df.groupby('actionable_gene_count').agg(len)\n",
    "count_df['n_actionable_genes'] = count_df.index\n",
    "count_df.sort_index(inplace=True)"
   ]
  },
  {
   "cell_type": "code",
   "execution_count": 276,
   "id": "90dd9f57-7266-4c69-9f21-cea381b9b2d2",
   "metadata": {
    "execution": {
     "iopub.execute_input": "2025-05-28T02:04:29.527827Z",
     "iopub.status.busy": "2025-05-28T02:04:29.527429Z",
     "iopub.status.idle": "2025-05-28T02:04:29.543373Z",
     "shell.execute_reply": "2025-05-28T02:04:29.542604Z",
     "shell.execute_reply.started": "2025-05-28T02:04:29.527802Z"
    }
   },
   "outputs": [],
   "source": [
    "count_export_df = master_df.loc[:, ['actionable_gene_count']].copy()\n",
    "count_export_df.to_csv(per_indiv_actionability, index=True, index_label='sre_participant_id', sep='\\t')"
   ]
  },
  {
   "cell_type": "markdown",
   "id": "429ee144-7d42-4d8b-842c-72ed21e4b629",
   "metadata": {},
   "source": [
    "## Per pharmacogenes"
   ]
  },
  {
   "cell_type": "code",
   "execution_count": 285,
   "id": "987fa0f7-a269-4d5e-87f1-dfd75f41d500",
   "metadata": {
    "execution": {
     "iopub.execute_input": "2025-05-28T02:07:22.972089Z",
     "iopub.status.busy": "2025-05-28T02:07:22.971261Z",
     "iopub.status.idle": "2025-05-28T02:07:22.979912Z",
     "shell.execute_reply": "2025-05-28T02:07:22.978665Z",
     "shell.execute_reply.started": "2025-05-28T02:07:22.972036Z"
    }
   },
   "outputs": [],
   "source": [
    "# Create a pd.DataFrame to illustrate the call rate & % of individuals with actionable phenotypes\n",
    "col_prefix_1A = [\n",
    "    \"CYP4F2\", \"CYP2C19\", \"CYP2C9\", \"NUDT15\", \"TPMT\", \n",
    "    \"VKORC1\", \"CYP3A5\", \"CFTR\", \"CYP2B6\", \"DPYD\", \n",
    "    \"G6PD\", \"IFNL3\", \"SLCO1B1\", \"UGT1A1\", \"CYP3A4\", \n",
    "    \"CYP2D6\", \"HLA-A\", \"HLA-B\", \"CACNA1S\", \"RYR1\", \n",
    "    \"MT-RNR1\", \"ABCG2\"\n",
    "]\n",
    "col_prefix_1B = [\n",
    "    \"NAT2\", \"CYP2A6\", \"IFNL3_rs8099917\", \"IFNL4_rs11322783\", \n",
    "    \"VKORC1_rs2359612\", \"VKORC1_rs7294\", \"VKORC1_rs8050894\", \n",
    "    \"VKORC1_rs9934438\"\n",
    "]"
   ]
  },
  {
   "cell_type": "markdown",
   "id": "05a95d47-6bc3-41c2-9d1e-17ff6e0ed08c",
   "metadata": {},
   "source": [
    "## Level 1A"
   ]
  },
  {
   "cell_type": "code",
   "execution_count": 315,
   "id": "df1f6669-c6aa-4250-9fd9-58e337466a62",
   "metadata": {
    "execution": {
     "iopub.execute_input": "2025-05-28T02:28:19.386880Z",
     "iopub.status.busy": "2025-05-28T02:28:19.386024Z",
     "iopub.status.idle": "2025-05-28T02:28:20.332044Z",
     "shell.execute_reply": "2025-05-28T02:28:20.329324Z",
     "shell.execute_reply.started": "2025-05-28T02:28:19.386826Z"
    }
   },
   "outputs": [],
   "source": [
    "per_gene_df_ls = list()\n",
    "for gene in col_prefix_1A:\n",
    "    called_cnt = len(master_df.loc[~master_df[f\"{gene}_phenotype\"].isna(), :])\n",
    "    call_rate =  called_cnt / len(master_df)\n",
    "    actionable_cnt = len(master_df.loc[master_df[f\"{gene}_actionability\"]==\"Actionable\", :])\n",
    "    actionable_rate =  actionable_cnt / len(master_df)\n",
    "    per_gene_df_ls.append(\n",
    "        pd.DataFrame({gene: ['1A', call_rate, actionable_cnt, actionable_rate]}, index=['annotation_lv', 'call_rate', 'actionable_count', 'actionable_rate']).T\n",
    "    )"
   ]
  },
  {
   "cell_type": "code",
   "execution_count": 316,
   "id": "da2b241d-74d1-491b-8d21-879bead8d77b",
   "metadata": {
    "execution": {
     "iopub.execute_input": "2025-05-28T02:28:24.757562Z",
     "iopub.status.busy": "2025-05-28T02:28:24.756638Z",
     "iopub.status.idle": "2025-05-28T02:28:24.767210Z",
     "shell.execute_reply": "2025-05-28T02:28:24.765968Z",
     "shell.execute_reply.started": "2025-05-28T02:28:24.757510Z"
    }
   },
   "outputs": [],
   "source": [
    "level_1a_perGene_df = pd.concat(per_gene_df_ls)"
   ]
  },
  {
   "cell_type": "markdown",
   "id": "54bad083-49d7-4710-82dd-029035fbf33e",
   "metadata": {},
   "source": [
    "## Level 1B"
   ]
  },
  {
   "cell_type": "code",
   "execution_count": 318,
   "id": "817e77e7-6b63-4292-857e-9078cd467069",
   "metadata": {
    "execution": {
     "iopub.execute_input": "2025-05-28T02:30:55.723620Z",
     "iopub.status.busy": "2025-05-28T02:30:55.722467Z",
     "iopub.status.idle": "2025-05-28T02:30:55.978721Z",
     "shell.execute_reply": "2025-05-28T02:30:55.977423Z",
     "shell.execute_reply.started": "2025-05-28T02:30:55.723596Z"
    }
   },
   "outputs": [],
   "source": [
    "per_gene_df_ls = list()\n",
    "for gene in col_prefix_1B:\n",
    "    if \"VKORC1\" in gene:\n",
    "        continue\n",
    "    called_cnt = len(master_df.loc[~master_df[f\"{gene}_phenotype\"].isna(), :])\n",
    "    call_rate =  called_cnt / len(master_df)\n",
    "    actionable_cnt = len(master_df.loc[master_df[f\"{gene}_actionability\"]==\"Actionable\", :])\n",
    "    actionable_rate =  actionable_cnt / len(master_df)\n",
    "    per_gene_df_ls.append(\n",
    "        pd.DataFrame({gene.split('_')[0]: ['1B', call_rate, actionable_cnt, actionable_rate]}, index=['annotation_lv', 'call_rate', 'actionable_count', 'actionable_rate']).T\n",
    "    )"
   ]
  },
  {
   "cell_type": "code",
   "execution_count": 319,
   "id": "889ab922-4ffa-4b99-b94e-f3854f7da904",
   "metadata": {
    "execution": {
     "iopub.execute_input": "2025-05-28T02:30:56.844716Z",
     "iopub.status.busy": "2025-05-28T02:30:56.844099Z",
     "iopub.status.idle": "2025-05-28T02:30:56.849294Z",
     "shell.execute_reply": "2025-05-28T02:30:56.848701Z",
     "shell.execute_reply.started": "2025-05-28T02:30:56.844688Z"
    }
   },
   "outputs": [],
   "source": [
    "level_1b_perGene_df = pd.concat(per_gene_df_ls)"
   ]
  },
  {
   "cell_type": "code",
   "execution_count": 320,
   "id": "9f6902fb-833a-447d-8939-831bbdc52289",
   "metadata": {
    "execution": {
     "iopub.execute_input": "2025-05-28T02:32:09.880085Z",
     "iopub.status.busy": "2025-05-28T02:32:09.876533Z",
     "iopub.status.idle": "2025-05-28T02:32:12.434960Z",
     "shell.execute_reply": "2025-05-28T02:32:12.433746Z",
     "shell.execute_reply.started": "2025-05-28T02:32:09.879835Z"
    }
   },
   "outputs": [],
   "source": [
    "called_cnt = len(master_df.loc[~master_df[\"VKORC1_genotype\"].isna(), :])\n",
    "call_rate =  called_cnt / len(master_df)\n",
    "def vkorc1_1b_actionable(r, col_prefix_1B):\n",
    "    vkorc1_1b_actionability_cols:list = [ f\"{a}_actionability\" for a in col_prefix_1B if \"VKORC1\" in a ]\n",
    "    vkorc1_1b_actionability = [ a for a in r[vkorc1_1b_actionability_cols] ]\n",
    "    vkorc1_1b_is_actionable = [ True if a==\"Actionable\" else False for a in vkorc1_1b_actionability ]\n",
    "    return any(vkorc1_1b_is_actionable)\n",
    "master_df['VKORC1_1B_is_actionable'] = master_df.apply(lambda r: vkorc1_1b_actionable(r, col_prefix_1B), axis=1)\n",
    "actionable_cnt = len(master_df.loc[master_df['VKORC1_1B_is_actionable'], :])\n",
    "actionable_rate =  actionable_cnt / len(master_df)"
   ]
  },
  {
   "cell_type": "code",
   "execution_count": 321,
   "id": "2f87f351-272b-459c-97fe-acd92245d115",
   "metadata": {
    "execution": {
     "iopub.execute_input": "2025-05-28T02:32:12.436579Z",
     "iopub.status.busy": "2025-05-28T02:32:12.436397Z",
     "iopub.status.idle": "2025-05-28T02:32:12.441499Z",
     "shell.execute_reply": "2025-05-28T02:32:12.440788Z",
     "shell.execute_reply.started": "2025-05-28T02:32:12.436566Z"
    }
   },
   "outputs": [],
   "source": [
    "level_1b_perGene_df = pd.concat([\n",
    "    level_1b_perGene_df, \n",
    "    pd.DataFrame({'VKORC1': ['1B', call_rate, actionable_cnt, actionable_rate]}, index=['annotation_lv', 'call_rate', 'actionable_count', 'actionable_rate']).T\n",
    "])"
   ]
  },
  {
   "cell_type": "markdown",
   "id": "d29485c6-659f-4877-934c-b7dc1abce07f",
   "metadata": {},
   "source": [
    "## Concatenate"
   ]
  },
  {
   "cell_type": "code",
   "execution_count": 323,
   "id": "52a7506c-0c7f-4967-ab9c-5c0fe78df70f",
   "metadata": {
    "execution": {
     "iopub.execute_input": "2025-05-28T02:32:23.890421Z",
     "iopub.status.busy": "2025-05-28T02:32:23.890064Z",
     "iopub.status.idle": "2025-05-28T02:32:23.896344Z",
     "shell.execute_reply": "2025-05-28T02:32:23.895794Z",
     "shell.execute_reply.started": "2025-05-28T02:32:23.890399Z"
    }
   },
   "outputs": [],
   "source": [
    "gene_actionable_df = pd.concat([\n",
    "    level_1a_perGene_df, \n",
    "    level_1b_perGene_df.loc[['NAT2', 'CYP2A6', 'IFNL4']]\n",
    "])"
   ]
  },
  {
   "cell_type": "code",
   "execution_count": 325,
   "id": "c34b8fd9-453a-4420-a7e9-ee2d0d70df8c",
   "metadata": {
    "execution": {
     "iopub.execute_input": "2025-05-28T02:32:31.499455Z",
     "iopub.status.busy": "2025-05-28T02:32:31.499033Z",
     "iopub.status.idle": "2025-05-28T02:32:31.504572Z",
     "shell.execute_reply": "2025-05-28T02:32:31.503969Z",
     "shell.execute_reply.started": "2025-05-28T02:32:31.499428Z"
    }
   },
   "outputs": [],
   "source": [
    "gene_actionable_df.sort_values(by=['annotation_lv', 'actionable_rate'], ascending=[True, False], inplace=True)"
   ]
  },
  {
   "cell_type": "code",
   "execution_count": 326,
   "id": "82789059-7f58-4ba8-830f-28bf55f2f77a",
   "metadata": {
    "execution": {
     "iopub.execute_input": "2025-05-28T02:32:34.523296Z",
     "iopub.status.busy": "2025-05-28T02:32:34.522851Z",
     "iopub.status.idle": "2025-05-28T02:32:34.531974Z",
     "shell.execute_reply": "2025-05-28T02:32:34.528474Z",
     "shell.execute_reply.started": "2025-05-28T02:32:34.523267Z"
    }
   },
   "outputs": [],
   "source": [
    "gene_actionable_df['gene'] = gene_actionable_df.index\n",
    "gene_actionable_df['gene_idx'] = pd.Series(list(range(0, len(gene_actionable_df))), index=gene_actionable_df.index)"
   ]
  },
  {
   "cell_type": "markdown",
   "id": "a77a3723",
   "metadata": {},
   "source": [
    "## Considering AMP alleles "
   ]
  },
  {
   "cell_type": "code",
   "execution_count": 31,
   "id": "92a5c863",
   "metadata": {},
   "outputs": [],
   "source": [
    "# Actionability rate if only reference and the AMP alleles were considered\n",
    "hkgp_amp = {\n",
    "    \"CYP4F2\": [\"*1\", \"*3\"], \n",
    "    \"VKORC1\": [\"*H6\", \"*H1\", \"*H2\", \"*T\", \"*H3+rs9934438+rs9923231\", \"*H3+rs9923231\"], \n",
    "    \"CYP2D6\": [\n",
    "        \"*1\", \"*2\", \"*3\", \"*4\", \"*5\", \n",
    "        \"*6\", \"*7\", \"*8\", \"*9\", \"*10\", \n",
    "        \"*12\", \"*14\", \"*15\", \"*17\", \"*21\", \n",
    "        \"*29\", \"*31\", \"*40\", \"*41\", \"*42\", \n",
    "        \"*49\", \"*56\", \"*59\"\n",
    "    ], \n",
    "    \"NUDT15\": [\"*1\", \"*2\", \"*3\", \"*4\", \"*6\", \"*9\", \"*14\"], \n",
    "    \"TPMT\": [\"*1\", \"*2\", \"*3A\", \"*3B\", \"*3C\", \"*11\", \"*29\", \"*42\"], \n",
    "    \"CYP2C19\": [\"*1\", \"*2\", \"*3\", \"*4\", \"*5\", \"*6\", \"*7\", \"*8\", \"*9\", \"*10\", \"*17\", \"*35\"], \n",
    "    \"CYP3A4\": [\"*1\", \"*20\", \"*22\"], \n",
    "    \"CYP3A5\": [\"*1\", \"*3\", \"*6\", \"*7\"], \n",
    "    \"CYP2C9\": [\"*1\", \"*2\", \"*3\", \"*5\", \"*6\", \"*8\", \"*11\", \"*12\", \"*13\", \"*15\"], \n",
    "    \"DPYD\": [\n",
    "        \"Reference\", \n",
    "        \"c.1314T>G\", \n",
    "        \"c.1774C>T\", \n",
    "        \"c.1905+1G>A (*2A)\", \n",
    "        \"c.1129-5923C>G, c.1236G>A (HapB3)\"\n",
    "    ] \n",
    "}"
   ]
  },
  {
   "cell_type": "code",
   "execution_count": null,
   "id": "debf356c",
   "metadata": {},
   "outputs": [],
   "source": [
    "amp_actionable_rates = dict()\n",
    "for gene, ref_amp_alleles in hkgp_amp.items():\n",
    "    ref_allele = ref_amp_alleles[0]\n",
    "    amp_alleles = ref_amp_alleles[1:]\n",
    "    \n",
    "    tmp_df = master_df.copy()\n",
    "    tmp_df['carry_amp'] = tmp_df.apply(\n",
    "        lambda r: True if (r[f'{gene}_haplotype_1'] in amp_alleles) | (r[f'{gene}_haplotype_2'] in amp_alleles) else False, \n",
    "        axis=1\n",
    "    )\n",
    "    tmp_df['matches_amp'] = tmp_df.apply(\n",
    "        lambda r: True if (r[f'{gene}_haplotype_1'] in ref_amp_alleles) & (r[f'{gene}_haplotype_2'] in ref_amp_alleles) else False, \n",
    "        axis=1\n",
    "    )\n",
    "    amp_actionable_cnt = len(tmp_df.loc[\n",
    "        (tmp_df.carry_amp) & (tmp_df.matches_amp), :\n",
    "    ])\n",
    "\n",
    "    amp_actionable_rates[gene] = amp_actionable_cnt / n_samples\n",
    "    \n",
    "amp_rate_df = pd.DataFrame(amp_actionable_rates, index=['AMP_nonRef_rate']).T"
   ]
  },
  {
   "cell_type": "markdown",
   "id": "9ebb5828",
   "metadata": {},
   "source": [
    "## Merge amp_rate_df to gene_actionable_df"
   ]
  },
  {
   "cell_type": "code",
   "execution_count": 332,
   "id": "61326fd2-f253-4318-9a5c-2f9ac5c065c8",
   "metadata": {
    "execution": {
     "iopub.execute_input": "2025-05-28T02:33:12.987180Z",
     "iopub.status.busy": "2025-05-28T02:33:12.986081Z",
     "iopub.status.idle": "2025-05-28T02:33:12.992780Z",
     "shell.execute_reply": "2025-05-28T02:33:12.992069Z",
     "shell.execute_reply.started": "2025-05-28T02:33:12.987141Z"
    }
   },
   "outputs": [],
   "source": [
    "gene_actionable_df = gene_actionable_df.merge(amp_rate_df, left_index=True, right_index=True, how='left')"
   ]
  },
  {
   "cell_type": "code",
   "execution_count": 333,
   "id": "178bde1b-e992-4366-9872-1597a26ba282",
   "metadata": {
    "execution": {
     "iopub.execute_input": "2025-05-28T02:33:13.818526Z",
     "iopub.status.busy": "2025-05-28T02:33:13.818119Z",
     "iopub.status.idle": "2025-05-28T02:33:13.823347Z",
     "shell.execute_reply": "2025-05-28T02:33:13.822773Z",
     "shell.execute_reply.started": "2025-05-28T02:33:13.818498Z"
    }
   },
   "outputs": [],
   "source": [
    "gene_actionable_df.to_csv(per_gene_actionability, index=True, index_label=\"Gene\", sep='\\t')"
   ]
  },
  {
   "cell_type": "code",
   "execution_count": null,
   "id": "c5b8a22e",
   "metadata": {},
   "outputs": [],
   "source": []
  }
 ],
 "metadata": {
  "kernelspec": {
   "display_name": "Python 3 (ipykernel)",
   "language": "python",
   "name": "python3"
  },
  "language_info": {
   "codemirror_mode": {
    "name": "ipython",
    "version": 3
   },
   "file_extension": ".py",
   "mimetype": "text/x-python",
   "name": "python",
   "nbconvert_exporter": "python",
   "pygments_lexer": "ipython3",
   "version": "3.10.12"
  }
 },
 "nbformat": 4,
 "nbformat_minor": 5
}
