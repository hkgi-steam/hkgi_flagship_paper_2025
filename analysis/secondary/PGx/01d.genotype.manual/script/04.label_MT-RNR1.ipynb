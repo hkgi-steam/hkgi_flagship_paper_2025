{
 "cells": [
  {
   "cell_type": "code",
   "execution_count": 15,
   "id": "2bd7d98d-2250-44d7-bb63-19e2dfcab9c1",
   "metadata": {
    "execution": {
     "iopub.execute_input": "2025-04-09T08:41:38.155785Z",
     "iopub.status.busy": "2025-04-09T08:41:38.155099Z",
     "iopub.status.idle": "2025-04-09T08:41:38.166924Z",
     "shell.execute_reply": "2025-04-09T08:41:38.164411Z",
     "shell.execute_reply.started": "2025-04-09T08:41:38.155716Z"
    }
   },
   "outputs": [],
   "source": [
    "from pathlib import Path\n",
    "import pandas as pd\n",
    "import numpy as np\n",
    "from yaml import load\n",
    "from yaml import CLoader as Loader\n",
    "import re\n",
    "import multiprocessing\n",
    "import sys\n",
    "from tqdm import tqdm\n",
    "from collections import defaultdict\n",
    "import matplotlib.pyplot as plt\n",
    "import numpy as np\n",
    "import math"
   ]
  },
  {
   "cell_type": "code",
   "execution_count": 4,
   "id": "4efe9a24-7de4-4c4a-80cf-eadfdb5514dc",
   "metadata": {
    "execution": {
     "iopub.execute_input": "2025-04-09T08:36:48.383789Z",
     "iopub.status.busy": "2025-04-09T08:36:48.383068Z",
     "iopub.status.idle": "2025-04-09T08:36:48.396772Z",
     "shell.execute_reply": "2025-04-09T08:36:48.394789Z",
     "shell.execute_reply.started": "2025-04-09T08:36:48.383732Z"
    }
   },
   "outputs": [],
   "source": [
    "# Input\n",
    "projectDir = Path(\"/home/_shared/jscliu/project/2025/Flagship/analysis/secondary/PGx/01d.genotype.manual\")\n",
    "resultsDir = projectDir/\"results\"\n",
    "gene = \"MT-RNR1\"\n",
    "\n",
    "# Reference\n",
    "id_ref = \"/home/_shared/jscliu/project/2025/Flagship/reference/sample_info_annot.2024-11-12.csv\"\n",
    "referenceDir_master = Path(\"/home/_shared/jscliu/project/2025/Flagship/reference/PharmGKB_ref\")\n",
    "star_allele_yml = projectDir/\"script/resource/star_allele_variants.yml\"\n",
    "allele_func_ref = referenceDir_master/f\"{gene}/{gene}_allele_functionality_reference.csv\"\n",
    "\n",
    "# Output\n",
    "summaryDir = projectDir/\"summary\"\n",
    "summaryDir.mkdir(exist_ok=True)\n",
    "all_idv_geno_csv = summaryDir/f\"all_perGenes.{gene}.csv\"\n",
    "idv_geno_csv = summaryDir/f\"perGenes.{gene}.csv\"\n",
    "af_csv = summaryDir/f\"allele_frequency.{gene}.csv\"\n",
    "pheno_csv = summaryDir/f\"phenotype.{gene}.csv\""
   ]
  },
  {
   "cell_type": "markdown",
   "id": "a36b14c7-76af-4a79-8b80-00cead9a6620",
   "metadata": {},
   "source": [
    "# Read allele definitions as pd.DataFrame"
   ]
  },
  {
   "cell_type": "code",
   "execution_count": 5,
   "id": "5d3537d1-8f0b-4f37-9c42-00a676fca316",
   "metadata": {
    "execution": {
     "iopub.execute_input": "2025-04-09T08:36:49.333743Z",
     "iopub.status.busy": "2025-04-09T08:36:49.333021Z",
     "iopub.status.idle": "2025-04-09T08:36:49.384319Z",
     "shell.execute_reply": "2025-04-09T08:36:49.382358Z",
     "shell.execute_reply.started": "2025-04-09T08:36:49.333685Z"
    }
   },
   "outputs": [],
   "source": [
    "with open(star_allele_yml) as handle:\n",
    "    star_alleles:dict = load(handle, Loader=Loader)"
   ]
  },
  {
   "cell_type": "code",
   "execution_count": 6,
   "id": "4c509d65-81fa-42bb-9041-b1f4addabeb5",
   "metadata": {
    "execution": {
     "iopub.execute_input": "2025-04-09T08:36:49.738595Z",
     "iopub.status.busy": "2025-04-09T08:36:49.737925Z",
     "iopub.status.idle": "2025-04-09T08:36:49.797526Z",
     "shell.execute_reply": "2025-04-09T08:36:49.795675Z",
     "shell.execute_reply.started": "2025-04-09T08:36:49.738537Z"
    }
   },
   "outputs": [],
   "source": [
    "# Process star_alleles for a ready-to-merge dataframe\n",
    "column_names:list = ['gene', 'pharmgkb_allele', 'rsID', 'chr', 'start', 'end', 'allele_ref', 'allele_alt']\n",
    "allele_ls:list = list()    # List of pd.Series of alleles\n",
    "for tmp_gene, gene_info in star_alleles.items():\n",
    "    gene_chr, gene_start, gene_end = re.split(\":|-\", gene_info['location'])\n",
    "    for allele, mutations in gene_info['alleles'].items():\n",
    "        if len(mutations['mutations']) == 0:\n",
    "            pass\n",
    "        else:\n",
    "            for mut in mutations['mutations']:\n",
    "                allele_entry = [tmp_gene, allele, mut[0], gene_chr, mut[1], mut[2], mut[3], mut[4]]\n",
    "                allele_ls.append(pd.Series(allele_entry, index=column_names))"
   ]
  },
  {
   "cell_type": "code",
   "execution_count": 7,
   "id": "66b518af-7a3b-40c9-87a3-eaebaf73f01a",
   "metadata": {
    "execution": {
     "iopub.execute_input": "2025-04-09T08:36:50.354497Z",
     "iopub.status.busy": "2025-04-09T08:36:50.353856Z",
     "iopub.status.idle": "2025-04-09T08:36:50.419060Z",
     "shell.execute_reply": "2025-04-09T08:36:50.417254Z",
     "shell.execute_reply.started": "2025-04-09T08:36:50.354443Z"
    }
   },
   "outputs": [
    {
     "data": {
      "text/html": [
       "<div>\n",
       "<style scoped>\n",
       "    .dataframe tbody tr th:only-of-type {\n",
       "        vertical-align: middle;\n",
       "    }\n",
       "\n",
       "    .dataframe tbody tr th {\n",
       "        vertical-align: top;\n",
       "    }\n",
       "\n",
       "    .dataframe thead th {\n",
       "        text-align: right;\n",
       "    }\n",
       "</style>\n",
       "<table border=\"1\" class=\"dataframe\">\n",
       "  <thead>\n",
       "    <tr style=\"text-align: right;\">\n",
       "      <th></th>\n",
       "      <th>gene</th>\n",
       "      <th>pharmgkb_allele</th>\n",
       "      <th>rsID</th>\n",
       "      <th>chr</th>\n",
       "      <th>start</th>\n",
       "      <th>end</th>\n",
       "      <th>allele_ref</th>\n",
       "      <th>allele_alt</th>\n",
       "    </tr>\n",
       "    <tr>\n",
       "      <th>CPRA</th>\n",
       "      <th></th>\n",
       "      <th></th>\n",
       "      <th></th>\n",
       "      <th></th>\n",
       "      <th></th>\n",
       "      <th></th>\n",
       "      <th></th>\n",
       "      <th></th>\n",
       "    </tr>\n",
       "  </thead>\n",
       "  <tbody>\n",
       "    <tr>\n",
       "      <th>chrM.663.A.G</th>\n",
       "      <td>MT-RNR1</td>\n",
       "      <td>m.663A&gt;G</td>\n",
       "      <td>rs56489998</td>\n",
       "      <td>chrM</td>\n",
       "      <td>663</td>\n",
       "      <td>663</td>\n",
       "      <td>A</td>\n",
       "      <td>G</td>\n",
       "    </tr>\n",
       "    <tr>\n",
       "      <th>chrM.669.T.C</th>\n",
       "      <td>MT-RNR1</td>\n",
       "      <td>m.669T&gt;C</td>\n",
       "      <td>669T&gt;C</td>\n",
       "      <td>chrM</td>\n",
       "      <td>669</td>\n",
       "      <td>669</td>\n",
       "      <td>T</td>\n",
       "      <td>C</td>\n",
       "    </tr>\n",
       "    <tr>\n",
       "      <th>chrM.747.A.G</th>\n",
       "      <td>MT-RNR1</td>\n",
       "      <td>m.747A&gt;G</td>\n",
       "      <td>747A&gt;G</td>\n",
       "      <td>chrM</td>\n",
       "      <td>747</td>\n",
       "      <td>747</td>\n",
       "      <td>A</td>\n",
       "      <td>G</td>\n",
       "    </tr>\n",
       "    <tr>\n",
       "      <th>chrM.786.G.A</th>\n",
       "      <td>MT-RNR1</td>\n",
       "      <td>m.786G&gt;A</td>\n",
       "      <td>786G&gt;A</td>\n",
       "      <td>chrM</td>\n",
       "      <td>786</td>\n",
       "      <td>786</td>\n",
       "      <td>G</td>\n",
       "      <td>A</td>\n",
       "    </tr>\n",
       "    <tr>\n",
       "      <th>chrM.807.A.C</th>\n",
       "      <td>MT-RNR1</td>\n",
       "      <td>m.807A&gt;C</td>\n",
       "      <td>807A&gt;C</td>\n",
       "      <td>chrM</td>\n",
       "      <td>807</td>\n",
       "      <td>807</td>\n",
       "      <td>A</td>\n",
       "      <td>C</td>\n",
       "    </tr>\n",
       "  </tbody>\n",
       "</table>\n",
       "</div>"
      ],
      "text/plain": [
       "                 gene pharmgkb_allele        rsID   chr  start  end  \\\n",
       "CPRA                                                                  \n",
       "chrM.663.A.G  MT-RNR1        m.663A>G  rs56489998  chrM    663  663   \n",
       "chrM.669.T.C  MT-RNR1        m.669T>C      669T>C  chrM    669  669   \n",
       "chrM.747.A.G  MT-RNR1        m.747A>G      747A>G  chrM    747  747   \n",
       "chrM.786.G.A  MT-RNR1        m.786G>A      786G>A  chrM    786  786   \n",
       "chrM.807.A.C  MT-RNR1        m.807A>C      807A>C  chrM    807  807   \n",
       "\n",
       "             allele_ref allele_alt  \n",
       "CPRA                                \n",
       "chrM.663.A.G          A          G  \n",
       "chrM.669.T.C          T          C  \n",
       "chrM.747.A.G          A          G  \n",
       "chrM.786.G.A          G          A  \n",
       "chrM.807.A.C          A          C  "
      ]
     },
     "execution_count": 7,
     "metadata": {},
     "output_type": "execute_result"
    }
   ],
   "source": [
    "allele_def_df = pd.DataFrame(allele_ls)\n",
    "allele_def_df['CPRA'] = allele_def_df.apply(lambda r: f\"{r.chr}.{r.start}.{r.allele_ref}.{r.allele_alt}\", axis=1)\n",
    "allele_def_df.set_index('CPRA', inplace=True)\n",
    "allele_def_df = allele_def_df.loc[allele_def_df['gene']==gene, :].copy()\n",
    "allele_def_df.head()"
   ]
  },
  {
   "cell_type": "markdown",
   "id": "47f0243d-f0ee-4412-9bd1-ffd3614ecfc8",
   "metadata": {},
   "source": [
    "# Read allele function reference CSV"
   ]
  },
  {
   "cell_type": "code",
   "execution_count": 8,
   "id": "e8c6ddca-69f5-4ab4-b612-f545b764f904",
   "metadata": {
    "execution": {
     "iopub.execute_input": "2025-04-09T08:36:55.356582Z",
     "iopub.status.busy": "2025-04-09T08:36:55.355935Z",
     "iopub.status.idle": "2025-04-09T08:36:55.377219Z",
     "shell.execute_reply": "2025-04-09T08:36:55.375152Z",
     "shell.execute_reply.started": "2025-04-09T08:36:55.356528Z"
    }
   },
   "outputs": [],
   "source": [
    "allele_func_df = pd.read_csv(allele_func_ref, skiprows=2, names=['allele', 'function'], usecols=[0,3], index_col=[0])\n",
    "allele_func_df['function'] = allele_func_df['function'].apply(lambda x: x.replace('Normal', 'normal'))\n",
    "allele_func_d = allele_func_df.to_dict()['function']"
   ]
  },
  {
   "cell_type": "markdown",
   "id": "9b6acaa9-e2a5-4883-b890-2e8f8b2d719e",
   "metadata": {},
   "source": [
    "# Read id_ref as pd.DataFrame"
   ]
  },
  {
   "cell_type": "code",
   "execution_count": 9,
   "id": "a3773734-83f9-4519-a96e-9b101adf5c13",
   "metadata": {
    "execution": {
     "iopub.execute_input": "2025-04-09T08:37:12.113132Z",
     "iopub.status.busy": "2025-04-09T08:37:12.112472Z",
     "iopub.status.idle": "2025-04-09T08:37:12.207776Z",
     "shell.execute_reply": "2025-04-09T08:37:12.205977Z",
     "shell.execute_reply.started": "2025-04-09T08:37:12.113077Z"
    }
   },
   "outputs": [
    {
     "data": {
      "text/html": [
       "<div>\n",
       "<style scoped>\n",
       "    .dataframe tbody tr th:only-of-type {\n",
       "        vertical-align: middle;\n",
       "    }\n",
       "\n",
       "    .dataframe tbody tr th {\n",
       "        vertical-align: top;\n",
       "    }\n",
       "\n",
       "    .dataframe thead th {\n",
       "        text-align: right;\n",
       "    }\n",
       "</style>\n",
       "<table border=\"1\" class=\"dataframe\">\n",
       "  <thead>\n",
       "    <tr style=\"text-align: right;\">\n",
       "      <th></th>\n",
       "      <th>founder_status</th>\n",
       "    </tr>\n",
       "    <tr>\n",
       "      <th>sre_participant_id</th>\n",
       "      <th></th>\n",
       "    </tr>\n",
       "  </thead>\n",
       "  <tbody>\n",
       "    <tr>\n",
       "      <th>SRE029440</th>\n",
       "      <td>Non-founder</td>\n",
       "    </tr>\n",
       "    <tr>\n",
       "      <th>SRE025838</th>\n",
       "      <td>Founder</td>\n",
       "    </tr>\n",
       "    <tr>\n",
       "      <th>SRE003784</th>\n",
       "      <td>Non-founder</td>\n",
       "    </tr>\n",
       "    <tr>\n",
       "      <th>SRE026979</th>\n",
       "      <td>Non-founder</td>\n",
       "    </tr>\n",
       "    <tr>\n",
       "      <th>SRE004787</th>\n",
       "      <td>Founder</td>\n",
       "    </tr>\n",
       "  </tbody>\n",
       "</table>\n",
       "</div>"
      ],
      "text/plain": [
       "                   founder_status\n",
       "sre_participant_id               \n",
       "SRE029440             Non-founder\n",
       "SRE025838                 Founder\n",
       "SRE003784             Non-founder\n",
       "SRE026979             Non-founder\n",
       "SRE004787                 Founder"
      ]
     },
     "execution_count": 9,
     "metadata": {},
     "output_type": "execute_result"
    }
   ],
   "source": [
    "# Read id reference and subset for useful columns\n",
    "id_ref_df = pd.read_csv(id_ref, index_col=[0])\n",
    "id_ref_df = id_ref_df.loc[id_ref_df['treated_ethnicity']=='Chinese', :].copy()    # Include Chinese only\n",
    "id_ref_df =  id_ref_df[['founder_status']]\n",
    "id_ref_df.head()"
   ]
  },
  {
   "cell_type": "markdown",
   "id": "dc44450c-868a-4194-88d3-a471e85eec28",
   "metadata": {},
   "source": [
    "# Read individual gene TSV as df"
   ]
  },
  {
   "cell_type": "code",
   "execution_count": 11,
   "id": "3ffe017a-7804-4cca-9c15-465214702bc3",
   "metadata": {
    "execution": {
     "iopub.execute_input": "2025-04-09T08:40:23.227140Z",
     "iopub.status.busy": "2025-04-09T08:40:23.226462Z",
     "iopub.status.idle": "2025-04-09T08:40:23.352195Z",
     "shell.execute_reply": "2025-04-09T08:40:23.350307Z",
     "shell.execute_reply.started": "2025-04-09T08:40:23.227085Z"
    }
   },
   "outputs": [],
   "source": [
    "result_tsvs:list = list(resultsDir.glob(\"*MT-RNR1.tsv\"))"
   ]
  },
  {
   "cell_type": "code",
   "execution_count": 21,
   "id": "9362af26-c28b-4059-be0a-f7d40812576a",
   "metadata": {
    "execution": {
     "iopub.execute_input": "2025-04-09T08:50:12.548392Z",
     "iopub.status.busy": "2025-04-09T08:50:12.547722Z",
     "iopub.status.idle": "2025-04-09T08:50:12.559860Z",
     "shell.execute_reply": "2025-04-09T08:50:12.557305Z",
     "shell.execute_reply.started": "2025-04-09T08:50:12.548334Z"
    }
   },
   "outputs": [],
   "source": [
    "def read_tsv(tsv:Path)->pd.DataFrame:\n",
    "    df = pd.read_table(tsv)\n",
    "    df['CPRA'] = df.apply(lambda r: f\"{r.CHROM}.{r.POS}.{r.REF}.{r.ALT}\", axis=1)\n",
    "    df['sample_id'] = tsv.name.split('.')[0]\n",
    "    df.set_index('CPRA', inplace=True)\n",
    "    return df"
   ]
  },
  {
   "cell_type": "code",
   "execution_count": 22,
   "id": "cef93744-d53e-4401-b5e4-3914ffa7c19d",
   "metadata": {
    "execution": {
     "iopub.execute_input": "2025-04-09T08:50:13.037744Z",
     "iopub.status.busy": "2025-04-09T08:50:13.037071Z",
     "iopub.status.idle": "2025-04-09T08:50:32.500788Z",
     "shell.execute_reply": "2025-04-09T08:50:32.498976Z",
     "shell.execute_reply.started": "2025-04-09T08:50:13.037687Z"
    }
   },
   "outputs": [
    {
     "name": "stderr",
     "output_type": "stream",
     "text": [
      "100%|█████████████████████████████████████████████████████████████████████████████████████████████████████████████████████████████████████████████████████| 24108/24108 [00:17<00:00, 1370.53it/s]\n"
     ]
    }
   ],
   "source": [
    "pool = multiprocessing.Pool(processes=10)    # Create Pool of 10 parallel processes max\n",
    "results = list(tqdm(pool.imap_unordered(read_tsv, result_tsvs), total=len(result_tsvs)))\n",
    "pool.close()    # Wait until all processes completed\n",
    "pool.join()    # Join all output from processes\n",
    "all_sample_gene_var_df = pd.concat(results)"
   ]
  },
  {
   "cell_type": "markdown",
   "id": "e40ef1d4-19c1-4711-a74f-dc902c4af7c0",
   "metadata": {},
   "source": [
    "# Call star alleles per sample"
   ]
  },
  {
   "cell_type": "code",
   "execution_count": 24,
   "id": "94b0d60c-b435-4eed-9657-593cb2719f07",
   "metadata": {
    "execution": {
     "iopub.execute_input": "2025-04-09T08:50:34.683992Z",
     "iopub.status.busy": "2025-04-09T08:50:34.683304Z",
     "iopub.status.idle": "2025-04-09T08:50:34.694170Z",
     "shell.execute_reply": "2025-04-09T08:50:34.691335Z",
     "shell.execute_reply.started": "2025-04-09T08:50:34.683935Z"
    }
   },
   "outputs": [],
   "source": [
    "risk_allele_ls = [\n",
    "    \"m.1095T>C\", \n",
    "    \"m.1494C>T\", \n",
    "    \"m.1555A>G\"\n",
    "]"
   ]
  },
  {
   "cell_type": "code",
   "execution_count": 25,
   "id": "113a4a73-dc10-46ed-b428-cdf555770029",
   "metadata": {
    "execution": {
     "iopub.execute_input": "2025-04-09T08:50:35.179860Z",
     "iopub.status.busy": "2025-04-09T08:50:35.179163Z",
     "iopub.status.idle": "2025-04-09T08:50:58.081254Z",
     "shell.execute_reply": "2025-04-09T08:50:58.080347Z",
     "shell.execute_reply.started": "2025-04-09T08:50:35.179799Z"
    }
   },
   "outputs": [
    {
     "name": "stderr",
     "output_type": "stream",
     "text": [
      "100%|█████████████████████████████████████████████████████████████████████████████████████████████████████████████████████████████████████████████████████| 24108/24108 [00:22<00:00, 1053.82it/s]\n"
     ]
    }
   ],
   "source": [
    "genotype_sr_ls = list()\n",
    "af_cutoff = 0.8\n",
    "cnt=0\n",
    "\n",
    "for sample_gene_df in tqdm(results):\n",
    "    tmp_check = False\n",
    "    sample_id = sample_gene_df['sample_id'].unique().tolist()[0]\n",
    "    out_genotype_tsv = resultsDir/f\"{sample_id}.autosome_gene_manual.genotype.tsv\"\n",
    "    out_genotype_tsv.unlink(missing_ok=True)\n",
    "    \n",
    "    # Merge allele_def_df to sample_gene_df\n",
    "    paired_df = sample_gene_df.merge(allele_def_df, left_index=True, right_index=True)\n",
    "\n",
    "    # annotate the allele_function\n",
    "    paired_df['allele_func'] = paired_df['pharmgkb_allele'].apply(lambda x: allele_func_d[x])\n",
    "    \n",
    "    tmp_allele, tmp_allele_func, tmp_af = list(), list(), list()\n",
    "    if len(paired_df)>0:\n",
    "        for _, row in paired_df.iterrows():\n",
    "            if float(row.AF) >= af_cutoff:\n",
    "                tmp_allele.append(row.pharmgkb_allele)\n",
    "                tmp_allele_func.append(row.allele_func)\n",
    "                tmp_af.append(row.AF)\n",
    "        if len(tmp_allele) == 0:\n",
    "            cnt+=1\n",
    "            tmp_check=True\n",
    "            tmp_allele.append(\"Reference\")\n",
    "            tmp_allele_func.append('normal risk of aminoglycoside-induced hearing loss')\n",
    "        if 'increased risk of aminoglycoside-induced hearing loss' in tmp_allele_func:\n",
    "            tmp_phenotype = 'increased risk of aminoglycoside-induced hearing loss'\n",
    "        elif 'uncertain risk of aminoglycoside-induced hearing loss' in tmp_allele_func:\n",
    "            tmp_phenotype = 'uncertain risk of aminoglycoside-induced hearing loss'\n",
    "        else:\n",
    "            tmp_phenotype = 'normal risk of aminoglycoside-induced hearing loss'\n",
    "        with_1095 = True if \"m.1095T>C\" in tmp_allele else False\n",
    "        with_1494 = True if \"m.1494C>T\" in tmp_allele else False\n",
    "        with_1555 = True if \"m.1555A>G\" in tmp_allele else False\n",
    "        tmp_genotype = '+'.join(tmp_allele)\n",
    "    else: \n",
    "        tmp_genotype = \"Reference\"\n",
    "        tmp_allele = [tmp_genotype]\n",
    "        tmp_af = [np.nan]\n",
    "        with_1095, with_1494, with_1555 = False, False, False\n",
    "        tmp_phenotype = 'normal risk of aminoglycoside-induced hearing loss'\n",
    "        \n",
    "    genotype_sr_ls.append(pd.Series(\n",
    "        [sample_id, tmp_genotype, tmp_allele, tmp_af, with_1095, with_1494, with_1555, tmp_phenotype], \n",
    "        index=['sample_id', 'genotype', 'allele_ls', 'af_ls', 'with_m.1095T>C', 'with_m.1494C>T', 'with_m.1555A>G', 'phenotype']\n",
    "    ))"
   ]
  },
  {
   "cell_type": "code",
   "execution_count": 26,
   "id": "ea995ef9-9a48-46ce-8bc1-b7df02604468",
   "metadata": {
    "execution": {
     "iopub.execute_input": "2025-04-09T08:51:00.044542Z",
     "iopub.status.busy": "2025-04-09T08:51:00.042879Z",
     "iopub.status.idle": "2025-04-09T08:51:00.731694Z",
     "shell.execute_reply": "2025-04-09T08:51:00.730968Z",
     "shell.execute_reply.started": "2025-04-09T08:51:00.044458Z"
    }
   },
   "outputs": [
    {
     "data": {
      "text/html": [
       "<div>\n",
       "<style scoped>\n",
       "    .dataframe tbody tr th:only-of-type {\n",
       "        vertical-align: middle;\n",
       "    }\n",
       "\n",
       "    .dataframe tbody tr th {\n",
       "        vertical-align: top;\n",
       "    }\n",
       "\n",
       "    .dataframe thead th {\n",
       "        text-align: right;\n",
       "    }\n",
       "</style>\n",
       "<table border=\"1\" class=\"dataframe\">\n",
       "  <thead>\n",
       "    <tr style=\"text-align: right;\">\n",
       "      <th></th>\n",
       "      <th>sample_id</th>\n",
       "      <th>genotype</th>\n",
       "      <th>allele_ls</th>\n",
       "      <th>af_ls</th>\n",
       "      <th>with_m.1095T&gt;C</th>\n",
       "      <th>with_m.1494C&gt;T</th>\n",
       "      <th>with_m.1555A&gt;G</th>\n",
       "      <th>phenotype</th>\n",
       "    </tr>\n",
       "  </thead>\n",
       "  <tbody>\n",
       "    <tr>\n",
       "      <th>0</th>\n",
       "      <td>SRE015111</td>\n",
       "      <td>Reference</td>\n",
       "      <td>[Reference]</td>\n",
       "      <td>[nan]</td>\n",
       "      <td>False</td>\n",
       "      <td>False</td>\n",
       "      <td>False</td>\n",
       "      <td>normal risk of aminoglycoside-induced hearing ...</td>\n",
       "    </tr>\n",
       "    <tr>\n",
       "      <th>1</th>\n",
       "      <td>SRE002135</td>\n",
       "      <td>Reference</td>\n",
       "      <td>[Reference]</td>\n",
       "      <td>[nan]</td>\n",
       "      <td>False</td>\n",
       "      <td>False</td>\n",
       "      <td>False</td>\n",
       "      <td>normal risk of aminoglycoside-induced hearing ...</td>\n",
       "    </tr>\n",
       "    <tr>\n",
       "      <th>2</th>\n",
       "      <td>SRE013011</td>\n",
       "      <td>Reference</td>\n",
       "      <td>[Reference]</td>\n",
       "      <td>[nan]</td>\n",
       "      <td>False</td>\n",
       "      <td>False</td>\n",
       "      <td>False</td>\n",
       "      <td>normal risk of aminoglycoside-induced hearing ...</td>\n",
       "    </tr>\n",
       "    <tr>\n",
       "      <th>3</th>\n",
       "      <td>SRE001984</td>\n",
       "      <td>Reference</td>\n",
       "      <td>[Reference]</td>\n",
       "      <td>[nan]</td>\n",
       "      <td>False</td>\n",
       "      <td>False</td>\n",
       "      <td>False</td>\n",
       "      <td>normal risk of aminoglycoside-induced hearing ...</td>\n",
       "    </tr>\n",
       "    <tr>\n",
       "      <th>4</th>\n",
       "      <td>SRE023752</td>\n",
       "      <td>Reference</td>\n",
       "      <td>[Reference]</td>\n",
       "      <td>[nan]</td>\n",
       "      <td>False</td>\n",
       "      <td>False</td>\n",
       "      <td>False</td>\n",
       "      <td>normal risk of aminoglycoside-induced hearing ...</td>\n",
       "    </tr>\n",
       "  </tbody>\n",
       "</table>\n",
       "</div>"
      ],
      "text/plain": [
       "   sample_id   genotype    allele_ls  af_ls  with_m.1095T>C  with_m.1494C>T  \\\n",
       "0  SRE015111  Reference  [Reference]  [nan]           False           False   \n",
       "1  SRE002135  Reference  [Reference]  [nan]           False           False   \n",
       "2  SRE013011  Reference  [Reference]  [nan]           False           False   \n",
       "3  SRE001984  Reference  [Reference]  [nan]           False           False   \n",
       "4  SRE023752  Reference  [Reference]  [nan]           False           False   \n",
       "\n",
       "   with_m.1555A>G                                          phenotype  \n",
       "0           False  normal risk of aminoglycoside-induced hearing ...  \n",
       "1           False  normal risk of aminoglycoside-induced hearing ...  \n",
       "2           False  normal risk of aminoglycoside-induced hearing ...  \n",
       "3           False  normal risk of aminoglycoside-induced hearing ...  \n",
       "4           False  normal risk of aminoglycoside-induced hearing ...  "
      ]
     },
     "execution_count": 26,
     "metadata": {},
     "output_type": "execute_result"
    }
   ],
   "source": [
    "all_genotype_df = pd.DataFrame(genotype_sr_ls)\n",
    "all_genotype_df.head()"
   ]
  },
  {
   "cell_type": "markdown",
   "id": "2e37758d-d534-4d65-b85e-60df1d749e6a",
   "metadata": {
    "jp-MarkdownHeadingCollapsed": true
   },
   "source": [
    "# Archive: To determine the cut-off of variants' allele fractions"
   ]
  },
  {
   "cell_type": "code",
   "execution_count": 26,
   "id": "05d21b25-46fd-4581-9454-72167f3c3d1a",
   "metadata": {},
   "outputs": [],
   "source": [
    "# Box and whisker diagram of allele fraction\n",
    "m1095 = [float(af) for af in all_genotype_df.loc[all_genotype_df['pharmgkb_allele']==\"m.1095T>C\", \"AF\"].tolist()]\n",
    "m1494 = [float(af) for af in all_genotype_df.loc[all_genotype_df['pharmgkb_allele']==\"m.1494C>T\", \"AF\"].tolist()]\n",
    "m1555 = [float(af) for af in all_genotype_df.loc[all_genotype_df['pharmgkb_allele']==\"m.1555A>G\", \"AF\"].tolist()]"
   ]
  },
  {
   "cell_type": "code",
   "execution_count": null,
   "id": "67ad7724-96c8-4c07-b105-e6b935632dbe",
   "metadata": {},
   "outputs": [],
   "source": [
    "# Use 0.8 as the allele fraction cutoff\n",
    "def apply_cutoff(allele, af, cutoff):\n",
    "    if af != af:\n",
    "        return allele\n",
    "    \n",
    "    out_allele_ls = list()\n",
    "    for tmp_allele, tmp_af in zip(allele.split(','), af.split(',')):\n",
    "        if float(tmp_af) > cutoff:\n",
    "            out_allele_ls.append(tmp_allele)\n",
    "        else:\n",
    "            out_allele_ls.append('Reference')\n",
    "    return ','.join(out_allele_ls)\n",
    "af_cutoff = 0.8\n",
    "all_genotype_df['genotype'] = all_genotype_df.apply(lambda r: apply_cutoff(r.pharmgkb_allele, r.AF, af_cutoff), axis=1)"
   ]
  },
  {
   "cell_type": "code",
   "execution_count": null,
   "id": "1bc5bf9d-8f77-4548-8720-5039e36831dd",
   "metadata": {},
   "outputs": [],
   "source": [
    "# Discard sample calls if multiple pharmgkb_allele is identified\n",
    "all_genotype_df['multiple_allele'] = all_genotype_df['genotype'].apply(lambda x: True if \",\" in x else False)\n",
    "all_genotype_df = all_genotype_df.loc[~all_genotype_df['multiple_allele'], :].copy()"
   ]
  },
  {
   "cell_type": "markdown",
   "id": "2d85b45a-365f-4dce-bd10-09a555a7c926",
   "metadata": {},
   "source": [
    "# Merge id_ref_df to all_genotype_df, then export to CSV"
   ]
  },
  {
   "cell_type": "code",
   "execution_count": 28,
   "id": "8c0906ca-ed29-491a-88ea-03e6cdbfbded",
   "metadata": {
    "execution": {
     "iopub.execute_input": "2025-04-09T08:53:24.070409Z",
     "iopub.status.busy": "2025-04-09T08:53:24.069731Z",
     "iopub.status.idle": "2025-04-09T08:53:24.083187Z",
     "shell.execute_reply": "2025-04-09T08:53:24.080634Z",
     "shell.execute_reply.started": "2025-04-09T08:53:24.070354Z"
    }
   },
   "outputs": [],
   "source": [
    "# Extract sre_patient_id from sample_id and set as index\n",
    "all_genotype_df['sre_patient_id'] = all_genotype_df['sample_id']\n",
    "all_genotype_df.set_index('sre_patient_id', inplace=True)"
   ]
  },
  {
   "cell_type": "code",
   "execution_count": 31,
   "id": "7b8db451-1900-4bca-a84e-77a389b72641",
   "metadata": {
    "execution": {
     "iopub.execute_input": "2025-04-09T08:54:11.958445Z",
     "iopub.status.busy": "2025-04-09T08:54:11.957725Z",
     "iopub.status.idle": "2025-04-09T08:54:12.020741Z",
     "shell.execute_reply": "2025-04-09T08:54:12.018941Z",
     "shell.execute_reply.started": "2025-04-09T08:54:11.958390Z"
    }
   },
   "outputs": [],
   "source": [
    "# Merge the df\n",
    "per_gene_df = id_ref_df.merge(all_genotype_df, left_index=True, right_index=True)\n",
    "per_gene_df['tmp'] = per_gene_df.index\n",
    "per_gene_df = per_gene_df.drop_duplicates(subset=['tmp', 'genotype', 'phenotype']).drop(columns=['tmp'])\n",
    "per_gene_df['gene'] = gene\n",
    "per_gene_df['EHR_priority_notation'] = np.nan"
   ]
  },
  {
   "cell_type": "code",
   "execution_count": 33,
   "id": "cf60c66a-369c-46a4-9497-a7899ab14b04",
   "metadata": {
    "execution": {
     "iopub.execute_input": "2025-04-09T08:55:08.468873Z",
     "iopub.status.busy": "2025-04-09T08:55:08.468202Z",
     "iopub.status.idle": "2025-04-09T08:55:08.616436Z",
     "shell.execute_reply": "2025-04-09T08:55:08.614589Z",
     "shell.execute_reply.started": "2025-04-09T08:55:08.468814Z"
    }
   },
   "outputs": [],
   "source": [
    "# Consolidate columns and export to CSV\n",
    "keep_cols = ['founder_status', 'gene', 'sample_id', 'genotype', 'phenotype', 'EHR_priority_notation']\n",
    "all_per_gene_df = per_gene_df.loc[:, keep_cols].copy()\n",
    "all_per_gene_df.to_csv(all_idv_geno_csv, index=True, index_label='sre_patient_id')\n",
    "per_gene_df = per_gene_df.loc[per_gene_df['founder_status']=='Founder', :].copy()\n",
    "per_gene_df.to_csv(idv_geno_csv, index=True, index_label='sre_patient_id')"
   ]
  },
  {
   "cell_type": "markdown",
   "id": "ceace26b-8c5d-4311-8ff9-9081f65d95f6",
   "metadata": {},
   "source": [
    "# Calculate allele frequency"
   ]
  },
  {
   "cell_type": "code",
   "execution_count": 35,
   "id": "7fd50c50-4886-49ba-b2b9-692416e1e8d9",
   "metadata": {
    "execution": {
     "iopub.execute_input": "2025-04-09T08:55:18.442074Z",
     "iopub.status.busy": "2025-04-09T08:55:18.441391Z",
     "iopub.status.idle": "2025-04-09T08:55:18.494785Z",
     "shell.execute_reply": "2025-04-09T08:55:18.492999Z",
     "shell.execute_reply.started": "2025-04-09T08:55:18.442018Z"
    }
   },
   "outputs": [],
   "source": [
    "# Group per_gene_df by genotype \n",
    "af_df = per_gene_df.groupby('genotype').agg(list)\n",
    "af_df['gene'] = gene\n",
    "af_df['variant'] = af_df.index\n",
    "af_df['allele_count'] = af_df['sample_id'].apply(len)\n",
    "af_df['allele_number'] = len(per_gene_df)\n",
    "af_df['allele_frequency'] = af_df.apply(lambda r: r.allele_count / r.allele_number, axis=1)\n",
    "af_df['no_heterozygous_carriers'] = np.nan\n",
    "af_df['no_homozygous_carriers'] = np.nan"
   ]
  },
  {
   "cell_type": "code",
   "execution_count": 37,
   "id": "8754064f-b836-45b7-9a0e-815a878b8526",
   "metadata": {
    "execution": {
     "iopub.execute_input": "2025-04-09T08:55:24.087369Z",
     "iopub.status.busy": "2025-04-09T08:55:24.086709Z",
     "iopub.status.idle": "2025-04-09T08:55:24.101770Z",
     "shell.execute_reply": "2025-04-09T08:55:24.099535Z",
     "shell.execute_reply.started": "2025-04-09T08:55:24.087315Z"
    }
   },
   "outputs": [],
   "source": [
    "# Annotate allele function\n",
    "def det_variant_func(var, allele_func_d, risk_allele_ls):\n",
    "    if var in allele_func_d.keys():\n",
    "        return allele_func_d[var]\n",
    "    var_ls = var.split('+')\n",
    "    if set(risk_allele_ls).intersection(set(var_ls)):\n",
    "        return \"increased risk of aminoglycoside-induced hearing loss\"\n",
    "    else:\n",
    "        return \"uncertain risk of aminoglycoside-induced hearing loss\"\n",
    "\n",
    "af_df['allele_function'] = af_df['variant'].apply(lambda x: det_variant_func(x, allele_func_d, risk_allele_ls))"
   ]
  },
  {
   "cell_type": "code",
   "execution_count": 39,
   "id": "2670e384-531d-4b06-baef-ecb9acf73bb8",
   "metadata": {
    "execution": {
     "iopub.execute_input": "2025-04-09T08:55:27.521930Z",
     "iopub.status.busy": "2025-04-09T08:55:27.521207Z",
     "iopub.status.idle": "2025-04-09T08:55:27.537234Z",
     "shell.execute_reply": "2025-04-09T08:55:27.535101Z",
     "shell.execute_reply.started": "2025-04-09T08:55:27.521872Z"
    }
   },
   "outputs": [],
   "source": [
    "# Consolidate columns and export to CSV\n",
    "keep_cols = ['gene', 'variant', 'allele_function', 'allele_frequency', 'allele_count', 'allele_number', 'no_heterozygous_carriers', 'no_homozygous_carriers']\n",
    "af_df = af_df.loc[:, keep_cols]\n",
    "af_df.to_csv(af_csv, index=False)"
   ]
  },
  {
   "cell_type": "markdown",
   "id": "dfdbfe0e-396b-4bb8-8f44-8978ff128e93",
   "metadata": {},
   "source": [
    "# Calculate the carrier_frequencies of actionable phenotypes"
   ]
  },
  {
   "cell_type": "code",
   "execution_count": 40,
   "id": "1baf0ea5-5da5-4f01-89c6-0355e351126d",
   "metadata": {
    "execution": {
     "iopub.execute_input": "2025-04-09T08:55:43.414784Z",
     "iopub.status.busy": "2025-04-09T08:55:43.414120Z",
     "iopub.status.idle": "2025-04-09T08:55:43.466767Z",
     "shell.execute_reply": "2025-04-09T08:55:43.465042Z",
     "shell.execute_reply.started": "2025-04-09T08:55:43.414729Z"
    }
   },
   "outputs": [],
   "source": [
    "# Prepare phenotype CSV and export\n",
    "phenotype_df = per_gene_df.groupby('phenotype').agg(list)\n",
    "phenotype_df['pharmacogene'] = phenotype_df['gene'].apply(lambda x: x[0])\n",
    "phenotype_df['genotype'] = phenotype_df['genotype'].apply(lambda x: ','.join(list(set(x))))\n",
    "phenotype_df['phenotype'] = phenotype_df.index\n",
    "phenotype_df['no_carriers_with_risk_alleles'] = phenotype_df['sample_id'].apply(len)\n",
    "phenotype_df['all_genotyped_individuals'] = len(per_gene_df)\n",
    "phenotype_df['carrier_frequency'] = phenotype_df['no_carriers_with_risk_alleles'] / phenotype_df['all_genotyped_individuals']\n",
    "keep_col = ['pharmacogene', 'genotype', 'phenotype', 'carrier_frequency', 'no_carriers_with_risk_alleles', 'all_genotyped_individuals']\n",
    "phenotype_df = phenotype_df.loc[:, keep_col].copy()"
   ]
  },
  {
   "cell_type": "code",
   "execution_count": 42,
   "id": "af3ae075-59ac-46f7-993d-61daa9b3f10d",
   "metadata": {
    "execution": {
     "iopub.execute_input": "2025-04-09T08:55:44.399052Z",
     "iopub.status.busy": "2025-04-09T08:55:44.398392Z",
     "iopub.status.idle": "2025-04-09T08:55:44.410536Z",
     "shell.execute_reply": "2025-04-09T08:55:44.408045Z",
     "shell.execute_reply.started": "2025-04-09T08:55:44.399000Z"
    }
   },
   "outputs": [],
   "source": [
    "phenotype_df.to_csv(pheno_csv, index=False)"
   ]
  },
  {
   "cell_type": "code",
   "execution_count": null,
   "id": "293f2bb5-a23e-44a1-9e96-b0f5ad933eaf",
   "metadata": {},
   "outputs": [],
   "source": []
  }
 ],
 "metadata": {
  "kernelspec": {
   "display_name": "Python 3 (ipykernel)",
   "language": "python",
   "name": "python3"
  },
  "language_info": {
   "codemirror_mode": {
    "name": "ipython",
    "version": 3
   },
   "file_extension": ".py",
   "mimetype": "text/x-python",
   "name": "python",
   "nbconvert_exporter": "python",
   "pygments_lexer": "ipython3",
   "version": "3.10.12"
  }
 },
 "nbformat": 4,
 "nbformat_minor": 5
}
