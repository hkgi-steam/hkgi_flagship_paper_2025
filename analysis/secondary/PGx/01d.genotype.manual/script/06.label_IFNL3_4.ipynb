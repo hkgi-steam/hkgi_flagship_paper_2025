{
 "cells": [
  {
   "cell_type": "code",
   "execution_count": 5,
   "id": "2ac944c0-89a7-4632-ab6a-c0e763a01fd5",
   "metadata": {
    "execution": {
     "iopub.execute_input": "2025-04-16T09:50:39.744855Z",
     "iopub.status.busy": "2025-04-16T09:50:39.744155Z",
     "iopub.status.idle": "2025-04-16T09:50:39.759085Z",
     "shell.execute_reply": "2025-04-16T09:50:39.756084Z",
     "shell.execute_reply.started": "2025-04-16T09:50:39.744794Z"
    }
   },
   "outputs": [
    {
     "name": "stdout",
     "output_type": "stream",
     "text": [
      "The history saving thread hit an unexpected error (OperationalError('attempt to write a readonly database')).History will not be written to the database.\n"
     ]
    }
   ],
   "source": [
    "from pathlib import Path\n",
    "import pandas as pd\n",
    "import re\n",
    "import numpy as np\n",
    "from yaml import load\n",
    "from yaml import CLoader as Loader\n",
    "import sys\n",
    "from collections import defaultdict"
   ]
  },
  {
   "cell_type": "code",
   "execution_count": 24,
   "id": "c3483dbb-d0af-4f2d-b7d3-8996a40077a1",
   "metadata": {
    "execution": {
     "iopub.execute_input": "2025-04-17T01:50:59.994351Z",
     "iopub.status.busy": "2025-04-17T01:50:59.993676Z",
     "iopub.status.idle": "2025-04-17T01:51:00.005847Z",
     "shell.execute_reply": "2025-04-17T01:51:00.003780Z",
     "shell.execute_reply.started": "2025-04-17T01:50:59.994298Z"
    }
   },
   "outputs": [],
   "source": [
    "result_tsv = Path(\"/home/_shared/jscliu/project/2025/Flagship/analysis/secondary/PGx/01d.genotype.manual/results/IFNL3_4.consolidate.tsv\")\n",
    "id_ref = Path(\"/home/_shared/jscliu/project/2025/Flagship/reference/sample_info_annot.2024-11-12.csv\")\n",
    "allele_func = Path(\"/home/_shared/jscliu/project/2025/Flagship/analysis/secondary/PGx/01a.genotype.aldy/script/aldy_custom_allele_functions.yml\")\n",
    "\n",
    "# Output\n",
    "sumDir = Path(\"/home/_shared/jscliu/project/2025/Flagship/analysis/secondary/PGx/01d.genotype.manual/summary\")\n",
    "all_perGene_prefix:str = str(sumDir/\"all_perGenes\")\n",
    "perGene_prefix:str = str(sumDir/\"perGenes\")\n",
    "af_prefix:str = str(sumDir/\"allele_frequency\")\n",
    "pheno_prefix:str = str(sumDir/\"phenotype\")"
   ]
  },
  {
   "cell_type": "code",
   "execution_count": 25,
   "id": "1a10883a-f94d-44ac-9816-86421f437c13",
   "metadata": {
    "execution": {
     "iopub.execute_input": "2025-04-17T01:52:20.211723Z",
     "iopub.status.busy": "2025-04-17T01:52:20.211073Z",
     "iopub.status.idle": "2025-04-17T01:52:20.392868Z",
     "shell.execute_reply": "2025-04-17T01:52:20.391008Z",
     "shell.execute_reply.started": "2025-04-17T01:52:20.211668Z"
    }
   },
   "outputs": [],
   "source": [
    "result_df = pd.read_table(result_tsv)\n",
    "result_df['CPRA'] = result_df.apply(lambda r: f\"{r.chr}.{r.pos}.{r.ref}.{r.alt}\", axis=1)\n",
    "rsid_map:dict = {\n",
    "    'chr19.39252525.T.G': 'rs8099917', \n",
    "    'chr19.39248513.CT.C': 'rs11322783_1', \n",
    "    'chr19.39248515.T.G': 'rs11322783_2'\n",
    "}\n",
    "result_df['rsID'] = result_df['CPRA'].apply(lambda x: rsid_map[x])"
   ]
  },
  {
   "cell_type": "code",
   "execution_count": 26,
   "id": "ac1613cf-6998-42ee-9ce3-76550f4d499b",
   "metadata": {
    "execution": {
     "iopub.execute_input": "2025-04-17T01:52:25.985964Z",
     "iopub.status.busy": "2025-04-17T01:52:25.985248Z",
     "iopub.status.idle": "2025-04-17T01:52:26.009476Z",
     "shell.execute_reply": "2025-04-17T01:52:26.007535Z",
     "shell.execute_reply.started": "2025-04-17T01:52:25.985908Z"
    }
   },
   "outputs": [
    {
     "data": {
      "text/html": [
       "<div>\n",
       "<style scoped>\n",
       "    .dataframe tbody tr th:only-of-type {\n",
       "        vertical-align: middle;\n",
       "    }\n",
       "\n",
       "    .dataframe tbody tr th {\n",
       "        vertical-align: top;\n",
       "    }\n",
       "\n",
       "    .dataframe thead th {\n",
       "        text-align: right;\n",
       "    }\n",
       "</style>\n",
       "<table border=\"1\" class=\"dataframe\">\n",
       "  <thead>\n",
       "    <tr style=\"text-align: right;\">\n",
       "      <th></th>\n",
       "      <th>participant_id</th>\n",
       "      <th>chr</th>\n",
       "      <th>pos</th>\n",
       "      <th>ref</th>\n",
       "      <th>alt</th>\n",
       "      <th>GT</th>\n",
       "      <th>CPRA</th>\n",
       "      <th>rsID</th>\n",
       "    </tr>\n",
       "  </thead>\n",
       "  <tbody>\n",
       "    <tr>\n",
       "      <th>0</th>\n",
       "      <td>SRE009873</td>\n",
       "      <td>chr19</td>\n",
       "      <td>39248513</td>\n",
       "      <td>CT</td>\n",
       "      <td>C</td>\n",
       "      <td>0|1</td>\n",
       "      <td>chr19.39248513.CT.C</td>\n",
       "      <td>rs11322783_1</td>\n",
       "    </tr>\n",
       "    <tr>\n",
       "      <th>1</th>\n",
       "      <td>SRE009873</td>\n",
       "      <td>chr19</td>\n",
       "      <td>39248515</td>\n",
       "      <td>T</td>\n",
       "      <td>G</td>\n",
       "      <td>0|1</td>\n",
       "      <td>chr19.39248515.T.G</td>\n",
       "      <td>rs11322783_2</td>\n",
       "    </tr>\n",
       "    <tr>\n",
       "      <th>2</th>\n",
       "      <td>SRE019319</td>\n",
       "      <td>chr19</td>\n",
       "      <td>39248513</td>\n",
       "      <td>CT</td>\n",
       "      <td>C</td>\n",
       "      <td>0|1</td>\n",
       "      <td>chr19.39248513.CT.C</td>\n",
       "      <td>rs11322783_1</td>\n",
       "    </tr>\n",
       "    <tr>\n",
       "      <th>3</th>\n",
       "      <td>SRE019319</td>\n",
       "      <td>chr19</td>\n",
       "      <td>39248515</td>\n",
       "      <td>T</td>\n",
       "      <td>G</td>\n",
       "      <td>0|1</td>\n",
       "      <td>chr19.39248515.T.G</td>\n",
       "      <td>rs11322783_2</td>\n",
       "    </tr>\n",
       "    <tr>\n",
       "      <th>4</th>\n",
       "      <td>SRE019319</td>\n",
       "      <td>chr19</td>\n",
       "      <td>39252525</td>\n",
       "      <td>T</td>\n",
       "      <td>G</td>\n",
       "      <td>0/1</td>\n",
       "      <td>chr19.39252525.T.G</td>\n",
       "      <td>rs8099917</td>\n",
       "    </tr>\n",
       "    <tr>\n",
       "      <th>...</th>\n",
       "      <td>...</td>\n",
       "      <td>...</td>\n",
       "      <td>...</td>\n",
       "      <td>...</td>\n",
       "      <td>...</td>\n",
       "      <td>...</td>\n",
       "      <td>...</td>\n",
       "      <td>...</td>\n",
       "    </tr>\n",
       "    <tr>\n",
       "      <th>8241</th>\n",
       "      <td>SRE026509</td>\n",
       "      <td>chr19</td>\n",
       "      <td>39248515</td>\n",
       "      <td>T</td>\n",
       "      <td>G</td>\n",
       "      <td>0|1</td>\n",
       "      <td>chr19.39248515.T.G</td>\n",
       "      <td>rs11322783_2</td>\n",
       "    </tr>\n",
       "    <tr>\n",
       "      <th>8242</th>\n",
       "      <td>SRE026509</td>\n",
       "      <td>chr19</td>\n",
       "      <td>39252525</td>\n",
       "      <td>T</td>\n",
       "      <td>G</td>\n",
       "      <td>0/1</td>\n",
       "      <td>chr19.39252525.T.G</td>\n",
       "      <td>rs8099917</td>\n",
       "    </tr>\n",
       "    <tr>\n",
       "      <th>8243</th>\n",
       "      <td>SRE018821</td>\n",
       "      <td>chr19</td>\n",
       "      <td>39248513</td>\n",
       "      <td>CT</td>\n",
       "      <td>C</td>\n",
       "      <td>0|1</td>\n",
       "      <td>chr19.39248513.CT.C</td>\n",
       "      <td>rs11322783_1</td>\n",
       "    </tr>\n",
       "    <tr>\n",
       "      <th>8244</th>\n",
       "      <td>SRE018821</td>\n",
       "      <td>chr19</td>\n",
       "      <td>39248515</td>\n",
       "      <td>T</td>\n",
       "      <td>G</td>\n",
       "      <td>0|1</td>\n",
       "      <td>chr19.39248515.T.G</td>\n",
       "      <td>rs11322783_2</td>\n",
       "    </tr>\n",
       "    <tr>\n",
       "      <th>8245</th>\n",
       "      <td>SRE018821</td>\n",
       "      <td>chr19</td>\n",
       "      <td>39252525</td>\n",
       "      <td>T</td>\n",
       "      <td>G</td>\n",
       "      <td>0/1</td>\n",
       "      <td>chr19.39252525.T.G</td>\n",
       "      <td>rs8099917</td>\n",
       "    </tr>\n",
       "  </tbody>\n",
       "</table>\n",
       "<p>8246 rows × 8 columns</p>\n",
       "</div>"
      ],
      "text/plain": [
       "     participant_id    chr       pos ref alt   GT                 CPRA  \\\n",
       "0         SRE009873  chr19  39248513  CT   C  0|1  chr19.39248513.CT.C   \n",
       "1         SRE009873  chr19  39248515   T   G  0|1   chr19.39248515.T.G   \n",
       "2         SRE019319  chr19  39248513  CT   C  0|1  chr19.39248513.CT.C   \n",
       "3         SRE019319  chr19  39248515   T   G  0|1   chr19.39248515.T.G   \n",
       "4         SRE019319  chr19  39252525   T   G  0/1   chr19.39252525.T.G   \n",
       "...             ...    ...       ...  ..  ..  ...                  ...   \n",
       "8241      SRE026509  chr19  39248515   T   G  0|1   chr19.39248515.T.G   \n",
       "8242      SRE026509  chr19  39252525   T   G  0/1   chr19.39252525.T.G   \n",
       "8243      SRE018821  chr19  39248513  CT   C  0|1  chr19.39248513.CT.C   \n",
       "8244      SRE018821  chr19  39248515   T   G  0|1   chr19.39248515.T.G   \n",
       "8245      SRE018821  chr19  39252525   T   G  0/1   chr19.39252525.T.G   \n",
       "\n",
       "              rsID  \n",
       "0     rs11322783_1  \n",
       "1     rs11322783_2  \n",
       "2     rs11322783_1  \n",
       "3     rs11322783_2  \n",
       "4        rs8099917  \n",
       "...            ...  \n",
       "8241  rs11322783_2  \n",
       "8242     rs8099917  \n",
       "8243  rs11322783_1  \n",
       "8244  rs11322783_2  \n",
       "8245     rs8099917  \n",
       "\n",
       "[8246 rows x 8 columns]"
      ]
     },
     "execution_count": 26,
     "metadata": {},
     "output_type": "execute_result"
    }
   ],
   "source": [
    "result_df"
   ]
  },
  {
   "cell_type": "code",
   "execution_count": 27,
   "id": "95113c87-9b09-4f0a-a807-2cb993da2679",
   "metadata": {
    "execution": {
     "iopub.execute_input": "2025-04-17T01:52:51.111746Z",
     "iopub.status.busy": "2025-04-17T01:52:51.111106Z",
     "iopub.status.idle": "2025-04-17T01:52:51.265261Z",
     "shell.execute_reply": "2025-04-17T01:52:51.263428Z",
     "shell.execute_reply.started": "2025-04-17T01:52:51.111693Z"
    }
   },
   "outputs": [],
   "source": [
    "# Read id reference and subset for useful columns\n",
    "def read_id_ref(id_ref, u_chi=True):\n",
    "    keep_col = [\"sre_participant_id\", \"founder_status\", \"sre_lab_id\", \"hkgp_id\"]\n",
    "    # if u_chi, get unrelated-Chinese only\n",
    "    id_ref_df = pd.read_csv(id_ref)\n",
    "    if u_chi:\n",
    "        id_ref_df = id_ref_df.loc[\n",
    "            (id_ref_df['founder_status']=='Founder') & (id_ref_df['treated_ethnicity']=='Chinese'), \n",
    "            keep_col\n",
    "        ].copy()\n",
    "    else:\n",
    "        id_ref_df = id_ref_df.loc[:, keep_col].copy()\n",
    "    id_ref_df = id_ref_df.loc[~id_ref_df.duplicated(subset=['sre_participant_id']), :]\n",
    "    id_ref_df.rename(columns={\"sre_lab_id\": \"sample_id\"}, inplace=True)\n",
    "    return id_ref_df\n",
    "\n",
    "id_ref_df = read_id_ref(id_ref, u_chi=True)\n",
    "all_id_ref_df = read_id_ref(id_ref, u_chi=False)"
   ]
  },
  {
   "cell_type": "code",
   "execution_count": 28,
   "id": "500fd8e5-a875-4217-bdb2-55fbe8556b30",
   "metadata": {
    "execution": {
     "iopub.execute_input": "2025-04-17T01:52:51.374033Z",
     "iopub.status.busy": "2025-04-17T01:52:51.373361Z",
     "iopub.status.idle": "2025-04-17T01:52:51.418344Z",
     "shell.execute_reply": "2025-04-17T01:52:51.416535Z",
     "shell.execute_reply.started": "2025-04-17T01:52:51.373980Z"
    }
   },
   "outputs": [],
   "source": [
    "# All annotations we have \n",
    "id_map_d:dict = all_id_ref_df.loc[:, ['hkgp_id', 'sre_participant_id']].set_index('hkgp_id').to_dict()['sre_participant_id']"
   ]
  },
  {
   "cell_type": "code",
   "execution_count": 30,
   "id": "67c68a2f-1d8c-4131-b30d-ea2dd868c534",
   "metadata": {
    "execution": {
     "iopub.execute_input": "2025-04-17T01:53:33.644936Z",
     "iopub.status.busy": "2025-04-17T01:53:33.644288Z",
     "iopub.status.idle": "2025-04-17T01:53:33.658536Z",
     "shell.execute_reply": "2025-04-17T01:53:33.656389Z",
     "shell.execute_reply.started": "2025-04-17T01:53:33.644883Z"
    }
   },
   "outputs": [],
   "source": [
    "def annotate_haplotype(gene, haplotype, allele_map_d):\n",
    "    # Error if gene is not defined\n",
    "    if gene not in allele_map_d.keys():\n",
    "        print(f\"{gene} not defined. Exiting\")\n",
    "        sys.exit(1)\n",
    "\n",
    "    # Return original haplotype if all alleles are mapped\n",
    "    if allele_map_d[gene] == \"all_mapped\":\n",
    "        return haplotype\n",
    "\n",
    "    # Return annotated allele if defined in allele_map_d, otherwise return haplotype\n",
    "    if haplotype in allele_map_d[gene].keys():\n",
    "        return allele_map_d[gene][haplotype]\n",
    "    else:\n",
    "        return haplotype\n",
    "\n",
    "def count_zygosity(called_df):\n",
    "    \"\"\"Intake called_df, count the number of homozygous and heterozygous carriers into a dict\"\"\"\n",
    "    homo_dict=defaultdict(int)\n",
    "    hetero_dict=defaultdict(int)\n",
    "    for _, row in called_df.iterrows():\n",
    "        if row.haplotype_1 == row.haplotype_2:\n",
    "            # Homozygous\n",
    "            homo_dict[row.haplotype_1] += 1\n",
    "        else:\n",
    "            # Heterozygous\n",
    "            hetero_dict[row.haplotype_1] += 1\n",
    "            hetero_dict[row.haplotype_2] += 1\n",
    "    return homo_dict, hetero_dict"
   ]
  },
  {
   "cell_type": "code",
   "execution_count": 31,
   "id": "88a58c09-30a6-4a7b-b23f-2030d7ed3bdb",
   "metadata": {
    "execution": {
     "iopub.execute_input": "2025-04-17T01:53:34.142624Z",
     "iopub.status.busy": "2025-04-17T01:53:34.141954Z",
     "iopub.status.idle": "2025-04-17T01:53:34.152740Z",
     "shell.execute_reply": "2025-04-17T01:53:34.151073Z",
     "shell.execute_reply.started": "2025-04-17T01:53:34.142562Z"
    }
   },
   "outputs": [],
   "source": [
    "with open(allele_func) as handle:\n",
    "    allele_func_d = load(handle, Loader=Loader)"
   ]
  },
  {
   "cell_type": "markdown",
   "id": "029dbd40-8d7e-4a79-a5c0-a604215925c4",
   "metadata": {},
   "source": [
    "# Summarize rs11322783"
   ]
  },
  {
   "cell_type": "code",
   "execution_count": 32,
   "id": "456d1d9a-c645-4237-b46a-a5257fb2573f",
   "metadata": {
    "execution": {
     "iopub.execute_input": "2025-04-17T01:53:43.625838Z",
     "iopub.status.busy": "2025-04-17T01:53:43.625167Z",
     "iopub.status.idle": "2025-04-17T01:53:43.634106Z",
     "shell.execute_reply": "2025-04-17T01:53:43.631716Z",
     "shell.execute_reply.started": "2025-04-17T01:53:43.625762Z"
    }
   },
   "outputs": [],
   "source": [
    "perGene_df_d = dict()"
   ]
  },
  {
   "cell_type": "code",
   "execution_count": 33,
   "id": "05ec2f76-f97b-4eae-a050-6277adf3bd13",
   "metadata": {
    "execution": {
     "iopub.execute_input": "2025-04-17T01:54:00.727265Z",
     "iopub.status.busy": "2025-04-17T01:54:00.726620Z",
     "iopub.status.idle": "2025-04-17T01:54:00.746286Z",
     "shell.execute_reply": "2025-04-17T01:54:00.744135Z",
     "shell.execute_reply.started": "2025-04-17T01:54:00.727210Z"
    }
   },
   "outputs": [],
   "source": [
    "complete_rs11322783_genotypes:dict = dict()\n",
    "ambiguous_rs11322783_genotypes:list = list()\n",
    "rs11322783_split_df = result_df.loc[result_df['rsID'].str.startswith('rs11322783'), :].copy()"
   ]
  },
  {
   "cell_type": "code",
   "execution_count": 36,
   "id": "e5f37a53-2b63-454c-9633-69b59822ca70",
   "metadata": {
    "execution": {
     "iopub.execute_input": "2025-04-17T01:56:07.172778Z",
     "iopub.status.busy": "2025-04-17T01:56:07.172126Z",
     "iopub.status.idle": "2025-04-17T01:56:09.087597Z",
     "shell.execute_reply": "2025-04-17T01:56:09.085714Z",
     "shell.execute_reply.started": "2025-04-17T01:56:07.172724Z"
    }
   },
   "outputs": [],
   "source": [
    "for sre_patient_id in rs11322783_split_df.participant_id.unique():\n",
    "    tmp_df = rs11322783_split_df.loc[rs11322783_split_df['participant_id']==sre_patient_id, :].set_index('rsID', drop=True)\n",
    "    if set(tmp_df.index) != {'rs11322783_1', 'rs11322783_2'}:\n",
    "        # Not exactly _1 and _2\n",
    "        ambiguous_rs11322783_genotypes.append(sre_patient_id)\n",
    "    elif tmp_df.loc['rs11322783_1', 'GT'] != tmp_df.loc['rs11322783_2', 'GT']:\n",
    "        # Genotype unmatched\n",
    "        ambiguous_rs11322783_genotypes.append(sre_patient_id)\n",
    "    else:\n",
    "        # Complete and consistent genotype\n",
    "        complete_rs11322783_genotypes[sre_patient_id] =tmp_df.loc['rs11322783_1', 'GT']"
   ]
  },
  {
   "cell_type": "code",
   "execution_count": 37,
   "id": "ed2c50ea-3c03-4eea-8527-1f695174b6cb",
   "metadata": {
    "execution": {
     "iopub.execute_input": "2025-04-17T01:56:11.919070Z",
     "iopub.status.busy": "2025-04-17T01:56:11.918413Z",
     "iopub.status.idle": "2025-04-17T01:56:11.927124Z",
     "shell.execute_reply": "2025-04-17T01:56:11.924856Z",
     "shell.execute_reply.started": "2025-04-17T01:56:11.919015Z"
    }
   },
   "outputs": [],
   "source": [
    "if len(ambiguous_rs11322783_genotypes) > 0:\n",
    "    print(f\"ERROR: ambiguous genotype identify: {ambiguous_rs11322783_genotypes}\")\n",
    "    sys.exit(1)"
   ]
  },
  {
   "cell_type": "code",
   "execution_count": 41,
   "id": "5c2c0263-570a-462b-b063-bd88389072f4",
   "metadata": {
    "execution": {
     "iopub.execute_input": "2025-04-17T01:57:10.347634Z",
     "iopub.status.busy": "2025-04-17T01:57:10.346980Z",
     "iopub.status.idle": "2025-04-17T01:57:10.394916Z",
     "shell.execute_reply": "2025-04-17T01:57:10.393198Z",
     "shell.execute_reply.started": "2025-04-17T01:57:10.347580Z"
    }
   },
   "outputs": [],
   "source": [
    "rs11322783_df = pd.DataFrame(complete_rs11322783_genotypes, index=['GT']).T\n",
    "\n",
    "# Merge rs11322783_df to all_id_ref_df\n",
    "ifnl4_rs11322783_df = all_id_ref_df.set_index(\"sre_participant_id\").merge(rs11322783_df, left_index=True, right_index=True, how='left')"
   ]
  },
  {
   "cell_type": "code",
   "execution_count": 42,
   "id": "702b0bc6-c339-4df2-a3e3-1541d2cb8e24",
   "metadata": {
    "execution": {
     "iopub.execute_input": "2025-04-17T01:57:23.247289Z",
     "iopub.status.busy": "2025-04-17T01:57:23.246643Z",
     "iopub.status.idle": "2025-04-17T01:57:24.735942Z",
     "shell.execute_reply": "2025-04-17T01:57:24.734230Z",
     "shell.execute_reply.started": "2025-04-17T01:57:23.247235Z"
    }
   },
   "outputs": [],
   "source": [
    "def interpret_gt(GT):\n",
    "    ref = \"TT\"\n",
    "    alt = \"G\"\n",
    "    if GT != GT:\n",
    "        # Assumed homozygous ref\n",
    "        major = \"0|0\"\n",
    "        hap_1 = ref\n",
    "        hap_2 = ref\n",
    "    elif GT == \"0|1\":\n",
    "        # Heterozygous\n",
    "        major = GT\n",
    "        hap_1 = ref\n",
    "        hap_2 = alt\n",
    "    elif GT == \"1|1\":\n",
    "        # Homozygous alt\n",
    "        major = GT\n",
    "        hap_1 = alt\n",
    "        hap_2 = alt\n",
    "    else:\n",
    "        return pd.Series([np.nan]*4)\n",
    "    genotype = f\"{hap_1}/{hap_2}\"\n",
    "    return pd.Series([major, hap_1, hap_2, genotype])\n",
    "ifnl4_rs11322783_df[['major', 'haplotype_1', 'haplotype_2', 'genotype']] = ifnl4_rs11322783_df['GT'].apply(interpret_gt)\n",
    "ifnl4_rs11322783_df.dropna(subset=['major', 'haplotype_1', 'haplotype_2', 'genotype'], inplace=True)"
   ]
  },
  {
   "cell_type": "code",
   "execution_count": 43,
   "id": "52796617-8399-41e2-8a67-db76c159e157",
   "metadata": {
    "execution": {
     "iopub.execute_input": "2025-04-17T01:57:25.678111Z",
     "iopub.status.busy": "2025-04-17T01:57:25.677404Z",
     "iopub.status.idle": "2025-04-17T01:57:25.686970Z",
     "shell.execute_reply": "2025-04-17T01:57:25.684714Z",
     "shell.execute_reply.started": "2025-04-17T01:57:25.678056Z"
    }
   },
   "outputs": [],
   "source": [
    "ifnl4_rs11322783_df['gene'] = 'IFNL4_rs11322783'"
   ]
  },
  {
   "cell_type": "code",
   "execution_count": 46,
   "id": "9fb4a69a-39d1-4799-a97a-dd78dac8f9a6",
   "metadata": {
    "execution": {
     "iopub.execute_input": "2025-04-17T01:58:30.163823Z",
     "iopub.status.busy": "2025-04-17T01:58:30.163171Z",
     "iopub.status.idle": "2025-04-17T01:58:30.492521Z",
     "shell.execute_reply": "2025-04-17T01:58:30.490739Z",
     "shell.execute_reply.started": "2025-04-17T01:58:30.163769Z"
    }
   },
   "outputs": [],
   "source": [
    "# Annotate the haplotype functions\n",
    "gene = \"IFNL4_rs11322783\"\n",
    "keep_col = ['founder_status', 'gene', 'sample_id', 'major', 'haplotype_1', 'haplotype_2', 'genotype']\n",
    "df = ifnl4_rs11322783_df.loc[:, keep_col].copy()\n",
    "df['haplotype_1_func'] = df.apply(lambda r: annotate_haplotype(f\"{gene}\", r.haplotype_1, allele_func_d), axis=1)\n",
    "df['haplotype_2_func'] = df.apply(lambda r: annotate_haplotype(f\"{gene}\", r.haplotype_2, allele_func_d), axis=1)"
   ]
  },
  {
   "cell_type": "code",
   "execution_count": 47,
   "id": "e612f62c-0fa6-46b0-8ca0-543ab0f1def7",
   "metadata": {
    "execution": {
     "iopub.execute_input": "2025-04-17T01:58:33.640357Z",
     "iopub.status.busy": "2025-04-17T01:58:33.639708Z",
     "iopub.status.idle": "2025-04-17T01:58:35.858640Z",
     "shell.execute_reply": "2025-04-17T01:58:35.857811Z",
     "shell.execute_reply.started": "2025-04-17T01:58:33.640304Z"
    }
   },
   "outputs": [],
   "source": [
    "# Annotate the phenotype\n",
    "def annotate_ifnl4_1b_phenotype(hap_1_func, hap_2_func):\n",
    "    if \"Carrier of rs11322783 variant (G)\" in [hap_1_func, hap_2_func]:\n",
    "        phenotype = \"Decreased response (including sustained virological response (svr)) to pegIFN-alpha/ribavirin\"\n",
    "    else:\n",
    "        phenotype = \"Improved response (including sustained virological response (svr)) to pegIFN-alpha/ribavirin\"\n",
    "    return pd.Series([phenotype, np.nan])\n",
    "df[['phenotype', 'EHR_priority_notation']] = df.apply(\n",
    "    lambda r: annotate_ifnl4_1b_phenotype(r.haplotype_1_func, r.haplotype_2_func), axis=1\n",
    ")"
   ]
  },
  {
   "cell_type": "code",
   "execution_count": 48,
   "id": "26189494-87a7-4c11-8364-8389698f7540",
   "metadata": {
    "execution": {
     "iopub.execute_input": "2025-04-17T01:58:35.859619Z",
     "iopub.status.busy": "2025-04-17T01:58:35.859504Z",
     "iopub.status.idle": "2025-04-17T01:58:35.862969Z",
     "shell.execute_reply": "2025-04-17T01:58:35.862331Z",
     "shell.execute_reply.started": "2025-04-17T01:58:35.859607Z"
    }
   },
   "outputs": [],
   "source": [
    "perGene_df_d[gene] = df"
   ]
  },
  {
   "cell_type": "markdown",
   "id": "67eda71a-4608-4b9a-8b22-c0350b2cfa4c",
   "metadata": {},
   "source": [
    "# Summarize IFNL3 rs8099917"
   ]
  },
  {
   "cell_type": "code",
   "execution_count": 49,
   "id": "53df4c78-a4d9-4947-be75-ba1442d3f225",
   "metadata": {
    "execution": {
     "iopub.execute_input": "2025-04-17T01:58:56.842038Z",
     "iopub.status.busy": "2025-04-17T01:58:56.841340Z",
     "iopub.status.idle": "2025-04-17T01:58:56.858080Z",
     "shell.execute_reply": "2025-04-17T01:58:56.855770Z",
     "shell.execute_reply.started": "2025-04-17T01:58:56.841983Z"
    }
   },
   "outputs": [],
   "source": [
    "rs8099917_df = result_df.loc[result_df['rsID'].str.startswith('rs8099917'), ['GT']].copy()"
   ]
  },
  {
   "cell_type": "code",
   "execution_count": 50,
   "id": "40c05027-1498-4aad-9f01-ecdfc14f3651",
   "metadata": {
    "execution": {
     "iopub.execute_input": "2025-04-17T01:58:57.164933Z",
     "iopub.status.busy": "2025-04-17T01:58:57.164286Z",
     "iopub.status.idle": "2025-04-17T01:58:57.192109Z",
     "shell.execute_reply": "2025-04-17T01:58:57.190316Z",
     "shell.execute_reply.started": "2025-04-17T01:58:57.164879Z"
    }
   },
   "outputs": [],
   "source": [
    "# Merge rs8099917_df to all_id_ref_df\n",
    "ifnl3_rs8099917_df = all_id_ref_df.set_index(\"sre_participant_id\").merge(rs8099917_df, left_index=True, right_index=True, how='left')"
   ]
  },
  {
   "cell_type": "code",
   "execution_count": 51,
   "id": "86728944-1362-4d7d-a812-9f29a7bc32a8",
   "metadata": {
    "execution": {
     "iopub.execute_input": "2025-04-17T01:59:01.191121Z",
     "iopub.status.busy": "2025-04-17T01:59:01.190475Z",
     "iopub.status.idle": "2025-04-17T01:59:02.637696Z",
     "shell.execute_reply": "2025-04-17T01:59:02.636033Z",
     "shell.execute_reply.started": "2025-04-17T01:59:01.191068Z"
    }
   },
   "outputs": [],
   "source": [
    "def interpret_rs8099917_gt(GT):\n",
    "    ref = \"T\"\n",
    "    alt = \"G\"\n",
    "    if GT != GT:\n",
    "        # Assumed homozygous ref\n",
    "        major = \"0/0\"\n",
    "        hap_1 = ref\n",
    "        hap_2 = ref\n",
    "    elif GT == \"0/1\":\n",
    "        # Heterozygous\n",
    "        major = GT\n",
    "        hap_1 = ref\n",
    "        hap_2 = alt\n",
    "    elif GT == \"1/1\":\n",
    "        # Homozygous alt\n",
    "        major = GT\n",
    "        hap_1 = alt\n",
    "        hap_2 = alt\n",
    "    else:\n",
    "        return pd.Series([np.nan]*4)\n",
    "    genotype = f\"{hap_1}/{hap_2}\"\n",
    "    return pd.Series([major, hap_1, hap_2, genotype])\n",
    "ifnl3_rs8099917_df[['major', 'haplotype_1', 'haplotype_2', 'genotype']] = ifnl3_rs8099917_df['GT'].apply(interpret_rs8099917_gt)"
   ]
  },
  {
   "cell_type": "code",
   "execution_count": 52,
   "id": "e138951a-3d53-49fc-899b-39b8b2b2b2c6",
   "metadata": {
    "execution": {
     "iopub.execute_input": "2025-04-17T01:59:02.639442Z",
     "iopub.status.busy": "2025-04-17T01:59:02.639246Z",
     "iopub.status.idle": "2025-04-17T01:59:02.645230Z",
     "shell.execute_reply": "2025-04-17T01:59:02.643638Z",
     "shell.execute_reply.started": "2025-04-17T01:59:02.639424Z"
    }
   },
   "outputs": [],
   "source": [
    "ifnl3_rs8099917_df['gene'] = 'IFNL3_rs8099917'"
   ]
  },
  {
   "cell_type": "code",
   "execution_count": 53,
   "id": "5980c2d4-972d-486b-9474-ca9d28cbf53f",
   "metadata": {
    "execution": {
     "iopub.execute_input": "2025-04-17T01:59:06.976759Z",
     "iopub.status.busy": "2025-04-17T01:59:06.976115Z",
     "iopub.status.idle": "2025-04-17T01:59:07.301263Z",
     "shell.execute_reply": "2025-04-17T01:59:07.299487Z",
     "shell.execute_reply.started": "2025-04-17T01:59:06.976705Z"
    }
   },
   "outputs": [],
   "source": [
    "# Annotate the haplotype functions\n",
    "gene = \"IFNL3_rs8099917\"\n",
    "keep_col = ['founder_status', 'gene', 'sample_id', 'major', 'haplotype_1', 'haplotype_2', 'genotype']\n",
    "df = ifnl3_rs8099917_df.loc[:, keep_col].copy()\n",
    "df['haplotype_1_func'] = df.apply(lambda r: annotate_haplotype(f\"{gene}\", r.haplotype_1, allele_func_d), axis=1)\n",
    "df['haplotype_2_func'] = df.apply(lambda r: annotate_haplotype(f\"{gene}\", r.haplotype_2, allele_func_d), axis=1)"
   ]
  },
  {
   "cell_type": "code",
   "execution_count": 54,
   "id": "df7ac12f-1af5-4ac9-bf19-5aca4e60478d",
   "metadata": {
    "execution": {
     "iopub.execute_input": "2025-04-17T01:59:10.210308Z",
     "iopub.status.busy": "2025-04-17T01:59:10.209645Z",
     "iopub.status.idle": "2025-04-17T01:59:12.432485Z",
     "shell.execute_reply": "2025-04-17T01:59:12.431669Z",
     "shell.execute_reply.started": "2025-04-17T01:59:10.210253Z"
    }
   },
   "outputs": [],
   "source": [
    "# Annotate the phenotype\n",
    "def annotate_ifnl3_1b_phenotype(hap_1_func, hap_2_func):\n",
    "    if \"Carrier of rs8099917 variant (G)\" in [hap_1_func, hap_2_func]:\n",
    "        phenotype = \"Decreased response (lower SVR) to peginterferon alfa and ribavirin therapy\"\n",
    "    else:\n",
    "        phenotype = \"Increased response (higher SVR) to peginterferon alfa and ribavirin therapy\"\n",
    "    return pd.Series([phenotype, np.nan])\n",
    "df[['phenotype', 'EHR_priority_notation']] = df.apply(\n",
    "    lambda r: annotate_ifnl3_1b_phenotype(r.haplotype_1_func, r.haplotype_2_func), axis=1\n",
    ")"
   ]
  },
  {
   "cell_type": "code",
   "execution_count": 55,
   "id": "376cb77f-a335-4768-85e4-ba73c2ab4f28",
   "metadata": {
    "execution": {
     "iopub.execute_input": "2025-04-17T01:59:14.809744Z",
     "iopub.status.busy": "2025-04-17T01:59:14.808191Z",
     "iopub.status.idle": "2025-04-17T01:59:14.815086Z",
     "shell.execute_reply": "2025-04-17T01:59:14.813890Z",
     "shell.execute_reply.started": "2025-04-17T01:59:14.809665Z"
    }
   },
   "outputs": [],
   "source": [
    "perGene_df_d[gene] = df"
   ]
  },
  {
   "cell_type": "code",
   "execution_count": 59,
   "id": "684febf5-b545-4927-ab3e-8202267db9f3",
   "metadata": {
    "execution": {
     "iopub.execute_input": "2025-04-17T02:00:48.725830Z",
     "iopub.status.busy": "2025-04-17T02:00:48.725162Z",
     "iopub.status.idle": "2025-04-17T02:00:50.531276Z",
     "shell.execute_reply": "2025-04-17T02:00:50.529567Z",
     "shell.execute_reply.started": "2025-04-17T02:00:48.725754Z"
    }
   },
   "outputs": [],
   "source": [
    "for gene, all_df in perGene_df_d.items():\n",
    "    founder_id:list = id_ref_df['sre_participant_id'].tolist()\n",
    "    called_id:list = all_df.index.tolist()\n",
    "    called_founder_id:list = list(set(called_id).intersection(set(founder_id)))\n",
    "    df = all_df.loc[called_founder_id, :].copy()\n",
    "    \n",
    "    # Groupby allele and calculate the frequencies\n",
    "    # Initialize af_df\n",
    "    af_df = pd.concat([\n",
    "        df.loc[:, ['haplotype_1', 'haplotype_1_func']].rename(columns={'haplotype_1': 'variant', 'haplotype_1_func': 'allele_function'}), \n",
    "        df.loc[:, ['haplotype_2', 'haplotype_2_func']].rename(columns={'haplotype_2': 'variant', 'haplotype_2_func': 'allele_function'})\n",
    "    ]).groupby('variant').agg(list)\n",
    "    \n",
    "    # Get general information from af_df\n",
    "    af_df['allele_count'] = af_df['allele_function'].apply(len)\n",
    "    af_df['gene'] = gene\n",
    "    af_df['allele_function'] = af_df['allele_function'].apply(lambda x: x[0])\n",
    "    af_df.dropna(subset=['allele_function'], inplace=True)\n",
    "    af_df.sort_values(by=['allele_function', 'allele_count'], ascending=False, inplace=True)\n",
    "    af_df['variant'] = af_df.index\n",
    "    af_df['allele_number'] = af_df['allele_count'].sum()\n",
    "    af_df['allele_frequency'] = af_df.apply(lambda r: r.allele_count / r.allele_number, axis=1)\n",
    "    \n",
    "    # Count zygosity and merge it to df\n",
    "    homo_d, hetero_d = count_zygosity(df)\n",
    "    homo_df = pd.DataFrame(homo_d, index=[\"no_homozygous_carriers\"]).T\n",
    "    hetero_df = pd.DataFrame(hetero_d, index=[\"no_heterozygous_carriers\"]).T\n",
    "    zygosity_df = hetero_df.merge(homo_df, left_index=True, right_index=True, how='outer').fillna(0).astype(int)\n",
    "    af_df = af_df.merge(zygosity_df, left_index=True, right_index=True, how='left')\n",
    "    \n",
    "    # Subset for required columns and export to CSV\n",
    "    af_colnames = [\n",
    "        \"gene\", \"variant\", \"allele_function\", \n",
    "        \"allele_frequency\", \"allele_count\", \"allele_number\", \n",
    "        \"no_heterozygous_carriers\", \"no_homozygous_carriers\"\n",
    "    ]\n",
    "    af_df = af_df.loc[:, af_colnames].copy()\n",
    "    \n",
    "    # For phenotype CSV\n",
    "    pheno_df = df.groupby('phenotype').agg(list)\n",
    "    pheno_df['pharmacogene'] = gene\n",
    "    pheno_df['genotype'] = pheno_df['genotype'].apply(lambda x: \",\".join(list(set(x))))\n",
    "    pheno_df['phenotype'] = pheno_df.index\n",
    "    pheno_df['no_carriers_with_risk_alleles'] = pheno_df['sample_id'].apply(len)\n",
    "    pheno_df['all_genotyped_individuals'] = pheno_df['no_carriers_with_risk_alleles'].sum()\n",
    "    pheno_df['carrier_frequency'] = pheno_df.apply(lambda r: r.no_carriers_with_risk_alleles / r.all_genotyped_individuals, axis=1)\n",
    "    pheno_df.sort_values(by=['carrier_frequency'], ascending=False, inplace=True)\n",
    "    \n",
    "    # Subset of columns to be exported\n",
    "    keep_colnames = [\n",
    "        'pharmacogene', 'genotype', 'phenotype', 'carrier_frequency', \n",
    "        'no_carriers_with_risk_alleles', 'all_genotyped_individuals'\n",
    "    ]\n",
    "    pheno_df = pheno_df.loc[:, keep_colnames].copy()\n",
    "    \n",
    "    # Export to CSV\n",
    "    all_perGene_csv = f\"{all_perGene_prefix}.{gene}.csv\"\n",
    "    perGene_csv = f\"{perGene_prefix}.{gene}.csv\"\n",
    "    af_csv = f\"{af_prefix}.{gene}.csv\"\n",
    "    pheno_csv = f\"{pheno_prefix}.{gene}.csv\"\n",
    "    all_df.to_csv(all_perGene_csv, index=True, index_label='sre_participant_id')\n",
    "    df.to_csv(perGene_csv, index=True, index_label='sre_participant_id')\n",
    "    af_df.to_csv(af_csv, index=False)\n",
    "    pheno_df.to_csv(pheno_csv, index=False)"
   ]
  },
  {
   "cell_type": "code",
   "execution_count": null,
   "id": "d475f740-9095-4d1c-b5b8-4361d95b50ac",
   "metadata": {},
   "outputs": [],
   "source": []
  }
 ],
 "metadata": {
  "kernelspec": {
   "display_name": "Python 3 (ipykernel)",
   "language": "python",
   "name": "python3"
  },
  "language_info": {
   "codemirror_mode": {
    "name": "ipython",
    "version": 3
   },
   "file_extension": ".py",
   "mimetype": "text/x-python",
   "name": "python",
   "nbconvert_exporter": "python",
   "pygments_lexer": "ipython3",
   "version": "3.10.12"
  }
 },
 "nbformat": 4,
 "nbformat_minor": 5
}
