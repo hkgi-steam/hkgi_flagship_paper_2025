{
 "cells": [
  {
   "cell_type": "code",
   "execution_count": 1,
   "id": "306e6b3e-fc16-4006-bbf9-1712687aac52",
   "metadata": {
    "execution": {
     "iopub.execute_input": "2025-04-09T07:57:35.072017Z",
     "iopub.status.busy": "2025-04-09T07:57:35.070153Z",
     "iopub.status.idle": "2025-04-09T07:57:35.357406Z",
     "shell.execute_reply": "2025-04-09T07:57:35.355943Z",
     "shell.execute_reply.started": "2025-04-09T07:57:35.071925Z"
    }
   },
   "outputs": [],
   "source": [
    "from pathlib import Path\n",
    "import pandas as pd\n",
    "import numpy as np\n",
    "from yaml import load\n",
    "from yaml import CLoader as Loader\n",
    "import re\n",
    "import multiprocessing\n",
    "import sys\n",
    "from tqdm import tqdm\n",
    "from collections import defaultdict"
   ]
  },
  {
   "cell_type": "code",
   "execution_count": 2,
   "id": "f04e5e7f-a99d-4911-b31f-7c158969f713",
   "metadata": {
    "execution": {
     "iopub.execute_input": "2025-04-09T07:58:36.298038Z",
     "iopub.status.busy": "2025-04-09T07:58:36.297205Z",
     "iopub.status.idle": "2025-04-09T07:58:36.312453Z",
     "shell.execute_reply": "2025-04-09T07:58:36.309698Z",
     "shell.execute_reply.started": "2025-04-09T07:58:36.297960Z"
    }
   },
   "outputs": [],
   "source": [
    "# Input\n",
    "projectDir = Path(\"/home/_shared/jscliu/project/2025/Flagship/analysis/secondary/PGx/01d.genotype.manual\")\n",
    "resultsDir = projectDir/\"results\"\n",
    "\n",
    "# Reference\n",
    "star_allele_yml = projectDir/\"script/resource/star_allele_variants.yml\"\n",
    "id_ref = \"/home/_shared/jscliu/project/2025/Flagship/reference/sample_info_annot.2024-11-12.csv\"\n",
    "referenceDir_master = Path(\"/home/_shared/jscliu/project/2025/Flagship/reference/PharmGKB_ref\")\n",
    "\n",
    "gene_ls:list = [\"CACNA1S\", \"ABCG2\", \"RYR1\"]\n",
    "\n",
    "# Output\n",
    "summaryDir = projectDir/\"summary\"\n",
    "summaryDir.mkdir(exist_ok=True)"
   ]
  },
  {
   "cell_type": "markdown",
   "id": "e349e68c-8517-49d2-a24d-67004042d5d6",
   "metadata": {},
   "source": [
    "# Read allele definitions as pd.DataFrame"
   ]
  },
  {
   "cell_type": "code",
   "execution_count": 3,
   "id": "85487a6e-1971-41ae-af4f-67c19bb6585e",
   "metadata": {
    "execution": {
     "iopub.execute_input": "2025-04-09T07:58:38.071917Z",
     "iopub.status.busy": "2025-04-09T07:58:38.071200Z",
     "iopub.status.idle": "2025-04-09T07:58:38.114363Z",
     "shell.execute_reply": "2025-04-09T07:58:38.112781Z",
     "shell.execute_reply.started": "2025-04-09T07:58:38.071861Z"
    }
   },
   "outputs": [],
   "source": [
    "with open(star_allele_yml) as handle:\n",
    "    star_alleles:dict = load(handle, Loader=Loader)"
   ]
  },
  {
   "cell_type": "code",
   "execution_count": 4,
   "id": "8f32553f-c488-4ec1-b0d6-f3b5b0e70d66",
   "metadata": {
    "execution": {
     "iopub.execute_input": "2025-04-09T07:58:42.360636Z",
     "iopub.status.busy": "2025-04-09T07:58:42.359976Z",
     "iopub.status.idle": "2025-04-09T07:58:42.412926Z",
     "shell.execute_reply": "2025-04-09T07:58:42.410981Z",
     "shell.execute_reply.started": "2025-04-09T07:58:42.360582Z"
    }
   },
   "outputs": [],
   "source": [
    "# Process star_alleles for a ready-to-merge dataframe\n",
    "column_names:list = ['gene', 'pharmgkb_allele', 'rsID', 'chr', 'start', 'end', 'allele_ref', 'allele_alt']\n",
    "allele_ls:list = list()    # List of pd.Series of alleles\n",
    "for gene, gene_info in star_alleles.items():\n",
    "    if gene == \"MT-RNR1\":\n",
    "        continue    # Skip MT-RNR1 as it will be handled separately\n",
    "    gene_chr, gene_start, gene_end = re.split(\":|-\", gene_info['location'])\n",
    "    for allele, mutations in gene_info['alleles'].items():\n",
    "        if len(mutations['mutations']) == 0:\n",
    "            pass\n",
    "        else:\n",
    "            for mut in mutations['mutations']:\n",
    "                allele_entry = [gene, allele, mut[0], gene_chr, mut[1], mut[2], mut[3], mut[4]]\n",
    "                allele_ls.append(pd.Series(allele_entry, index=column_names))"
   ]
  },
  {
   "cell_type": "code",
   "execution_count": 5,
   "id": "4ef83c40-93d2-486e-b4a7-bed0d6e7af04",
   "metadata": {
    "execution": {
     "iopub.execute_input": "2025-04-09T07:58:44.509522Z",
     "iopub.status.busy": "2025-04-09T07:58:44.508156Z",
     "iopub.status.idle": "2025-04-09T07:58:44.569550Z",
     "shell.execute_reply": "2025-04-09T07:58:44.568088Z",
     "shell.execute_reply.started": "2025-04-09T07:58:44.509441Z"
    }
   },
   "outputs": [
    {
     "data": {
      "text/html": [
       "<div>\n",
       "<style scoped>\n",
       "    .dataframe tbody tr th:only-of-type {\n",
       "        vertical-align: middle;\n",
       "    }\n",
       "\n",
       "    .dataframe tbody tr th {\n",
       "        vertical-align: top;\n",
       "    }\n",
       "\n",
       "    .dataframe thead th {\n",
       "        text-align: right;\n",
       "    }\n",
       "</style>\n",
       "<table border=\"1\" class=\"dataframe\">\n",
       "  <thead>\n",
       "    <tr style=\"text-align: right;\">\n",
       "      <th></th>\n",
       "      <th>gene</th>\n",
       "      <th>pharmgkb_allele</th>\n",
       "      <th>rsID</th>\n",
       "      <th>chr</th>\n",
       "      <th>start</th>\n",
       "      <th>end</th>\n",
       "      <th>allele_ref</th>\n",
       "      <th>allele_alt</th>\n",
       "    </tr>\n",
       "    <tr>\n",
       "      <th>CPRA</th>\n",
       "      <th></th>\n",
       "      <th></th>\n",
       "      <th></th>\n",
       "      <th></th>\n",
       "      <th></th>\n",
       "      <th></th>\n",
       "      <th></th>\n",
       "      <th></th>\n",
       "    </tr>\n",
       "  </thead>\n",
       "  <tbody>\n",
       "    <tr>\n",
       "      <th>chr1.201060815.C.T</th>\n",
       "      <td>CACNA1S</td>\n",
       "      <td>c.520C&gt;T</td>\n",
       "      <td>rs1800559</td>\n",
       "      <td>chr1</td>\n",
       "      <td>201060815</td>\n",
       "      <td>201060815</td>\n",
       "      <td>C</td>\n",
       "      <td>T</td>\n",
       "    </tr>\n",
       "    <tr>\n",
       "      <th>chr1.201091993.G.A</th>\n",
       "      <td>CACNA1S</td>\n",
       "      <td>c.3257G&gt;A</td>\n",
       "      <td>rs772226819</td>\n",
       "      <td>chr1</td>\n",
       "      <td>201091993</td>\n",
       "      <td>201091993</td>\n",
       "      <td>G</td>\n",
       "      <td>A</td>\n",
       "    </tr>\n",
       "    <tr>\n",
       "      <th>chr4.88131171.G.T</th>\n",
       "      <td>ABCG2</td>\n",
       "      <td>rs2231142 variant (T)</td>\n",
       "      <td>rs2231142</td>\n",
       "      <td>chr4</td>\n",
       "      <td>88131171</td>\n",
       "      <td>88131171</td>\n",
       "      <td>G</td>\n",
       "      <td>T</td>\n",
       "    </tr>\n",
       "    <tr>\n",
       "      <th>chr19.38433867.T.G</th>\n",
       "      <td>RYR1</td>\n",
       "      <td>c.38T&gt;G</td>\n",
       "      <td>rs193922744</td>\n",
       "      <td>chr19</td>\n",
       "      <td>38433867</td>\n",
       "      <td>38433867</td>\n",
       "      <td>T</td>\n",
       "      <td>G</td>\n",
       "    </tr>\n",
       "    <tr>\n",
       "      <th>chr19.38440750.TGA.delTGA</th>\n",
       "      <td>RYR1</td>\n",
       "      <td>c.51_53del</td>\n",
       "      <td>rs193922745</td>\n",
       "      <td>chr19</td>\n",
       "      <td>38440750</td>\n",
       "      <td>38440752</td>\n",
       "      <td>TGA</td>\n",
       "      <td>delTGA</td>\n",
       "    </tr>\n",
       "  </tbody>\n",
       "</table>\n",
       "</div>"
      ],
      "text/plain": [
       "                              gene        pharmgkb_allele         rsID    chr  \\\n",
       "CPRA                                                                            \n",
       "chr1.201060815.C.T         CACNA1S               c.520C>T    rs1800559   chr1   \n",
       "chr1.201091993.G.A         CACNA1S              c.3257G>A  rs772226819   chr1   \n",
       "chr4.88131171.G.T            ABCG2  rs2231142 variant (T)    rs2231142   chr4   \n",
       "chr19.38433867.T.G            RYR1                c.38T>G  rs193922744  chr19   \n",
       "chr19.38440750.TGA.delTGA     RYR1             c.51_53del  rs193922745  chr19   \n",
       "\n",
       "                               start        end allele_ref allele_alt  \n",
       "CPRA                                                                   \n",
       "chr1.201060815.C.T         201060815  201060815          C          T  \n",
       "chr1.201091993.G.A         201091993  201091993          G          A  \n",
       "chr4.88131171.G.T           88131171   88131171          G          T  \n",
       "chr19.38433867.T.G          38433867   38433867          T          G  \n",
       "chr19.38440750.TGA.delTGA   38440750   38440752        TGA     delTGA  "
      ]
     },
     "execution_count": 5,
     "metadata": {},
     "output_type": "execute_result"
    }
   ],
   "source": [
    "allele_def_df = pd.DataFrame(allele_ls)\n",
    "allele_def_df['CPRA'] = allele_def_df.apply(lambda r: f\"{r.chr}.{r.start}.{r.allele_ref}.{r.allele_alt}\", axis=1)\n",
    "allele_def_df.set_index('CPRA', inplace=True)\n",
    "allele_def_df.head()"
   ]
  },
  {
   "cell_type": "markdown",
   "id": "de87a611-95c5-4c32-a84a-5f15914a9bb6",
   "metadata": {},
   "source": [
    "# Read id_ref as pd.DataFrame"
   ]
  },
  {
   "cell_type": "code",
   "execution_count": 10,
   "id": "532c7675-08b1-4196-87db-f4189da66e5a",
   "metadata": {
    "execution": {
     "iopub.execute_input": "2025-04-09T08:04:35.628091Z",
     "iopub.status.busy": "2025-04-09T08:04:35.627289Z",
     "iopub.status.idle": "2025-04-09T08:04:35.726703Z",
     "shell.execute_reply": "2025-04-09T08:04:35.725410Z",
     "shell.execute_reply.started": "2025-04-09T08:04:35.628033Z"
    }
   },
   "outputs": [
    {
     "data": {
      "text/html": [
       "<div>\n",
       "<style scoped>\n",
       "    .dataframe tbody tr th:only-of-type {\n",
       "        vertical-align: middle;\n",
       "    }\n",
       "\n",
       "    .dataframe tbody tr th {\n",
       "        vertical-align: top;\n",
       "    }\n",
       "\n",
       "    .dataframe thead th {\n",
       "        text-align: right;\n",
       "    }\n",
       "</style>\n",
       "<table border=\"1\" class=\"dataframe\">\n",
       "  <thead>\n",
       "    <tr style=\"text-align: right;\">\n",
       "      <th></th>\n",
       "      <th>founder_status</th>\n",
       "    </tr>\n",
       "    <tr>\n",
       "      <th>sre_participant_id</th>\n",
       "      <th></th>\n",
       "    </tr>\n",
       "  </thead>\n",
       "  <tbody>\n",
       "    <tr>\n",
       "      <th>SRE029440</th>\n",
       "      <td>Non-founder</td>\n",
       "    </tr>\n",
       "    <tr>\n",
       "      <th>SRE025838</th>\n",
       "      <td>Founder</td>\n",
       "    </tr>\n",
       "    <tr>\n",
       "      <th>SRE003784</th>\n",
       "      <td>Non-founder</td>\n",
       "    </tr>\n",
       "    <tr>\n",
       "      <th>SRE026979</th>\n",
       "      <td>Non-founder</td>\n",
       "    </tr>\n",
       "    <tr>\n",
       "      <th>SRE004787</th>\n",
       "      <td>Founder</td>\n",
       "    </tr>\n",
       "  </tbody>\n",
       "</table>\n",
       "</div>"
      ],
      "text/plain": [
       "                   founder_status\n",
       "sre_participant_id               \n",
       "SRE029440             Non-founder\n",
       "SRE025838                 Founder\n",
       "SRE003784             Non-founder\n",
       "SRE026979             Non-founder\n",
       "SRE004787                 Founder"
      ]
     },
     "execution_count": 10,
     "metadata": {},
     "output_type": "execute_result"
    }
   ],
   "source": [
    "# Read id reference and subset for useful columns\n",
    "id_ref_df = pd.read_csv(id_ref, index_col=[0])\n",
    "id_ref_df = id_ref_df.loc[id_ref_df['treated_ethnicity']=='Chinese', :].copy()    # Include Chinese only\n",
    "id_ref_df =  id_ref_df[['founder_status']]\n",
    "id_ref_df.head()"
   ]
  },
  {
   "cell_type": "markdown",
   "id": "4627f2ff-a7d2-4789-bf63-d7c200f0af68",
   "metadata": {},
   "source": [
    "# Read individual gene TSV as df"
   ]
  },
  {
   "cell_type": "code",
   "execution_count": 11,
   "id": "ff387858-8a05-4b60-a586-eb73df6ba5de",
   "metadata": {
    "execution": {
     "iopub.execute_input": "2025-04-09T08:05:27.349815Z",
     "iopub.status.busy": "2025-04-09T08:05:27.349133Z",
     "iopub.status.idle": "2025-04-09T08:05:27.476806Z",
     "shell.execute_reply": "2025-04-09T08:05:27.474927Z",
     "shell.execute_reply.started": "2025-04-09T08:05:27.349732Z"
    }
   },
   "outputs": [],
   "source": [
    "result_tsvs:list = list(resultsDir.glob(\"*genes.tsv\"))"
   ]
  },
  {
   "cell_type": "code",
   "execution_count": 13,
   "id": "2b3198cf-9fba-4d6a-b9f2-f775f1de3f36",
   "metadata": {
    "execution": {
     "iopub.execute_input": "2025-04-09T08:06:08.519623Z",
     "iopub.status.busy": "2025-04-09T08:06:08.519018Z",
     "iopub.status.idle": "2025-04-09T08:06:08.529764Z",
     "shell.execute_reply": "2025-04-09T08:06:08.527583Z",
     "shell.execute_reply.started": "2025-04-09T08:06:08.519566Z"
    }
   },
   "outputs": [],
   "source": [
    "def read_tsv(tsv:Path)->pd.DataFrame:\n",
    "    df = pd.read_table(tsv)\n",
    "    df['CPRA'] = df.apply(lambda r: f\"{r.CHROM}.{r.POS}.{r.REF}.{r.ALT}\", axis=1)\n",
    "    df['sample_id'] = tsv.name.split('.')[0]\n",
    "    df.set_index('CPRA', inplace=True)\n",
    "    return df"
   ]
  },
  {
   "cell_type": "code",
   "execution_count": 14,
   "id": "17ed11d3-3c68-4f24-9968-53809913d761",
   "metadata": {
    "execution": {
     "iopub.execute_input": "2025-04-09T08:06:08.869154Z",
     "iopub.status.busy": "2025-04-09T08:06:08.868494Z",
     "iopub.status.idle": "2025-04-09T08:06:49.768557Z",
     "shell.execute_reply": "2025-04-09T08:06:49.767069Z",
     "shell.execute_reply.started": "2025-04-09T08:06:08.869100Z"
    }
   },
   "outputs": [],
   "source": [
    "pool = multiprocessing.Pool(processes=10)    # Create Pool of 10 parallel processes max\n",
    "results = pool.starmap(read_tsv, [(tsv,) for tsv in result_tsvs])    # If the function only takes one arguments\n",
    "pool.close()    # Wait until all processes completed\n",
    "pool.join()    # Join all output from processes\n",
    "all_sample_gene_var_df = pd.concat(results)"
   ]
  },
  {
   "cell_type": "markdown",
   "id": "5816d5f8-5edf-4d46-8e5a-4d83c34ddb9a",
   "metadata": {},
   "source": [
    "# Call star alleles per sample"
   ]
  },
  {
   "cell_type": "code",
   "execution_count": 17,
   "id": "2f6b12c7-9a29-43c0-b556-2c66e8ba3464",
   "metadata": {
    "execution": {
     "iopub.execute_input": "2025-04-09T08:10:40.632829Z",
     "iopub.status.busy": "2025-04-09T08:10:40.632168Z",
     "iopub.status.idle": "2025-04-09T08:10:40.647815Z",
     "shell.execute_reply": "2025-04-09T08:10:40.645175Z",
     "shell.execute_reply.started": "2025-04-09T08:10:40.632775Z"
    }
   },
   "outputs": [],
   "source": [
    "def call_genotype(paired_df:pd.DataFrame, gene:str)->str:\n",
    "    \"\"\"Call genotype based on the df with \n",
    "    individual variants & allele definition df.\"\"\"\n",
    "    paired_gene_df = paired_df.loc[paired_df['gene']==gene, :].copy()\n",
    "    # paired_gene_df['GT'] = paired_gene_df['GT'].apply(lambda g: \"/\".join(sorted(re.split('\\||/', g))))\n",
    "    \n",
    "    if len(paired_gene_df) == 0:\n",
    "        # Return homozygous reference if no matched allele variant is found.\n",
    "        genotype = \"Reference/Reference\"\n",
    "    elif len(paired_gene_df) == 1:\n",
    "        # Consider if there are multiple allele variants\n",
    "        pharmgkb_allele = paired_gene_df['pharmgkb_allele'].tolist()[0]\n",
    "        pharmgkb_allele_count = paired_gene_df['GT'].tolist()[0].count(\"1\")\n",
    "        if pharmgkb_allele_count == 1:\n",
    "            genotype = f\"Reference/{pharmgkb_allele}\"\n",
    "        elif pharmgkb_allele_count == 2:\n",
    "            genotype = f\"{pharmgkb_allele}/{pharmgkb_allele}\"\n",
    "        else:\n",
    "            print(f\"Error while understanding allele counts:\\n{paired_gene_df}\")\n",
    "            sys.exit(1)\n",
    "    else:\n",
    "        genotype = np.nan\n",
    "\n",
    "    return genotype"
   ]
  },
  {
   "cell_type": "code",
   "execution_count": 18,
   "id": "544aeab6-c31f-48ba-b92f-98a6fb21b125",
   "metadata": {
    "execution": {
     "iopub.execute_input": "2025-04-09T08:10:41.133035Z",
     "iopub.status.busy": "2025-04-09T08:10:41.130642Z",
     "iopub.status.idle": "2025-04-09T08:11:39.475780Z",
     "shell.execute_reply": "2025-04-09T08:11:39.473990Z",
     "shell.execute_reply.started": "2025-04-09T08:10:41.132962Z"
    }
   },
   "outputs": [
    {
     "name": "stderr",
     "output_type": "stream",
     "text": [
      "100%|██████████████████████████████████████████████████████████████████████████████████████████████████████████████████████████████████████████████████████| 24108/24108 [00:58<00:00, 413.37it/s]\n"
     ]
    }
   ],
   "source": [
    "for sample_gene_df in tqdm(results):\n",
    "    sample_id = sample_gene_df['sample_id'].unique().tolist()[0]\n",
    "    out_genotype_tsv = resultsDir/f\"{sample_id}.autosome_gene_manual.genotype.tsv\"\n",
    "    out_genotype_tsv.unlink(missing_ok= True)\n",
    "    \n",
    "    # Merge allele_def_df to sample_gene_df\n",
    "    paired_df = sample_gene_df.merge(allele_def_df, left_index=True, right_index=True)\n",
    "\n",
    "    CACNA1S_genotype, ABCG2_genotype, RYR1_genotype = [ call_genotype(paired_df, gene) for gene in gene_ls ]\n",
    "    with open(out_genotype_tsv, 'w') as f:\n",
    "        for gene in gene_ls:\n",
    "            if globals()[f\"{gene}_genotype\"] == globals()[f\"{gene}_genotype\"]:\n",
    "                f.write(f\"{gene}\\t{globals()[f'{gene}_genotype']}\\n\")    "
   ]
  },
  {
   "cell_type": "markdown",
   "id": "97056ed8-9261-48b3-8386-13df88911026",
   "metadata": {},
   "source": [
    "# Summarize per sample findings"
   ]
  },
  {
   "cell_type": "code",
   "execution_count": 19,
   "id": "e5020d45-96ea-4633-829a-bc78fd6015e4",
   "metadata": {
    "execution": {
     "iopub.execute_input": "2025-04-09T08:16:02.524666Z",
     "iopub.status.busy": "2025-04-09T08:16:02.523980Z",
     "iopub.status.idle": "2025-04-09T08:16:22.466729Z",
     "shell.execute_reply": "2025-04-09T08:16:22.464848Z",
     "shell.execute_reply.started": "2025-04-09T08:16:02.524614Z"
    }
   },
   "outputs": [
    {
     "name": "stderr",
     "output_type": "stream",
     "text": [
      "100%|█████████████████████████████████████████████████████████████████████████████████████████████████████████████████████████████████████████████████████| 24108/24108 [00:19<00:00, 1257.38it/s]\n"
     ]
    }
   ],
   "source": [
    "sample_gene_findings:list = list(resultsDir.glob(\"*.autosome_gene_manual.genotype.tsv\"))\n",
    "df_list:list = list()\n",
    "for tsv in tqdm(sample_gene_findings):\n",
    "    df = pd.read_table(tsv, names=['gene', 'genotype'])\n",
    "    df['sre_participant_id'] = tsv.name.split('.')[0]\n",
    "    df_list.append(df)\n",
    "master_df = pd.concat(df_list)"
   ]
  },
  {
   "cell_type": "code",
   "execution_count": 21,
   "id": "04034c05-2195-408d-a879-3fefb8dd01f1",
   "metadata": {
    "execution": {
     "iopub.execute_input": "2025-04-09T08:17:38.194715Z",
     "iopub.status.busy": "2025-04-09T08:17:38.194040Z",
     "iopub.status.idle": "2025-04-09T08:17:38.215495Z",
     "shell.execute_reply": "2025-04-09T08:17:38.213056Z",
     "shell.execute_reply.started": "2025-04-09T08:17:38.194659Z"
    }
   },
   "outputs": [
    {
     "data": {
      "text/html": [
       "<div>\n",
       "<style scoped>\n",
       "    .dataframe tbody tr th:only-of-type {\n",
       "        vertical-align: middle;\n",
       "    }\n",
       "\n",
       "    .dataframe tbody tr th {\n",
       "        vertical-align: top;\n",
       "    }\n",
       "\n",
       "    .dataframe thead th {\n",
       "        text-align: right;\n",
       "    }\n",
       "</style>\n",
       "<table border=\"1\" class=\"dataframe\">\n",
       "  <thead>\n",
       "    <tr style=\"text-align: right;\">\n",
       "      <th></th>\n",
       "      <th>gene</th>\n",
       "      <th>genotype</th>\n",
       "    </tr>\n",
       "    <tr>\n",
       "      <th>sre_participant_id</th>\n",
       "      <th></th>\n",
       "      <th></th>\n",
       "    </tr>\n",
       "  </thead>\n",
       "  <tbody>\n",
       "    <tr>\n",
       "      <th>SRE027637</th>\n",
       "      <td>CACNA1S</td>\n",
       "      <td>Reference/Reference</td>\n",
       "    </tr>\n",
       "    <tr>\n",
       "      <th>SRE027637</th>\n",
       "      <td>ABCG2</td>\n",
       "      <td>Reference/rs2231142 variant (T)</td>\n",
       "    </tr>\n",
       "    <tr>\n",
       "      <th>SRE027637</th>\n",
       "      <td>RYR1</td>\n",
       "      <td>Reference/Reference</td>\n",
       "    </tr>\n",
       "    <tr>\n",
       "      <th>SRE027638</th>\n",
       "      <td>CACNA1S</td>\n",
       "      <td>Reference/Reference</td>\n",
       "    </tr>\n",
       "    <tr>\n",
       "      <th>SRE027638</th>\n",
       "      <td>ABCG2</td>\n",
       "      <td>Reference/Reference</td>\n",
       "    </tr>\n",
       "  </tbody>\n",
       "</table>\n",
       "</div>"
      ],
      "text/plain": [
       "                       gene                         genotype\n",
       "sre_participant_id                                          \n",
       "SRE027637           CACNA1S              Reference/Reference\n",
       "SRE027637             ABCG2  Reference/rs2231142 variant (T)\n",
       "SRE027637              RYR1              Reference/Reference\n",
       "SRE027638           CACNA1S              Reference/Reference\n",
       "SRE027638             ABCG2              Reference/Reference"
      ]
     },
     "execution_count": 21,
     "metadata": {},
     "output_type": "execute_result"
    }
   ],
   "source": [
    "master_df.set_index('sre_participant_idid_ref_df', inplace=True)\n",
    "master_df.head()"
   ]
  },
  {
   "cell_type": "code",
   "execution_count": 25,
   "id": "6bcbd598-97d4-4afe-b530-d5602cd7f300",
   "metadata": {
    "execution": {
     "iopub.execute_input": "2025-04-09T08:19:52.764709Z",
     "iopub.status.busy": "2025-04-09T08:19:52.764018Z",
     "iopub.status.idle": "2025-04-09T08:19:52.836756Z",
     "shell.execute_reply": "2025-04-09T08:19:52.835408Z",
     "shell.execute_reply.started": "2025-04-09T08:19:52.764654Z"
    }
   },
   "outputs": [],
   "source": [
    "per_gene_df = id_ref_df.merge(master_df, left_index=True, right_index=True, how='left')\n",
    "\n",
    "# Drop na - out of project scope\n",
    "per_gene_df.dropna(subset=['genotype'], inplace=True)"
   ]
  },
  {
   "cell_type": "markdown",
   "id": "56f66b1a-f5dc-4178-8ff8-5841333373cf",
   "metadata": {},
   "source": [
    "## Divide per_gene_df by genes, re-order columns, rename \"Reference\" (if needed), export to idv_geno_csv"
   ]
  },
  {
   "cell_type": "code",
   "execution_count": 27,
   "id": "8fe026c9-b9a6-4e82-93a3-c2707e2d8d9c",
   "metadata": {
    "execution": {
     "iopub.execute_input": "2025-04-09T08:23:47.198529Z",
     "iopub.status.busy": "2025-04-09T08:23:47.197399Z",
     "iopub.status.idle": "2025-04-09T08:23:47.973565Z",
     "shell.execute_reply": "2025-04-09T08:23:47.971827Z",
     "shell.execute_reply.started": "2025-04-09T08:23:47.198466Z"
    }
   },
   "outputs": [],
   "source": [
    "def map_reference(genotype, gene)->str:\n",
    "    map_d = {\n",
    "        \"CACNA1S\": \"Reference\", \n",
    "        \"ABCG2\": \"rs2231142 reference (G)\",\n",
    "        \"RYR1\": \"Reference\"\n",
    "    }\n",
    "    mapped_genotype = genotype.replace(\"Reference\", map_d[gene])\n",
    "    return mapped_genotype\n",
    "\n",
    "per_gene_df['genotype'] = per_gene_df.apply(lambda r: map_reference(r.genotype, r.gene), axis=1)"
   ]
  },
  {
   "cell_type": "code",
   "execution_count": 28,
   "id": "4357b91e-177d-4d6e-a42c-88c2b28633a2",
   "metadata": {
    "execution": {
     "iopub.execute_input": "2025-04-09T08:24:22.112249Z",
     "iopub.status.busy": "2025-04-09T08:24:22.111601Z",
     "iopub.status.idle": "2025-04-09T08:24:22.164572Z",
     "shell.execute_reply": "2025-04-09T08:24:22.163388Z",
     "shell.execute_reply.started": "2025-04-09T08:24:22.112196Z"
    }
   },
   "outputs": [],
   "source": [
    "per_gene_df['sre_participant_id'] = per_gene_df.index\n",
    "per_gene_df.drop_duplicates(subset=['sre_participant_id', 'gene'], inplace=True)"
   ]
  },
  {
   "cell_type": "code",
   "execution_count": 30,
   "id": "651af2e4-e9b4-4e7b-9dfc-32e22a76a00b",
   "metadata": {
    "execution": {
     "iopub.execute_input": "2025-04-09T08:25:06.906731Z",
     "iopub.status.busy": "2025-04-09T08:25:06.906050Z",
     "iopub.status.idle": "2025-04-09T08:25:06.930005Z",
     "shell.execute_reply": "2025-04-09T08:25:06.927691Z",
     "shell.execute_reply.started": "2025-04-09T08:25:06.906677Z"
    }
   },
   "outputs": [],
   "source": [
    "reorder_colnames = ['founder_status', 'gene', 'sre_participant_id', 'genotype']\n",
    "per_gene_df = per_gene_df.loc[:, reorder_colnames].copy()"
   ]
  },
  {
   "cell_type": "code",
   "execution_count": 31,
   "id": "283a5e1e-a7ef-42bb-860c-245e3f164d80",
   "metadata": {
    "execution": {
     "iopub.execute_input": "2025-04-09T08:26:08.885451Z",
     "iopub.status.busy": "2025-04-09T08:26:08.884652Z",
     "iopub.status.idle": "2025-04-09T08:26:08.948812Z",
     "shell.execute_reply": "2025-04-09T08:26:08.946878Z",
     "shell.execute_reply.started": "2025-04-09T08:26:08.885394Z"
    }
   },
   "outputs": [],
   "source": [
    "# Label the allelel function of the pharmgkb_alleles\n",
    "func_df_ls = list()\n",
    "for gene in gene_ls:\n",
    "    allele_func = referenceDir_master/f\"{gene}/{gene}_allele_functionality_reference.csv\"\n",
    "    allele_func_df = pd.read_csv(allele_func, skiprows=1, index_col=[0]).loc[:, ['Allele Clinical Functional Status (Required)']]\n",
    "    allele_func_df['gene'] = gene\n",
    "    func_df_ls.append(allele_func_df)\n",
    "allele_func_df = pd.concat(func_df_ls)\n",
    "allele_def_df['allele_function'] = allele_def_df['pharmgkb_allele'].apply(\n",
    "    lambda x: allele_func_df.loc[x, 'Allele Clinical Functional Status (Required)']\n",
    ")"
   ]
  },
  {
   "cell_type": "code",
   "execution_count": 32,
   "id": "a1d27173-ba1c-4085-acc7-64033e9ac4b9",
   "metadata": {
    "execution": {
     "iopub.execute_input": "2025-04-09T08:26:09.796824Z",
     "iopub.status.busy": "2025-04-09T08:26:09.796192Z",
     "iopub.status.idle": "2025-04-09T08:26:16.880811Z",
     "shell.execute_reply": "2025-04-09T08:26:16.879380Z",
     "shell.execute_reply.started": "2025-04-09T08:26:09.796775Z"
    }
   },
   "outputs": [],
   "source": [
    "per_gene_df[['haplotype_1', 'haplotype_2']] = per_gene_df['genotype'].apply(lambda x: pd.Series(x.split('/')))"
   ]
  },
  {
   "cell_type": "code",
   "execution_count": 33,
   "id": "b77bc8c1-792d-4d64-8b0e-9d9e3fef3903",
   "metadata": {
    "execution": {
     "iopub.execute_input": "2025-04-09T08:27:02.327393Z",
     "iopub.status.busy": "2025-04-09T08:27:02.326704Z",
     "iopub.status.idle": "2025-04-09T08:27:02.339202Z",
     "shell.execute_reply": "2025-04-09T08:27:02.336665Z",
     "shell.execute_reply.started": "2025-04-09T08:27:02.327335Z"
    }
   },
   "outputs": [],
   "source": [
    "def map_phenotype(genotype, pheno_annot_df):\n",
    "    q_genotype = f\"{genotype.split('/')[1]}/{genotype.split('/')[0]}\" if genotype not in pheno_annot_df.index else genotype\n",
    "    phenotype = pheno_annot_df.loc[q_genotype, \"Coded Diplotype/Phenotype Summary\"]\n",
    "    ehr = pheno_annot_df.loc[q_genotype, \"EHR Priority Notation\"]\n",
    "    return pd.Series([phenotype, ehr])"
   ]
  },
  {
   "cell_type": "code",
   "execution_count": 34,
   "id": "96a6f347-96a2-49c5-a7ff-1c1541d3221a",
   "metadata": {
    "execution": {
     "iopub.execute_input": "2025-04-09T08:27:02.803183Z",
     "iopub.status.busy": "2025-04-09T08:27:02.802522Z",
     "iopub.status.idle": "2025-04-09T08:27:10.659766Z",
     "shell.execute_reply": "2025-04-09T08:27:10.658924Z",
     "shell.execute_reply.started": "2025-04-09T08:27:02.803129Z"
    }
   },
   "outputs": [],
   "source": [
    "for gene in gene_ls:\n",
    "    all_idv_geno_csv = summaryDir/f\"all_perGenes.{gene}.csv\"\n",
    "    idv_geno_csv = summaryDir/f\"perGenes.{gene}.csv\"\n",
    "    allele_func = referenceDir_master/f\"{gene}/{gene}_allele_functionality_reference.csv\"\n",
    "    pheno_annot = referenceDir_master/f\"{gene}/{gene}_Diplotype_Phenotype_Table.csv\"\n",
    "    allele_func_map:dict = pd.read_csv(allele_func, skiprows=1, index_col=[0]).to_dict()['Allele Clinical Functional Status (Required)']\n",
    "    pheno_annot_df:pd.DataFrame = pd.read_csv(pheno_annot, index_col=[0])\n",
    "    # phenotype_map:dict = pd.read_csv(pheno_annot, index_col=[0]).to_dict()['Coded Diplotype/Phenotype Summary']\n",
    "    # ehr_map:dict = pd.read_csv(pheno_annot, index_col=[0]).to_dict()['EHR Priority Notation']\n",
    "    export_perGene_df = per_gene_df.loc[per_gene_df['gene']==gene, :].copy()\n",
    "    export_perGene_df['haplotype_1_func'] = export_perGene_df['haplotype_1'].apply(lambda x: allele_func_map[x])\n",
    "    export_perGene_df['haplotype_2_func'] = export_perGene_df['haplotype_2'].apply(lambda x: allele_func_map[x])\n",
    "    export_perGene_df[['phenotype', 'EHR_priority_notation']] = export_perGene_df.apply(lambda r: map_phenotype(r.genotype, pheno_annot_df), axis=1)\n",
    "    # export_perGene_df['phenotype'] = export_perGene_df['genotype'].apply(lambda x: phenotype_map[x])\n",
    "    # export_perGene_df['EHR_priority_notation'] = export_perGene_df['genotype'].apply(lambda x: ehr_map[x])\n",
    "    export_perGene_all_df = export_perGene_df.copy()\n",
    "    export_perGene_df = export_perGene_df.loc[export_perGene_df.founder_status==\"founder\", :].copy()\n",
    "    export_perGene_all_df.to_csv(all_idv_geno_csv, index=True, index_label='sre_patient_id')\n",
    "    export_perGene_df.to_csv(idv_geno_csv, index=True, index_label='sre_patient_id')"
   ]
  },
  {
   "cell_type": "markdown",
   "id": "040a42e0-f58f-4e5f-b5ba-6f150bab4b84",
   "metadata": {},
   "source": [
    "# Calculate the allele frequencies"
   ]
  },
  {
   "cell_type": "code",
   "execution_count": 35,
   "id": "0fb59ac9-88e6-41c4-a662-f08ba16b06e7",
   "metadata": {
    "execution": {
     "iopub.execute_input": "2025-04-09T08:29:27.045303Z",
     "iopub.status.busy": "2025-04-09T08:29:27.044627Z",
     "iopub.status.idle": "2025-04-09T08:29:27.056634Z",
     "shell.execute_reply": "2025-04-09T08:29:27.054112Z",
     "shell.execute_reply.started": "2025-04-09T08:29:27.045246Z"
    }
   },
   "outputs": [],
   "source": [
    "def count_zygosity(called_df):\n",
    "    \"\"\"Intake called_df, count the number of homozygous and heterozygous carriers into a dict\"\"\"\n",
    "    homo_dict = defaultdict(int)\n",
    "    hetero_dict = defaultdict(int)\n",
    "    for _, row in called_df.iterrows():\n",
    "        if row.haplotype_1 == row.haplotype_2:\n",
    "            # Homozygous\n",
    "            homo_dict[row.haplotype_1] += 1\n",
    "        else:\n",
    "            # Heterozygous\n",
    "            hetero_dict[row.haplotype_1] += 1\n",
    "            hetero_dict[row.haplotype_2] += 1\n",
    "    return homo_dict, hetero_dict"
   ]
  },
  {
   "cell_type": "code",
   "execution_count": 36,
   "id": "44365091-f697-48b8-8e60-f790ba1ed9eb",
   "metadata": {
    "execution": {
     "iopub.execute_input": "2025-04-09T08:29:27.359126Z",
     "iopub.status.busy": "2025-04-09T08:29:27.358437Z",
     "iopub.status.idle": "2025-04-09T08:29:32.490955Z",
     "shell.execute_reply": "2025-04-09T08:29:32.490127Z",
     "shell.execute_reply.started": "2025-04-09T08:29:27.359069Z"
    }
   },
   "outputs": [],
   "source": [
    "for gene in gene_ls:\n",
    "    af_csv = summaryDir/f\"allele_frequency.{gene}.csv\"\n",
    "    df = per_gene_df.loc[(per_gene_df['gene']==gene) & (per_gene_df['founder_status']=='Founder'), :].copy()\n",
    "\n",
    "    # Break genotype into haplotype\n",
    "    df[['haplotype_1', 'haplotype_2']] = df['genotype'].apply(lambda g: pd.Series(g.split('/')))\n",
    "\n",
    "    # Collapse tmp_df by haplotypes\n",
    "    allele_df = pd.concat([\n",
    "        df.loc[:, ['haplotype_1']].rename(columns={\"haplotype_1\": \"haplotype\"}), \n",
    "        df.loc[:, ['haplotype_2']].rename(columns={\"haplotype_2\": \"haplotype\"})\n",
    "    ])\n",
    "    allele_df['allele_count'] = 1\n",
    "    \n",
    "    # Calculate the allele frequency\n",
    "    freq_df = allele_df.groupby('haplotype').agg(\"sum\")\n",
    "    freq_df['gene'] = gene\n",
    "    freq_df['variant'] = freq_df.index\n",
    "    freq_df['allele_number'] = freq_df['allele_count'].sum()\n",
    "    freq_df.sort_values(by='allele_count', ascending=False, inplace=True)\n",
    "    freq_df['allele_frequency'] = freq_df['allele_count'].apply(lambda c: c/freq_df['allele_count'].sum())\n",
    "\n",
    "    # Annotate allele function\n",
    "    allele_func = referenceDir_master/f\"{gene}/{gene}_allele_functionality_reference.csv\"\n",
    "    allele_func_map:dict = pd.read_csv(allele_func, skiprows=1, index_col=[0]).to_dict()['Allele Clinical Functional Status (Required)']\n",
    "    freq_df['allele_function'] = freq_df['variant'].apply(lambda x: allele_func_map[x])\n",
    "    \n",
    "    # Re-order columns\n",
    "    freq_df = freq_df.loc[:, ['gene', 'variant', 'allele_function', 'allele_frequency', 'allele_count', 'allele_number']].copy()\n",
    "    \n",
    "    # Get zygosity and merge it to df\n",
    "    homo_d, hetero_d = count_zygosity(df)\n",
    "    homo_df = pd.DataFrame(homo_d, index=[\"no_homozygous_carriers\"]).T\n",
    "    hetero_df = pd.DataFrame(hetero_d, index=[\"no_heterozygous_carriers\"]).T\n",
    "    zygosity_df = hetero_df.merge(homo_df, left_index=True, right_index=True, how='outer').fillna(0).astype(int)\n",
    "    freq_df = freq_df.merge(zygosity_df, left_index=True, right_index=True, how='left')\n",
    "    \n",
    "    # Export freq_df to CSV and save in af_df_d\n",
    "    freq_df.to_csv(af_csv, index=False)"
   ]
  },
  {
   "cell_type": "markdown",
   "id": "b90f5241-bc24-451d-9430-dd90e4c87849",
   "metadata": {},
   "source": [
    "# Assign phenotypes and calculate the risk alleles carrier frequencies"
   ]
  },
  {
   "cell_type": "code",
   "execution_count": 38,
   "id": "2142cea7-874c-4e26-b785-fe248d571a4c",
   "metadata": {
    "execution": {
     "iopub.execute_input": "2025-04-09T08:32:39.612902Z",
     "iopub.status.busy": "2025-04-09T08:32:39.612226Z",
     "iopub.status.idle": "2025-04-09T08:32:39.877566Z",
     "shell.execute_reply": "2025-04-09T08:32:39.875939Z",
     "shell.execute_reply.started": "2025-04-09T08:32:39.612848Z"
    }
   },
   "outputs": [],
   "source": [
    "keep_col = [\n",
    "    'pharmacogene', \n",
    "    'genotype', \n",
    "    'phenotype', \n",
    "    'carrier_frequency', \n",
    "    'no_carriers_with_risk_alleles', \n",
    "    'all_genotyped_individuals'\n",
    "]\n",
    "\n",
    "for gene in gene_ls:\n",
    "    phenotype_ref = referenceDir_master/f\"{gene}/{gene}_Diplotype_Phenotype_Table.csv\"\n",
    "    pheno_csv = summaryDir/f\"phenotype.{gene}.csv\"\n",
    "    df = per_gene_df.loc[(per_gene_df['gene']==gene) & (per_gene_df['founder_status']=='Founder'), :].copy()\n",
    "\n",
    "    # Break genotype to sorted list and set_index\n",
    "    df['diplotype'] = df['genotype'].apply(lambda x: \"/\".join(sorted(x.split('/'))))\n",
    "    df.set_index('diplotype', inplace=True)\n",
    "    \n",
    "    # Read phenotype_ref as pd.DataFrame, break diplotype into sorted list and set_index\n",
    "    phenotype_df = pd.read_csv(phenotype_ref)\n",
    "    phenotype_df['diplotype'] = phenotype_df[f'{gene} Diplotype'].apply(lambda x: \"/\".join(sorted(x.split('/'))))\n",
    "    phenotype_df.set_index('diplotype', inplace=True)\n",
    "    \n",
    "    # Merge phenotype_df to df\n",
    "    annot_df = df.merge(phenotype_df, left_index=True, right_index=True, how='left')\n",
    "    \n",
    "    # Group annot_df by 'Coded Diplotype/Phenotype Summary', discard unwanted columns\n",
    "    grouped_pheno_df = annot_df.groupby('Coded Diplotype/Phenotype Summary').agg(list)\n",
    "    \n",
    "    # Calculate the counts and frequencies\n",
    "    grouped_pheno_df['pharmacogene'] = grouped_pheno_df['gene'].apply(lambda x: x[0])\n",
    "    grouped_pheno_df['genotype'] = grouped_pheno_df['genotype'].apply(lambda x: \",\".join(list(set(x))))\n",
    "    grouped_pheno_df['phenotype'] = grouped_pheno_df.index\n",
    "    grouped_pheno_df['no_carriers_with_risk_alleles'] = grouped_pheno_df['gene'].apply(len)\n",
    "    grouped_pheno_df['all_genotyped_individuals'] = len(annot_df)\n",
    "    grouped_pheno_df['carrier_frequency'] = grouped_pheno_df['no_carriers_with_risk_alleles'] / grouped_pheno_df['all_genotyped_individuals']\n",
    "    \n",
    "    # Subset column and export to pheno_csv\n",
    "    out_df = grouped_pheno_df.loc[:, keep_col].copy()\n",
    "    out_df.to_csv(pheno_csv, index=False)"
   ]
  },
  {
   "cell_type": "code",
   "execution_count": null,
   "id": "edf488b0-b4d1-4670-80fa-3e20b7d40e5e",
   "metadata": {},
   "outputs": [],
   "source": []
  }
 ],
 "metadata": {
  "kernelspec": {
   "display_name": "Python 3 (ipykernel)",
   "language": "python",
   "name": "python3"
  },
  "language_info": {
   "codemirror_mode": {
    "name": "ipython",
    "version": 3
   },
   "file_extension": ".py",
   "mimetype": "text/x-python",
   "name": "python",
   "nbconvert_exporter": "python",
   "pygments_lexer": "ipython3",
   "version": "3.10.12"
  }
 },
 "nbformat": 4,
 "nbformat_minor": 5
}
