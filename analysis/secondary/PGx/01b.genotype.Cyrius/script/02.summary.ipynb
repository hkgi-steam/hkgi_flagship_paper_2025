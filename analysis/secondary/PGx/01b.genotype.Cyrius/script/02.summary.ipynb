{
 "cells": [
  {
   "cell_type": "code",
   "execution_count": 1,
   "id": "24bb1e5f-891b-43ac-bdaf-37003d0a6178",
   "metadata": {
    "execution": {
     "iopub.execute_input": "2025-04-09T09:10:57.923658Z",
     "iopub.status.busy": "2025-04-09T09:10:57.922974Z",
     "iopub.status.idle": "2025-04-09T09:10:58.784110Z",
     "shell.execute_reply": "2025-04-09T09:10:58.782373Z",
     "shell.execute_reply.started": "2025-04-09T09:10:57.923589Z"
    }
   },
   "outputs": [],
   "source": [
    "from pathlib import Path\n",
    "import pandas as pd\n",
    "import numpy as np\n",
    "import re\n",
    "from collections import defaultdict\n",
    "import matplotlib.pyplot as plt\n",
    "from matplotlib.patches import Patch\n",
    "import seaborn as sns\n",
    "plt.style.use('ggplot')"
   ]
  },
  {
   "cell_type": "code",
   "execution_count": 2,
   "id": "c844f2f4-6e7a-467e-b981-b5bc9f620d3b",
   "metadata": {
    "execution": {
     "iopub.execute_input": "2025-04-09T09:13:23.410854Z",
     "iopub.status.busy": "2025-04-09T09:13:23.408999Z",
     "iopub.status.idle": "2025-04-09T09:13:23.422920Z",
     "shell.execute_reply": "2025-04-09T09:13:23.420169Z",
     "shell.execute_reply.started": "2025-04-09T09:13:23.410782Z"
    }
   },
   "outputs": [],
   "source": [
    "projectDir = Path(\"/home/_shared/jscliu/project/2025/Flagship/analysis/secondary/PGx/01b.genotype.Cyrius\")\n",
    "resultDir = projectDir/\"results\"\n",
    "sumDir = projectDir/\"summary\"\n",
    "referenceDir = Path('/home/_shared/jscliu/project/2025/Flagship/reference/PharmGKB_ref/CYP2D6')\n",
    "\n",
    "# Input\n",
    "all_tsv = resultDir/\"manifest.all.tsv\"\n",
    "\n",
    "# Reference\n",
    "id_ref = \"/home/_shared/jscliu/project/2025/Flagship/reference/sample_info_annot.2024-11-12.csv\"\n",
    "\n",
    "# Output\n",
    "gene = 'CYP2D6'\n",
    "perGene_csv = sumDir/f\"perGenes.{gene}.csv\"\n",
    "all_perGene_csv = sumDir/f\"all_perGenes.{gene}.csv\"\n",
    "af_csv = sumDir/f\"allele_frequency.{gene}.csv\"\n",
    "pheno_csv = sumDir/f\"phenotype.{gene}.csv\""
   ]
  },
  {
   "cell_type": "markdown",
   "id": "b1504228-93c2-4829-beb5-8754f090897d",
   "metadata": {},
   "source": [
    "# Reading references"
   ]
  },
  {
   "cell_type": "markdown",
   "id": "cb8f7b37-7c03-4a92-a8d4-1f02c052f580",
   "metadata": {},
   "source": [
    "## ID reference"
   ]
  },
  {
   "cell_type": "code",
   "execution_count": 4,
   "id": "b2e4a444-a843-4612-b72c-3d91d71e82e7",
   "metadata": {
    "execution": {
     "iopub.execute_input": "2025-04-09T09:14:15.873396Z",
     "iopub.status.busy": "2025-04-09T09:14:15.871743Z",
     "iopub.status.idle": "2025-04-09T09:14:15.971465Z",
     "shell.execute_reply": "2025-04-09T09:14:15.969795Z",
     "shell.execute_reply.started": "2025-04-09T09:14:15.873323Z"
    }
   },
   "outputs": [
    {
     "name": "stdout",
     "output_type": "stream",
     "text": [
      "len(id_ref_df) = 23,149\n"
     ]
    },
    {
     "data": {
      "text/html": [
       "<div>\n",
       "<style scoped>\n",
       "    .dataframe tbody tr th:only-of-type {\n",
       "        vertical-align: middle;\n",
       "    }\n",
       "\n",
       "    .dataframe tbody tr th {\n",
       "        vertical-align: top;\n",
       "    }\n",
       "\n",
       "    .dataframe thead th {\n",
       "        text-align: right;\n",
       "    }\n",
       "</style>\n",
       "<table border=\"1\" class=\"dataframe\">\n",
       "  <thead>\n",
       "    <tr style=\"text-align: right;\">\n",
       "      <th></th>\n",
       "      <th>founder_status</th>\n",
       "    </tr>\n",
       "    <tr>\n",
       "      <th>sre_participant_id</th>\n",
       "      <th></th>\n",
       "    </tr>\n",
       "  </thead>\n",
       "  <tbody>\n",
       "    <tr>\n",
       "      <th>SRE029440</th>\n",
       "      <td>Non-founder</td>\n",
       "    </tr>\n",
       "    <tr>\n",
       "      <th>SRE025838</th>\n",
       "      <td>Founder</td>\n",
       "    </tr>\n",
       "    <tr>\n",
       "      <th>SRE003784</th>\n",
       "      <td>Non-founder</td>\n",
       "    </tr>\n",
       "    <tr>\n",
       "      <th>SRE026979</th>\n",
       "      <td>Non-founder</td>\n",
       "    </tr>\n",
       "    <tr>\n",
       "      <th>SRE004787</th>\n",
       "      <td>Founder</td>\n",
       "    </tr>\n",
       "  </tbody>\n",
       "</table>\n",
       "</div>"
      ],
      "text/plain": [
       "                   founder_status\n",
       "sre_participant_id               \n",
       "SRE029440             Non-founder\n",
       "SRE025838                 Founder\n",
       "SRE003784             Non-founder\n",
       "SRE026979             Non-founder\n",
       "SRE004787                 Founder"
      ]
     },
     "execution_count": 4,
     "metadata": {},
     "output_type": "execute_result"
    }
   ],
   "source": [
    "# Read id reference and subset for useful columns\n",
    "id_ref_df = pd.read_csv(id_ref, index_col=[0])\n",
    "id_ref_df = id_ref_df.loc[id_ref_df['treated_ethnicity']=='Chinese', :].copy()    # Include Chinese only\n",
    "id_ref_df =  id_ref_df[['founder_status']]\n",
    "print(f\"{len(id_ref_df) = :,}\")\n",
    "id_ref_df.head()"
   ]
  },
  {
   "cell_type": "markdown",
   "id": "5d580f83-b916-4753-b560-4859fe483f87",
   "metadata": {},
   "source": [
    "## Assigned scores to alleles"
   ]
  },
  {
   "cell_type": "code",
   "execution_count": 5,
   "id": "b8edda84-6644-4f99-93b4-68977f3dd6f5",
   "metadata": {
    "execution": {
     "iopub.execute_input": "2025-04-09T09:14:42.411098Z",
     "iopub.status.busy": "2025-04-09T09:14:42.409151Z",
     "iopub.status.idle": "2025-04-09T09:14:42.428707Z",
     "shell.execute_reply": "2025-04-09T09:14:42.426687Z",
     "shell.execute_reply.started": "2025-04-09T09:14:42.411026Z"
    }
   },
   "outputs": [],
   "source": [
    "allele_functionality = referenceDir/'CYP2D6_allele_functionality_reference.csv'\n",
    "# Read\n",
    "allele_func_df = pd.read_csv(\n",
    "    allele_functionality, \n",
    "    usecols=[0, 1, 3], skiprows=2, \n",
    "    names=['allele', 'activity_value', 'status'], \n",
    "    index_col=[0]\n",
    ")\n",
    "# Remove alleles of multiple copies\n",
    "keep_alleles = [ allele for allele in allele_func_df.index.tolist() if \"x\" not in allele ]\n",
    "allele_func_df = allele_func_df.loc[keep_alleles, :].copy()"
   ]
  },
  {
   "cell_type": "markdown",
   "id": "eee290ca-d47b-4927-8ad9-c83990ca6076",
   "metadata": {},
   "source": [
    "# Read and preprocess manifest.all.tsv"
   ]
  },
  {
   "cell_type": "code",
   "execution_count": 6,
   "id": "a466bc0f-6115-435c-8aa8-058856ea82fc",
   "metadata": {
    "execution": {
     "iopub.execute_input": "2025-04-09T09:15:09.545243Z",
     "iopub.status.busy": "2025-04-09T09:15:09.543588Z",
     "iopub.status.idle": "2025-04-09T09:15:09.583723Z",
     "shell.execute_reply": "2025-04-09T09:15:09.581943Z",
     "shell.execute_reply.started": "2025-04-09T09:15:09.545168Z"
    }
   },
   "outputs": [],
   "source": [
    "all_df = pd.read_table(all_tsv, skiprows=1, names=['sample_id', 'diplotype', 'filter'])\n",
    "pass_df = all_df.loc[all_df['filter']==\"PASS\", ['sample_id', 'diplotype']].copy()"
   ]
  },
  {
   "cell_type": "code",
   "execution_count": 7,
   "id": "138dbb65-24b0-45ad-a386-0e9ae8587dd1",
   "metadata": {
    "execution": {
     "iopub.execute_input": "2025-04-09T09:15:10.008266Z",
     "iopub.status.busy": "2025-04-09T09:15:10.006579Z",
     "iopub.status.idle": "2025-04-09T09:15:11.399442Z",
     "shell.execute_reply": "2025-04-09T09:15:11.397676Z",
     "shell.execute_reply.started": "2025-04-09T09:15:10.008193Z"
    }
   },
   "outputs": [],
   "source": [
    "pass_df[['haplotype_1', 'haplotype_2']] = pass_df['diplotype'].apply(lambda d: pd.Series(d.split('/')))"
   ]
  },
  {
   "cell_type": "code",
   "execution_count": 9,
   "id": "37365f9b-f791-4a68-8194-aba92f7d8668",
   "metadata": {
    "execution": {
     "iopub.execute_input": "2025-04-09T09:15:39.194131Z",
     "iopub.status.busy": "2025-04-09T09:15:39.192760Z",
     "iopub.status.idle": "2025-04-09T09:15:39.255497Z",
     "shell.execute_reply": "2025-04-09T09:15:39.253749Z",
     "shell.execute_reply.started": "2025-04-09T09:15:39.194030Z"
    }
   },
   "outputs": [],
   "source": [
    "# Remove redundant samples and duplicated samples with contradicting haplotypes\n",
    "pass_df['sre_patient_id'] = pass_df['sample_id'].apply(lambda s: re.match(r'SRE[0-9]+', s).group(0))\n",
    "def remove_duplicates(df):\n",
    "    \"\"\"\n",
    "    Remove redundant samples and duplicated samples with \n",
    "    contradicting haplotypes, by \"sre_patient_id\", \"haplotype_1\", \"haplotype_2\"\n",
    "    \"\"\"\n",
    "    ## Extract entries with duplicating sre_patient_id into df\n",
    "    dup_id_df = df.loc[df.duplicated(subset=['sre_patient_id'], keep=False), :].copy()\n",
    "    dup_id_consistent_df = df.loc[df.duplicated(subset=['sre_patient_id', 'haplotype_1', 'haplotype_2'], keep=False), :].copy()\n",
    "    ## Get list of sample_id to be removed due to duplications and remove from consol_df\n",
    "    inconsistent_duplicates:list = list(set(dup_id_df['sample_id'].tolist()).difference(set(dup_id_consistent_df['sample_id'].tolist())))\n",
    "    consistent_duplicates:list = dup_id_consistent_df.loc[dup_id_consistent_df.duplicated(subset=['sre_patient_id']), 'sample_id'].tolist()\n",
    "    nr_df = df.loc[~df['sample_id'].isin(inconsistent_duplicates+consistent_duplicates), :].copy()\n",
    "    return nr_df\n",
    "pass_df = remove_duplicates(pass_df).set_index(\"sre_patient_id\")"
   ]
  },
  {
   "cell_type": "markdown",
   "id": "04fd2a05-90c0-4235-9fa8-0a817a7f58e4",
   "metadata": {},
   "source": [
    "# perGene"
   ]
  },
  {
   "cell_type": "markdown",
   "id": "bda8284b-74f5-4ed9-a4f7-307509899f15",
   "metadata": {},
   "source": [
    "## Define functions"
   ]
  },
  {
   "cell_type": "code",
   "execution_count": 24,
   "id": "b4423b95-74e0-49b4-a6e7-ce3504dedf86",
   "metadata": {
    "execution": {
     "iopub.execute_input": "2025-04-09T09:18:56.352211Z",
     "iopub.status.busy": "2025-04-09T09:18:56.351559Z",
     "iopub.status.idle": "2025-04-09T09:18:56.373041Z",
     "shell.execute_reply": "2025-04-09T09:18:56.370495Z",
     "shell.execute_reply.started": "2025-04-09T09:18:56.352158Z"
    }
   },
   "outputs": [],
   "source": [
    "def standardize_haplotype(hap:str)->str:\n",
    "    if pd.isna(hap):\n",
    "        return hap\n",
    "        \n",
    "    # Remove asterik for numerical sorting\n",
    "    if \"x\" in hap:\n",
    "        return hap    # Nothing to do for multiple copies of same allele\n",
    "    num_hap = hap.replace(\"*\", \"\")\n",
    "    num_hap_ls = num_hap.split('+')\n",
    "    num_hap_ls.sort()\n",
    "    sorted_hap_ls = [ f\"*{h}\" for h in num_hap_ls ]\n",
    "    sorted_hap = \"+\".join(sorted_hap_ls)\n",
    "    return sorted_hap\n",
    "\n",
    "def break_allele_to_list(allele:str)->list:\n",
    "    '''Function to break allele string from Cyrius into lists of alleles'''\n",
    "    allele_ls:list = list()    \n",
    "    if 'x' in allele:\n",
    "        # Multiple copies of the same allele\n",
    "        x_idx = allele.index('x')\n",
    "        a = allele[:x_idx]\n",
    "        copy_number = int(allele[x_idx+1:])\n",
    "        allele_ls += [ a for _ in range(0, copy_number) ]\n",
    "    else:\n",
    "        # Single or combinations of alleles separated by \"+\"\n",
    "        for a in allele.split('+'):\n",
    "            allele_ls.append(a)\n",
    "    return allele_ls\n",
    "\n",
    "def score_allele(haplotype:str, score_df:pd.DataFrame)->float:\n",
    "    if pd.isna(haplotype):\n",
    "        return np.nan\n",
    "        \n",
    "    '''Assign scores to a haplotype'''\n",
    "    # Give score\n",
    "    allele_ls = break_allele_to_list(haplotype)\n",
    "    score_ls = [ float(score_df.loc[allele, 'activity_value']) for allele in allele_ls ]\n",
    "\n",
    "    # Activity value is nan if the allele has uncertain function\n",
    "    score_set = set(score_ls)\n",
    "    if (len(score_set)==1) and (list(score_set)[0]!=list(score_set)[0]):\n",
    "        # return pd.Series([score_ls, np.nan])\n",
    "        return np.nan\n",
    "    \n",
    "    # Calculate the sum of score. nan will be treated as 0.0\n",
    "    score_replaced_ls = [ score if score == score else 0.0 for score in score_ls ]\n",
    "    score_sum = sum(score_replaced_ls)\n",
    "    \n",
    "    # return pd.Series([score_ls, score_sum])    # Return\n",
    "    return score_sum"
   ]
  },
  {
   "cell_type": "code",
   "execution_count": 28,
   "id": "0cbc39d4-b4fd-49ce-be53-ba1cd4862272",
   "metadata": {
    "execution": {
     "iopub.execute_input": "2025-04-09T09:21:51.614503Z",
     "iopub.status.busy": "2025-04-09T09:21:51.613836Z",
     "iopub.status.idle": "2025-04-09T09:21:51.631674Z",
     "shell.execute_reply": "2025-04-09T09:21:51.628739Z",
     "shell.execute_reply.started": "2025-04-09T09:21:51.614451Z"
    }
   },
   "outputs": [],
   "source": [
    "def annot_clinical_function(score:float)->str:\n",
    "    '''\n",
    "    Given the cumulative allele score, annotate it's clinical function.\n",
    "    The annotation is referenced to PharmGKB's guidelines, i.e.\n",
    "    - 0: \"No function\"\n",
    "    - >0 & <1: \"Decreased function\"\n",
    "    - 1: \"Normal function\"\n",
    "    - >1 & <2: NOT STATED\n",
    "    - >=2: \"Increased function\"\n",
    "    *For our case, between 1-1.5 will be considered as \"Normal function\" and 1.5-2.0 will be considered as \"Increased function\"\n",
    "    '''\n",
    "    if score == score:\n",
    "        if score > 1.5:\n",
    "            func = \"Increased function\"\n",
    "        elif score >= 1.0:\n",
    "            func = \"Normal function\"\n",
    "        elif score > 0:\n",
    "            func = \"Decreased function\"\n",
    "        elif score == 0:\n",
    "            func = \"No function\"\n",
    "    else:\n",
    "        func = \"Uncertain function\"\n",
    "    return func\n",
    "    \n",
    "# Assign phenotype\n",
    "def assign_phenotype(activity_score:float)->str:\n",
    "    '''\n",
    "    Annotate phenotype based on diplotype activity score: \n",
    "    - S >=2.5: Ultrarapid Metabolizer\n",
    "    - 1.25 <= S <= 2.25: Normal Metabolizer\n",
    "    - 0 < S <= 1: Intermediate Metabolizer\n",
    "    - S = 0: Poor Metabolizer\n",
    "    - na: Indeterminate\n",
    "    '''\n",
    "    if activity_score != activity_score:\n",
    "        phenotype = \"Indeterminate\"     # nan\n",
    "    elif activity_score >= 2.5:\n",
    "        phenotype = \"UM (ultrarapid metabolizer)\"\n",
    "    elif activity_score >= 1.25:\n",
    "        phenotype = \"NM (normal metabolizer)\"\n",
    "    elif activity_score > 0:\n",
    "        phenotype = \"IM (intermediate metabolizer)\"\n",
    "    elif activity_score == 0:\n",
    "        phenotype = \"PM (poor metabolizer)\"\n",
    "    return phenotype\n",
    "\n",
    "keep_colnames:list = [\n",
    "    'founder_status', 'gene', 'sample_id',\n",
    "    'major', 'minor', 'haplotype_1', 'haplotype_2', 'genotype',\n",
    "    'haplotype_1_func', 'haplotype_2_func', 'phenotype', 'EHR_priority_notation', \n",
    "    'haplotype_1_activity_value', 'haplotype_2_activity_value', 'activity_score'\n",
    "]"
   ]
  },
  {
   "cell_type": "markdown",
   "id": "2087c57f-1ba8-456c-b067-29d8a51eb12a",
   "metadata": {},
   "source": [
    "## perGene - all_samples"
   ]
  },
  {
   "cell_type": "code",
   "execution_count": 16,
   "id": "eaa81c7c-660c-4063-b524-471f39a5e65e",
   "metadata": {
    "execution": {
     "iopub.execute_input": "2025-04-09T09:17:10.210041Z",
     "iopub.status.busy": "2025-04-09T09:17:10.209367Z",
     "iopub.status.idle": "2025-04-09T09:17:10.239382Z",
     "shell.execute_reply": "2025-04-09T09:17:10.237292Z",
     "shell.execute_reply.started": "2025-04-09T09:17:10.209988Z"
    }
   },
   "outputs": [],
   "source": [
    "# Merge all_id_ref_df to pass_df\n",
    "sample_annot_df = id_ref_df.merge(pass_df, left_index=True, right_index=True, how='left')"
   ]
  },
  {
   "cell_type": "code",
   "execution_count": 23,
   "id": "d733cd7d-996e-474e-8c78-52fe884e75a3",
   "metadata": {
    "execution": {
     "iopub.execute_input": "2025-04-09T09:18:29.623525Z",
     "iopub.status.busy": "2025-04-09T09:18:29.622876Z",
     "iopub.status.idle": "2025-04-09T09:18:29.695936Z",
     "shell.execute_reply": "2025-04-09T09:18:29.694162Z",
     "shell.execute_reply.started": "2025-04-09T09:18:29.623472Z"
    }
   },
   "outputs": [],
   "source": [
    "sample_annot_df['haplotype_1'] = sample_annot_df['haplotype_1'].apply(standardize_haplotype)\n",
    "sample_annot_df['haplotype_2'] = sample_annot_df['haplotype_2'].apply(standardize_haplotype)"
   ]
  },
  {
   "cell_type": "code",
   "execution_count": 25,
   "id": "e19c381a-a5b8-4419-8e0b-e0a1be3f9eec",
   "metadata": {
    "execution": {
     "iopub.execute_input": "2025-04-09T09:19:00.666251Z",
     "iopub.status.busy": "2025-04-09T09:19:00.665571Z",
     "iopub.status.idle": "2025-04-09T09:19:01.415326Z",
     "shell.execute_reply": "2025-04-09T09:19:01.413448Z",
     "shell.execute_reply.started": "2025-04-09T09:19:00.666200Z"
    }
   },
   "outputs": [],
   "source": [
    "sample_annot_df['haplotype_1_activity_value'] = sample_annot_df.apply(lambda r: score_allele(r.haplotype_1, allele_func_df), axis=1)\n",
    "sample_annot_df['haplotype_2_activity_value'] = sample_annot_df.apply(lambda r: score_allele(r.haplotype_2, allele_func_df), axis=1)"
   ]
  },
  {
   "cell_type": "code",
   "execution_count": 29,
   "id": "efd37ff9-5047-4b2d-a401-e14eb297b71c",
   "metadata": {
    "execution": {
     "iopub.execute_input": "2025-04-09T09:21:54.797346Z",
     "iopub.status.busy": "2025-04-09T09:21:54.796691Z",
     "iopub.status.idle": "2025-04-09T09:21:55.603242Z",
     "shell.execute_reply": "2025-04-09T09:21:55.601305Z",
     "shell.execute_reply.started": "2025-04-09T09:21:54.797293Z"
    }
   },
   "outputs": [],
   "source": [
    "# convert founder_df to perGene_df\n",
    "all_perGene_df = sample_annot_df.copy()\n",
    "# Reformat\n",
    "all_perGene_df['gene'] = 'CYP2D6'\n",
    "all_perGene_df.rename(columns={'diplotype': 'major'}, inplace=True)\n",
    "all_perGene_df['genotype'] = all_perGene_df.apply(lambda r: f\"{r.haplotype_1}/{r.haplotype_2}\", axis=1)\n",
    "all_perGene_df['haplotype_1_func'] = all_perGene_df['haplotype_1_activity_value'].apply(annot_clinical_function)\n",
    "all_perGene_df['haplotype_2_func'] = all_perGene_df['haplotype_2_activity_value'].apply(annot_clinical_function)\n",
    "all_perGene_df['activity_score'] = all_perGene_df.apply(lambda r: r.haplotype_1_activity_value + r.haplotype_2_activity_value if (r.haplotype_1_activity_value==r.haplotype_1_activity_value) & (r.haplotype_2_activity_value==r.haplotype_2_activity_value) else np.nan, axis=1)\n",
    "all_perGene_df['phenotype'] = all_perGene_df['activity_score'].apply(assign_phenotype)\n",
    "all_perGene_df['minor'] = np.nan\n",
    "all_perGene_df['EHR_priority_notation'] = np.nan\n",
    "all_perGene_df = all_perGene_df.loc[:, keep_colnames].copy()"
   ]
  },
  {
   "cell_type": "code",
   "execution_count": 31,
   "id": "129efa20-caba-4d3d-bef7-4cba722f9d6b",
   "metadata": {
    "execution": {
     "iopub.execute_input": "2025-04-09T09:22:05.338492Z",
     "iopub.status.busy": "2025-04-09T09:22:05.337843Z",
     "iopub.status.idle": "2025-04-09T09:22:05.460889Z",
     "shell.execute_reply": "2025-04-09T09:22:05.459098Z",
     "shell.execute_reply.started": "2025-04-09T09:22:05.338439Z"
    }
   },
   "outputs": [],
   "source": [
    "# Export all_perGene_df to all_perGene_csv\n",
    "all_perGene_df.to_csv(all_perGene_csv, index=True, index_label='sre_patient_id')"
   ]
  },
  {
   "cell_type": "markdown",
   "id": "39df2e6d-caea-4800-9892-6c501c02438b",
   "metadata": {},
   "source": [
    "## perGene - founders only"
   ]
  },
  {
   "cell_type": "code",
   "execution_count": 34,
   "id": "d0e52e2c-00c3-43ab-b5cf-f5b6de5502e2",
   "metadata": {
    "execution": {
     "iopub.execute_input": "2025-04-09T09:23:10.816104Z",
     "iopub.status.busy": "2025-04-09T09:23:10.815422Z",
     "iopub.status.idle": "2025-04-09T09:23:10.841078Z",
     "shell.execute_reply": "2025-04-09T09:23:10.839068Z",
     "shell.execute_reply.started": "2025-04-09T09:23:10.816050Z"
    }
   },
   "outputs": [],
   "source": [
    "perGene_df = all_perGene_df.loc[all_perGene_df['founder_status']=='Founder', :].copy()"
   ]
  },
  {
   "cell_type": "code",
   "execution_count": 39,
   "id": "7f8f0fd3-f8bb-4d61-a927-3109fd0a12cb",
   "metadata": {
    "execution": {
     "iopub.execute_input": "2025-04-09T09:23:12.759856Z",
     "iopub.status.busy": "2025-04-09T09:23:12.757739Z",
     "iopub.status.idle": "2025-04-09T09:23:12.865209Z",
     "shell.execute_reply": "2025-04-09T09:23:12.863821Z",
     "shell.execute_reply.started": "2025-04-09T09:23:12.759785Z"
    }
   },
   "outputs": [],
   "source": [
    "# Export perGene_df to perGene_csv\n",
    "perGene_df.to_csv(perGene_csv, index=True, index_label='sre_patient_id')"
   ]
  },
  {
   "cell_type": "markdown",
   "id": "ce9f26b9-557a-4cfc-aaf1-4b9ad7356b3b",
   "metadata": {},
   "source": [
    "## Caluclate allele_frequencies"
   ]
  },
  {
   "cell_type": "code",
   "execution_count": 41,
   "id": "6860ec1f-7d8c-4a1a-9641-72ac3a893ced",
   "metadata": {
    "execution": {
     "iopub.execute_input": "2025-04-09T09:23:30.297725Z",
     "iopub.status.busy": "2025-04-09T09:23:30.297088Z",
     "iopub.status.idle": "2025-04-09T09:23:30.308990Z",
     "shell.execute_reply": "2025-04-09T09:23:30.306726Z",
     "shell.execute_reply.started": "2025-04-09T09:23:30.297673Z"
    }
   },
   "outputs": [],
   "source": [
    "def count_zygosity(called_df):\n",
    "    \"\"\"Intake called_df, count the number of homozygous and heterozygous carriers into a dict\"\"\"\n",
    "    homo_dict=defaultdict(int)\n",
    "    hetero_dict=defaultdict(int)\n",
    "    for _, row in called_df.iterrows():\n",
    "        if row.haplotype_1 == row.haplotype_2:\n",
    "            # Homozygous\n",
    "            homo_dict[row.haplotype_1] += 1\n",
    "        else:\n",
    "            # Heterozygous\n",
    "            hetero_dict[row.haplotype_1] += 1\n",
    "            hetero_dict[row.haplotype_2] += 1\n",
    "    return homo_dict, hetero_dict"
   ]
  },
  {
   "cell_type": "code",
   "execution_count": 42,
   "id": "ce2f82e3-c120-467a-81e1-757f86711912",
   "metadata": {
    "execution": {
     "iopub.execute_input": "2025-04-09T09:23:40.637722Z",
     "iopub.status.busy": "2025-04-09T09:23:40.637063Z",
     "iopub.status.idle": "2025-04-09T09:23:41.467471Z",
     "shell.execute_reply": "2025-04-09T09:23:41.465499Z",
     "shell.execute_reply.started": "2025-04-09T09:23:40.637670Z"
    }
   },
   "outputs": [],
   "source": [
    "gene = 'CYP2D6'\n",
    "df = perGene_df.copy()\n",
    "\n",
    "# Initialize af_df\n",
    "af_df = pd.concat([\n",
    "    df.loc[:, ['haplotype_1', 'haplotype_1_func']].rename(columns={'haplotype_1': 'variant', 'haplotype_1_func': 'allele_function'}), \n",
    "    df.loc[:, ['haplotype_2', 'haplotype_2_func']].rename(columns={'haplotype_2': 'variant', 'haplotype_2_func': 'allele_function'})\n",
    "]).groupby('variant').agg(list)\n",
    "\n",
    "# Get general information from af_df\n",
    "af_df['allele_count'] = af_df['allele_function'].apply(len)\n",
    "af_df['gene'] = gene\n",
    "af_df['allele_function'] = af_df['allele_function'].apply(lambda x: x[0])\n",
    "af_df.dropna(subset=['allele_function'], inplace=True)\n",
    "af_df.sort_values(by=['allele_function', 'allele_count'], ascending=False, inplace=True)\n",
    "af_df['variant'] = af_df.index\n",
    "af_df['allele_number'] = af_df['allele_count'].sum()\n",
    "af_df['allele_frequency'] = af_df.apply(lambda r: r.allele_count / r.allele_number, axis=1)\n",
    "\n",
    "# Count zygosity and merge it to df\n",
    "homo_d, hetero_d = count_zygosity(df)\n",
    "homo_df = pd.DataFrame(homo_d, index=[\"no_homozygous_carriers\"]).T\n",
    "hetero_df = pd.DataFrame(hetero_d, index=[\"no_heterozygous_carriers\"]).T\n",
    "zygosity_df = hetero_df.merge(homo_df, left_index=True, right_index=True, how='outer').fillna(0).astype(int)\n",
    "af_df = af_df.merge(zygosity_df, left_index=True, right_index=True, how='left')\n",
    "\n",
    "# Subset for required columns and export to CSV\n",
    "af_colnames = [\n",
    "    \"gene\", \"variant\", \"allele_function\", \n",
    "    \"allele_frequency\", \"allele_count\", \"allele_number\", \n",
    "    \"no_heterozygous_carriers\", \"no_homozygous_carriers\"\n",
    "]\n",
    "af_df = af_df.loc[:, af_colnames].copy()"
   ]
  },
  {
   "cell_type": "code",
   "execution_count": 43,
   "id": "68415a26-d3da-4b2b-bc88-87d8ef317e0f",
   "metadata": {
    "execution": {
     "iopub.execute_input": "2025-04-09T09:23:41.885121Z",
     "iopub.status.busy": "2025-04-09T09:23:41.884448Z",
     "iopub.status.idle": "2025-04-09T09:23:41.898877Z",
     "shell.execute_reply": "2025-04-09T09:23:41.896715Z",
     "shell.execute_reply.started": "2025-04-09T09:23:41.885062Z"
    }
   },
   "outputs": [],
   "source": [
    "af_df.to_csv(af_csv, index=False)"
   ]
  },
  {
   "cell_type": "markdown",
   "id": "75beac84-94b7-464d-a73a-14a744e8d2e5",
   "metadata": {},
   "source": [
    "## Calculate by phenotype"
   ]
  },
  {
   "cell_type": "code",
   "execution_count": 44,
   "id": "3972f939-c486-4675-82ee-4131b651bf52",
   "metadata": {
    "execution": {
     "iopub.execute_input": "2025-04-09T09:24:14.563494Z",
     "iopub.status.busy": "2025-04-09T09:24:14.561628Z",
     "iopub.status.idle": "2025-04-09T09:24:14.627736Z",
     "shell.execute_reply": "2025-04-09T09:24:14.625835Z",
     "shell.execute_reply.started": "2025-04-09T09:24:14.563423Z"
    }
   },
   "outputs": [],
   "source": [
    "gene = 'CYP2D6'\n",
    "df = perGene_df.copy()\n",
    "\n",
    "pheno_df = df.groupby('phenotype').agg(list)\n",
    "pheno_df['pharmacogene'] = gene\n",
    "pheno_df['genotype'] = pheno_df['genotype'].apply(lambda x: \",\".join(list(set(x))))\n",
    "pheno_df['phenotype'] = pheno_df.index\n",
    "pheno_df['no_carriers_with_risk_alleles'] = pheno_df['sample_id'].apply(len)\n",
    "pheno_df['all_genotyped_individuals'] = pheno_df['no_carriers_with_risk_alleles'].sum()\n",
    "pheno_df['carrier_frequency'] = pheno_df.apply(lambda r: r.no_carriers_with_risk_alleles / r.all_genotyped_individuals, axis=1)\n",
    "pheno_df.sort_values(by=['carrier_frequency'], ascending=False, inplace=True)\n",
    "\n",
    "# Subset of columns to be exported\n",
    "keep_colnames = [\n",
    "    'pharmacogene', 'genotype', 'phenotype', 'carrier_frequency', \n",
    "    'no_carriers_with_risk_alleles', 'all_genotyped_individuals'\n",
    "]\n",
    "pheno_df = pheno_df.loc[:, keep_colnames].copy()"
   ]
  },
  {
   "cell_type": "code",
   "execution_count": 45,
   "id": "762042a8-c51a-4a68-9014-e882b9ca512d",
   "metadata": {
    "execution": {
     "iopub.execute_input": "2025-04-09T09:24:14.693631Z",
     "iopub.status.busy": "2025-04-09T09:24:14.692021Z",
     "iopub.status.idle": "2025-04-09T09:24:14.704877Z",
     "shell.execute_reply": "2025-04-09T09:24:14.702559Z",
     "shell.execute_reply.started": "2025-04-09T09:24:14.693558Z"
    }
   },
   "outputs": [],
   "source": [
    "pheno_df.to_csv(pheno_csv, index=False)"
   ]
  },
  {
   "cell_type": "code",
   "execution_count": null,
   "id": "ec0d0906-266b-495e-9997-1545415fb22a",
   "metadata": {},
   "outputs": [],
   "source": []
  }
 ],
 "metadata": {
  "kernelspec": {
   "display_name": "Python 3 (ipykernel)",
   "language": "python",
   "name": "python3"
  },
  "language_info": {
   "codemirror_mode": {
    "name": "ipython",
    "version": 3
   },
   "file_extension": ".py",
   "mimetype": "text/x-python",
   "name": "python",
   "nbconvert_exporter": "python",
   "pygments_lexer": "ipython3",
   "version": "3.10.12"
  }
 },
 "nbformat": 4,
 "nbformat_minor": 5
}
