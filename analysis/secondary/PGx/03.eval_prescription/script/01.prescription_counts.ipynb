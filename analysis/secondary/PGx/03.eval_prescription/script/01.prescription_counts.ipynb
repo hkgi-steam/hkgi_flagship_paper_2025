{
 "cells": [
  {
   "cell_type": "code",
   "execution_count": 1,
   "id": "9f8e9576-e932-4a7d-9351-a12548b5959f",
   "metadata": {
    "execution": {
     "iopub.execute_input": "2025-05-15T08:11:14.713251Z",
     "iopub.status.busy": "2025-05-15T08:11:14.712588Z",
     "iopub.status.idle": "2025-05-15T08:11:15.712063Z",
     "shell.execute_reply": "2025-05-15T08:11:15.709312Z",
     "shell.execute_reply.started": "2025-05-15T08:11:14.713194Z"
    }
   },
   "outputs": [],
   "source": [
    "from pathlib import Path\n",
    "import pandas as pd\n",
    "import numpy as np\n",
    "import matplotlib.pyplot as plt\n",
    "import seaborn as sns"
   ]
  },
  {
   "cell_type": "code",
   "execution_count": 2,
   "id": "485df82d-fbce-4dfa-afcf-ca7d395a1c69",
   "metadata": {
    "execution": {
     "iopub.execute_input": "2025-05-15T08:11:15.715239Z",
     "iopub.status.busy": "2025-05-15T08:11:15.714345Z",
     "iopub.status.idle": "2025-05-15T08:11:15.728912Z",
     "shell.execute_reply": "2025-05-15T08:11:15.727025Z",
     "shell.execute_reply.started": "2025-05-15T08:11:15.715169Z"
    }
   },
   "outputs": [],
   "source": [
    "projectDir = Path(\"/home/_shared/jscliu/project/2025/Flagship/analysis/secondary/PGx/03.eval_prescription\")\n",
    "dataDir = projectDir/\"data\"\n",
    "summaryDir = projectDir/\"summary\"\n",
    "\n",
    "# Input\n",
    "prescription_counts = dataDir/\"total_CPIC_prescription_count_Dec23_Nov24.csv\"\n",
    "all_records = projectDir/\"../02.consolidate_genotypes/summary/pgx_allParticipants_allGenes.csv\"\n",
    "\n",
    "# Output\n",
    "prescription_count_comp_csv = summaryDir/\"CPIC_total-vs-actionable_prescription_count_Dec23_Nov24.csv\""
   ]
  },
  {
   "cell_type": "code",
   "execution_count": 3,
   "id": "ee2ed6a6-3b59-4bb6-8eab-7b2b8dc0da61",
   "metadata": {
    "execution": {
     "iopub.execute_input": "2025-05-15T08:11:15.731137Z",
     "iopub.status.busy": "2025-05-15T08:11:15.730722Z",
     "iopub.status.idle": "2025-05-15T08:11:16.882587Z",
     "shell.execute_reply": "2025-05-15T08:11:16.880204Z",
     "shell.execute_reply.started": "2025-05-15T08:11:15.731100Z"
    }
   },
   "outputs": [],
   "source": [
    "all_records_df = pd.read_csv(all_records)\n",
    "all_records_df = all_records_df.loc[\n",
    "    (all_records_df['founder_status']==\"Founder\") & (all_records_df['treated_ethnicity']==\"Chinese\"), :\n",
    "].copy()"
   ]
  },
  {
   "cell_type": "code",
   "execution_count": 4,
   "id": "98f30aac-bcff-478d-ab0f-717d28fa5a45",
   "metadata": {
    "execution": {
     "iopub.execute_input": "2025-05-15T08:11:16.884699Z",
     "iopub.status.busy": "2025-05-15T08:11:16.884426Z",
     "iopub.status.idle": "2025-05-15T08:11:16.895928Z",
     "shell.execute_reply": "2025-05-15T08:11:16.893755Z",
     "shell.execute_reply.started": "2025-05-15T08:11:16.884677Z"
    }
   },
   "outputs": [],
   "source": [
    "prescription_cnt_df = pd.read_csv(prescription_counts)"
   ]
  },
  {
   "cell_type": "code",
   "execution_count": 6,
   "id": "840ef39f-0819-4912-b5b9-62a2b254d4d2",
   "metadata": {
    "execution": {
     "iopub.execute_input": "2025-05-15T08:11:16.924032Z",
     "iopub.status.busy": "2025-05-15T08:11:16.923742Z",
     "iopub.status.idle": "2025-05-15T08:11:16.940293Z",
     "shell.execute_reply": "2025-05-15T08:11:16.937544Z",
     "shell.execute_reply.started": "2025-05-15T08:11:16.924012Z"
    }
   },
   "outputs": [
    {
     "name": "stdout",
     "output_type": "stream",
     "text": [
      "prescription_cnt_df.head(cnt)['Prescription_count'].sum() = 4,201,632\n"
     ]
    }
   ],
   "source": [
    "cnt = 20\n",
    "print(f\"{prescription_cnt_df.head(cnt)['Prescription_count'].sum() = :,}\")\n",
    "prescription_cnt_df = prescription_cnt_df.head(cnt).loc[prescription_cnt_df['Remarks']!=\"No significance\", :]"
   ]
  },
  {
   "cell_type": "code",
   "execution_count": 8,
   "id": "1dc9ee3b-61e8-4d99-ad33-4abd2346fbc6",
   "metadata": {
    "execution": {
     "iopub.execute_input": "2025-05-15T08:11:16.964707Z",
     "iopub.status.busy": "2025-05-15T08:11:16.964035Z",
     "iopub.status.idle": "2025-05-15T08:11:16.980199Z",
     "shell.execute_reply": "2025-05-15T08:11:16.977418Z",
     "shell.execute_reply.started": "2025-05-15T08:11:16.964653Z"
    }
   },
   "outputs": [],
   "source": [
    "drug_actionable_d:dict = {\n",
    "    \"pantoprazole\": {\"CYP2C19\": [\"CYP2C19 Ultrarapid Metabolizer\", \"CYP2C19 Likely Intermediate Metabolizer\", \"CYP2C19 Intermediate Metabolizer\", \"CYP2C19 Poor Metabolizer\"]}, \n",
    "    \"atorvastatin\": {\"SLCO1B1\": [\"SLCO1B1 Possible Decreased Function\", \"SLCO1B1 Decreased Function\", \"SLCO1B1 Poor Function\"]}, \n",
    "    \"simvastatin\": {\"SLCO1B1\": [\"SLCO1B1 Possible Decreased Function\", \"SLCO1B1 Decreased Function\", \"SLCO1B1 Poor Function\"]}, \n",
    "    \"tramadol\": {\"CYP2D6\": [\"UM (ultrarapid metabolizer)\", \"IM (intermediate metabolizer)\", \"PM (poor metabolizer)\"]}, \n",
    "    \"metoprolol\": {\"CYP2D6\": [\"PM (poor metabolizer)\"]}, \n",
    "    \"rosuvastatin\": {\"SLCO1B1\": [\"SLCO1B1 Possible Decreased Function\", \"SLCO1B1 Decreased Function\", \"SLCO1B1 Poor Function\"], \"ABCG2\": [\"ABCG2 Poor Function\"]}, \n",
    "    \"sertraline\": {\"CYP2C19\": [\"CYP2C19 Likely Intermediate Metabolizer\", \"CYP2C19 Intermediate Metabolizer\", \"CYP2C19 Poor Metabolizer\"]}, \n",
    "    \"clopidogrel\": {\"CYP2C19\": [\"CYP2C19 Likely Intermediate Metabolizer\", \"CYP2C19 Intermediate Metabolizer\", \"CYP2C19 Poor Metabolizer\"]}, \n",
    "    \"quetiapine\": {\"CYP3A4\": [\"CYP3A4 Poor Metabolizer\"]}, \n",
    "    \"lansoprazole\": {\"CYP2C19\": [\"CYP2C19 Ultrarapid Metabolizer\", \"CYP2C19 Likely Intermediate Metabolizer\", \"CYP2C19 Intermediate Metabolizer\", \"CYP2C19 Likely Poor Metabolizer\", \"CYP2C19 Poor Metabolizer\"]}\n",
    "}\n",
    "special_drugs = [\"allopurinol\", 'ibuprofen']"
   ]
  },
  {
   "cell_type": "code",
   "execution_count": 9,
   "id": "b7688535-6a36-45ca-bc04-734dcb4d094a",
   "metadata": {
    "execution": {
     "iopub.execute_input": "2025-05-15T08:11:16.983447Z",
     "iopub.status.busy": "2025-05-15T08:11:16.982970Z",
     "iopub.status.idle": "2025-05-15T08:11:17.024263Z",
     "shell.execute_reply": "2025-05-15T08:11:17.022078Z",
     "shell.execute_reply.started": "2025-05-15T08:11:16.983407Z"
    }
   },
   "outputs": [],
   "source": [
    "# Handle \"regular\" drugs\n",
    "def get_actionable_rate(drug, drug_actionable_d, all_records_df):\n",
    "    actionable_participants:set = set()\n",
    "    for gene, actionable_phenotypes in drug_actionable_d[drug].items():\n",
    "        actionable_participants = actionable_participants | set(all_records_df.loc[all_records_df[f'{gene}_phenotype'].isin(actionable_phenotypes), 'sre_participant_id'].tolist())\n",
    "    actionable_rate = len(actionable_participants)/len(all_records_df)\n",
    "    return actionable_rate\n",
    "drug_actionable_rate:dict = { drug: get_actionable_rate(drug, drug_actionable_d, all_records_df) for drug in prescription_cnt_df['Drug'] if drug not in special_drugs }"
   ]
  },
  {
   "cell_type": "code",
   "execution_count": 11,
   "id": "18487ddd-4cf1-470f-a456-d79598e94e66",
   "metadata": {
    "execution": {
     "iopub.execute_input": "2025-05-15T08:11:17.039934Z",
     "iopub.status.busy": "2025-05-15T08:11:17.039626Z",
     "iopub.status.idle": "2025-05-15T08:11:17.264102Z",
     "shell.execute_reply": "2025-05-15T08:11:17.261258Z",
     "shell.execute_reply.started": "2025-05-15T08:11:17.039910Z"
    }
   },
   "outputs": [],
   "source": [
    "# Special drugs - allopurinol\n",
    "allopurinol_df = all_records_df.copy()\n",
    "allopurinol_df['is_HLAB5801_carrier'] = allopurinol_df.apply(\n",
    "    lambda r: True if \"HLA-B*58:01\" in [r['HLA-B_haplotype_1'], r['HLA-B_haplotype_2']] else False, \n",
    "    axis=1\n",
    ")"
   ]
  },
  {
   "cell_type": "code",
   "execution_count": 13,
   "id": "2cea06da-474b-4760-b68a-adfb36583e96",
   "metadata": {
    "execution": {
     "iopub.execute_input": "2025-05-15T08:11:17.287883Z",
     "iopub.status.busy": "2025-05-15T08:11:17.287406Z",
     "iopub.status.idle": "2025-05-15T08:11:17.314453Z",
     "shell.execute_reply": "2025-05-15T08:11:17.312241Z",
     "shell.execute_reply.started": "2025-05-15T08:11:17.287845Z"
    }
   },
   "outputs": [],
   "source": [
    "allopurinol_actionable_rate = len(allopurinol_df.loc[allopurinol_df['is_HLAB5801_carrier'], :]) / len(allopurinol_df)\n",
    "drug_actionable_rate = drug_actionable_rate | {\"allopurinol\": allopurinol_actionable_rate}"
   ]
  },
  {
   "cell_type": "code",
   "execution_count": 15,
   "id": "f602e742-2263-4cbc-b8e4-4d9e690b26ff",
   "metadata": {
    "execution": {
     "iopub.execute_input": "2025-05-15T08:11:17.329765Z",
     "iopub.status.busy": "2025-05-15T08:11:17.329379Z",
     "iopub.status.idle": "2025-05-15T08:11:17.342241Z",
     "shell.execute_reply": "2025-05-15T08:11:17.340354Z",
     "shell.execute_reply.started": "2025-05-15T08:11:17.329735Z"
    }
   },
   "outputs": [],
   "source": [
    "# Special drugs - ibuprofen\n",
    "actionable_phenotypes = [\"CYP2C9 Intermediate Metabolizer\", \"CYP2C9 Poor Metabolizer\"]\n",
    "ibuprofen_tmp1_df = all_records_df.loc[\n",
    "    all_records_df[f'CYP2C9_phenotype']==\"CYP2C9 Intermediate Metabolizer\", 'sre_participant_id'\n",
    "].tolist()"
   ]
  },
  {
   "cell_type": "code",
   "execution_count": 16,
   "id": "68edfb06-55c6-4efd-9799-68d21f33fdc0",
   "metadata": {
    "execution": {
     "iopub.execute_input": "2025-05-15T08:11:17.344241Z",
     "iopub.status.busy": "2025-05-15T08:11:17.343885Z",
     "iopub.status.idle": "2025-05-15T08:11:17.357104Z",
     "shell.execute_reply": "2025-05-15T08:11:17.354527Z",
     "shell.execute_reply.started": "2025-05-15T08:11:17.344213Z"
    }
   },
   "outputs": [],
   "source": [
    "cyp2c9_av_d:dict = {\n",
    "    \"*1\": 1,\n",
    "    \"*11\": 0.5,\n",
    "    \"*11+rs1057910\": np.nan,\n",
    "    \"*13\": 0,\n",
    "    \"*14\": 0.5,\n",
    "    \"*16\": 0.5,\n",
    "    \"*19\": np.nan,\n",
    "    \"*2\": 0.5,\n",
    "    \"*27\": np.nan,\n",
    "    \"*29\": 0.5,\n",
    "    \"*3\": 0,\n",
    "    \"*31\": 0.5,\n",
    "    \"*33\": 0,\n",
    "    \"*34\": np.nan,\n",
    "    \"*36\": np.nan,\n",
    "    \"*37\": 0.5,\n",
    "    \"*39\": 0,\n",
    "    \"*4\": 0.5,\n",
    "    \"*41\": np.nan,\n",
    "    \"*42\": 0,\n",
    "    \"*43\": 0,\n",
    "    \"*44\": 0.5,\n",
    "    \"*45\": 0,\n",
    "    \"*46\": 0.5,\n",
    "    \"*48\": np.nan,\n",
    "    \"*5\": 0.5,\n",
    "    \"*50\": 0.5,\n",
    "    \"*51\": np.nan,\n",
    "    \"*52\": 0,\n",
    "    \"*55\": 0.5,\n",
    "    \"*56\": np.nan,\n",
    "    \"*59\": np.nan,\n",
    "    \"*60\": np.nan,\n",
    "    \"*63\": np.nan,\n",
    "    \"*73\": np.nan,\n",
    "    \"*77\": np.nan,\n",
    "    \"*78\": np.nan,\n",
    "    \"*79\": np.nan,\n",
    "    \"*8\": 0.5,\n",
    "    \"*82\": np.nan\n",
    "}"
   ]
  },
  {
   "cell_type": "code",
   "execution_count": 17,
   "id": "59d4e2eb-2bfa-4a15-8411-b8216d81757c",
   "metadata": {
    "execution": {
     "iopub.execute_input": "2025-05-15T08:11:17.359579Z",
     "iopub.status.busy": "2025-05-15T08:11:17.359117Z",
     "iopub.status.idle": "2025-05-15T08:11:17.639957Z",
     "shell.execute_reply": "2025-05-15T08:11:17.637775Z",
     "shell.execute_reply.started": "2025-05-15T08:11:17.359542Z"
    }
   },
   "outputs": [],
   "source": [
    "ibuprogen_records_df = all_records_df.loc[\n",
    "    :, \n",
    "    ['sre_participant_id'] + [x for x in all_records_df.columns.tolist() if 'CYP2C9' in x]\n",
    "].copy()\n",
    "\n",
    "ibuprogen_records_df['CYP2C9_AS'] = ibuprogen_records_df.apply(\n",
    "    lambda r: cyp2c9_av_d[r['CYP2C9_haplotype_1']] + cyp2c9_av_d[r['CYP2C9_haplotype_2']] if all([not pd.isna(x) for x in [r.CYP2C9_haplotype_1, r.CYP2C9_haplotype_2]]) else np.nan, \n",
    "    axis=1\n",
    ")"
   ]
  },
  {
   "cell_type": "code",
   "execution_count": 18,
   "id": "1c6a59aa-bc53-48a7-97a2-abe37af6494b",
   "metadata": {
    "execution": {
     "iopub.execute_input": "2025-05-15T08:11:17.640957Z",
     "iopub.status.busy": "2025-05-15T08:11:17.640757Z",
     "iopub.status.idle": "2025-05-15T08:11:17.653066Z",
     "shell.execute_reply": "2025-05-15T08:11:17.651011Z",
     "shell.execute_reply.started": "2025-05-15T08:11:17.640941Z"
    }
   },
   "outputs": [],
   "source": [
    "tmp_1 = len(ibuprogen_records_df.loc[(ibuprogen_records_df['CYP2C9_phenotype']=='CYP2C9 Intermediate Metabolizer') & (ibuprogen_records_df['CYP2C9_AS']==1), :])\n",
    "tmp_2 = len(ibuprogen_records_df.loc[ibuprogen_records_df['CYP2C9_phenotype']=='CYP2C9 Poor Metabolizer', :])\n",
    "ibuprofen_actionable_rate = (tmp_1 + tmp_2) / len(ibuprogen_records_df)"
   ]
  },
  {
   "cell_type": "code",
   "execution_count": 19,
   "id": "b29fdb3d-ac68-4be7-8420-6f95fc7b7eb0",
   "metadata": {
    "execution": {
     "iopub.execute_input": "2025-05-15T08:11:17.654031Z",
     "iopub.status.busy": "2025-05-15T08:11:17.653832Z",
     "iopub.status.idle": "2025-05-15T08:11:17.661456Z",
     "shell.execute_reply": "2025-05-15T08:11:17.659481Z",
     "shell.execute_reply.started": "2025-05-15T08:11:17.654015Z"
    }
   },
   "outputs": [],
   "source": [
    "drug_actionable_rate = drug_actionable_rate | {\"ibuprofen\": ibuprofen_actionable_rate}"
   ]
  },
  {
   "cell_type": "code",
   "execution_count": 20,
   "id": "a7c5521b-a769-4eaa-8f30-0601f60e7ca3",
   "metadata": {
    "execution": {
     "iopub.execute_input": "2025-05-15T08:11:17.662497Z",
     "iopub.status.busy": "2025-05-15T08:11:17.662278Z",
     "iopub.status.idle": "2025-05-15T08:11:17.672668Z",
     "shell.execute_reply": "2025-05-15T08:11:17.670409Z",
     "shell.execute_reply.started": "2025-05-15T08:11:17.662480Z"
    }
   },
   "outputs": [],
   "source": [
    "drug_actionable_rate_df = pd.DataFrame(drug_actionable_rate, index=['actionable_rate']).T"
   ]
  },
  {
   "cell_type": "code",
   "execution_count": 21,
   "id": "840f72f9-06a5-49bc-aa41-f8e2a8fd4c01",
   "metadata": {
    "execution": {
     "iopub.execute_input": "2025-05-15T08:11:17.677633Z",
     "iopub.status.busy": "2025-05-15T08:11:17.677221Z",
     "iopub.status.idle": "2025-05-15T08:11:17.691260Z",
     "shell.execute_reply": "2025-05-15T08:11:17.688956Z",
     "shell.execute_reply.started": "2025-05-15T08:11:17.677601Z"
    }
   },
   "outputs": [],
   "source": [
    "prescription_cnt_df = prescription_cnt_df.merge(drug_actionable_rate_df, left_on='Drug', right_index=True)"
   ]
  },
  {
   "cell_type": "code",
   "execution_count": 22,
   "id": "836361e3-91e6-48fb-a0ca-8debec18094e",
   "metadata": {
    "execution": {
     "iopub.execute_input": "2025-05-15T08:11:17.694219Z",
     "iopub.status.busy": "2025-05-15T08:11:17.693810Z",
     "iopub.status.idle": "2025-05-15T08:11:17.705901Z",
     "shell.execute_reply": "2025-05-15T08:11:17.703659Z",
     "shell.execute_reply.started": "2025-05-15T08:11:17.694187Z"
    }
   },
   "outputs": [],
   "source": [
    "prescription_cnt_df['actionable_prescription_count'] = prescription_cnt_df.apply(lambda r: r['Prescription_count']*r['actionable_rate'], axis=1)"
   ]
  },
  {
   "cell_type": "markdown",
   "id": "d0cf6166",
   "metadata": {},
   "source": [
    "## Export to CSV"
   ]
  },
  {
   "cell_type": "code",
   "execution_count": 25,
   "id": "8ef82e1d-741b-4ef4-8c87-cd446fae4c25",
   "metadata": {
    "execution": {
     "iopub.execute_input": "2025-05-15T08:11:18.207024Z",
     "iopub.status.busy": "2025-05-15T08:11:18.206688Z",
     "iopub.status.idle": "2025-05-15T08:11:18.217753Z",
     "shell.execute_reply": "2025-05-15T08:11:18.215646Z",
     "shell.execute_reply.started": "2025-05-15T08:11:18.206986Z"
    }
   },
   "outputs": [],
   "source": [
    "plot_df = prescription_cnt_df.rename(columns={\n",
    "    \"Prescription_count\": \"total_prescription_count_2024\", \n",
    "    \"actionable_prescription_count\": \"predicted_actionable_prescription_count_2024\"\n",
    "}).reset_index(drop=True)"
   ]
  },
  {
   "cell_type": "code",
   "execution_count": 33,
   "id": "4c86223f-8e21-414d-ae5d-312fdc293180",
   "metadata": {
    "execution": {
     "iopub.execute_input": "2025-05-15T08:11:18.762735Z",
     "iopub.status.busy": "2025-05-15T08:11:18.762313Z",
     "iopub.status.idle": "2025-05-15T08:11:18.778369Z",
     "shell.execute_reply": "2025-05-15T08:11:18.775903Z",
     "shell.execute_reply.started": "2025-05-15T08:11:18.762704Z"
    }
   },
   "outputs": [],
   "source": [
    "plot_df.loc[:, ['Drug', 'total_prescription_count_2024', 'predicted_actionable_prescription_count_2024']].to_csv(prescription_count_comp_csv, index=False)"
   ]
  },
  {
   "cell_type": "code",
   "execution_count": null,
   "id": "9f115020-beac-4894-be09-ad5bccb4e698",
   "metadata": {},
   "outputs": [],
   "source": []
  }
 ],
 "metadata": {
  "kernelspec": {
   "display_name": "Python 3 (ipykernel)",
   "language": "python",
   "name": "python3"
  },
  "language_info": {
   "codemirror_mode": {
    "name": "ipython",
    "version": 3
   },
   "file_extension": ".py",
   "mimetype": "text/x-python",
   "name": "python",
   "nbconvert_exporter": "python",
   "pygments_lexer": "ipython3",
   "version": "3.10.12"
  }
 },
 "nbformat": 4,
 "nbformat_minor": 5
}
