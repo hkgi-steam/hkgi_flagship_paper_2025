{
 "cells": [
  {
   "cell_type": "markdown",
   "id": "9a0ddd3d-921c-4e65-8011-6499c1a3e325",
   "metadata": {},
   "source": [
    "# Summarize output from aldy"
   ]
  },
  {
   "cell_type": "code",
   "execution_count": 1,
   "id": "4302ef6f-68b2-4389-bd1b-dfb7d061862f",
   "metadata": {
    "execution": {
     "iopub.execute_input": "2025-05-13T08:25:03.941542Z",
     "iopub.status.busy": "2025-05-13T08:25:03.940870Z",
     "iopub.status.idle": "2025-05-13T08:25:04.635313Z",
     "shell.execute_reply": "2025-05-13T08:25:04.632972Z",
     "shell.execute_reply.started": "2025-05-13T08:25:03.941464Z"
    }
   },
   "outputs": [],
   "source": [
    "from pathlib import Path\n",
    "import pandas as pd\n",
    "import numpy as np\n",
    "import re\n",
    "from tqdm import tqdm\n",
    "import multiprocessing\n",
    "from collections import defaultdict\n",
    "from yaml import load\n",
    "from yaml import CLoader as Loader\n",
    "import matplotlib.pyplot as plt"
   ]
  },
  {
   "cell_type": "code",
   "execution_count": 2,
   "id": "f3869201-d96d-4344-9313-8f5e5d2ec683",
   "metadata": {
    "execution": {
     "iopub.execute_input": "2025-05-13T08:25:04.636611Z",
     "iopub.status.busy": "2025-05-13T08:25:04.636182Z",
     "iopub.status.idle": "2025-05-13T08:25:04.648293Z",
     "shell.execute_reply": "2025-05-13T08:25:04.645833Z",
     "shell.execute_reply.started": "2025-05-13T08:25:04.636591Z"
    }
   },
   "outputs": [],
   "source": [
    "# Input\n",
    "resultDir = Path(\"/home/_shared/jscliu/project/2025/Flagship/analysis/secondary/PGx/01a.genotype.aldy/results\")\n",
    "pgx_genes = [\n",
    "    \"CFTR\", \"CYP2A6\", \"CYP2B6\", \"CYP2C19\", \n",
    "    \"CYP2C9\", \"CYP3A4\", \"CYP3A5\", \"CYP4F2\", \n",
    "    \"DPYD\", \"G6PD\", \"IFNL3\", \"IFNL4\", \n",
    "    \"NAT2\", \"NUDT15\", \"SLCO1B1\", \"TPMT\", \n",
    "    \"UGT1A1\", \"VKORC1\"\n",
    "]\n",
    "\n",
    "# Reference\n",
    "all_id_ref = \"/home/_shared/jscliu/project/2025/Flagship/reference/sample_info_annot.2024-11-12.csv\"\n",
    "referenceDir = Path(\"/home/_shared/jscliu/project/2025/Flagship/reference/PharmGKB_ref\")\n",
    "allele_map = Path(\"/home/_shared/jscliu/project/2025/Flagship/analysis/secondary/PGx/01a.genotype.aldy/script/aldy_allele_map.yml\")\n",
    "\n",
    "# Output\n",
    "sumDir = Path(\"/home/_shared/jscliu/project/2025/Flagship/analysis/secondary/PGx/01a.genotype.aldy/summary\")\n",
    "all_per_gene_prefix = sumDir/\"all_perGenes\"\n",
    "per_gene_prefix = sumDir/\"perGenes\"\n",
    "af_prefix = sumDir/\"allele_frequency\"\n",
    "pheno_prefix = sumDir/\"phenotype\"\n",
    "\n",
    "all_aldy_out_tsv = sumDir/\"allParticipants_aldy_out.tsv\"\n",
    "founder_aldy_out_tsv = sumDir/\"founder_aldy_out.tsv\"\n",
    "\n",
    "# Make output directories if not existed yet\n",
    "sumDir.mkdir(exist_ok=True, parents=True)"
   ]
  },
  {
   "cell_type": "code",
   "execution_count": 5,
   "id": "8f7b95cc-c560-497e-b17a-7837c63252c0",
   "metadata": {
    "execution": {
     "iopub.execute_input": "2025-05-13T08:25:04.672893Z",
     "iopub.status.busy": "2025-05-13T08:25:04.672503Z",
     "iopub.status.idle": "2025-05-13T08:25:04.683636Z",
     "shell.execute_reply": "2025-05-13T08:25:04.680998Z",
     "shell.execute_reply.started": "2025-05-13T08:25:04.672858Z"
    }
   },
   "outputs": [],
   "source": [
    "aldy_colnames = [\n",
    "    \"sample_id\", \"gene\", \"solutionID\", \"major\", \"minor\", \n",
    "    \"copy\", \"allele\", \"location\", \"mutation\", \"coverage\", \n",
    "    \"effect\", \"dbSNP\", \"Code\", \"Status\"\n",
    "]"
   ]
  },
  {
   "cell_type": "markdown",
   "id": "acd7fc2f",
   "metadata": {},
   "source": [
    "# Read sample info table as df"
   ]
  },
  {
   "cell_type": "code",
   "execution_count": null,
   "id": "5fbc3654",
   "metadata": {},
   "outputs": [],
   "source": [
    "# Read id reference and subset for useful columns\n",
    "def read_id_ref(id_ref, read_sex=False):\n",
    "    keep_col = [\"sre_participant_id\", \"founder_status\", \"is_proband\", \"healthStatus\", \"treated_ethnicity\"]\n",
    "    if read_sex:\n",
    "        keep_col += ['inferred_sex']\n",
    "    id_ref_df = pd.read_csv(id_ref).loc[:, keep_col]\n",
    "    id_ref_df = id_ref_df.loc[~id_ref_df.duplicated(subset=['sre_participant_id']), :].set_index('sre_participant_id')\n",
    "    return id_ref_df.loc[id_ref_df['treated_ethnicity']=='Chinese']\n",
    "\n",
    "id_ref_df = read_id_ref(all_id_ref, read_sex=True)"
   ]
  },
  {
   "cell_type": "markdown",
   "id": "c72ea917-af4f-448b-a882-89b154e54bcd",
   "metadata": {},
   "source": [
    "# Process each aldy output and concatenate"
   ]
  },
  {
   "cell_type": "code",
   "execution_count": 6,
   "id": "f3e9dc62-a68f-43b5-88e7-3bf8fbd736e9",
   "metadata": {
    "execution": {
     "iopub.execute_input": "2025-05-13T08:25:04.689818Z",
     "iopub.status.busy": "2025-05-13T08:25:04.689308Z",
     "iopub.status.idle": "2025-05-13T08:25:04.752454Z",
     "shell.execute_reply": "2025-05-13T08:25:04.749984Z",
     "shell.execute_reply.started": "2025-05-13T08:25:04.689760Z"
    }
   },
   "outputs": [],
   "source": [
    "# Get list of Aldy's output files for comparison and processing\n",
    "aldy_out_ls = [ list(resultDir.glob(f\"{id}*.aldy\"))[0] for id in tqdm(id_ref_df.index) ]\n"
   ]
  },
  {
   "cell_type": "code",
   "execution_count": 7,
   "id": "8e9d0d4e-8475-45a1-a492-175e637da35f",
   "metadata": {
    "execution": {
     "iopub.execute_input": "2025-05-13T08:25:04.754287Z",
     "iopub.status.busy": "2025-05-13T08:25:04.754023Z",
     "iopub.status.idle": "2025-05-13T08:25:04.765238Z",
     "shell.execute_reply": "2025-05-13T08:25:04.763023Z",
     "shell.execute_reply.started": "2025-05-13T08:25:04.754266Z"
    }
   },
   "outputs": [],
   "source": [
    "def process_aldy_out(aldy_out, pgx_genes):\n",
    "    # Try reading aldy_out as pd.DataFrame\n",
    "    try:\n",
    "        aldy_df = pd.read_table(aldy_out, comment=\"#\", names=aldy_colnames).drop(columns=[\"Code\", \"Status\"])\n",
    "    except Exception as e: \n",
    "        print(f\"{e} - {aldy_out}\")\n",
    "        return\n",
    "\n",
    "    # Filter for pgx genes with unique solutions\n",
    "    ambiguous_genes:list = aldy_df.loc[aldy_df['solutionID']==2, 'gene'].unique().tolist()\n",
    "    keep_genes:list = list(set(pgx_genes).difference(set(ambiguous_genes)))\n",
    "    aldy_df = aldy_df.loc[aldy_df['gene'].isin(keep_genes), :].copy()\n",
    "    \n",
    "    # Drop duplicates and get df ready then concat\n",
    "    concat_colnames:list = ['gene', 'sample_id', 'solutionID', 'major', 'minor']\n",
    "    aldy_df = aldy_df.drop_duplicates(subset=concat_colnames)[concat_colnames]\n",
    "    return aldy_df"
   ]
  },
  {
   "cell_type": "code",
   "execution_count": 8,
   "id": "900d3f59-3667-4f9f-9204-ca1304142b72",
   "metadata": {
    "execution": {
     "iopub.execute_input": "2025-05-13T08:25:04.768180Z",
     "iopub.status.busy": "2025-05-13T08:25:04.767884Z",
     "iopub.status.idle": "2025-05-13T08:25:15.309989Z",
     "shell.execute_reply": "2025-05-13T08:25:15.309002Z",
     "shell.execute_reply.started": "2025-05-13T08:25:04.768157Z"
    }
   },
   "outputs": [],
   "source": [
    "pool = multiprocessing.Pool(processes=10)    # Create Pool of 10 parallel processes max\n",
    "results = pool.starmap(process_aldy_out, [(aldy_out, pgx_genes) for aldy_out in aldy_out_ls])\n",
    "pool.close()    # Wait until all processes completed\n",
    "pool.join()    # Join all output from processes\n",
    "\n",
    "concat_aldy_out:pd.DataFrame = pd.concat(results).reset_index(drop=True)    # Remove index from the master df"
   ]
  },
  {
   "cell_type": "code",
   "execution_count": 9,
   "id": "a723a9fb-84e6-4bc6-99c7-2eab67b30f9d",
   "metadata": {
    "execution": {
     "iopub.execute_input": "2025-05-13T08:25:15.310972Z",
     "iopub.status.busy": "2025-05-13T08:25:15.310829Z",
     "iopub.status.idle": "2025-05-13T08:25:34.468889Z",
     "shell.execute_reply": "2025-05-13T08:25:34.467761Z",
     "shell.execute_reply.started": "2025-05-13T08:25:15.310950Z"
    }
   },
   "outputs": [],
   "source": [
    "concat_aldy_out[['haplotype_1', 'haplotype_2']] = concat_aldy_out['major'].apply(lambda x: pd.Series(x.split('/')))"
   ]
  },
  {
   "cell_type": "markdown",
   "id": "4e11a65c-33fe-42dd-b011-11dd58192e7f",
   "metadata": {},
   "source": [
    "# Append sample info to the dataframes"
   ]
  },
  {
   "cell_type": "code",
   "execution_count": 11,
   "id": "e4a2d32e-ba1b-4689-9496-dc9646fdff9e",
   "metadata": {
    "execution": {
     "iopub.execute_input": "2025-05-13T08:25:34.527278Z",
     "iopub.status.busy": "2025-05-13T08:25:34.527154Z",
     "iopub.status.idle": "2025-05-13T08:25:34.724462Z",
     "shell.execute_reply": "2025-05-13T08:25:34.723725Z",
     "shell.execute_reply.started": "2025-05-13T08:25:34.527266Z"
    }
   },
   "outputs": [],
   "source": [
    "concat_aldy_out['sre_participant_id'] = concat_aldy_out['sample_id'].apply(lambda x: re.match(r\"SRE[0-9]+\", x)[0])\n",
    "concat_aldy_out.set_index('sre_participant_id', inplace=True)"
   ]
  },
  {
   "cell_type": "markdown",
   "id": "2f1cf660-44bd-4c62-876a-bd7df37adc31",
   "metadata": {},
   "source": [
    "# Matched concat_aldy_out to id_ref_df to get a subset of founder's genotypes"
   ]
  },
  {
   "cell_type": "markdown",
   "id": "c04fb9b0-cb6b-44ff-8918-2593a8b7c362",
   "metadata": {},
   "source": [
    "## All participants"
   ]
  },
  {
   "cell_type": "code",
   "execution_count": 12,
   "id": "2a8d0516-4b80-4433-8d2c-ed1e1f44e1db",
   "metadata": {
    "execution": {
     "iopub.execute_input": "2025-05-13T08:25:34.725227Z",
     "iopub.status.busy": "2025-05-13T08:25:34.725112Z",
     "iopub.status.idle": "2025-05-13T08:25:35.164848Z",
     "shell.execute_reply": "2025-05-13T08:25:35.163960Z",
     "shell.execute_reply.started": "2025-05-13T08:25:34.725216Z"
    }
   },
   "outputs": [],
   "source": [
    "all_aldy_out = id_ref_df.merge(concat_aldy_out, left_index=True, right_index=True, how='left').dropna(subset=['gene']).astype({'solutionID': int})"
   ]
  },
  {
   "cell_type": "code",
   "execution_count": 13,
   "id": "858f7edc-21c9-4f00-9e39-711d256185db",
   "metadata": {
    "execution": {
     "iopub.execute_input": "2025-05-13T08:25:35.165812Z",
     "iopub.status.busy": "2025-05-13T08:25:35.165674Z",
     "iopub.status.idle": "2025-05-13T08:25:35.873077Z",
     "shell.execute_reply": "2025-05-13T08:25:35.872204Z",
     "shell.execute_reply.started": "2025-05-13T08:25:35.165800Z"
    }
   },
   "outputs": [],
   "source": [
    "all_aldy_out.to_csv(all_aldy_out_tsv, index=True, index_label='sre_participant_id', sep='\\t')"
   ]
  },
  {
   "cell_type": "markdown",
   "id": "15b89ae2-7e74-4f99-87a4-9a7c9c7a1f88",
   "metadata": {},
   "source": [
    "## Unrelated individuals only"
   ]
  },
  {
   "cell_type": "code",
   "execution_count": 14,
   "id": "6cea1ba1-2889-4474-980c-56a105edeb88",
   "metadata": {
    "execution": {
     "iopub.execute_input": "2025-05-13T08:25:35.874032Z",
     "iopub.status.busy": "2025-05-13T08:25:35.873907Z",
     "iopub.status.idle": "2025-05-13T08:25:36.061184Z",
     "shell.execute_reply": "2025-05-13T08:25:36.060274Z",
     "shell.execute_reply.started": "2025-05-13T08:25:35.874020Z"
    }
   },
   "outputs": [],
   "source": [
    "founder_aldy_out = all_aldy_out.loc[all_aldy_out['founder_status']==\"Founder\", :].copy()"
   ]
  },
  {
   "cell_type": "code",
   "execution_count": 15,
   "id": "61e2aa46-4653-45b2-a0e5-626f7b3fe248",
   "metadata": {
    "execution": {
     "iopub.execute_input": "2025-05-13T08:25:36.062132Z",
     "iopub.status.busy": "2025-05-13T08:25:36.062006Z",
     "iopub.status.idle": "2025-05-13T08:25:36.598267Z",
     "shell.execute_reply": "2025-05-13T08:25:36.597288Z",
     "shell.execute_reply.started": "2025-05-13T08:25:36.062121Z"
    }
   },
   "outputs": [],
   "source": [
    "founder_aldy_out.to_csv(founder_aldy_out_tsv, index=True, index_label='sre_participant_id', sep='\\t')"
   ]
  },
  {
   "cell_type": "markdown",
   "id": "8627516a-03e0-4e34-b56a-1bd48656cf8a",
   "metadata": {},
   "source": [
    "# Annotate the allele function with PharmGKB's allele definitions"
   ]
  },
  {
   "cell_type": "code",
   "execution_count": 16,
   "id": "c018ff3b-ca42-40f5-a386-af3b630902e7",
   "metadata": {
    "execution": {
     "iopub.execute_input": "2025-05-13T08:25:36.599241Z",
     "iopub.status.busy": "2025-05-13T08:25:36.599109Z",
     "iopub.status.idle": "2025-05-13T08:25:37.147248Z",
     "shell.execute_reply": "2025-05-13T08:25:37.146367Z",
     "shell.execute_reply.started": "2025-05-13T08:25:36.599229Z"
    }
   },
   "outputs": [],
   "source": [
    "for gene in pgx_genes:\n",
    "    allele_func:Path = referenceDir/f\"{gene}/{gene}_allele_functionality_reference.csv\"\n",
    "    if not allele_func.is_file():\n",
    "        print(f\"{gene}: PharmGKB definition not exist\\n\")\n",
    "        continue\n",
    "    allele_func_df:pd.DataFrame = pd.read_csv(allele_func, skiprows=1)\n",
    "    pharmgkb_alleles:list = allele_func_df['Allele/cDNA/rsID'].tolist()\n",
    "    hap_1:list = founder_aldy_out.loc[founder_aldy_out['gene']==gene, 'haplotype_1'].tolist()\n",
    "    hap_2:list = founder_aldy_out.loc[founder_aldy_out['gene']==gene, 'haplotype_2'].tolist()\n",
    "    defined:set= set(hap_1+hap_2) & set(pharmgkb_alleles)\n",
    "    undefined:set = set(hap_1+hap_2) - set(pharmgkb_alleles)\n",
    "    print(f\"{gene}_defined: {defined}\")\n",
    "    print(f\"{gene}_undefined: {undefined}\\n\")"
   ]
  },
  {
   "cell_type": "code",
   "execution_count": 17,
   "id": "074b6ec6-cac0-4e90-b4c6-382bd7c5b9dc",
   "metadata": {
    "execution": {
     "iopub.execute_input": "2025-05-13T08:25:37.148124Z",
     "iopub.status.busy": "2025-05-13T08:25:37.148000Z",
     "iopub.status.idle": "2025-05-13T08:25:37.151671Z",
     "shell.execute_reply": "2025-05-13T08:25:37.151034Z",
     "shell.execute_reply.started": "2025-05-13T08:25:37.148113Z"
    }
   },
   "outputs": [],
   "source": [
    "genes_with_pharmgkb_def = [\"CYP2B6\", \"CYP2C19\", \"CYP2C9\", \"CYP3A5\", \"DPYD\", \"G6PD\", \"NUDT15\", \"SLCO1B1\", \"TPMT\", \"UGT1A1\"]\n",
    "genes_need_custom_def = [\"CFTR\", \"CYP2A6\", \"CYP3A4\", \"CYP4F2\", \"IFNL3\", \"IFNL4\", \"NAT2\", \"VKORC1\"]"
   ]
  },
  {
   "cell_type": "markdown",
   "id": "0464b3d3-5736-4938-bc4a-bf956b65506b",
   "metadata": {},
   "source": [
    "# Separate concat_aldy_out by gene"
   ]
  },
  {
   "cell_type": "code",
   "execution_count": 20,
   "id": "ddcec884-f3b8-4d51-a489-6902ac8a4cd8",
   "metadata": {
    "execution": {
     "iopub.execute_input": "2025-05-13T08:25:37.160128Z",
     "iopub.status.busy": "2025-05-13T08:25:37.160035Z",
     "iopub.status.idle": "2025-05-13T08:25:37.164989Z",
     "shell.execute_reply": "2025-05-13T08:25:37.164275Z",
     "shell.execute_reply.started": "2025-05-13T08:25:37.160118Z"
    }
   },
   "outputs": [],
   "source": [
    "with open(allele_map) as handle:\n",
    "    allele_map_d = load(handle, Loader=Loader)"
   ]
  },
  {
   "cell_type": "code",
   "execution_count": 22,
   "id": "8f5998d1-0a50-48f1-af03-6da44c1a4672",
   "metadata": {
    "execution": {
     "iopub.execute_input": "2025-05-13T08:25:37.174190Z",
     "iopub.status.busy": "2025-05-13T08:25:37.174063Z",
     "iopub.status.idle": "2025-05-13T08:25:37.178228Z",
     "shell.execute_reply": "2025-05-13T08:25:37.177385Z",
     "shell.execute_reply.started": "2025-05-13T08:25:37.174177Z"
    }
   },
   "outputs": [],
   "source": [
    "def annotate_haplotype(gene, haplotype, allele_map_d):\n",
    "    # Error if gene is not defined\n",
    "    if gene not in allele_map_d.keys():\n",
    "        print(f\"{gene} not defined. Exiting\")\n",
    "        sys.exit(1)\n",
    "\n",
    "    # Return original haplotype if all alleles are mapped\n",
    "    if allele_map_d[gene] == \"all_mapped\":\n",
    "        return haplotype\n",
    "\n",
    "    # Return annotated allele if defined in allele_map_d, otherwise return haplotype\n",
    "    if haplotype in allele_map_d[gene].keys():\n",
    "        return allele_map_d[gene][haplotype]\n",
    "    else:\n",
    "        return haplotype"
   ]
  },
  {
   "cell_type": "markdown",
   "id": "dc508640-8945-497c-9b74-61cccb67742a",
   "metadata": {},
   "source": [
    "## All participants"
   ]
  },
  {
   "cell_type": "code",
   "execution_count": 23,
   "id": "f90fbbfb-85c8-43eb-9914-3b7cb3047a82",
   "metadata": {
    "execution": {
     "iopub.execute_input": "2025-05-13T08:25:37.178890Z",
     "iopub.status.busy": "2025-05-13T08:25:37.178756Z",
     "iopub.status.idle": "2025-05-13T08:25:37.402055Z",
     "shell.execute_reply": "2025-05-13T08:25:37.401154Z",
     "shell.execute_reply.started": "2025-05-13T08:25:37.178877Z"
    }
   },
   "outputs": [],
   "source": [
    "pharmgkb_all_aldy_out = all_aldy_out.loc[all_aldy_out['gene'].isin(genes_with_pharmgkb_def), :].copy()\n",
    "custom_all_aldy_out = all_aldy_out.loc[all_aldy_out['gene'].isin(genes_need_custom_def), :].copy()"
   ]
  },
  {
   "cell_type": "code",
   "execution_count": 24,
   "id": "ac2e0490-c4ab-4a49-b741-4d61d9b3fbfd",
   "metadata": {
    "execution": {
     "iopub.execute_input": "2025-05-13T08:25:37.402904Z",
     "iopub.status.busy": "2025-05-13T08:25:37.402781Z",
     "iopub.status.idle": "2025-05-13T08:25:42.229722Z",
     "shell.execute_reply": "2025-05-13T08:25:42.228925Z",
     "shell.execute_reply.started": "2025-05-13T08:25:37.402893Z"
    }
   },
   "outputs": [],
   "source": [
    "pharmgkb_all_aldy_out['haplotype_1'] = pharmgkb_all_aldy_out.apply(lambda r: annotate_haplotype(r.gene, r.haplotype_1, allele_map_d), axis=1)\n",
    "pharmgkb_all_aldy_out['haplotype_2'] = pharmgkb_all_aldy_out.apply(lambda r: annotate_haplotype(r.gene, r.haplotype_2, allele_map_d), axis=1)\n",
    "pharmgkb_all_aldy_out['genotype'] = pharmgkb_all_aldy_out.apply(lambda r: f\"{r.haplotype_1}/{r.haplotype_2}\", axis=1)\n",
    "pharmgkb_all_aldy_out.head()"
   ]
  },
  {
   "cell_type": "code",
   "execution_count": 26,
   "id": "549fc585-7df7-48ca-ac04-49d3f7ae4432",
   "metadata": {
    "execution": {
     "iopub.execute_input": "2025-05-13T08:25:42.246874Z",
     "iopub.status.busy": "2025-05-13T08:25:42.246764Z",
     "iopub.status.idle": "2025-05-13T08:25:42.820769Z",
     "shell.execute_reply": "2025-05-13T08:25:42.819805Z",
     "shell.execute_reply.started": "2025-05-13T08:25:42.246863Z"
    }
   },
   "outputs": [],
   "source": [
    "allParticipants_gene_df_d:dict = dict()\n",
    "for gene in pharmgkb_all_aldy_out['gene'].unique().tolist():\n",
    "    # Extract allele definitions\n",
    "    allele_func:Path = referenceDir/f\"{gene}/{gene}_allele_functionality_reference.csv\"\n",
    "    allele_func_df:pd.DataFrame = pd.read_csv(allele_func, skiprows=1, index_col=[0])\n",
    "    allele_func_d:dict = allele_func_df.to_dict()['Allele Clinical Functional Status (Required)']\n",
    "\n",
    "    # Extract diplotype definitions\n",
    "    diplotype:Path = referenceDir/f\"{gene}/{gene}_Diplotype_Phenotype_Table.csv\"\n",
    "    diplotype_df = pd.read_csv(diplotype, index_col=[0]).loc[:, [\"Coded Diplotype/Phenotype Summary\", \"EHR Priority Notation\"]]\n",
    "    diplotype_df.rename(columns={\"Coded Diplotype/Phenotype Summary\": \"phenotype\", \"EHR Priority Notation\": \"EHR_priority_notation\"}, inplace=True)\n",
    "\n",
    "    # Define function of haplotype_1 and haplotype_2\n",
    "    gene_df = pharmgkb_all_aldy_out.loc[pharmgkb_all_aldy_out['gene']==gene, :].copy()\n",
    "    for hap in ['haplotype_1', 'haplotype_2']:\n",
    "        gene_df[f'{hap}_func'] = gene_df[hap].apply(lambda x: allele_func_d[x] if x in allele_func_d.keys() else np.nan)\n",
    "\n",
    "    # Define phenotype based on genotype\n",
    "    gene_df = gene_df.merge(diplotype_df, left_on='genotype', right_index=True, how='left')\n",
    "\n",
    "    # Add gene_df to gene_df_d\n",
    "    allParticipants_gene_df_d[gene] = gene_df"
   ]
  },
  {
   "cell_type": "markdown",
   "id": "ec4ac8de-67a0-4643-8924-38256f90d72e",
   "metadata": {},
   "source": [
    "## Founder only"
   ]
  },
  {
   "cell_type": "code",
   "execution_count": 27,
   "id": "08289871-022d-4746-9418-da2cc236bc92",
   "metadata": {
    "execution": {
     "iopub.execute_input": "2025-05-13T08:25:42.821713Z",
     "iopub.status.busy": "2025-05-13T08:25:42.821585Z",
     "iopub.status.idle": "2025-05-13T08:25:42.925297Z",
     "shell.execute_reply": "2025-05-13T08:25:42.924423Z",
     "shell.execute_reply.started": "2025-05-13T08:25:42.821700Z"
    }
   },
   "outputs": [],
   "source": [
    "pharmgkb_founder_aldy_out = founder_aldy_out.loc[founder_aldy_out['gene'].isin(genes_with_pharmgkb_def), :].copy()\n",
    "custom_founder_aldy_out = founder_aldy_out.loc[founder_aldy_out['gene'].isin(genes_need_custom_def), :].copy()"
   ]
  },
  {
   "cell_type": "code",
   "execution_count": 28,
   "id": "380ede20-4463-4a45-9292-8e6cdc97e618",
   "metadata": {
    "execution": {
     "iopub.execute_input": "2025-05-13T08:25:42.926247Z",
     "iopub.status.busy": "2025-05-13T08:25:42.926120Z",
     "iopub.status.idle": "2025-05-13T08:25:46.747999Z",
     "shell.execute_reply": "2025-05-13T08:25:46.747075Z",
     "shell.execute_reply.started": "2025-05-13T08:25:42.926236Z"
    }
   },
   "outputs": [],
   "source": [
    "pharmgkb_founder_aldy_out['haplotype_1'] = pharmgkb_founder_aldy_out.apply(lambda r: annotate_haplotype(r.gene, r.haplotype_1, allele_map_d), axis=1)\n",
    "pharmgkb_founder_aldy_out['haplotype_2'] = pharmgkb_founder_aldy_out.apply(lambda r: annotate_haplotype(r.gene, r.haplotype_2, allele_map_d), axis=1)\n",
    "pharmgkb_founder_aldy_out['genotype'] = pharmgkb_founder_aldy_out.apply(lambda r: f\"{r.haplotype_1}/{r.haplotype_2}\", axis=1)\n",
    "pharmgkb_founder_aldy_out.head()"
   ]
  },
  {
   "cell_type": "code",
   "execution_count": 30,
   "id": "02d2efde-c3d6-4785-bdc8-7a5594ce94f2",
   "metadata": {
    "execution": {
     "iopub.execute_input": "2025-05-13T08:25:46.764520Z",
     "iopub.status.busy": "2025-05-13T08:25:46.764408Z",
     "iopub.status.idle": "2025-05-13T08:25:47.244651Z",
     "shell.execute_reply": "2025-05-13T08:25:47.243740Z",
     "shell.execute_reply.started": "2025-05-13T08:25:46.764509Z"
    }
   },
   "outputs": [],
   "source": [
    "gene_df_d:dict = dict()\n",
    "for gene in pharmgkb_founder_aldy_out['gene'].unique().tolist():\n",
    "    # Extract allele definitions\n",
    "    allele_func:Path = referenceDir/f\"{gene}/{gene}_allele_functionality_reference.csv\"\n",
    "    allele_func_df:pd.DataFrame = pd.read_csv(allele_func, skiprows=1, index_col=[0])\n",
    "    allele_func_d:dict = allele_func_df.to_dict()['Allele Clinical Functional Status (Required)']\n",
    "\n",
    "    # Extract diplotype definitions\n",
    "    diplotype:Path = referenceDir/f\"{gene}/{gene}_Diplotype_Phenotype_Table.csv\"\n",
    "    diplotype_df = pd.read_csv(diplotype, index_col=[0]).loc[:, [\"Coded Diplotype/Phenotype Summary\", \"EHR Priority Notation\"]]\n",
    "    diplotype_df.rename(columns={\"Coded Diplotype/Phenotype Summary\": \"phenotype\", \"EHR Priority Notation\": \"EHR_priority_notation\"}, inplace=True)\n",
    "\n",
    "    # Define function of haplotype_1 and haplotype_2\n",
    "    gene_df = pharmgkb_founder_aldy_out.loc[pharmgkb_founder_aldy_out['gene']==gene, :].copy()\n",
    "    for hap in ['haplotype_1', 'haplotype_2']:\n",
    "        gene_df[f'{hap}_func'] = gene_df[hap].apply(lambda x: allele_func_d[x] if x in allele_func_d.keys() else np.nan)\n",
    "\n",
    "    # Define phenotype based on genotype\n",
    "    gene_df = gene_df.merge(diplotype_df, left_on='genotype', right_index=True, how='left')\n",
    "\n",
    "    # Add gene_df to gene_df_d\n",
    "    gene_df_d[gene] = gene_df"
   ]
  },
  {
   "cell_type": "markdown",
   "id": "6d6555bf-1df3-4b7f-bba6-32273bffc858",
   "metadata": {
    "jp-MarkdownHeadingCollapsed": true
   },
   "source": [
    "# Count the number breakdowns of genotyped individual"
   ]
  },
  {
   "cell_type": "code",
   "execution_count": 31,
   "id": "5709a575-9125-4568-aa8c-26db54879b15",
   "metadata": {
    "execution": {
     "iopub.execute_input": "2025-05-13T08:25:47.245506Z",
     "iopub.status.busy": "2025-05-13T08:25:47.245385Z",
     "iopub.status.idle": "2025-05-13T08:25:47.380870Z",
     "shell.execute_reply": "2025-05-13T08:25:47.380019Z",
     "shell.execute_reply.started": "2025-05-13T08:25:47.245495Z"
    }
   },
   "outputs": [],
   "source": [
    "# Consolidate the numbers of genotypes called\n",
    "count_colnames = ['gene', 'all_individuals', 'aldy_called', 'aldy_called_unique_sol', 'aldy_called_unique_defined']\n",
    "count_ser_ls:list=  list()\n",
    "for gene, df in gene_df_d.items():\n",
    "    aldy_called:int = len(df['sample_id'].unique())\n",
    "    sample_w_sol2:list = df.loc[df['solutionID']==2, 'sample_id'].unique().tolist()\n",
    "    aldy_called_unique:int = len(df.loc[~df['sample_id'].isin(sample_w_sol2), 'sample_id'].unique())\n",
    "    aldy_called_unique_defined:int = len(df.loc[(~df['sample_id'].isin(sample_w_sol2)) & (~df['phenotype'].isna()), :])\n",
    "    count_ser_ls.append(pd.DataFrame([gene, len(id_ref_df.loc[id_ref_df['founder_status']=='Founder']), aldy_called, aldy_called_unique, aldy_called_unique_defined], index=count_colnames).T)"
   ]
  },
  {
   "cell_type": "code",
   "execution_count": 32,
   "id": "5e5095f5-84f7-4bfe-819d-bb19bc5dcbcf",
   "metadata": {
    "execution": {
     "iopub.execute_input": "2025-05-13T08:25:47.381709Z",
     "iopub.status.busy": "2025-05-13T08:25:47.381584Z",
     "iopub.status.idle": "2025-05-13T08:25:47.572652Z",
     "shell.execute_reply": "2025-05-13T08:25:47.571774Z",
     "shell.execute_reply.started": "2025-05-13T08:25:47.381698Z"
    }
   },
   "outputs": [],
   "source": [
    "# Append \"custom\" genes to count_df\n",
    "for gene in custom_founder_aldy_out['gene'].unique().tolist():\n",
    "    tmp_df = custom_founder_aldy_out.loc[custom_founder_aldy_out['gene']==gene, :].copy()\n",
    "    aldy_called:int = len(tmp_df['sample_id'].unique())\n",
    "    sample_w_sol2_custom:list = tmp_df.loc[tmp_df['solutionID']==2, 'sample_id'].unique().tolist()\n",
    "    aldy_called_unique:int = len(tmp_df.loc[~tmp_df['sample_id'].isin(sample_w_sol2_custom), 'sample_id'].unique())\n",
    "    count_ser_ls.append(pd.DataFrame([gene, len(id_ref_df.loc[id_ref_df['founder_status']=='Founder']), aldy_called, aldy_called_unique, np.nan], index=count_colnames).T)"
   ]
  },
  {
   "cell_type": "code",
   "execution_count": 33,
   "id": "ba7c2716-b67d-4470-bd0b-8458faf76e0d",
   "metadata": {
    "execution": {
     "iopub.execute_input": "2025-05-13T08:25:47.573487Z",
     "iopub.status.busy": "2025-05-13T08:25:47.573367Z",
     "iopub.status.idle": "2025-05-13T08:25:47.583224Z",
     "shell.execute_reply": "2025-05-13T08:25:47.582543Z",
     "shell.execute_reply.started": "2025-05-13T08:25:47.573475Z"
    }
   },
   "outputs": [],
   "source": [
    "count_df = pd.concat(count_ser_ls).set_index('gene')\n",
    "count_df['missing_rate'] = count_df.apply(lambda r: (r.aldy_called - r.aldy_called_unique_sol)/(r.aldy_called), axis=1)\n",
    "count_df"
   ]
  },
  {
   "cell_type": "markdown",
   "id": "502b0328-e7d3-4122-9007-b8d8a8fddffb",
   "metadata": {},
   "source": [
    "# Exclude samples with multiple solutions, then export individual gene_df to perGene CSV"
   ]
  },
  {
   "cell_type": "code",
   "execution_count": 37,
   "id": "07855f3b-e5a7-4227-86c4-b00ce4b89e48",
   "metadata": {
    "execution": {
     "iopub.execute_input": "2025-05-13T08:25:47.816426Z",
     "iopub.status.busy": "2025-05-13T08:25:47.816313Z",
     "iopub.status.idle": "2025-05-13T08:25:47.821666Z",
     "shell.execute_reply": "2025-05-13T08:25:47.820820Z",
     "shell.execute_reply.started": "2025-05-13T08:25:47.816415Z"
    }
   },
   "outputs": [],
   "source": [
    "def validate_G6PD_in_male(df):\n",
    "    \"\"\"Validate and reformat the X-linked G6PD genotypes in Male\"\"\"\n",
    "    female_df = df.loc[df['inferred_sex']=='Female', :].copy()\n",
    "    male_df = df.loc[df['inferred_sex']=='Male', :].copy()\n",
    "    # Remove genotypes of Male with unmatched haplotypes\n",
    "    male_df['same_haplotype'] = male_df.apply(lambda r: True if r.haplotype_1==r.haplotype_2 else False, axis=1)\n",
    "    male_df = male_df.loc[male_df.same_haplotype, :].drop(columns=['same_haplotype'])\n",
    "    # Drop redundant information\n",
    "    male_df['haplotype_2'] = np.nan\n",
    "    male_df['haplotype_2_func'] = np.nan\n",
    "    male_df['genotype'] = male_df['genotype'].apply(lambda x: x.split('/')[0])\n",
    "    # concat and return\n",
    "    return pd.concat([male_df, female_df])"
   ]
  },
  {
   "cell_type": "markdown",
   "id": "4677d600-3733-47a1-8a98-be5cb1a06295",
   "metadata": {},
   "source": [
    "## All participants"
   ]
  },
  {
   "cell_type": "code",
   "execution_count": 38,
   "id": "e0224baa-0de4-4857-a54a-69a04cfd61b8",
   "metadata": {
    "execution": {
     "iopub.execute_input": "2025-05-13T08:25:47.822250Z",
     "iopub.status.busy": "2025-05-13T08:25:47.822147Z",
     "iopub.status.idle": "2025-05-13T08:25:48.792992Z",
     "shell.execute_reply": "2025-05-13T08:25:48.792157Z",
     "shell.execute_reply.started": "2025-05-13T08:25:47.822239Z"
    }
   },
   "outputs": [],
   "source": [
    "all_gene_df_pairs = list(allParticipants_gene_df_d.items())\n",
    "for gene, df in all_gene_df_pairs:\n",
    "    # Drop samples with multiple solutions\n",
    "    sample_w_sol2:list = df.loc[df['solutionID']==2, 'sample_id'].unique().tolist()\n",
    "    unique_sol_df = df.loc[~df['sample_id'].isin(sample_w_sol2), :].copy()\n",
    "    if gene == \"G6PD\":\n",
    "        allParticipants_gene_df_d[gene] = validate_G6PD_in_male(unique_sol_df)\n",
    "    else:\n",
    "        allParticipants_gene_df_d[gene] = unique_sol_df.copy()\n",
    "    \n",
    "    # Export to perGene CSV\n",
    "    per_gene_csv = f\"{str(all_per_gene_prefix)}.{gene}.csv\"\n",
    "    allParticipants_gene_df_d[gene].to_csv(per_gene_csv, index=True, index_label=\"sre_patient_id \")"
   ]
  },
  {
   "cell_type": "markdown",
   "id": "689f93f2-7e01-4539-b211-678c9cb3455a",
   "metadata": {},
   "source": [
    "## Founder only"
   ]
  },
  {
   "cell_type": "code",
   "execution_count": 39,
   "id": "6ec94352-f8c2-4814-b4cd-a6d827830669",
   "metadata": {
    "execution": {
     "iopub.execute_input": "2025-05-13T08:25:48.793897Z",
     "iopub.status.busy": "2025-05-13T08:25:48.793771Z",
     "iopub.status.idle": "2025-05-13T08:25:49.519846Z",
     "shell.execute_reply": "2025-05-13T08:25:49.518996Z",
     "shell.execute_reply.started": "2025-05-13T08:25:48.793886Z"
    }
   },
   "outputs": [],
   "source": [
    "gene_df_pairs = list(gene_df_d.items())\n",
    "for gene, df in gene_df_pairs:\n",
    "    # Drop samples with multiple solutions\n",
    "    sample_w_sol2:list = df.loc[df['solutionID']==2, 'sample_id'].unique().tolist()\n",
    "    unique_sol_df = df.loc[~df['sample_id'].isin(sample_w_sol2), :].copy()\n",
    "    if gene == \"G6PD\":\n",
    "        gene_df_d[gene] = validate_G6PD_in_male(unique_sol_df)\n",
    "    else:\n",
    "        gene_df_d[gene] = unique_sol_df.copy()\n",
    "    \n",
    "    # Export to perGene CSV\n",
    "    per_gene_csv = f\"{str(per_gene_prefix)}.{gene}.csv\"\n",
    "    gene_df_d[gene].to_csv(per_gene_csv, index=True, index_label=\"sre_patient_id \")"
   ]
  },
  {
   "cell_type": "markdown",
   "id": "7854a91b-7f7e-4610-8c86-3a050fc603e2",
   "metadata": {},
   "source": [
    "# Calculate allele frequencies\n",
    "Criteria: Both haplotype 1 & haploptype 2 were defined by PharmGKB (CPIC)"
   ]
  },
  {
   "cell_type": "code",
   "execution_count": 40,
   "id": "8996f70d-0c46-4e94-960c-01f0ae34210e",
   "metadata": {
    "execution": {
     "iopub.execute_input": "2025-05-13T08:25:49.520624Z",
     "iopub.status.busy": "2025-05-13T08:25:49.520501Z",
     "iopub.status.idle": "2025-05-13T08:25:49.525392Z",
     "shell.execute_reply": "2025-05-13T08:25:49.524722Z",
     "shell.execute_reply.started": "2025-05-13T08:25:49.520613Z"
    }
   },
   "outputs": [],
   "source": [
    "def count_zygosity(called_df):\n",
    "    \"\"\"Intake called_df, count the number of homozygous, heterozygous and hemizygous carriers into a dict\"\"\"\n",
    "    homo_dict=defaultdict(int)\n",
    "    hetero_dict=defaultdict(int)\n",
    "    hemi_dict=defaultdict(int)\n",
    "    for _, row in called_df.iterrows():\n",
    "        if row.haplotype_1 == row.haplotype_2:\n",
    "            # Homozygous\n",
    "            homo_dict[row.haplotype_1] += 1\n",
    "        elif row.haplotype_2 != row.haplotype_2:\n",
    "            # Hemizygous\n",
    "            hemi_dict[row.haplotype_1] += 1\n",
    "        else:\n",
    "            # Heterozygous\n",
    "            hetero_dict[row.haplotype_1] += 1\n",
    "            hetero_dict[row.haplotype_2] += 1\n",
    "    return homo_dict, hetero_dict, hemi_dict"
   ]
  },
  {
   "cell_type": "code",
   "execution_count": 41,
   "id": "d44b6478-6996-434a-873f-4957a2764a0f",
   "metadata": {
    "execution": {
     "iopub.execute_input": "2025-05-13T08:25:49.525909Z",
     "iopub.status.busy": "2025-05-13T08:25:49.525803Z",
     "iopub.status.idle": "2025-05-13T08:25:55.004654Z",
     "shell.execute_reply": "2025-05-13T08:25:55.003839Z",
     "shell.execute_reply.started": "2025-05-13T08:25:49.525899Z"
    }
   },
   "outputs": [],
   "source": [
    "for gene, df in gene_df_d.items():\n",
    "    # Initialize af_df\n",
    "    af_df = pd.concat([\n",
    "        df.loc[:, ['haplotype_1', 'haplotype_1_func']].rename(columns={'haplotype_1': 'variant', 'haplotype_1_func': 'allele_function'}), \n",
    "        df.loc[:, ['haplotype_2', 'haplotype_2_func']].rename(columns={'haplotype_2': 'variant', 'haplotype_2_func': 'allele_function'})\n",
    "    ]).groupby('variant').agg(list)\n",
    "    \n",
    "    # Get general information from af_df\n",
    "    af_df['allele_count'] = af_df['allele_function'].apply(len)\n",
    "    af_df['gene'] = gene\n",
    "    af_df['allele_function'] = af_df['allele_function'].apply(lambda x: x[0])\n",
    "    af_df.dropna(subset=['allele_function'], inplace=True)\n",
    "    af_df.sort_values(by=['allele_function', 'allele_count'], ascending=False, inplace=True)\n",
    "    af_df['variant'] = af_df.index\n",
    "    af_df['allele_number'] = af_df['allele_count'].sum()\n",
    "    af_df['allele_frequency'] = af_df.apply(lambda r: r.allele_count / r.allele_number, axis=1)\n",
    "    \n",
    "    # Count zygosity and merge it to df\n",
    "    homo_d, hetero_d, hemi_d = count_zygosity(df)\n",
    "    homo_df = pd.DataFrame(homo_d, index=[\"no_homozygous_carriers\"]).T\n",
    "    hetero_df = pd.DataFrame(hetero_d, index=[\"no_heterozygous_carriers\"]).T\n",
    "    hemi_df = pd.DataFrame(hemi_d, index=[\"no_hemizygous_carriers\"]).T\n",
    "    zygosity_df = hetero_df.merge(homo_df, left_index=True, right_index=True, how='outer').merge(hemi_df, left_index=True, right_index=True, how='outer').fillna(0).astype(int)\n",
    "    af_df = af_df.merge(zygosity_df, left_index=True, right_index=True, how='left')\n",
    "    \n",
    "    # Subset for required columns and export to CSV\n",
    "    af_colnames = [\n",
    "        \"gene\", \"variant\", \"allele_function\", \n",
    "        \"allele_frequency\", \"allele_count\", \"allele_number\", \n",
    "        \"no_heterozygous_carriers\", \"no_homozygous_carriers\", \"no_hemizygous_carriers\"\n",
    "    ]\n",
    "    af_df = af_df.loc[:, af_colnames].copy()\n",
    "    af_csv = f\"{str(af_prefix)}.{gene}.csv\"\n",
    "    af_df.to_csv(af_csv, index=False)"
   ]
  },
  {
   "cell_type": "markdown",
   "id": "41ac38d1-14d9-4c56-b316-e7e20d9f1be0",
   "metadata": {},
   "source": [
    "# Calculate the carrier frequency by phenotype"
   ]
  },
  {
   "cell_type": "code",
   "execution_count": 42,
   "id": "36861696-c6aa-4376-bc4f-2ee07b30da5c",
   "metadata": {
    "execution": {
     "iopub.execute_input": "2025-05-13T08:25:55.005416Z",
     "iopub.status.busy": "2025-05-13T08:25:55.005301Z",
     "iopub.status.idle": "2025-05-13T08:25:55.299044Z",
     "shell.execute_reply": "2025-05-13T08:25:55.298217Z",
     "shell.execute_reply.started": "2025-05-13T08:25:55.005405Z"
    }
   },
   "outputs": [],
   "source": [
    "for gene, df in gene_df_d.items():\n",
    "    pheno_df = df.groupby('phenotype').agg(list)\n",
    "    pheno_df['pharmacogene'] = gene\n",
    "    pheno_df['genotype'] = pheno_df['genotype'].apply(lambda x: \",\".join(list(set(x))))\n",
    "    pheno_df['phenotype'] = pheno_df.index\n",
    "    pheno_df['no_carriers_with_risk_alleles'] = pheno_df['sample_id'].apply(len)\n",
    "    pheno_df['all_genotyped_individuals'] = pheno_df['no_carriers_with_risk_alleles'].sum()\n",
    "    pheno_df['carrier_frequency'] = pheno_df.apply(lambda r: r.no_carriers_with_risk_alleles / r.all_genotyped_individuals, axis=1)\n",
    "    pheno_df.sort_values(by=['carrier_frequency'], ascending=False, inplace=True)\n",
    "    \n",
    "    # Subset of columns to be exported\n",
    "    keep_colnames = [\n",
    "        'pharmacogene', 'genotype', 'phenotype', 'carrier_frequency', \n",
    "        'no_carriers_with_risk_alleles', 'all_genotyped_individuals'\n",
    "    ]\n",
    "    pheno_df = pheno_df.loc[:, keep_colnames].copy()\n",
    "    pheno_csv = Path(f\"{str(pheno_prefix)}.{gene}.csv\")\n",
    "    pheno_df.to_csv(pheno_csv, index=False)"
   ]
  },
  {
   "cell_type": "code",
   "execution_count": null,
   "id": "087bb13a-e20f-4142-b3f1-6719e26fbe3c",
   "metadata": {},
   "outputs": [],
   "source": []
  }
 ],
 "metadata": {
  "kernelspec": {
   "display_name": "Python 3 (ipykernel)",
   "language": "python",
   "name": "python3"
  }
 },
 "nbformat": 4,
 "nbformat_minor": 5
}
