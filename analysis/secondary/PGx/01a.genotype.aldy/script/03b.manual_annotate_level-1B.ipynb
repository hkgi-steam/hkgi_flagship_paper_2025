{
 "cells": [
  {
   "cell_type": "code",
   "execution_count": 1,
   "id": "a8f6d45b-d5a3-4230-986e-3319d6160b1e",
   "metadata": {
    "execution": {
     "iopub.execute_input": "2025-05-13T08:19:02.286549Z",
     "iopub.status.busy": "2025-05-13T08:19:02.285918Z",
     "iopub.status.idle": "2025-05-13T08:19:02.610441Z",
     "shell.execute_reply": "2025-05-13T08:19:02.608308Z",
     "shell.execute_reply.started": "2025-05-13T08:19:02.286473Z"
    }
   },
   "outputs": [],
   "source": [
    "from pathlib import Path\n",
    "import pandas as pd\n",
    "import numpy as np\n",
    "import sys\n",
    "from tqdm import tqdm\n",
    "import multiprocessing\n",
    "from collections import defaultdict\n",
    "from yaml import load\n",
    "from yaml import CLoader as Loader"
   ]
  },
  {
   "cell_type": "code",
   "execution_count": 2,
   "id": "d08c88fc-bc94-4eb8-88ee-8254a423623e",
   "metadata": {
    "execution": {
     "iopub.execute_input": "2025-05-13T08:19:02.611558Z",
     "iopub.status.busy": "2025-05-13T08:19:02.611300Z",
     "iopub.status.idle": "2025-05-13T08:19:02.620933Z",
     "shell.execute_reply": "2025-05-13T08:19:02.618505Z",
     "shell.execute_reply.started": "2025-05-13T08:19:02.611539Z"
    }
   },
   "outputs": [],
   "source": [
    "sumDir = Path(\"/home/_shared/jscliu/project/2025/Flagship/analysis/secondary/PGx/01a.genotype.aldy/summary\")\n",
    "all_aldy_out_tsv = sumDir/\"allParticipants_aldy_out.tsv\"\n",
    "founder_aldy_out_tsv = sumDir/\"founder_aldy_out.tsv\"\n",
    "allele_map = Path(\"/home/_shared/jscliu/project/2025/Flagship/analysis/secondary/PGx/01a.genotype.aldy/script/aldy_allele_map.yml\")\n",
    "allele_func = Path(\"/home/_shared/jscliu/project/2025/Flagship/analysis/secondary/PGx/01a.genotype.aldy/script/aldy_custom_allele_functions.yml\")\n",
    "all_perGene_prefix:str = str(sumDir/\"all_perGenes\")\n",
    "perGene_prefix:str = str(sumDir/\"perGenes\")\n",
    "af_prefix:str = str(sumDir/\"allele_frequency\")\n",
    "pheno_prefix:str = str(sumDir/\"phenotype\")\n",
    "\n",
    "genes_need_custom_def = [\"CYP2A6\", \"NAT2\", \"VKORC1\"]\n",
    "perGene_df_d:dict = dict()"
   ]
  },
  {
   "cell_type": "code",
   "execution_count": 3,
   "id": "b3f665ad-afd7-42af-b2ed-fd52f0d147a4",
   "metadata": {
    "execution": {
     "iopub.execute_input": "2025-05-13T08:19:02.622612Z",
     "iopub.status.busy": "2025-05-13T08:19:02.622341Z",
     "iopub.status.idle": "2025-05-13T08:19:02.632760Z",
     "shell.execute_reply": "2025-05-13T08:19:02.630673Z",
     "shell.execute_reply.started": "2025-05-13T08:19:02.622591Z"
    }
   },
   "outputs": [],
   "source": [
    "with open(allele_func) as handle:\n",
    "    allele_func_d = load(handle, Loader=Loader)"
   ]
  },
  {
   "cell_type": "code",
   "execution_count": 4,
   "id": "2545a9b0-d5eb-4d52-a8d2-c5d174bd5d4b",
   "metadata": {
    "execution": {
     "iopub.execute_input": "2025-05-13T08:19:02.633995Z",
     "iopub.status.busy": "2025-05-13T08:19:02.633708Z",
     "iopub.status.idle": "2025-05-13T08:19:02.644815Z",
     "shell.execute_reply": "2025-05-13T08:19:02.642653Z",
     "shell.execute_reply.started": "2025-05-13T08:19:02.633972Z"
    }
   },
   "outputs": [],
   "source": [
    "def annotate_haplotype(gene, haplotype, allele_map_d):\n",
    "    # Error if gene is not defined\n",
    "    if gene not in allele_map_d.keys():\n",
    "        print(f\"{gene} not defined. Exiting\")\n",
    "        sys.exit(1)\n",
    "\n",
    "    # Return original haplotype if all alleles are mapped\n",
    "    if allele_map_d[gene] == \"all_mapped\":\n",
    "        return haplotype\n",
    "\n",
    "    # Return annotated allele if defined in allele_map_d, otherwise return haplotype\n",
    "    if haplotype in allele_map_d[gene].keys():\n",
    "        return allele_map_d[gene][haplotype]\n",
    "    else:\n",
    "        return haplotype\n",
    "\n",
    "def count_zygosity(called_df):\n",
    "    \"\"\"Intake called_df, count the number of homozygous and heterozygous carriers into a dict\"\"\"\n",
    "    homo_dict=defaultdict(int)\n",
    "    hetero_dict=defaultdict(int)\n",
    "    for _, row in called_df.iterrows():\n",
    "        if row.haplotype_1 == row.haplotype_2:\n",
    "            # Homozygous\n",
    "            homo_dict[row.haplotype_1] += 1\n",
    "        else:\n",
    "            # Heterozygous\n",
    "            hetero_dict[row.haplotype_1] += 1\n",
    "            hetero_dict[row.haplotype_2] += 1\n",
    "    return homo_dict, hetero_dict"
   ]
  },
  {
   "cell_type": "code",
   "execution_count": 5,
   "id": "6d7a685f-79bf-4f3e-82da-10d2e14f35d8",
   "metadata": {
    "execution": {
     "iopub.execute_input": "2025-05-13T08:19:02.648287Z",
     "iopub.status.busy": "2025-05-13T08:19:02.646559Z",
     "iopub.status.idle": "2025-05-13T08:19:03.140343Z",
     "shell.execute_reply": "2025-05-13T08:19:03.138010Z",
     "shell.execute_reply.started": "2025-05-13T08:19:02.648239Z"
    }
   },
   "outputs": [],
   "source": [
    "all_aldy_out = pd.read_table(all_aldy_out_tsv, index_col=[0])\n",
    "custom_all_aldy_out = all_aldy_out.loc[all_aldy_out['gene'].isin(genes_need_custom_def), :].copy()"
   ]
  },
  {
   "cell_type": "code",
   "execution_count": 6,
   "id": "1ff3ca11-e4e7-4801-83e3-4efa52ccfd32",
   "metadata": {
    "execution": {
     "iopub.execute_input": "2025-05-13T08:19:03.143475Z",
     "iopub.status.busy": "2025-05-13T08:19:03.143227Z",
     "iopub.status.idle": "2025-05-13T08:19:03.526218Z",
     "shell.execute_reply": "2025-05-13T08:19:03.523870Z",
     "shell.execute_reply.started": "2025-05-13T08:19:03.143453Z"
    }
   },
   "outputs": [],
   "source": [
    "founder_aldy_out = pd.read_table(founder_aldy_out_tsv, index_col=[0])\n",
    "custom_founder_aldy_out = founder_aldy_out.loc[founder_aldy_out['gene'].isin(genes_need_custom_def), :].copy()"
   ]
  },
  {
   "cell_type": "code",
   "execution_count": 8,
   "id": "1a780ca3-5f8b-481d-9506-ef7c2ddb36b3",
   "metadata": {
    "execution": {
     "iopub.execute_input": "2025-05-13T08:19:03.549123Z",
     "iopub.status.busy": "2025-05-13T08:19:03.548930Z",
     "iopub.status.idle": "2025-05-13T08:19:03.685675Z",
     "shell.execute_reply": "2025-05-13T08:19:03.683559Z",
     "shell.execute_reply.started": "2025-05-13T08:19:03.549107Z"
    }
   },
   "outputs": [],
   "source": [
    "gene_df_d:dict = dict()\n",
    "for gene in genes_need_custom_def:\n",
    "    df = all_aldy_out.loc[all_aldy_out['gene']==gene, :].copy()\n",
    "    sample_w_sol2:list = df.loc[df['solutionID']==2, 'sample_id'].unique().tolist()\n",
    "    gene_df_d[gene] = df.loc[~df['sample_id'].isin(sample_w_sol2), :].copy()"
   ]
  },
  {
   "cell_type": "markdown",
   "id": "8a8f6572-95ad-43ea-bf50-b2e5dbe007a7",
   "metadata": {},
   "source": [
    "# NAT2"
   ]
  },
  {
   "cell_type": "code",
   "execution_count": 9,
   "id": "be98ba6d-144c-42ee-ad53-f4f43e16428f",
   "metadata": {
    "execution": {
     "iopub.execute_input": "2025-05-13T08:19:03.687611Z",
     "iopub.status.busy": "2025-05-13T08:19:03.687357Z",
     "iopub.status.idle": "2025-05-13T08:19:03.698232Z",
     "shell.execute_reply": "2025-05-13T08:19:03.696491Z",
     "shell.execute_reply.started": "2025-05-13T08:19:03.687591Z"
    }
   },
   "outputs": [],
   "source": [
    "gene = 'NAT2'\n",
    "all_perGene_csv = f\"{all_perGene_prefix}.{gene}.csv\"\n",
    "perGene_csv = f\"{perGene_prefix}.{gene}.csv\"\n",
    "af_csv = f\"{af_prefix}.{gene}.csv\"\n",
    "pheno_csv = f\"{pheno_prefix}.{gene}.csv\"\n",
    "df = gene_df_d[gene].copy()"
   ]
  },
  {
   "cell_type": "code",
   "execution_count": 10,
   "id": "11cfd00e-386c-4a68-a8c0-1c0b34c4d5e9",
   "metadata": {
    "execution": {
     "iopub.execute_input": "2025-05-13T08:19:03.699247Z",
     "iopub.status.busy": "2025-05-13T08:19:03.699036Z",
     "iopub.status.idle": "2025-05-13T08:19:03.945312Z",
     "shell.execute_reply": "2025-05-13T08:19:03.943118Z",
     "shell.execute_reply.started": "2025-05-13T08:19:03.699229Z"
    }
   },
   "outputs": [],
   "source": [
    "df['genotype'] = df.apply(lambda r: f\"{r.haplotype_1}/{r.haplotype_2}\", axis=1)"
   ]
  },
  {
   "cell_type": "code",
   "execution_count": 11,
   "id": "9ffb44e8-44d0-4272-a6a6-4b7e6fcc2a99",
   "metadata": {
    "execution": {
     "iopub.execute_input": "2025-05-13T08:19:03.947131Z",
     "iopub.status.busy": "2025-05-13T08:19:03.946886Z",
     "iopub.status.idle": "2025-05-13T08:19:04.257814Z",
     "shell.execute_reply": "2025-05-13T08:19:04.255640Z",
     "shell.execute_reply.started": "2025-05-13T08:19:03.947111Z"
    }
   },
   "outputs": [],
   "source": [
    "df['haplotype_1_func'] = df.apply(lambda r: annotate_haplotype(gene, r.haplotype_1, allele_func_d), axis=1)\n",
    "df['haplotype_2_func'] = df.apply(lambda r: annotate_haplotype(gene, r.haplotype_2, allele_func_d), axis=1)"
   ]
  },
  {
   "cell_type": "code",
   "execution_count": 12,
   "id": "4518793e-4af3-439d-b929-5cf7b3646502",
   "metadata": {
    "execution": {
     "iopub.execute_input": "2025-05-13T08:19:04.258913Z",
     "iopub.status.busy": "2025-05-13T08:19:04.258705Z",
     "iopub.status.idle": "2025-05-13T08:19:06.510346Z",
     "shell.execute_reply": "2025-05-13T08:19:06.509443Z",
     "shell.execute_reply.started": "2025-05-13T08:19:04.258896Z"
    }
   },
   "outputs": [],
   "source": [
    "# For perGene csv: Annotate the phenotype and EHR_priority_notation\n",
    "def annotate_nat2_phenotype(hap_1_func, hap_2_func):\n",
    "    if (hap_1_func == \"Decreased risk of developing toxic liver disease when treated with isoniazid regimens\") or (hap_2_func == \"Decreased risk of developing toxic liver disease when treated with isoniazid regimens\"):\n",
    "        phenotype = \"Decreased risk of developing toxic liver disease when treated with isoniazid regimens\"\n",
    "    if (hap_1_func == \"Increased risk of developing toxic liver disease when treated with isoniazid regimens\") and (hap_2_func == \"Increased risk of developing toxic liver disease when treated with isoniazid regimens\"):\n",
    "        phenotype = \"Increased risk of developing toxic liver disease when treated with isoniazid regimens\"\n",
    "    else:\n",
    "        phenotype = \"Indeterminate\"\n",
    "    return pd.Series([phenotype, np.nan])\n",
    "\n",
    "df[['phenotype', 'EHR_priority_notation']] = df.apply(\n",
    "    lambda r: annotate_nat2_phenotype(r.haplotype_1_func, r.haplotype_2_func), axis=1\n",
    ")\n",
    "perGene_df_d[gene] = df"
   ]
  },
  {
   "cell_type": "markdown",
   "id": "8fc87685-54a6-430d-bff6-2f62cce28b84",
   "metadata": {},
   "source": [
    "# CYP2A6"
   ]
  },
  {
   "cell_type": "code",
   "execution_count": 13,
   "id": "aaae0d91-2461-4291-b7d3-da942563f0ab",
   "metadata": {
    "execution": {
     "iopub.execute_input": "2025-05-13T08:19:06.511274Z",
     "iopub.status.busy": "2025-05-13T08:19:06.511147Z",
     "iopub.status.idle": "2025-05-13T08:19:06.515900Z",
     "shell.execute_reply": "2025-05-13T08:19:06.515080Z",
     "shell.execute_reply.started": "2025-05-13T08:19:06.511263Z"
    }
   },
   "outputs": [],
   "source": [
    "gene = 'CYP2A6'\n",
    "all_perGene_csv = f\"{all_perGene_prefix}.{gene}.csv\"\n",
    "perGene_csv = f\"{perGene_prefix}.{gene}.csv\"\n",
    "af_csv = f\"{af_prefix}.{gene}.csv\"\n",
    "pheno_csv = f\"{pheno_prefix}.{gene}.csv\"\n",
    "df = gene_df_d[gene].copy()"
   ]
  },
  {
   "cell_type": "code",
   "execution_count": 14,
   "id": "9a75566e-6053-4115-a451-2829fe3c558e",
   "metadata": {
    "execution": {
     "iopub.execute_input": "2025-05-13T08:19:06.516551Z",
     "iopub.status.busy": "2025-05-13T08:19:06.516451Z",
     "iopub.status.idle": "2025-05-13T08:19:06.678484Z",
     "shell.execute_reply": "2025-05-13T08:19:06.677799Z",
     "shell.execute_reply.started": "2025-05-13T08:19:06.516541Z"
    }
   },
   "outputs": [],
   "source": [
    "df['genotype'] = df.apply(lambda r: f\"{r.haplotype_1}/{r.haplotype_2}\", axis=1)"
   ]
  },
  {
   "cell_type": "code",
   "execution_count": 15,
   "id": "af2ab169-2c6d-4d44-81df-83f37f071317",
   "metadata": {
    "execution": {
     "iopub.execute_input": "2025-05-13T08:19:06.679152Z",
     "iopub.status.busy": "2025-05-13T08:19:06.679048Z",
     "iopub.status.idle": "2025-05-13T08:19:06.883776Z",
     "shell.execute_reply": "2025-05-13T08:19:06.883038Z",
     "shell.execute_reply.started": "2025-05-13T08:19:06.679141Z"
    }
   },
   "outputs": [],
   "source": [
    "df['haplotype_1_func'] = df.apply(lambda r: annotate_haplotype(gene, r.haplotype_1, allele_func_d), axis=1)\n",
    "df['haplotype_2_func'] = df.apply(lambda r: annotate_haplotype(gene, r.haplotype_2, allele_func_d), axis=1)"
   ]
  },
  {
   "cell_type": "code",
   "execution_count": 16,
   "id": "e416e6fb-f35c-4d4d-8878-d400d6e925c2",
   "metadata": {
    "execution": {
     "iopub.execute_input": "2025-05-13T08:19:06.884412Z",
     "iopub.status.busy": "2025-05-13T08:19:06.884299Z",
     "iopub.status.idle": "2025-05-13T08:19:08.383453Z",
     "shell.execute_reply": "2025-05-13T08:19:08.382585Z",
     "shell.execute_reply.started": "2025-05-13T08:19:06.884402Z"
    }
   },
   "outputs": [],
   "source": [
    "# For perGene csv: Annotate the phenotype and EHR_priority_notation\n",
    "def annotate_cyp2a6_phenotype(hap_1_func, hap_2_func):\n",
    "    if \"Indeterminate\" in [hap_1_func, hap_2_func]:\n",
    "        phenotype = \"Indeterminate\"\n",
    "    elif hap_1_func == hap_2_func == \"Normal metabolism of nicotine\":\n",
    "        phenotype = \"Normal metabolism of nicotine\"\n",
    "    else:\n",
    "        phenotype = \"Decreased metabolism of nicotine\"\n",
    "    return pd.Series([phenotype, np.nan])\n",
    "\n",
    "df[['phenotype', 'EHR_priority_notation']] = df.apply(\n",
    "    lambda r: annotate_cyp2a6_phenotype(r.haplotype_1_func, r.haplotype_2_func), axis=1\n",
    ")\n",
    "perGene_df_d[gene] = df"
   ]
  },
  {
   "cell_type": "markdown",
   "id": "f81cee60-1aa2-424f-a897-f496247e7110",
   "metadata": {},
   "source": [
    "# VKORC1: 4 variants with clinical annotation level 1B"
   ]
  },
  {
   "cell_type": "code",
   "execution_count": 17,
   "id": "399d9154-67b2-4834-97ed-d7a9afd10aa6",
   "metadata": {
    "execution": {
     "iopub.execute_input": "2025-05-13T08:19:08.384259Z",
     "iopub.status.busy": "2025-05-13T08:19:08.384141Z",
     "iopub.status.idle": "2025-05-13T08:19:08.389469Z",
     "shell.execute_reply": "2025-05-13T08:19:08.388479Z",
     "shell.execute_reply.started": "2025-05-13T08:19:08.384248Z"
    }
   },
   "outputs": [],
   "source": [
    "gene = 'VKORC1'\n",
    "all_perGene_csv = f\"{all_perGene_prefix}.{gene}.csv\"\n",
    "perGene_csv = f\"{perGene_prefix}.{gene}.csv\"\n",
    "af_csv = f\"{af_prefix}.{gene}.csv\"\n",
    "pheno_csv = f\"{pheno_prefix}.{gene}.csv\"\n",
    "vkorc1_df = gene_df_d[gene].copy()"
   ]
  },
  {
   "cell_type": "code",
   "execution_count": 18,
   "id": "eeae4da9-7dac-4800-8452-8bc07d64a425",
   "metadata": {
    "execution": {
     "iopub.execute_input": "2025-05-13T08:19:08.390069Z",
     "iopub.status.busy": "2025-05-13T08:19:08.389967Z",
     "iopub.status.idle": "2025-05-13T08:19:08.394323Z",
     "shell.execute_reply": "2025-05-13T08:19:08.393653Z",
     "shell.execute_reply.started": "2025-05-13T08:19:08.390058Z"
    }
   },
   "outputs": [],
   "source": [
    "def annotate_vkorc1_1b_phenotype(var, hap_1_func, hap_2_func):\n",
    "    if var == \"rs7294\":\n",
    "        if \"Carrier of rs7294 variant (A)\" in [hap_1_func, hap_2_func]:\n",
    "            phenotype = \"May require higher dose of warfarin\"\n",
    "        else:\n",
    "            phenotype = \"May require lower dose of warfarin\"\n",
    "    elif var == \"rs2359612\":\n",
    "        if \"Carrier of rs2359612 variant (T)\" not in [hap_1_func, hap_2_func]:\n",
    "            phenotype = \"May require increased dose of warfarin\"\n",
    "        else:\n",
    "            phenotype = \"May require decreased dose of warfarin\"\n",
    "    elif var == \"rs8050894\":\n",
    "        if \"Carrier of rs8050894 variant (C)\" in [hap_1_func, hap_2_func]:\n",
    "            phenotype = \"May require a lower dose of warfarin\"\n",
    "        else:\n",
    "            phenotype = \"May require a higher dose of warfarin\"\n",
    "    elif var == \"rs9934438\":\n",
    "        if \"Carrier of rs9934438 variant (T)\" not in [hap_1_func, hap_2_func]:\n",
    "            phenotype = \"May require higher dose of warfarin\"\n",
    "        else:\n",
    "            phenotype = \"May require lower dose of warfarin\"\n",
    "    return pd.Series([phenotype, np.nan])"
   ]
  },
  {
   "cell_type": "code",
   "execution_count": 19,
   "id": "e889f750-8f26-4878-90eb-4e303f435994",
   "metadata": {
    "execution": {
     "iopub.execute_input": "2025-05-13T08:19:08.394922Z",
     "iopub.status.busy": "2025-05-13T08:19:08.394813Z",
     "iopub.status.idle": "2025-05-13T08:19:17.961658Z",
     "shell.execute_reply": "2025-05-13T08:19:17.960686Z",
     "shell.execute_reply.started": "2025-05-13T08:19:08.394912Z"
    }
   },
   "outputs": [],
   "source": [
    "vkorc1_1b_variants:list = ['rs7294', 'rs2359612', 'rs8050894', 'rs9934438']\n",
    "for var in vkorc1_1b_variants:\n",
    "    df = vkorc1_df.copy()\n",
    "    df['genotype'] = df.apply(lambda r: f\"{r.haplotype_1}/{r.haplotype_2}\", axis=1)\n",
    "    df['haplotype_1_func'] = df.apply(lambda r: annotate_haplotype(f\"{gene}_{var}\", r.haplotype_1, allele_func_d), axis=1)\n",
    "    df['haplotype_2_func'] = df.apply(lambda r: annotate_haplotype(f\"{gene}_{var}\", r.haplotype_2, allele_func_d), axis=1)\n",
    "    df[['phenotype', 'EHR_priority_notation']] = df.apply(\n",
    "        lambda r: annotate_vkorc1_1b_phenotype(var, r.haplotype_1_func, r.haplotype_2_func), axis=1\n",
    "    )\n",
    "    perGene_df_d[f\"{gene}_{var}\"] = df"
   ]
  },
  {
   "cell_type": "markdown",
   "id": "5d24bf42-3ecf-42fd-9629-a982fd6a2845",
   "metadata": {},
   "source": [
    "# Calculate the allele frequencies and phenotype carrier frequencies"
   ]
  },
  {
   "cell_type": "code",
   "execution_count": 21,
   "id": "2b0bc9b0-1942-4a85-b1ca-ca5ccd87902a",
   "metadata": {
    "execution": {
     "iopub.execute_input": "2025-05-13T08:19:17.971137Z",
     "iopub.status.busy": "2025-05-13T08:19:17.970989Z",
     "iopub.status.idle": "2025-05-13T08:19:22.600385Z",
     "shell.execute_reply": "2025-05-13T08:19:22.599437Z",
     "shell.execute_reply.started": "2025-05-13T08:19:17.971125Z"
    }
   },
   "outputs": [],
   "source": [
    "for gene, all_df in perGene_df_d.items():\n",
    "    # Get df of foudners\n",
    "    df = all_df.loc[all_df['founder_status']==\"Founder\", :].copy()\n",
    "    \n",
    "    # Groupby allele and calculate the frequencies\n",
    "    # Initialize af_df\n",
    "    af_df = pd.concat([\n",
    "        df.loc[:, ['haplotype_1', 'haplotype_1_func']].rename(columns={'haplotype_1': 'variant', 'haplotype_1_func': 'allele_function'}), \n",
    "        df.loc[:, ['haplotype_2', 'haplotype_2_func']].rename(columns={'haplotype_2': 'variant', 'haplotype_2_func': 'allele_function'})\n",
    "    ]).groupby('variant').agg(list)\n",
    "    \n",
    "    # Get general information from af_df\n",
    "    af_df['allele_count'] = af_df['allele_function'].apply(len)\n",
    "    af_df['gene'] = gene\n",
    "    af_df['allele_function'] = af_df['allele_function'].apply(lambda x: x[0])\n",
    "    af_df.dropna(subset=['allele_function'], inplace=True)\n",
    "    af_df.sort_values(by=['allele_function', 'allele_count'], ascending=False, inplace=True)\n",
    "    af_df['variant'] = af_df.index\n",
    "    af_df['allele_number'] = af_df['allele_count'].sum()\n",
    "    af_df['allele_frequency'] = af_df.apply(lambda r: r.allele_count / r.allele_number, axis=1)\n",
    "    \n",
    "    # Count zygosity and merge it to df\n",
    "    homo_d, hetero_d = count_zygosity(df)\n",
    "    homo_df = pd.DataFrame(homo_d, index=[\"no_homozygous_carriers\"]).T\n",
    "    hetero_df = pd.DataFrame(hetero_d, index=[\"no_heterozygous_carriers\"]).T\n",
    "    zygosity_df = hetero_df.merge(homo_df, left_index=True, right_index=True, how='outer').fillna(0).astype(int)\n",
    "    af_df = af_df.merge(zygosity_df, left_index=True, right_index=True, how='left')\n",
    "    \n",
    "    # Subset for required columns and export to CSV\n",
    "    af_colnames = [\n",
    "        \"gene\", \"variant\", \"allele_function\", \n",
    "        \"allele_frequency\", \"allele_count\", \"allele_number\", \n",
    "        \"no_heterozygous_carriers\", \"no_homozygous_carriers\"\n",
    "    ]\n",
    "    af_df = af_df.loc[:, af_colnames].copy()\n",
    "    \n",
    "    # For phenotype CSV\n",
    "    pheno_df = df.groupby('phenotype').agg(list)\n",
    "    pheno_df['pharmacogene'] = gene\n",
    "    pheno_df['genotype'] = pheno_df['genotype'].apply(lambda x: \",\".join(list(set(x))))\n",
    "    pheno_df['phenotype'] = pheno_df.index\n",
    "    pheno_df['no_carriers_with_risk_alleles'] = pheno_df['sample_id'].apply(len)\n",
    "    pheno_df['all_genotyped_individuals'] = pheno_df['no_carriers_with_risk_alleles'].sum()\n",
    "    pheno_df['carrier_frequency'] = pheno_df.apply(lambda r: r.no_carriers_with_risk_alleles / r.all_genotyped_individuals, axis=1)\n",
    "    pheno_df.sort_values(by=['carrier_frequency'], ascending=False, inplace=True)\n",
    "    \n",
    "    # Subset of columns to be exported\n",
    "    keep_colnames = [\n",
    "        'pharmacogene', 'genotype', 'phenotype', 'carrier_frequency', \n",
    "        'no_carriers_with_risk_alleles', 'all_genotyped_individuals'\n",
    "    ]\n",
    "    pheno_df = pheno_df.loc[:, keep_colnames].copy()\n",
    "    \n",
    "    # Export to CSV\n",
    "    all_perGene_csv = f\"{all_perGene_prefix}.{gene}.csv\"\n",
    "    perGene_csv = f\"{perGene_prefix}.{gene}.csv\"\n",
    "    af_csv = f\"{af_prefix}.{gene}.csv\"\n",
    "    pheno_csv = f\"{pheno_prefix}.{gene}.csv\"\n",
    "    all_df.to_csv(all_perGene_csv, index=True, index_label='sre_patient_id')\n",
    "    df.to_csv(perGene_csv, index=True, index_label='sre_patient_id')\n",
    "    af_df.to_csv(af_csv, index=False)\n",
    "    pheno_df.to_csv(pheno_csv, index=False)"
   ]
  },
  {
   "cell_type": "code",
   "execution_count": null,
   "id": "fd2b11fb-16eb-4798-b212-b4b3d63fa5ea",
   "metadata": {},
   "outputs": [],
   "source": []
  }
 ],
 "metadata": {
  "kernelspec": {
   "display_name": "Python 3 (ipykernel)",
   "language": "python",
   "name": "python3"
  },
  "language_info": {
   "codemirror_mode": {
    "name": "ipython",
    "version": 3
   },
   "file_extension": ".py",
   "mimetype": "text/x-python",
   "name": "python",
   "nbconvert_exporter": "python",
   "pygments_lexer": "ipython3",
   "version": "3.10.12"
  }
 },
 "nbformat": 4,
 "nbformat_minor": 5
}
