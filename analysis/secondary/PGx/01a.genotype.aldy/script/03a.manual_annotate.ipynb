{
 "cells": [
  {
   "cell_type": "code",
   "execution_count": 1,
   "id": "a8f6d45b-d5a3-4230-986e-3319d6160b1e",
   "metadata": {
    "execution": {
     "iopub.execute_input": "2025-05-13T08:16:04.677438Z",
     "iopub.status.busy": "2025-05-13T08:16:04.676793Z",
     "iopub.status.idle": "2025-05-13T08:16:05.014234Z",
     "shell.execute_reply": "2025-05-13T08:16:05.012031Z",
     "shell.execute_reply.started": "2025-05-13T08:16:04.677372Z"
    }
   },
   "outputs": [],
   "source": [
    "from pathlib import Path\n",
    "import pandas as pd\n",
    "import numpy as np\n",
    "import re\n",
    "from tqdm import tqdm\n",
    "import multiprocessing\n",
    "from collections import defaultdict\n",
    "from yaml import load\n",
    "from yaml import CLoader as Loader"
   ]
  },
  {
   "cell_type": "code",
   "execution_count": 2,
   "id": "d08c88fc-bc94-4eb8-88ee-8254a423623e",
   "metadata": {
    "execution": {
     "iopub.execute_input": "2025-05-13T08:16:05.016301Z",
     "iopub.status.busy": "2025-05-13T08:16:05.015974Z",
     "iopub.status.idle": "2025-05-13T08:16:05.025399Z",
     "shell.execute_reply": "2025-05-13T08:16:05.023181Z",
     "shell.execute_reply.started": "2025-05-13T08:16:05.016280Z"
    }
   },
   "outputs": [],
   "source": [
    "sumDir = Path(\"/home/_shared/jscliu/project/2025/Flagship/analysis/secondary/PGx/01a.genotype.aldy/summary\")\n",
    "allParticipant_aldy_out_tsv = sumDir/\"allParticipants_aldy_out.tsv\"\n",
    "founder_aldy_out_tsv = sumDir/\"founder_aldy_out.tsv\"\n",
    "allele_map = Path(\"/home/_shared/jscliu/project/2025/Flagship/analysis/secondary/PGx/01a.genotype.aldy/script/aldy_allele_map.yml\")\n",
    "allele_func = Path(\"/home/_shared/jscliu/project/2025/Flagship/analysis/secondary/PGx/01a.genotype.aldy/script/aldy_custom_allele_functions.yml\")\n",
    "all_perGene_prefix:str = str(sumDir/\"all_perGenes\")\n",
    "perGene_prefix:str = str(sumDir/\"perGenes\")\n",
    "af_prefix:str = str(sumDir/\"allele_frequency\")\n",
    "pheno_prefix:str = str(sumDir/\"phenotype\")\n",
    "\n",
    "genes_need_custom_def = [\"CFTR\", \"CYP3A4\", \"CYP4F2\", \"IFNL3\", \"VKORC1\"]\n",
    "perGene_df_d:dict = dict()"
   ]
  },
  {
   "cell_type": "code",
   "execution_count": 3,
   "id": "b3f665ad-afd7-42af-b2ed-fd52f0d147a4",
   "metadata": {
    "execution": {
     "iopub.execute_input": "2025-05-13T08:16:05.026503Z",
     "iopub.status.busy": "2025-05-13T08:16:05.026271Z",
     "iopub.status.idle": "2025-05-13T08:16:05.036874Z",
     "shell.execute_reply": "2025-05-13T08:16:05.034874Z",
     "shell.execute_reply.started": "2025-05-13T08:16:05.026484Z"
    }
   },
   "outputs": [],
   "source": [
    "with open(allele_func) as handle:\n",
    "    allele_func_d = load(handle, Loader=Loader)"
   ]
  },
  {
   "cell_type": "code",
   "execution_count": 4,
   "id": "2545a9b0-d5eb-4d52-a8d2-c5d174bd5d4b",
   "metadata": {
    "execution": {
     "iopub.execute_input": "2025-05-13T08:16:05.038070Z",
     "iopub.status.busy": "2025-05-13T08:16:05.037813Z",
     "iopub.status.idle": "2025-05-13T08:16:05.048516Z",
     "shell.execute_reply": "2025-05-13T08:16:05.045846Z",
     "shell.execute_reply.started": "2025-05-13T08:16:05.038048Z"
    }
   },
   "outputs": [],
   "source": [
    "def annotate_haplotype(gene, haplotype, allele_map_d):\n",
    "    # Error if gene is not defined\n",
    "    if gene not in allele_map_d.keys():\n",
    "        print(f\"{gene} not defined. Exiting\")\n",
    "        sys.exit(1)\n",
    "\n",
    "    # Return original haplotype if all alleles are mapped\n",
    "    if allele_map_d[gene] == \"all_mapped\":\n",
    "        return haplotype\n",
    "\n",
    "    # Return annotated allele if defined in allele_map_d, otherwise return haplotype\n",
    "    if haplotype in allele_map_d[gene].keys():\n",
    "        return allele_map_d[gene][haplotype]\n",
    "    else:\n",
    "        return haplotype\n",
    "\n",
    "def count_zygosity(called_df):\n",
    "    \"\"\"Intake called_df, count the number of homozygous and heterozygous carriers into a dict\"\"\"\n",
    "    homo_dict=defaultdict(int)\n",
    "    hetero_dict=defaultdict(int)\n",
    "    for _, row in called_df.iterrows():\n",
    "        if row.haplotype_1 == row.haplotype_2:\n",
    "            # Homozygous\n",
    "            homo_dict[row.haplotype_1] += 1\n",
    "        else:\n",
    "            # Heterozygous\n",
    "            hetero_dict[row.haplotype_1] += 1\n",
    "            hetero_dict[row.haplotype_2] += 1\n",
    "    return homo_dict, hetero_dict"
   ]
  },
  {
   "cell_type": "code",
   "execution_count": 5,
   "id": "205b8d5b-8069-4166-aad0-eba7ba62c0a2",
   "metadata": {
    "execution": {
     "iopub.execute_input": "2025-05-13T08:16:05.050366Z",
     "iopub.status.busy": "2025-05-13T08:16:05.050053Z",
     "iopub.status.idle": "2025-05-13T08:16:05.617090Z",
     "shell.execute_reply": "2025-05-13T08:16:05.614555Z",
     "shell.execute_reply.started": "2025-05-13T08:16:05.050341Z"
    }
   },
   "outputs": [],
   "source": [
    "allParticipant_aldy_out= pd.read_table(allParticipant_aldy_out_tsv , index_col=[0])\n",
    "custom_allParticipant_aldy_out = allParticipant_aldy_out.loc[allParticipant_aldy_out['gene'].isin(genes_need_custom_def), :].copy()"
   ]
  },
  {
   "cell_type": "code",
   "execution_count": 6,
   "id": "1ff3ca11-e4e7-4801-83e3-4efa52ccfd32",
   "metadata": {
    "execution": {
     "iopub.execute_input": "2025-05-13T08:16:05.620773Z",
     "iopub.status.busy": "2025-05-13T08:16:05.620508Z",
     "iopub.status.idle": "2025-05-13T08:16:06.024279Z",
     "shell.execute_reply": "2025-05-13T08:16:06.022036Z",
     "shell.execute_reply.started": "2025-05-13T08:16:05.620751Z"
    }
   },
   "outputs": [],
   "source": [
    "founder_aldy_out = pd.read_table(founder_aldy_out_tsv, index_col=[0])\n",
    "custom_founder_aldy_out = founder_aldy_out.loc[founder_aldy_out['gene'].isin(genes_need_custom_def), :].copy()"
   ]
  },
  {
   "cell_type": "code",
   "execution_count": 7,
   "id": "1a780ca3-5f8b-481d-9506-ef7c2ddb36b3",
   "metadata": {
    "execution": {
     "iopub.execute_input": "2025-05-13T08:16:06.026428Z",
     "iopub.status.busy": "2025-05-13T08:16:06.026158Z",
     "iopub.status.idle": "2025-05-13T08:16:06.250825Z",
     "shell.execute_reply": "2025-05-13T08:16:06.248607Z",
     "shell.execute_reply.started": "2025-05-13T08:16:06.026405Z"
    }
   },
   "outputs": [],
   "source": [
    "gene_df_d:dict = dict()\n",
    "for gene in genes_need_custom_def:\n",
    "    df = allParticipant_aldy_out.loc[allParticipant_aldy_out['gene']==gene, :].copy()\n",
    "    sample_w_sol2:list = df.loc[df['solutionID']==2, 'sample_id'].unique().tolist()\n",
    "    gene_df_d[gene] = df.loc[~df['sample_id'].isin(sample_w_sol2), :].copy()"
   ]
  },
  {
   "cell_type": "markdown",
   "id": "30b57dda-6492-4df3-b70b-4801134c8d4e",
   "metadata": {},
   "source": [
    "# CFTR"
   ]
  },
  {
   "cell_type": "code",
   "execution_count": 8,
   "id": "1fcae0a3-49dd-41e4-b258-1a9c8690b897",
   "metadata": {
    "execution": {
     "iopub.execute_input": "2025-05-13T08:16:06.252957Z",
     "iopub.status.busy": "2025-05-13T08:16:06.252679Z",
     "iopub.status.idle": "2025-05-13T08:16:06.264940Z",
     "shell.execute_reply": "2025-05-13T08:16:06.262189Z",
     "shell.execute_reply.started": "2025-05-13T08:16:06.252935Z"
    }
   },
   "outputs": [],
   "source": [
    "gene = 'CFTR'\n",
    "perGene_csv = f\"{perGene_prefix}.{gene}.csv\"\n",
    "af_csv = f\"{af_prefix}.{gene}.csv\"\n",
    "pheno_csv = f\"{pheno_prefix}.{gene}.csv\"\n",
    "df = gene_df_d[gene].copy()"
   ]
  },
  {
   "cell_type": "code",
   "execution_count": 9,
   "id": "bf0c02ad-5852-4d90-a5fe-c659ae1b44bb",
   "metadata": {
    "execution": {
     "iopub.execute_input": "2025-05-13T08:16:06.267049Z",
     "iopub.status.busy": "2025-05-13T08:16:06.266768Z",
     "iopub.status.idle": "2025-05-13T08:16:06.282688Z",
     "shell.execute_reply": "2025-05-13T08:16:06.279954Z",
     "shell.execute_reply.started": "2025-05-13T08:16:06.267028Z"
    }
   },
   "outputs": [],
   "source": [
    "# Reannotate *WT+rs76151804 as 3272-26A->G according to pharmGKB annotations\n",
    "df['haplotype_1'] = df['haplotype_1'].apply(lambda x: \"3272-26A->G\" if x == \"*WT+rs76151804\" else x)\n",
    "df['haplotype_2'] = df['haplotype_2'].apply(lambda x: \"3272-26A->G\" if x == \"*WT+rs76151804\" else x)"
   ]
  },
  {
   "cell_type": "code",
   "execution_count": 10,
   "id": "83de7de2-eed4-4cbd-b61f-d85fdb322bf1",
   "metadata": {
    "execution": {
     "iopub.execute_input": "2025-05-13T08:16:06.284693Z",
     "iopub.status.busy": "2025-05-13T08:16:06.284404Z",
     "iopub.status.idle": "2025-05-13T08:16:06.528006Z",
     "shell.execute_reply": "2025-05-13T08:16:06.525728Z",
     "shell.execute_reply.started": "2025-05-13T08:16:06.284671Z"
    }
   },
   "outputs": [],
   "source": [
    "df['genotype'] = df.apply(lambda r: f\"{r.haplotype_1}/{r.haplotype_2}\", axis=1)"
   ]
  },
  {
   "cell_type": "code",
   "execution_count": 11,
   "id": "9ad1a97c-b18b-46cd-9f8b-975298a04d5b",
   "metadata": {
    "execution": {
     "iopub.execute_input": "2025-05-13T08:16:06.530263Z",
     "iopub.status.busy": "2025-05-13T08:16:06.529984Z",
     "iopub.status.idle": "2025-05-13T08:16:06.865669Z",
     "shell.execute_reply": "2025-05-13T08:16:06.862610Z",
     "shell.execute_reply.started": "2025-05-13T08:16:06.530241Z"
    }
   },
   "outputs": [],
   "source": [
    "df['haplotype_1_func'] = df.apply(lambda r: annotate_haplotype('CFTR', r.haplotype_1, allele_func_d), axis=1)\n",
    "df['haplotype_2_func'] = df.apply(lambda r: annotate_haplotype('CFTR', r.haplotype_2, allele_func_d), axis=1)"
   ]
  },
  {
   "cell_type": "code",
   "execution_count": 12,
   "id": "c8e9199f-b1c5-4328-a0e4-1c54c0478290",
   "metadata": {
    "execution": {
     "iopub.execute_input": "2025-05-13T08:16:06.868392Z",
     "iopub.status.busy": "2025-05-13T08:16:06.867824Z",
     "iopub.status.idle": "2025-05-13T08:16:09.680133Z",
     "shell.execute_reply": "2025-05-13T08:16:09.677947Z",
     "shell.execute_reply.started": "2025-05-13T08:16:06.868340Z"
    }
   },
   "outputs": [],
   "source": [
    "# For perGene csv: Annotate the phenotype and EHR_priority_notation\n",
    "def annotate_cftr_phenotype(hap_1_func, hap_2_func):\n",
    "    if (hap_1_func == \"Non response to ivacaftor if homozygous\") & (hap_2_func == \"Non response to ivacaftor if homozygous\"):\n",
    "        return pd.Series([\"Non response to ivacaftor if homozygous\", np.nan])\n",
    "    else:\n",
    "        return pd.Series([\"Responsive\", np.nan])\n",
    "df[['phenotype', 'EHR_priority_notation']] = df.apply(\n",
    "    lambda r: annotate_cftr_phenotype(r.haplotype_1_func, r.haplotype_2_func), axis=1\n",
    ")\n",
    "perGene_df_d[gene] = df"
   ]
  },
  {
   "cell_type": "markdown",
   "id": "b2f7c20b-47fe-49b8-b014-98daac808365",
   "metadata": {},
   "source": [
    "# CYP3A4"
   ]
  },
  {
   "cell_type": "code",
   "execution_count": 13,
   "id": "a0919ae2-bbfd-41fa-b924-66f269ef0bb4",
   "metadata": {
    "execution": {
     "iopub.execute_input": "2025-05-13T08:16:09.682971Z",
     "iopub.status.busy": "2025-05-13T08:16:09.682405Z",
     "iopub.status.idle": "2025-05-13T08:16:09.697379Z",
     "shell.execute_reply": "2025-05-13T08:16:09.694625Z",
     "shell.execute_reply.started": "2025-05-13T08:16:09.682916Z"
    }
   },
   "outputs": [],
   "source": [
    "gene = 'CYP3A4'\n",
    "df = gene_df_d[gene].copy()"
   ]
  },
  {
   "cell_type": "code",
   "execution_count": 14,
   "id": "bf7b9432-b8a7-41a5-905e-747e197ac137",
   "metadata": {
    "execution": {
     "iopub.execute_input": "2025-05-13T08:16:09.700442Z",
     "iopub.status.busy": "2025-05-13T08:16:09.699885Z",
     "iopub.status.idle": "2025-05-13T08:16:10.263028Z",
     "shell.execute_reply": "2025-05-13T08:16:10.260792Z",
     "shell.execute_reply.started": "2025-05-13T08:16:09.700393Z"
    }
   },
   "outputs": [],
   "source": [
    "# Prep perGene CSV\n",
    "# Drop entries (genotypes) which haplotype_1 or (and) haplotype_2 is (are) undefined\n",
    "df['genotype'] = df.apply(lambda r: f\"{r.haplotype_1}/{r.haplotype_2}\", axis=1)\n",
    "df['haplotype_1_func'] = df.apply(lambda r: annotate_haplotype('CYP3A4', r.haplotype_1, allele_func_d), axis=1)\n",
    "df['haplotype_2_func'] = df.apply(lambda r: annotate_haplotype('CYP3A4', r.haplotype_2, allele_func_d), axis=1)\n",
    "df = df.loc[(~df['haplotype_1_func'].isin(['NA'])) & (~df['haplotype_2_func'].isin(['NA'])), :].copy()"
   ]
  },
  {
   "cell_type": "code",
   "execution_count": 15,
   "id": "b1b160d5-a44f-4859-8fbd-b18f6b4db3a4",
   "metadata": {
    "execution": {
     "iopub.execute_input": "2025-05-13T08:16:10.265043Z",
     "iopub.status.busy": "2025-05-13T08:16:10.264774Z",
     "iopub.status.idle": "2025-05-13T08:16:12.886320Z",
     "shell.execute_reply": "2025-05-13T08:16:12.884016Z",
     "shell.execute_reply.started": "2025-05-13T08:16:10.265022Z"
    }
   },
   "outputs": [],
   "source": [
    "# Add the phenotype and EHR_prioriy_notation\n",
    "def annotate_cyp3a4_phenotype(hap_1_func, hap_2_func):\n",
    "    if (\"Decreased function\" in hap_1_func) & (\"Decreased function\" in hap_2_func):\n",
    "        cyp3a4_pheno = \"CYP3A4 Poor Metabolizer\"\n",
    "    elif (\"Decreased function\" in hap_1_func) | (\"Decreased function\" in hap_2_func):\n",
    "        cyp3a4_pheno = \"CYP3A4 Intermediate Metabolizer\"\n",
    "    else:\n",
    "        cyp3a4_pheno = \"CYP3A4 Normal Metabolizer\"\n",
    "    return pd.Series([cyp3a4_pheno, np.nan])\n",
    "    \n",
    "df[['phenotype', 'EHR_priority_notation']] = df.apply(lambda r: annotate_cyp3a4_phenotype(r.haplotype_1_func, r.haplotype_2_func), axis=1)\n",
    "perGene_df_d[gene] = df"
   ]
  },
  {
   "cell_type": "markdown",
   "id": "1a65e1b2-94df-47b1-aa9f-9b262b32b0db",
   "metadata": {},
   "source": [
    "# CYP4F2"
   ]
  },
  {
   "cell_type": "code",
   "execution_count": 16,
   "id": "f7a4c451-480a-4d35-acfe-fd2a8ea25acd",
   "metadata": {
    "execution": {
     "iopub.execute_input": "2025-05-13T08:16:12.889825Z",
     "iopub.status.busy": "2025-05-13T08:16:12.889130Z",
     "iopub.status.idle": "2025-05-13T08:16:12.907656Z",
     "shell.execute_reply": "2025-05-13T08:16:12.905000Z",
     "shell.execute_reply.started": "2025-05-13T08:16:12.889736Z"
    }
   },
   "outputs": [],
   "source": [
    "gene = 'CYP4F2'\n",
    "df = gene_df_d[gene].copy()"
   ]
  },
  {
   "cell_type": "code",
   "execution_count": 17,
   "id": "7cc4ad90-7b9c-4da8-bc0e-728f12216f80",
   "metadata": {
    "execution": {
     "iopub.execute_input": "2025-05-13T08:16:12.909976Z",
     "iopub.status.busy": "2025-05-13T08:16:12.909447Z",
     "iopub.status.idle": "2025-05-13T08:16:13.417291Z",
     "shell.execute_reply": "2025-05-13T08:16:13.414760Z",
     "shell.execute_reply.started": "2025-05-13T08:16:12.909930Z"
    }
   },
   "outputs": [],
   "source": [
    "# Prep perGene CSV\n",
    "df['genotype'] = df.apply(lambda r: f\"{r.haplotype_1}/{r.haplotype_2}\", axis=1)\n",
    "df['haplotype_1_func'] = df.apply(lambda r: annotate_haplotype('CYP4F2', r.haplotype_1, allele_func_d), axis=1)\n",
    "df['haplotype_2_func'] = df.apply(lambda r: annotate_haplotype('CYP4F2', r.haplotype_2, allele_func_d), axis=1)"
   ]
  },
  {
   "cell_type": "code",
   "execution_count": 18,
   "id": "ee8f387b-3323-4c6e-8474-c1b79851ff1e",
   "metadata": {
    "execution": {
     "iopub.execute_input": "2025-05-13T08:16:13.419666Z",
     "iopub.status.busy": "2025-05-13T08:16:13.419386Z",
     "iopub.status.idle": "2025-05-13T08:16:15.651759Z",
     "shell.execute_reply": "2025-05-13T08:16:15.649795Z",
     "shell.execute_reply.started": "2025-05-13T08:16:13.419646Z"
    }
   },
   "outputs": [],
   "source": [
    "# Add the phenotype and EHR_prioriy_notation\n",
    "def annotate_cyp4f2_phenotype(hap_1_func, hap_2_func):\n",
    "    if 'Carrier of rs2108622 (A)' in [hap_1_func, hap_2_func]:\n",
    "        return pd.Series(['Decreased function', np.nan])\n",
    "    else:\n",
    "        return pd.Series(['Normal function', np.nan])\n",
    "df[['phenotype', 'EHR_priority_notation']] = df.apply(lambda r: annotate_cyp4f2_phenotype(r.haplotype_1_func, r.haplotype_2_func), axis=1)\n",
    "perGene_df_d[gene] = df"
   ]
  },
  {
   "cell_type": "markdown",
   "id": "663067d2-fe52-4c47-8843-b8bcf1f8eeff",
   "metadata": {},
   "source": [
    "# IFNL3"
   ]
  },
  {
   "cell_type": "code",
   "execution_count": 19,
   "id": "b166151d-7bd9-4dc5-8950-ed354288dbb1",
   "metadata": {
    "execution": {
     "iopub.execute_input": "2025-05-13T08:16:15.653225Z",
     "iopub.status.busy": "2025-05-13T08:16:15.653022Z",
     "iopub.status.idle": "2025-05-13T08:16:15.661613Z",
     "shell.execute_reply": "2025-05-13T08:16:15.659766Z",
     "shell.execute_reply.started": "2025-05-13T08:16:15.653204Z"
    }
   },
   "outputs": [],
   "source": [
    "gene = 'IFNL3'\n",
    "df = gene_df_d[gene].copy()"
   ]
  },
  {
   "cell_type": "code",
   "execution_count": 20,
   "id": "287aa45c-aab7-4128-aa60-62c287b611ee",
   "metadata": {
    "execution": {
     "iopub.execute_input": "2025-05-13T08:16:15.662521Z",
     "iopub.status.busy": "2025-05-13T08:16:15.662332Z",
     "iopub.status.idle": "2025-05-13T08:16:16.187669Z",
     "shell.execute_reply": "2025-05-13T08:16:16.186078Z",
     "shell.execute_reply.started": "2025-05-13T08:16:15.662504Z"
    }
   },
   "outputs": [],
   "source": [
    "# Prep perGene CSV\n",
    "df['genotype'] = df.apply(lambda r: f\"{r.haplotype_1}/{r.haplotype_2}\", axis=1)\n",
    "df['haplotype_1_func'] = df.apply(lambda r: annotate_haplotype('IFNL3', r.haplotype_1, allele_func_d), axis=1)\n",
    "df['haplotype_2_func'] = df.apply(lambda r: annotate_haplotype('IFNL3', r.haplotype_2, allele_func_d), axis=1)"
   ]
  },
  {
   "cell_type": "code",
   "execution_count": 21,
   "id": "0a075254-13b3-4fd1-97e4-e14d44d8e299",
   "metadata": {
    "execution": {
     "iopub.execute_input": "2025-05-13T08:16:16.190899Z",
     "iopub.status.busy": "2025-05-13T08:16:16.190680Z",
     "iopub.status.idle": "2025-05-13T08:16:17.765812Z",
     "shell.execute_reply": "2025-05-13T08:16:17.764305Z",
     "shell.execute_reply.started": "2025-05-13T08:16:16.190882Z"
    }
   },
   "outputs": [],
   "source": [
    "# Add the phenotype and EHR_prioriy_notation\n",
    "def annotate_ifnl3_phenotype(hap_1_func, hap_2_func):\n",
    "    if 'Carrier of rs12979860 (T)' in [hap_1_func, hap_2_func]:\n",
    "        return pd.Series(['Unfavourable response', np.nan])\n",
    "    else:\n",
    "        return pd.Series(['Favourable response', np.nan])\n",
    "df[['phenotype', 'EHR_priority_notation']] = df.apply(lambda r: annotate_ifnl3_phenotype(r.haplotype_1_func, r.haplotype_2_func), axis=1)\n",
    "perGene_df_d[gene] = df"
   ]
  },
  {
   "cell_type": "markdown",
   "id": "f49496f4-7d8e-4fd4-a435-7368a040aff0",
   "metadata": {},
   "source": [
    "# VKORC1"
   ]
  },
  {
   "cell_type": "code",
   "execution_count": 22,
   "id": "99a1efc4-933a-4d1d-b53e-c80dbc209e13",
   "metadata": {
    "execution": {
     "iopub.execute_input": "2025-05-13T08:16:17.766809Z",
     "iopub.status.busy": "2025-05-13T08:16:17.766672Z",
     "iopub.status.idle": "2025-05-13T08:16:17.772541Z",
     "shell.execute_reply": "2025-05-13T08:16:17.771666Z",
     "shell.execute_reply.started": "2025-05-13T08:16:17.766796Z"
    }
   },
   "outputs": [],
   "source": [
    "gene = 'VKORC1'\n",
    "df = gene_df_d[gene].copy()"
   ]
  },
  {
   "cell_type": "code",
   "execution_count": 23,
   "id": "6202700b-0f71-4805-942b-a09610b6c197",
   "metadata": {
    "execution": {
     "iopub.execute_input": "2025-05-13T08:16:17.773136Z",
     "iopub.status.busy": "2025-05-13T08:16:17.773037Z",
     "iopub.status.idle": "2025-05-13T08:16:18.130517Z",
     "shell.execute_reply": "2025-05-13T08:16:18.129674Z",
     "shell.execute_reply.started": "2025-05-13T08:16:17.773126Z"
    }
   },
   "outputs": [],
   "source": [
    "# Prep perGene CSV\n",
    "df['genotype'] = df.apply(lambda r: f\"{r.haplotype_1}/{r.haplotype_2}\", axis=1)\n",
    "df['haplotype_1_func'] = df.apply(lambda r: annotate_haplotype('VKORC1', r.haplotype_1, allele_func_d), axis=1)\n",
    "df['haplotype_2_func'] = df.apply(lambda r: annotate_haplotype('VKORC1', r.haplotype_2, allele_func_d), axis=1)"
   ]
  },
  {
   "cell_type": "code",
   "execution_count": 24,
   "id": "7e6cb450-8bad-4b23-8e5d-d49836be98d6",
   "metadata": {
    "execution": {
     "iopub.execute_input": "2025-05-13T08:16:18.131401Z",
     "iopub.status.busy": "2025-05-13T08:16:18.131276Z",
     "iopub.status.idle": "2025-05-13T08:16:19.733478Z",
     "shell.execute_reply": "2025-05-13T08:16:19.732588Z",
     "shell.execute_reply.started": "2025-05-13T08:16:18.131389Z"
    }
   },
   "outputs": [],
   "source": [
    "# Add the phenotype and EHR_prioriy_notation\n",
    "def annotate_vkorc1_phenotype(hap_1_func, hap_2_func):\n",
    "    if 'Carrier of rs9923231 variant (T)' in [hap_1_func, hap_2_func]:\n",
    "        return pd.Series(['Increased risk of over-anticoagulation', np.nan])\n",
    "    else:\n",
    "        return pd.Series(['Normal risk', np.nan])\n",
    "df[['phenotype', 'EHR_priority_notation']] = df.apply(lambda r: annotate_vkorc1_phenotype(r.haplotype_1_func, r.haplotype_2_func), axis=1)\n",
    "perGene_df_d[gene] = df"
   ]
  },
  {
   "cell_type": "markdown",
   "id": "5d24bf42-3ecf-42fd-9629-a982fd6a2845",
   "metadata": {},
   "source": [
    "# Calculate the allele frequencies and phenotype carrier frequencies"
   ]
  },
  {
   "cell_type": "code",
   "execution_count": 25,
   "id": "2b0bc9b0-1942-4a85-b1ca-ca5ccd87902a",
   "metadata": {
    "execution": {
     "iopub.execute_input": "2025-05-13T08:16:19.734274Z",
     "iopub.status.busy": "2025-05-13T08:16:19.734146Z",
     "iopub.status.idle": "2025-05-13T08:16:22.833978Z",
     "shell.execute_reply": "2025-05-13T08:16:22.832995Z",
     "shell.execute_reply.started": "2025-05-13T08:16:19.734261Z"
    }
   },
   "outputs": [],
   "source": [
    "for gene, all_df in perGene_df_d.items():\n",
    "    df = all_df.loc[all_df['founder_status']=='Founder', :].copy()\n",
    "    \n",
    "    # Groupby allele and calculate the frequencies\n",
    "    # Initialize af_df\n",
    "    af_df = pd.concat([\n",
    "        df.loc[:, ['haplotype_1', 'haplotype_1_func']].rename(columns={'haplotype_1': 'variant', 'haplotype_1_func': 'allele_function'}), \n",
    "        df.loc[:, ['haplotype_2', 'haplotype_2_func']].rename(columns={'haplotype_2': 'variant', 'haplotype_2_func': 'allele_function'})\n",
    "    ]).groupby('variant').agg(list)\n",
    "    \n",
    "    # Get general information from af_df\n",
    "    af_df['allele_count'] = af_df['allele_function'].apply(len)\n",
    "    af_df['gene'] = gene\n",
    "    af_df['allele_function'] = af_df['allele_function'].apply(lambda x: x[0])\n",
    "    af_df.dropna(subset=['allele_function'], inplace=True)\n",
    "    af_df.sort_values(by=['allele_function', 'allele_count'], ascending=False, inplace=True)\n",
    "    af_df['variant'] = af_df.index\n",
    "    af_df['allele_number'] = af_df['allele_count'].sum()\n",
    "    af_df['allele_frequency'] = af_df.apply(lambda r: r.allele_count / r.allele_number, axis=1)\n",
    "    \n",
    "    # Count zygosity and merge it to df\n",
    "    homo_d, hetero_d = count_zygosity(df)\n",
    "    homo_df = pd.DataFrame(homo_d, index=[\"no_homozygous_carriers\"]).T\n",
    "    hetero_df = pd.DataFrame(hetero_d, index=[\"no_heterozygous_carriers\"]).T\n",
    "    zygosity_df = hetero_df.merge(homo_df, left_index=True, right_index=True, how='outer').fillna(0).astype(int)\n",
    "    af_df = af_df.merge(zygosity_df, left_index=True, right_index=True, how='left')\n",
    "    \n",
    "    # Subset for required columns and export to CSV\n",
    "    af_colnames = [\n",
    "        \"gene\", \"variant\", \"allele_function\", \n",
    "        \"allele_frequency\", \"allele_count\", \"allele_number\", \n",
    "        \"no_heterozygous_carriers\", \"no_homozygous_carriers\"\n",
    "    ]\n",
    "    af_df = af_df.loc[:, af_colnames].copy()\n",
    "    \n",
    "    # For phenotype CSV\n",
    "    pheno_df = df.groupby('phenotype').agg(list)\n",
    "    pheno_df['pharmacogene'] = gene\n",
    "    pheno_df['genotype'] = pheno_df['genotype'].apply(lambda x: \",\".join(list(set(x))))\n",
    "    pheno_df['phenotype'] = pheno_df.index\n",
    "    pheno_df['no_carriers_with_risk_alleles'] = pheno_df['sample_id'].apply(len)\n",
    "    pheno_df['all_genotyped_individuals'] = pheno_df['no_carriers_with_risk_alleles'].sum()\n",
    "    pheno_df['carrier_frequency'] = pheno_df.apply(lambda r: r.no_carriers_with_risk_alleles / r.all_genotyped_individuals, axis=1)\n",
    "    pheno_df.sort_values(by=['carrier_frequency'], ascending=False, inplace=True)\n",
    "    \n",
    "    # Subset of columns to be exported\n",
    "    keep_colnames = [\n",
    "        'pharmacogene', 'genotype', 'phenotype', 'carrier_frequency', \n",
    "        'no_carriers_with_risk_alleles', 'all_genotyped_individuals'\n",
    "    ]\n",
    "    pheno_df = pheno_df.loc[:, keep_colnames].copy()\n",
    "    \n",
    "    # Export to CSV\n",
    "    all_perGene_csv = f\"{all_perGene_prefix}.{gene}.csv\"\n",
    "    perGene_csv = f\"{perGene_prefix}.{gene}.csv\"\n",
    "    af_csv = f\"{af_prefix}.{gene}.csv\"\n",
    "    pheno_csv = f\"{pheno_prefix}.{gene}.csv\"\n",
    "    all_df.to_csv(all_perGene_csv, index=True, index_label='sre_patient_id')\n",
    "    df.to_csv(perGene_csv, index=True, index_label='sre_patient_id')\n",
    "    af_df.to_csv(af_csv, index=False)\n",
    "    pheno_df.to_csv(pheno_csv, index=False)"
   ]
  },
  {
   "cell_type": "code",
   "execution_count": null,
   "id": "fd2b11fb-16eb-4798-b212-b4b3d63fa5ea",
   "metadata": {},
   "outputs": [],
   "source": []
  }
 ],
 "metadata": {
  "kernelspec": {
   "display_name": "Python 3 (ipykernel)",
   "language": "python",
   "name": "python3"
  },
  "language_info": {
   "codemirror_mode": {
    "name": "ipython",
    "version": 3
   },
   "file_extension": ".py",
   "mimetype": "text/x-python",
   "name": "python",
   "nbconvert_exporter": "python",
   "pygments_lexer": "ipython3",
   "version": "3.10.12"
  }
 },
 "nbformat": 4,
 "nbformat_minor": 5
}
