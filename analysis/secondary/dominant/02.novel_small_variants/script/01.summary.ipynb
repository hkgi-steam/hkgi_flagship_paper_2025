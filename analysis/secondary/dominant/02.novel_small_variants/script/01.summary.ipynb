{
 "cells": [
  {
   "cell_type": "code",
   "execution_count": 4,
   "id": "d1ef976a-1bb8-4c05-ba12-fa818e4addc4",
   "metadata": {},
   "outputs": [],
   "source": [
    "from pathlib import Path\n",
    "import glob\n",
    "import pandas as pd\n",
    "import numpy as np\n",
    "import multiprocessing\n",
    "from itertools import chain, islice\n",
    "from tqdm import tqdm\n",
    "import shutil"
   ]
  },
  {
   "cell_type": "code",
   "execution_count": 7,
   "id": "77a0f64c-01bf-492d-b936-46113ea5b21f",
   "metadata": {},
   "outputs": [],
   "source": [
    "projectDir = Path(\"/home/_shared/jscliu/project/2025/Flagship/analysis/secondary/dominant/02.novel_small_variants\")\n",
    "referenceDir = Path(\"/home/_shared/jscliu/project/2025/Flagship/reference\")\n",
    "resultDir = projectDir/\"../01.known_small_variants/results\"\n",
    "summaryDir = projectDir/\"summary\"\n",
    "\n",
    "# Reference\n",
    "af_bed = referenceDir/\"acmg_sf3_2.ext200bp.bed\"\n",
    "cohort_founder_list = referenceDir/\"cohort_founder_list.2024-11-12.csv\"\n",
    "sample_info_csv = referenceDir/\"sample_info_annot.2024-11-12.csv\"\n",
    "vcf_headers = referenceDir/\"hkgi_dominant.vcf_headers.txt\"\n",
    "\n",
    "# Output\n",
    "out_tsv = summaryDir/\"dominant.novel_variants.tsv\"\n",
    "out_vcf = summaryDir/\"dominant.novel_variants.vcf\""
   ]
  },
  {
   "cell_type": "code",
   "execution_count": 9,
   "id": "ce5cb757-b5ed-40e9-8ed3-9b8ac8230f94",
   "metadata": {},
   "outputs": [],
   "source": [
    "cohort_founder_df = pd.read_csv(cohort_founder_list, names=['participant_id', 'sample_id'])"
   ]
  },
  {
   "cell_type": "code",
   "execution_count": 10,
   "id": "84c9d88d-e9d2-4481-9913-a250942b9679",
   "metadata": {},
   "outputs": [],
   "source": [
    "tsv_ls:list = [resultDir/f\"{p}.split.rare.vep.additionalFinding.tsv\" for p in cohort_founder_df['participant_id']]"
   ]
  },
  {
   "cell_type": "code",
   "execution_count": 5,
   "id": "d034a21e-9ab1-475d-98c8-9404245b02a3",
   "metadata": {},
   "outputs": [],
   "source": [
    "def split_list(lst, chunk_size):\n",
    "    it = iter(lst)\n",
    "    return [list(islice(it, chunk_size)) for _ in range(0, len(lst), chunk_size)]\n",
    "\n",
    "chunk_tsv_ls = split_list(tsv_ls, 200)"
   ]
  },
  {
   "cell_type": "markdown",
   "id": "25f57701-ca31-45ab-8f90-988597204bc6",
   "metadata": {},
   "source": [
    "# Read reference af_bed"
   ]
  },
  {
   "cell_type": "code",
   "execution_count": 6,
   "id": "65e912b6-e1cb-4279-9dc2-11d13c7a2a67",
   "metadata": {},
   "outputs": [],
   "source": [
    "af_gene_df = pd.read_table(af_bed)"
   ]
  },
  {
   "cell_type": "code",
   "execution_count": 7,
   "id": "b6ee4e7d-8d2e-4cd4-9ca9-57876e6733fe",
   "metadata": {},
   "outputs": [],
   "source": [
    "af_genes:list = af_gene_df['name'].tolist()"
   ]
  },
  {
   "cell_type": "markdown",
   "id": "1ca47f1f-dde9-499b-80bc-f07365079a7e",
   "metadata": {},
   "source": [
    "# Read and concatenate result TSV as master pd.DataFrame"
   ]
  },
  {
   "cell_type": "code",
   "execution_count": 17,
   "id": "e0be8abf-9752-4faf-985f-c1aaf8b441f5",
   "metadata": {},
   "outputs": [],
   "source": [
    "def read_result_tsv(tsv:Path, af_genes:list):\n",
    "    df = pd.read_table(tsv, na_values=\".\", low_memory=False)\n",
    "    df['CPRA'] = df.apply(lambda r: f\"{r.CHROM}-{r.POS}-{r.REF}-{r.ALT}\", axis=1)\n",
    "    df['participant_id'] = tsv.name.split(\".\")[0]\n",
    "    novel_df = df.loc[df['clinvar.vcf.gz'].isna(), :].copy()\n",
    "    novel_df = novel_df.loc[novel_df['Gene'].isin(af_genes), :].copy()\n",
    "    return novel_df"
   ]
  },
  {
   "cell_type": "code",
   "execution_count": 19,
   "id": "ee8e62dc-4bfd-43a4-91d7-a67dcb151ada",
   "metadata": {},
   "outputs": [],
   "source": [
    "group_df_ls = list()\n",
    "for working_tsv_ls in tqdm(chunk_tsv_ls):\n",
    "    # Read TSV in parallel\n",
    "    pool = multiprocessing.Pool(processes=40)    # Create Pool of 10 parallel processes max\n",
    "    results = pool.starmap(read_result_tsv, zip(working_tsv_ls, [af_genes]*len(working_tsv_ls)))    # If the function only takes one arguments\n",
    "    pool.close()    # Wait until all processes completed\n",
    "    pool.join()    # Join all output from processes\n",
    "\n",
    "    # Concatenate TSV df\n",
    "    result_df = pd.concat(results)\n",
    "    group_df = result_df.groupby('CPRA').agg(list)\n",
    "\n",
    "    # Append to group_df_ls\n",
    "    group_df_ls.append(group_df)"
   ]
  },
  {
   "cell_type": "code",
   "execution_count": 20,
   "id": "0f1fc5cd-d7e2-4f92-a166-1b24a8b48aef",
   "metadata": {},
   "outputs": [],
   "source": [
    "# Concatenate the grouped df, final groupby to get a master_df\n",
    "af_df = pd.concat(group_df_ls).groupby('CPRA').agg(list)"
   ]
  },
  {
   "cell_type": "code",
   "execution_count": 22,
   "id": "dc098966-6292-4363-b202-52f9e8b6056b",
   "metadata": {},
   "outputs": [],
   "source": [
    "af_df.drop(columns=[\"clinvar.vcf.gz\", \"clinvar.vcf.gz_CLNSIG\", \"clinvar.vcf.gz_CLNREVSTAT\"], inplace=True)"
   ]
  },
  {
   "cell_type": "code",
   "execution_count": 24,
   "id": "9dd1bfd1-ac50-49bf-a8de-44a80e95cb77",
   "metadata": {},
   "outputs": [],
   "source": [
    "# Collapse the nested list of variant-specific columns\n",
    "variant_cols:list = [\n",
    "    \"CHROM\", \"POS\", \"REF\", \"ALT\", \"Gene\", \n",
    "    \"HGVSc\", \"HGVSp\", \"Consequence\", \"REVEL\", \"SpliceAI\"\n",
    "]\n",
    "individual_cols:list = [\"participant_id\", \"GT\", \"AD\"]"
   ]
  },
  {
   "cell_type": "code",
   "execution_count": 25,
   "id": "57d0929d-aa43-445a-aa79-0b045ab30b1b",
   "metadata": {},
   "outputs": [],
   "source": [
    "for col in variant_cols:\n",
    "    af_df[col] = af_df[col].apply(lambda x: x[0][0])"
   ]
  },
  {
   "cell_type": "code",
   "execution_count": 26,
   "id": "626e045d-891a-49ab-9f8b-5883ab4e7be1",
   "metadata": {},
   "outputs": [],
   "source": [
    "for col in individual_cols:\n",
    "    af_df[col] = af_df[col].apply(lambda c: list(chain.from_iterable(c)))"
   ]
  },
  {
   "cell_type": "code",
   "execution_count": 27,
   "id": "4f654a45-b0cd-4451-9eb7-f9f70ca3190f",
   "metadata": {},
   "outputs": [],
   "source": [
    "# Make sure VEP annotated the variants under sf v3.2 genes\n",
    "print(f\"No. of variants before filtering: {len(af_df)}\")\n",
    "af_df = af_df.loc[af_df['Gene'].isin(af_genes), :].copy()\n",
    "print(f\"No. of variants after filtering: {len(af_df)}\")"
   ]
  },
  {
   "cell_type": "markdown",
   "id": "8d1ae4a7-6de2-4520-95ca-d5abc0084c53",
   "metadata": {},
   "source": [
    "# Filter variant by consequence"
   ]
  },
  {
   "cell_type": "code",
   "execution_count": 32,
   "id": "f715228f-7bb0-49ef-b276-c58efc47394f",
   "metadata": {},
   "outputs": [],
   "source": [
    "af_df['Consequence'] = af_df['Consequence'].apply(lambda x: x.split('&'))"
   ]
  },
  {
   "cell_type": "code",
   "execution_count": 35,
   "id": "38b4196d-785f-44f0-9aa1-8580f3361132",
   "metadata": {},
   "outputs": [],
   "source": [
    "def keep_variant(ref:str, alt:str, consequences:list, spliceai:str):\n",
    "    \"\"\"Determine whether to keep this variant or not\"\"\"\n",
    "    is_snp:bool = True if len(ref)==len(alt)==1 else False\n",
    "    \n",
    "    consequences_to_keep:list = [\n",
    "        'coding_sequence_variant', 'protein_altering_variant',\n",
    "        'inframe_insertion', 'inframe_deletion', 'missense_variant', 'frameshift_variant',\n",
    "        'start_lost', 'start_retained_variant', 'stop_gained', 'stop_lost', 'stop_retained_variant', \n",
    "        'splice_acceptor_variant', 'splice_polypyrimidine_tract_variant', 'splice_region_variant',\n",
    "        'splice_donor_5th_base_variant', 'splice_donor_region_variant', 'splice_donor_variant'\n",
    "    ]\n",
    "    consequences_to_discard:list = [\n",
    "        'intergenic_variant', 'non_coding_transcript_exon_variant', 'non_coding_transcript_variant'\n",
    "    ]\n",
    "    consequences_nonCoding_keep_conditionally:list = [\n",
    "        '5_prime_UTR_variant', '3_prime_UTR_variant',\n",
    "        'upstream_gene_variant', 'downstream_gene_variant'\n",
    "    ]\n",
    "    consequences_other_keep_conditionally:list = [\n",
    "        'intron_variant', 'synonymous_variant'\n",
    "    ]\n",
    "    \n",
    "    to_keep:list = list()\n",
    "    for c in consequences:\n",
    "        if c in consequences_to_discard:\n",
    "            keep = False\n",
    "        elif c in consequences_to_keep:\n",
    "            keep = True\n",
    "        elif c in consequences_nonCoding_keep_conditionally:\n",
    "            # Keep only if non-coding and there is spliceai annotation\n",
    "            keep = True if not pd.isna(spliceai) else False\n",
    "        elif c in consequences_other_keep_conditionally:\n",
    "            # Keep only if it's a snp and there is spliceai annotation\n",
    "            keep = True if (is_snp & (not pd.isna(spliceai))) else False\n",
    "        else:\n",
    "            print(f\"Undefined consequence: {c}\")\n",
    "            sys.exit(1)\n",
    "        to_keep.append(keep)\n",
    "    \n",
    "    if any(to_keep):\n",
    "        return True\n",
    "    else:\n",
    "        return False"
   ]
  },
  {
   "cell_type": "code",
   "execution_count": 36,
   "id": "654acf59-816d-4e0d-a18d-f1d231ad3ca0",
   "metadata": {},
   "outputs": [],
   "source": [
    "# Apply the filter\n",
    "af_df['keep_variant'] = af_df.apply(\n",
    "    lambda r: keep_variant(r.REF, r.ALT, r.Consequence, r.SpliceAI), axis=1\n",
    ")\n",
    "af_filtered_df = af_df.loc[af_df['keep_variant'], :].copy()"
   ]
  },
  {
   "cell_type": "markdown",
   "id": "7e3c439a-0b59-48f4-a6ac-74a60cead463",
   "metadata": {},
   "source": [
    "# Label the prevalence of each variants"
   ]
  },
  {
   "cell_type": "code",
   "execution_count": 41,
   "id": "a04c66c0-7e91-4020-8217-30d19cae8814",
   "metadata": {},
   "outputs": [],
   "source": [
    "# Count het_n, hom_n, hem_n\n",
    "af_filtered_df['het_n'] = af_filtered_df['GT'].apply(lambda g: g.count('0/1') + g.count('0|1') + g.count('1/0') + g.count('1|0'))\n",
    "af_filtered_df['hom_n'] = af_filtered_df['GT'].apply(lambda g: g.count('1/1') + g.count('1|1'))\n",
    "af_filtered_df['hem_n'] = af_filtered_df['GT'].apply(lambda g: g.count('1'))\n",
    "af_filtered_df['AN'] = af_filtered_df.apply(lambda r: r.het_n + r.hom_n*2 + r.hem_n, axis=1)\n",
    "af_filtered_df['AF'] = af_filtered_df['AN'] / len(tsv_ls)\n",
    "af_filtered_df['N_All'] = af_filtered_df['participant_id'].apply(len)"
   ]
  },
  {
   "cell_type": "code",
   "execution_count": 42,
   "id": "363c624e-75d7-4c10-8a51-a33cad92562e",
   "metadata": {},
   "outputs": [],
   "source": [
    "# Classify the prevelance of each variant by the number of carrier and the AF\n",
    "def classify_prevelence(participant_id:list, AF:float)->str:\n",
    "    if len(participant_id) == 1:\n",
    "        return 'private'\n",
    "    elif AF <= 0.01:\n",
    "        return 'rare'\n",
    "    else:\n",
    "        return 'common'\n",
    "af_filtered_df['prevalence'] = af_filtered_df.apply(lambda r: classify_prevelence(r.participant_id, r.AF), axis=1)"
   ]
  },
  {
   "cell_type": "markdown",
   "id": "693d7023-a1f3-4e4f-9c53-011e3727f6da",
   "metadata": {},
   "source": [
    "# Classify the consequences"
   ]
  },
  {
   "cell_type": "code",
   "execution_count": 48,
   "id": "ade39cb0-8f1a-4b58-ad05-677f59e97bf9",
   "metadata": {},
   "outputs": [],
   "source": [
    "# Classify each consequence\n",
    "consequence_classes:dict = {\n",
    "    'coding': [\n",
    "        'coding_sequence_variant', 'protein_altering_variant', \n",
    "        'start_retained_variant', 'stop_retained_variant', 'synonymous_variant'\n",
    "    ],\n",
    "    'missense': ['missense_variant'],\n",
    "    'frameshift': ['frameshift_variant', 'start_lost', 'stop_gained', 'stop_lost'],\n",
    "    'inframe': ['inframe_deletion', 'inframe_insertion'],\n",
    "    'noncoding': [\n",
    "        'upstream_gene_variant', 'downstream_gene_variant',\n",
    "        '3_prime_UTR_variant', '5_prime_UTR_variant',\n",
    "        'non_coding_transcript_exon_variant', 'non_coding_transcript_variant'\n",
    "    ],\n",
    "    'splicing': [\n",
    "        'splice_donor_5th_base_variant', 'splice_donor_region_variant', 'splice_donor_variant',\n",
    "        'splice_acceptor_variant', 'splice_polypyrimidine_tract_variant', 'splice_region_variant'\n",
    "    ],\n",
    "    'intronic': ['intron_variant']\n",
    "}\n",
    "\n",
    "consequence_map_d:dict = dict()\n",
    "for c_class, consequences in consequence_classes.items():\n",
    "    for c in consequences:\n",
    "        consequence_map_d[c] = c_class"
   ]
  },
  {
   "cell_type": "code",
   "execution_count": 49,
   "id": "39151e44-fe50-45fb-996d-52b18d9cd7f2",
   "metadata": {},
   "outputs": [],
   "source": [
    "# Label the consequence_class\n",
    "af_filtered_df['consequence_class'] = af_filtered_df['Consequence'].apply(lambda cs: [consequence_map_d[c] for c in cs])"
   ]
  },
  {
   "cell_type": "markdown",
   "id": "b268ef9d-eadd-4459-8731-17bc0f696a02",
   "metadata": {},
   "source": [
    "# Reformat and export genes_filtered_df"
   ]
  },
  {
   "cell_type": "code",
   "execution_count": 68,
   "id": "62eea2e2-e590-40c5-a284-2d0f7816ed33",
   "metadata": {},
   "outputs": [],
   "source": [
    "export_df = af_filtered_df.copy()"
   ]
  },
  {
   "cell_type": "code",
   "execution_count": 70,
   "id": "f57f9eee-0cec-42c6-8a61-6bb548bca8f4",
   "metadata": {},
   "outputs": [],
   "source": [
    "# Reformat the column storing lists\n",
    "listed_cols:list = [\n",
    "    'participant_id', 'GT', 'AD', \n",
    "    'Consequence', 'consequence_class'\n",
    "]\n",
    "for col in listed_cols:\n",
    "    export_df[col] = export_df[col].apply(lambda x: \".\".join(x))"
   ]
  },
  {
   "cell_type": "code",
   "execution_count": 71,
   "id": "39f3a9d2-998c-4a14-829c-1572604f6331",
   "metadata": {},
   "outputs": [],
   "source": [
    "# Re-order the columns\n",
    "keep_cols:list = [\n",
    "    'CHROM', 'POS', 'REF', 'ALT', \n",
    "    'Gene', 'HGVSc', 'HGVSp', 'REVEL', 'SpliceAI', \n",
    "    'Consequence', 'consequence_class', \n",
    "    'het_n', 'hom_n', 'hem_n', 'AN', 'AF', 'N_All', 'prevalence', \n",
    "    'participant_id', 'GT', 'AD'\n",
    "]\n",
    "export_df = export_df.loc[:, keep_cols].copy()"
   ]
  },
  {
   "cell_type": "markdown",
   "id": "473e65b6-8330-4558-b534-f189b1fca919",
   "metadata": {},
   "source": [
    "# Export to TSV"
   ]
  },
  {
   "cell_type": "code",
   "execution_count": 72,
   "id": "c2c83188-b953-4472-86fc-e122f8488396",
   "metadata": {},
   "outputs": [],
   "source": [
    "export_df.to_csv(out_tsv, index=True, index_label='CPRA', sep='\\t')"
   ]
  },
  {
   "cell_type": "markdown",
   "id": "bf4c7992-3362-4ba3-a074-6cf03a2262e8",
   "metadata": {},
   "source": [
    "# Export to VCF"
   ]
  },
  {
   "cell_type": "code",
   "execution_count": 73,
   "id": "c935f3c4-f23a-44c8-8d3d-5732359927ed",
   "metadata": {},
   "outputs": [],
   "source": [
    "export_csv_df = export_df.fillna(\".\")"
   ]
  },
  {
   "cell_type": "code",
   "execution_count": 75,
   "id": "c3dfab5f-a4d3-43de-90a8-0584d77690a3",
   "metadata": {},
   "outputs": [],
   "source": [
    "# Generate the missing fields\n",
    "export_csv_df.rename(columns={\n",
    "    'het_n': 'N_Het', \n",
    "    'hom_n': 'N_Hom', \n",
    "    'hem_n': 'N_Hem'\n",
    "}, inplace=True)\n",
    "export_csv_df['NOTE'] = export_csv_df.apply(lambda r: f\"{r.participant_id}-{r.GT}-{r.AD}\", axis=1)\n",
    "export_csv_df['AF'] = export_csv_df['AF'].apply(lambda x: float(f\"{x:.5f}\"))"
   ]
  },
  {
   "cell_type": "code",
   "execution_count": 76,
   "id": "59bb4988-4736-43ef-9bfd-dedfc1519f9c",
   "metadata": {},
   "outputs": [],
   "source": [
    "# Prepare the VCF columns\n",
    "vcf_cols:list = [\"#CHROM\", \"POS\", \"ID\", \"REF\", \"ALT\", \"QUAL\", \"FILTER\", \"INFO\", \"FORMAT\", \"FIRST_SAMPLE\"]\n",
    "export_csv_df['ID'] = export_csv_df.index\n",
    "export_csv_df['QUAL'] = \".\"\n",
    "export_csv_df['FILTER'] = export_csv_df['prevalence'].apply(lambda x: \"PRIVATE\" if x == 'private' else \"NON_PRIVATE\")\n",
    "\n",
    "## INFO columns\n",
    "export_csv_df['INFO'] = export_csv_df.apply(lambda r: f\"Gene={r.Gene}\", axis=1)\n",
    "info_cols:list = [\n",
    "    'HGVSc', 'HGVSp', 'REVEL', 'SpliceAI', 'Consequence', 'consequence_class', \n",
    "    'N_Het', 'N_Hom', 'N_Hem', 'N_All', 'AF', 'prevalence', 'NOTE'\n",
    "]\n",
    "for col in info_cols:\n",
    "    export_csv_df['INFO'] = export_csv_df.apply(lambda r: f\"{r.INFO};\" + f\"{col}={r[col]}\", axis=1)\n",
    "\n",
    "export_csv_df['FORMAT'] = \"GT:AD\"\n",
    "export_csv_df['FIRST_SAMPLE'] = export_csv_df.apply(\n",
    "    lambda r: f\"{r['GT'].split('.')[0]}:{r['AD'].split('.')[0]}\", axis=1\n",
    ")"
   ]
  },
  {
   "cell_type": "code",
   "execution_count": 86,
   "id": "e571c995-7455-4526-b9d0-664ae7f24806",
   "metadata": {},
   "outputs": [],
   "source": [
    "# Filter columns for VCF\n",
    "export_csv_df.rename(columns={'CHROM': '#CHROM'}, inplace=True)\n",
    "export_csv_df = export_csv_df.loc[:, vcf_cols].copy()\n",
    "\n",
    "# Write header to VCF\n",
    "shutil.copy(vcf_header, out_vcf)\n",
    "\n",
    "# Export to VCF\n",
    "export_csv_df.to_csv(out_vcf, index=False, sep='\\t', mode='a')"
   ]
  },
  {
   "cell_type": "code",
   "execution_count": null,
   "id": "f272af96-89de-4571-aa1c-20e3acf72323",
   "metadata": {},
   "outputs": [],
   "source": []
  }
 ],
 "metadata": {
  "kernelspec": {
   "display_name": "Python 3 (ipykernel)",
   "language": "python",
   "name": "python3"
  },
  "language_info": {
   "codemirror_mode": {
    "name": "ipython",
    "version": 3
   },
   "file_extension": ".py",
   "mimetype": "text/x-python",
   "name": "python",
   "nbconvert_exporter": "python",
   "pygments_lexer": "ipython3",
   "version": "3.10.12"
  }
 },
 "nbformat": 4,
 "nbformat_minor": 5
}
