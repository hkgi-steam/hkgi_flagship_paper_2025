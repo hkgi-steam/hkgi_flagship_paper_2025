{
 "cells": [
  {
   "cell_type": "code",
   "execution_count": null,
   "id": "28865b87-5927-4de1-81cf-857eade262c0",
   "metadata": {},
   "outputs": [],
   "source": [
    "from pathlib import Path\n",
    "import glob\n",
    "import pandas as pd\n",
    "import numpy as np\n",
    "import multiprocessing\n",
    "from itertools import chain, islice\n",
    "from tqdm import tqdm\n",
    "import shutil"
   ]
  },
  {
   "cell_type": "code",
   "execution_count": null,
   "id": "c6b260be-399e-4a55-b283-9837c07bc0b7",
   "metadata": {},
   "outputs": [],
   "source": [
    "projectDir = Path(\"/home/_shared/jscliu/project/2025/Flagship/analysis/secondary/dominant/01.known_small_variants\")\n",
    "referenceDir = Path(\"/home/_shared/jscliu/project/2025/Flagship/reference\")\n",
    "resultDir = projectDir/\"results\"\n",
    "summaryDir = projectDir/\"summary\"\n",
    "summaryDir.mkdir(exist_ok=True)\n",
    "\n",
    "# Reference\n",
    "af_bed = referenceDir/\"acmg_sf3_2.ext200bp.bed\"\n",
    "cohort_founder_list = referenceDir/\"cohort_founder_list.2024-11-12.csv\"\n",
    "sample_info_csv = referenceDir/\"sample_info_annot.2024-11-12.csv\"\n",
    "vcf_headers = referenceDir/\"hkgi_dominant.vcf_headers.txt\"\n",
    "\n",
    "# Output\n",
    "out_tsv = summaryDir/\"dominant.known_variants.tsv\"\n",
    "out_vcf = summaryDir/\"dominant.known_variants.vcf\""
   ]
  },
  {
   "cell_type": "code",
   "execution_count": null,
   "id": "fe019d65-6e93-4e3f-8db4-791e76b7b128",
   "metadata": {},
   "outputs": [],
   "source": [
    "cohort_founder_df = pd.read_csv(cohort_founder_list, names=['participant_id', 'sample_id'])"
   ]
  },
  {
   "cell_type": "code",
   "execution_count": null,
   "id": "d7029a80-29bb-4bd7-a5f8-fff61e93b99c",
   "metadata": {},
   "outputs": [],
   "source": [
    "tsv_ls:list = [resultDir/f\"{p}.split.rare.vep.additionalFinding.tsv\" for p in cohort_founder_df['participant_id']]"
   ]
  },
  {
   "cell_type": "code",
   "execution_count": null,
   "id": "7426b51b-05b6-47d2-b881-b09fdb40148a",
   "metadata": {},
   "outputs": [],
   "source": [
    "def split_list(lst, chunk_size):\n",
    "    it = iter(lst)\n",
    "    return [list(islice(it, chunk_size)) for _ in range(0, len(lst), chunk_size)]\n",
    "\n",
    "chunk_tsv_ls = split_list(tsv_ls, 2000)"
   ]
  },
  {
   "cell_type": "markdown",
   "id": "f09513eb-9285-4c56-b98e-4c77640e8871",
   "metadata": {},
   "source": [
    "# Read reference af_bed"
   ]
  },
  {
   "cell_type": "code",
   "execution_count": null,
   "id": "bfafa0de-5480-4e3e-b4c5-aa5fc2b93d18",
   "metadata": {},
   "outputs": [],
   "source": [
    "af_gene_df = pd.read_table(af_bed)"
   ]
  },
  {
   "cell_type": "code",
   "execution_count": null,
   "id": "ff8d4186-0d94-48fe-b540-2693a0e632d6",
   "metadata": {},
   "outputs": [],
   "source": [
    "af_genes:list = af_gene_df['name'].tolist()"
   ]
  },
  {
   "cell_type": "markdown",
   "id": "8a0b27f8-f1df-4217-8481-7aec1649f078",
   "metadata": {},
   "source": [
    "# Read and concatenate result TSV as master pd.DataFrame"
   ]
  },
  {
   "cell_type": "code",
   "execution_count": null,
   "id": "a3f95513-2622-461b-9857-e28d934617a5",
   "metadata": {},
   "outputs": [],
   "source": [
    "def read_result_tsv(tsv:Path):\n",
    "    df = pd.read_table(tsv, na_values=\".\", low_memory=False)\n",
    "    df['CPRA'] = df.apply(lambda r: f\"{r.CHROM}-{r.POS}-{r.REF}-{r.ALT}\", axis=1)\n",
    "    df['participant_id'] = tsv.name.split(\".\")[0]\n",
    "    clinvar_df = df.loc[~df['clinvar.vcf.gz'].isna(), :].copy()\n",
    "    return clinvar_df.astype({'clinvar.vcf.gz': int})"
   ]
  },
  {
   "cell_type": "code",
   "execution_count": null,
   "id": "bdc51529-72f7-4583-90f1-98daddb4a0fe",
   "metadata": {},
   "outputs": [],
   "source": [
    "group_df_ls = list()\n",
    "for working_tsv_ls in tqdm(chunk_tsv_ls):\n",
    "    # Read TSV in parallel\n",
    "    pool = multiprocessing.Pool(processes=40)    # Create Pool of 10 parallel processes max\n",
    "    results = pool.starmap(read_result_tsv, [(tsv,) for tsv in working_tsv_ls])    # If the function only takes one arguments\n",
    "    pool.close()    # Wait until all processes completed\n",
    "    pool.join()    # Join all output from processes\n",
    "\n",
    "    # Concatenate TSV df\n",
    "    result_df = pd.concat(results)\n",
    "    group_df = result_df.groupby('CPRA').agg(list)\n",
    "\n",
    "    # Append to group_df_ls\n",
    "    group_df_ls.append(group_df)"
   ]
  },
  {
   "cell_type": "code",
   "execution_count": null,
   "id": "82919e9b-ad4b-47b2-92be-ea5a9ace3fb7",
   "metadata": {},
   "outputs": [],
   "source": [
    "# Concatenate the grouped df, final groupby to get a master_df\n",
    "af_df = pd.concat(group_df_ls).groupby('CPRA').agg(list)"
   ]
  },
  {
   "cell_type": "code",
   "execution_count": null,
   "id": "94ea4de5-dd9d-457f-ae38-0a9fb264b823",
   "metadata": {},
   "outputs": [],
   "source": [
    "af_df.rename(columns={\n",
    "    \"clinvar.vcf.gz\": \"clinVar_ID\", \n",
    "    \"clinvar.vcf.gz_CLNSIG\": \"CLNSIG\", \n",
    "    \"clinvar.vcf.gz_CLNREVSTAT\": \"CLNREVSTAT\"\n",
    "}, inplace=True)"
   ]
  },
  {
   "cell_type": "code",
   "execution_count": null,
   "id": "22dadf20-c6c9-4315-bba1-9765a8ede171",
   "metadata": {},
   "outputs": [],
   "source": [
    "# Collapse the nested list of variant-specific columns\n",
    "variant_cols:list = [\n",
    "    \"CHROM\", \"POS\", \"REF\", \"ALT\", \"Gene\", \n",
    "    \"HGVSc\", \"HGVSp\", \"Consequence\", \"REVEL\", \"SpliceAI\", \n",
    "    \"clinVar_ID\", \"CLNSIG\", \"CLNREVSTAT\"\n",
    "]\n",
    "individual_cols:list = [\"participant_id\", \"GT\", \"AD\"]"
   ]
  },
  {
   "cell_type": "code",
   "execution_count": null,
   "id": "ac562061-6291-4ebb-a2ac-3405e0117fef",
   "metadata": {},
   "outputs": [],
   "source": [
    "for col in variant_cols:\n",
    "    af_df[col] = af_df[col].apply(lambda x: x[0][0])"
   ]
  },
  {
   "cell_type": "code",
   "execution_count": null,
   "id": "e4d5f677-356e-44c7-920a-b9d4da473ae2",
   "metadata": {},
   "outputs": [],
   "source": [
    "for col in individual_cols:\n",
    "    af_df[col] = af_df[col].apply(lambda c: list(chain.from_iterable(c)))"
   ]
  },
  {
   "cell_type": "code",
   "execution_count": null,
   "id": "11f1d8b9-e403-48f3-842f-8223f7672fca",
   "metadata": {},
   "outputs": [],
   "source": [
    "# Subset for variants which VEP annotated as af v3.2 genes\n",
    "print(f\"No. of variants before filtering: {len(af_df)}\")\n",
    "af_df = af_df.loc[af_df['Gene'].isin(af_genes), :].copy()\n",
    "print(f\"No. of variants after filtering: {len(af_df)}\")"
   ]
  },
  {
   "cell_type": "markdown",
   "id": "c5b65bd8-93d0-4b8b-bba5-27f44ea66965",
   "metadata": {},
   "source": [
    "# Label CLINSIG and No. of gold stars"
   ]
  },
  {
   "cell_type": "code",
   "execution_count": null,
   "id": "adc2efcc-41c7-4021-9511-28a051101d01",
   "metadata": {},
   "outputs": [],
   "source": [
    "# Map clinvar.vcf.gz_CLNSIG to clinical_relevance\n",
    "def map_clinical_relevance(clnsig):\n",
    "    map_d = {\n",
    "        \"Uncertain_significance\": \"vus\", \n",
    "        \"Conflicting_classifications_of_pathogenicity\": \"vus\", \n",
    "        \"Likely_benign\": \"likely_benign\", \n",
    "        \"Benign/Likely_benign\": \"likely_benign\", \n",
    "        \"Likely_pathogenic\": \"likely_pathogenic\", \n",
    "        \"Pathogenic/Likely_pathogenic\": \"likely_pathogenic\", \n",
    "        \"Pathogenic\": \"pathogenic\", \n",
    "        \"Benign\": \"benign\", \n",
    "    }\n",
    "    if clnsig in map_d.keys():\n",
    "        return map_d[clnsig]\n",
    "    else:\n",
    "        return \"other\"\n",
    "af_df['clinical_relevance'] = af_df['CLNSIG'].apply(map_clinical_relevance)"
   ]
  },
  {
   "cell_type": "code",
   "execution_count": null,
   "id": "d3cc3f8b-a307-4d98-9711-cc54d17c886c",
   "metadata": {},
   "outputs": [],
   "source": [
    "def classify_goldstar(clnrevstat:str)->str:\n",
    "    map_d = {\n",
    "        'practice_guideline': 4, \n",
    "        'reviewed_by_expert_panel': 3, \n",
    "        'criteria_provided&_multiple_submitters&_no_conflicts': 2, \n",
    "        'criteria_provided&_conflicting_classifications': 1, \n",
    "        'criteria_provided&_single_submitter': 1, \n",
    "        'no_assertion_criteria_provided': 0, \n",
    "        'no_classification_provided': 0, \n",
    "        'no_classification_for_the_single_variant': 0\n",
    "    }\n",
    "    return map_d[clnrevstat]\n",
    "af_df['goldstars_n'] = af_df['CLNREVSTAT'].apply(classify_goldstar)"
   ]
  },
  {
   "cell_type": "markdown",
   "id": "0c72ceae-de74-4025-9a69-16eb742fa8dd",
   "metadata": {},
   "source": [
    "# Calculate the AF, het_n & hom_n, hem_n"
   ]
  },
  {
   "cell_type": "code",
   "execution_count": null,
   "id": "3826404a-a62e-456e-9019-4adc130de5cc",
   "metadata": {},
   "outputs": [],
   "source": [
    "sample_info_df = pd.read_csv(sample_info_csv)\n",
    "sample_info_df.set_index(\"sre_participant_id\", inplace=True)"
   ]
  },
  {
   "cell_type": "code",
   "execution_count": null,
   "id": "f6e7697d-f4ec-4a29-ad27-f0d55df243e8",
   "metadata": {},
   "outputs": [],
   "source": [
    "# Get count of Male and Feamle in the cohort\n",
    "sex_cnt = dict(sample_info_df.loc[cohort_founder_df['participant_id'], 'inferred_sex'].value_counts())"
   ]
  },
  {
   "cell_type": "code",
   "execution_count": null,
   "id": "2e97b517-062a-4277-934c-e0435f3b23e2",
   "metadata": {},
   "outputs": [],
   "source": [
    "af_df['het_n'] = af_df['GT'].apply(lambda g: g.count('0/1') + g.count('0|1') + g.count('1/0') + g.count('1|0'))\n",
    "af_df['hom_n'] = af_df['GT'].apply(lambda g: g.count('1/1') + g.count('1|1'))\n",
    "af_df['hem_n'] = af_df['GT'].apply(lambda g: g.count('1'))\n",
    "af_df['AN'] = af_df.apply(lambda r: r.het_n + r.hom_n*2 + r.hem_n, axis=1)\n",
    "af_df['AC'] = af_df.apply(\n",
    "    lambda r: 2*sex_cnt['Female']+1*sex_cnt['Male'] if r['CHROM']=='chrX' else 2*sex_cnt['Female']+2*sex_cnt['Male'], axis=1\n",
    ")\n",
    "af_df['AF'] = af_df.apply(lambda r: r.AN/r.AC, axis=1)"
   ]
  },
  {
   "cell_type": "markdown",
   "id": "6c29e2fe-b5c0-4121-889f-7904eb0105df",
   "metadata": {},
   "source": [
    "# Classify the prevalence"
   ]
  },
  {
   "cell_type": "code",
   "execution_count": null,
   "id": "bfa2788b-84b6-4880-b85f-638102dfa6d6",
   "metadata": {},
   "outputs": [],
   "source": [
    "# Classify variants into Private, Rare or Common\n",
    "def classify_prevalence(participant_id:list, AF:float)->str:\n",
    "    if len(participant_id) == 1:\n",
    "        return 'private'\n",
    "    elif AF <= 0.01:\n",
    "        return 'rare'\n",
    "    else:\n",
    "        return 'common'\n",
    "af_df['prevalence'] = af_df.apply(lambda r: classify_prevalence(r.participant_id, r.AF), axis=1)"
   ]
  },
  {
   "cell_type": "markdown",
   "id": "c7e49aee-0729-4d4e-af89-58aeb664ce66",
   "metadata": {},
   "source": [
    "# Export to TSV"
   ]
  },
  {
   "cell_type": "code",
   "execution_count": null,
   "id": "bc5a14fb-ee4d-40d1-8eb5-8ec11c004f84",
   "metadata": {},
   "outputs": [],
   "source": [
    "reorder_cols:list = [\n",
    "    'CHROM', 'POS', 'REF', 'ALT', 'Gene', \n",
    "    'HGVSc', 'HGVSp', 'Consequence', 'REVEL', 'SpliceAI', \n",
    "    'clinVar_ID', 'clinical_relevance', 'goldstars_n', \n",
    "    'het_n', 'hom_n', 'hem_n', 'AN', 'AC', 'AF', 'prevalence', \n",
    "    'participant_id', 'GT', 'AD', \n",
    "]\n",
    "af_df = af_df.loc[:, reorder_cols].copy()"
   ]
  },
  {
   "cell_type": "code",
   "execution_count": null,
   "id": "e3fc2aea-0cbf-4dda-90b0-b88755a3a4fe",
   "metadata": {},
   "outputs": [],
   "source": [
    "for col in ['participant_id', 'GT', 'AD']:\n",
    "    af_df[col] = af_df[col].apply(lambda x: \".\".join(x))"
   ]
  },
  {
   "cell_type": "code",
   "execution_count": null,
   "id": "e4aed0a1-d289-455f-ab49-2c8fdfe818b5",
   "metadata": {},
   "outputs": [],
   "source": [
    "export_df = af_df.copy()\n",
    "export_df.to_csv(out_tsv, index=True, index_label='CPRA', sep='\\t')"
   ]
  },
  {
   "cell_type": "markdown",
   "id": "7c42e873",
   "metadata": {},
   "source": [
    "# Export to VCF"
   ]
  },
  {
   "cell_type": "code",
   "execution_count": null,
   "id": "b3f0c847-4639-4ab1-8f1d-9d12488ca789",
   "metadata": {},
   "outputs": [],
   "source": [
    "export_vcf_df = af_df.fillna(\".\")"
   ]
  },
  {
   "cell_type": "code",
   "execution_count": null,
   "id": "cae8f046-d9dd-4a24-b79f-9e907d69adf9",
   "metadata": {},
   "outputs": [],
   "source": [
    "# Get VCF column fields ready\n",
    "export_vcf_df.rename(columns={\n",
    "    \"CHROM\": \"#CHROM\", \n",
    "    \"clinVar_ID\": \"ID\", \n",
    "    \"het_n\": \"N_Het\", \n",
    "    \"hom_n\": \"N_Hom\", \n",
    "    \"hem_n\": \"N_Hem\"\n",
    "}, inplace=True)\n",
    "\n",
    "export_vcf_df['N_All'] = export_vcf_df['participant_id'].apply(lambda x: len(x.split(\".\")))\n",
    "export_vcf_df['NOTE'] = export_vcf_df.apply(lambda r: f\"{r.participant_id}-{r.GT}-{r.AD}\", axis=1)\n",
    "\n",
    "export_vcf_df['QUAL'] = \".\"\n",
    "export_vcf_df['FILTER'] = export_vcf_df['prevalence'].apply(lambda x: \"PRIVATE\" if x==\"private\" else \"NON_PRIVATE\")\n",
    "export_vcf_df['FORMAT'] = \"GT:AD\"\n",
    "export_vcf_df['FIRST_SAMPLE'] = export_vcf_df.apply(\n",
    "    lambda r: f\"{r.GT.split('.')[0]}:{r.AD.split('.')[0]}\", axis=1\n",
    ")\n",
    "export_vcf_df['INFO'] = export_vcf_df['Gene'].apply(lambda x: f\"Gene={x}\")\n",
    "for col in ['Consequence', 'HGVSc', 'HGVSp', 'REVEL', 'SpliceAI', 'clinical_relevance', 'goldstars_n', 'prevalence', 'N_Het', 'N_Hom', 'N_Hem', 'N_All', 'AF', 'NOTE']:\n",
    "    export_vcf_df['INFO'] = export_vcf_df.apply(\n",
    "        lambda r: f\"{r.INFO};{col}={r[col]}\", axis=1\n",
    "    )"
   ]
  },
  {
   "cell_type": "code",
   "execution_count": null,
   "id": "7fc154cf-1486-414b-8bb9-dced8594199c",
   "metadata": {},
   "outputs": [],
   "source": [
    "vcf_header_cols:list = [\n",
    "    \"#CHROM\", \"POS\", \"ID\", \"REF\", \"ALT\", \n",
    "    \"QUAL\", \"FILTER\", \"INFO\", \"FORMAT\", \"FIRST_SAMPLE\"\n",
    "]\n",
    "export_vcf_df = export_vcf_df.loc[:, vcf_header_cols]"
   ]
  },
  {
   "cell_type": "code",
   "execution_count": null,
   "id": "15faab48-7189-4b62-a6fa-2899377f5d6f",
   "metadata": {},
   "outputs": [],
   "source": [
    "# Export to VCF\n",
    "shutil.copy(vcf_headers, out_vcf)    # Add VCF header\n",
    "export_vcf_df.to_csv(out_vcf, index=False, mode='a', sep='\\t')"
   ]
  },
  {
   "cell_type": "code",
   "execution_count": null,
   "id": "e2443969",
   "metadata": {},
   "outputs": [],
   "source": []
  }
 ],
 "metadata": {
  "kernelspec": {
   "display_name": "Python 3 (ipykernel)",
   "language": "python",
   "name": "python3"
  },
  "language_info": {
   "codemirror_mode": {
    "name": "ipython",
    "version": 3
   },
   "file_extension": ".py",
   "mimetype": "text/x-python",
   "name": "python",
   "nbconvert_exporter": "python",
   "pygments_lexer": "ipython3",
   "version": "3.10.12"
  }
 },
 "nbformat": 4,
 "nbformat_minor": 5
}
