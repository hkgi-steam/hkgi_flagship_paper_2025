{
 "cells": [
  {
   "cell_type": "code",
   "execution_count": 1,
   "id": "c70f3a80",
   "metadata": {
    "vscode": {
     "languageId": "r"
    }
   },
   "outputs": [],
   "source": [
    "suppressPackageStartupMessages(library(dplyr))\n",
    "suppressPackageStartupMessages(library(ggplot2))\n",
    "suppressPackageStartupMessages(library(tidyr))\n",
    "suppressPackageStartupMessages(library(circlize))"
   ]
  },
  {
   "cell_type": "markdown",
   "id": "21c891e8",
   "metadata": {},
   "source": [
    "# Circular plot / Multilayer donut plot"
   ]
  },
  {
   "cell_type": "code",
   "execution_count": 2,
   "id": "bda57e67",
   "metadata": {
    "vscode": {
     "languageId": "r"
    }
   },
   "outputs": [],
   "source": [
    "# Input\n",
    "category = rev(c(\n",
    "    'Diagnostic testing', 'Referral', 'Clinical trial', 'Lifestyle changes', \n",
    "    'Procedure', 'Medication', 'Surveillance'\n",
    "))\n",
    "percent = rev(c(0.4, 5.5, 18.1, 27.9, 38.6, 47.4, 83.7))\n",
    "color = rev(rainbow(length(percent)))"
   ]
  },
  {
   "cell_type": "code",
   "execution_count": 3,
   "id": "5b16cd54",
   "metadata": {
    "vscode": {
     "languageId": "r"
    }
   },
   "outputs": [],
   "source": [
    "circle_colors <- c(\n",
    "    \"Diagnostic testing\" = \"#99DDFF\", \n",
    "    \"Referral\" = \"#AAAA00\", \n",
    "    \"Clinical trial\" = \"#EE8866\", \n",
    "    \"Lifestyle changes\" = \"#44BB99\", \n",
    "    \"Procedure\" = \"#EEDD88\", \n",
    "    \"Medication\" = \"#FEAABA\", \n",
    "    \"Surveillance\" = \"#77AADD\"\n",
    ")"
   ]
  },
  {
   "cell_type": "code",
   "execution_count": 4,
   "id": "a0869a75",
   "metadata": {
    "vscode": {
     "languageId": "r"
    }
   },
   "outputs": [],
   "source": [
    "# Output\n",
    "out_pdf <- \"results/primary/management_implications.noGrid.pdf\"\n",
    "\n",
    "# Extract the directory path from the full file path\n",
    "out_dir <- dirname(out_pdf)\n",
    "\n",
    "# Create the directory if it doesn't exist\n",
    "if (!dir.exists(out_dir)) {\n",
    "  dir.create(out_dir, recursive = TRUE)\n",
    "}\n"
   ]
  },
  {
   "cell_type": "code",
   "execution_count": 5,
   "id": "b9af0f38",
   "metadata": {
    "vscode": {
     "languageId": "r"
    }
   },
   "outputs": [
    {
     "data": {
      "text/html": [
       "<strong>png:</strong> 2"
      ],
      "text/latex": [
       "\\textbf{png:} 2"
      ],
      "text/markdown": [
       "**png:** 2"
      ],
      "text/plain": [
       "png \n",
       "  2 "
      ]
     },
     "metadata": {},
     "output_type": "display_data"
    }
   ],
   "source": [
    "# Plot\n",
    "# File is saved to \"results/primary/management_implications.noGrid.pdf\"\n",
    "\n",
    "pdf(out_pdf, family = \"ArialMT\", width = 10, height = 10)\n",
    "\n",
    "circos.par(\"start.degree\" = 90, cell.padding = c(0, 0, 0, 0))\n",
    "circos.initialize(\"a\", xlim = c(0, 100)) # 'a` just means there is one sector\n",
    "circos.track(ylim = c(0.5, length(percent)+0.5), track.height = 0.8, \n",
    "    bg.border = NA, panel.fun = function(x, y) {\n",
    "        xlim = CELL_META$xlim\n",
    "        circos.segments(rep(xlim[1], length(category)), 1:length(category),\n",
    "                        rep(xlim[2], length(category)), 1:length(category),\n",
    "                        # col = \"#cccccc\")    # Grey \"grid line\"\n",
    "                        col = \"#fdfdfd\")    # White \"grid line\"\n",
    "        circos.rect(rep(0, length(category)), 1:length(category) - 0.45, percent, 1:length(category) + 0.45,\n",
    "            col = circle_colors, border = \"white\")\n",
    "        circos.text(rep(xlim[1], length(category)), 1:length(category), \n",
    "            sprintf(\"%s %s%%\", category, percent), \n",
    "            facing = \"downward\", adj = c(1.05, 0.5), cex = 1.2) \n",
    "        breaks = seq(0, 85, by = 5)\n",
    "        # circos.axis(h = \"top\", major.at = breaks, labels = paste0(breaks, \"%\"), \n",
    "        #     labels.cex = 0.6)\n",
    "})\n",
    "\n",
    "dev.off()"
   ]
  },
  {
   "cell_type": "code",
   "execution_count": null,
   "id": "f9d5e94b-0d68-421d-8a4f-fb2f351ea8d7",
   "metadata": {},
   "outputs": [],
   "source": []
  }
 ],
 "metadata": {
  "kernelspec": {
   "display_name": "R",
   "language": "R",
   "name": "ir"
  },
  "language_info": {
   "codemirror_mode": "r",
   "file_extension": ".r",
   "mimetype": "text/x-r-source",
   "name": "R",
   "pygments_lexer": "r",
   "version": "4.3.1"
  }
 },
 "nbformat": 4,
 "nbformat_minor": 5
}
