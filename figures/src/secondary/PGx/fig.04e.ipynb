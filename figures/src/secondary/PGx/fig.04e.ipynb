{
 "cells": [
  {
   "cell_type": "code",
   "execution_count": 1,
   "id": "3a0cf3a7",
   "metadata": {
    "vscode": {
     "languageId": "r"
    }
   },
   "outputs": [
    {
     "name": "stderr",
     "output_type": "stream",
     "text": [
      "Warning message:\n",
      "“package ‘ggrepel’ was built under R version 4.4.3”\n"
     ]
    }
   ],
   "source": [
    "options(jupyter.plot_mimetypes = c(\"image/png\"))\n",
    "\n",
    "suppressPackageStartupMessages(library(dplyr))\n",
    "suppressPackageStartupMessages(library(tidyr))\n",
    "suppressPackageStartupMessages(library(ggplot2))\n",
    "suppressPackageStartupMessages(library(patchwork))\n",
    "suppressPackageStartupMessages(library(ggrepel))\n",
    "\n",
    "## For loading Arial font for publication\n",
    "# library(extrafont)\n",
    "\n",
    "# font_import(pattern = \"Arial\", prompt = FALSE)\n",
    "# loadfonts(device = \"pdf\")"
   ]
  },
  {
   "cell_type": "markdown",
   "id": "ab4379c8",
   "metadata": {
    "vscode": {
     "languageId": "r"
    }
   },
   "source": [
    "## Percentage of actionable prescriptions"
   ]
  },
  {
   "cell_type": "code",
   "execution_count": 2,
   "id": "0c6ff744",
   "metadata": {
    "vscode": {
     "languageId": "r"
    }
   },
   "outputs": [],
   "source": [
    "prescription_csv <- \"resources/CPIC_total-vs-actionable_prescription_count_Dec23_Nov24.csv\"\n",
    "prescription_df <- read.csv(prescription_csv, sep = \",\", header = TRUE, stringsAsFactors = FALSE)\n",
    "\n",
    "prescription_df$Drug <- stringr::str_to_title(prescription_df$Drug)\n",
    "prescription_df$Drug <- factor(prescription_df$Drug, levels = prescription_df$Drug)"
   ]
  },
  {
   "cell_type": "code",
   "execution_count": 3,
   "id": "a203e873",
   "metadata": {
    "vscode": {
     "languageId": "r"
    }
   },
   "outputs": [
    {
     "data": {
      "text/html": [
       "<table class=\"dataframe\">\n",
       "<caption>A data.frame: 6 × 3</caption>\n",
       "<thead>\n",
       "\t<tr><th></th><th scope=col>Drug</th><th scope=col>total_prescription_count_2024</th><th scope=col>predicted_actionable_prescription_count_2024</th></tr>\n",
       "\t<tr><th></th><th scope=col>&lt;fct&gt;</th><th scope=col>&lt;int&gt;</th><th scope=col>&lt;dbl&gt;</th></tr>\n",
       "</thead>\n",
       "<tbody>\n",
       "\t<tr><th scope=row>1</th><td>Pantoprazole</td><td>713644</td><td>373255.2349</td></tr>\n",
       "\t<tr><th scope=row>2</th><td>Atorvastatin</td><td>604106</td><td>142681.6263</td></tr>\n",
       "\t<tr><th scope=row>3</th><td>Simvastatin </td><td>456418</td><td>107799.7281</td></tr>\n",
       "\t<tr><th scope=row>4</th><td>Tramadol    </td><td>289634</td><td>128472.4495</td></tr>\n",
       "\t<tr><th scope=row>5</th><td>Ibuprofen   </td><td>256129</td><td> 18430.1794</td></tr>\n",
       "\t<tr><th scope=row>6</th><td>Metoprolol  </td><td>210995</td><td>   346.6322</td></tr>\n",
       "</tbody>\n",
       "</table>\n"
      ],
      "text/latex": [
       "A data.frame: 6 × 3\n",
       "\\begin{tabular}{r|lll}\n",
       "  & Drug & total\\_prescription\\_count\\_2024 & predicted\\_actionable\\_prescription\\_count\\_2024\\\\\n",
       "  & <fct> & <int> & <dbl>\\\\\n",
       "\\hline\n",
       "\t1 & Pantoprazole & 713644 & 373255.2349\\\\\n",
       "\t2 & Atorvastatin & 604106 & 142681.6263\\\\\n",
       "\t3 & Simvastatin  & 456418 & 107799.7281\\\\\n",
       "\t4 & Tramadol     & 289634 & 128472.4495\\\\\n",
       "\t5 & Ibuprofen    & 256129 &  18430.1794\\\\\n",
       "\t6 & Metoprolol   & 210995 &    346.6322\\\\\n",
       "\\end{tabular}\n"
      ],
      "text/markdown": [
       "\n",
       "A data.frame: 6 × 3\n",
       "\n",
       "| <!--/--> | Drug &lt;fct&gt; | total_prescription_count_2024 &lt;int&gt; | predicted_actionable_prescription_count_2024 &lt;dbl&gt; |\n",
       "|---|---|---|---|\n",
       "| 1 | Pantoprazole | 713644 | 373255.2349 |\n",
       "| 2 | Atorvastatin | 604106 | 142681.6263 |\n",
       "| 3 | Simvastatin  | 456418 | 107799.7281 |\n",
       "| 4 | Tramadol     | 289634 | 128472.4495 |\n",
       "| 5 | Ibuprofen    | 256129 |  18430.1794 |\n",
       "| 6 | Metoprolol   | 210995 |    346.6322 |\n",
       "\n"
      ],
      "text/plain": [
       "  Drug         total_prescription_count_2024\n",
       "1 Pantoprazole 713644                       \n",
       "2 Atorvastatin 604106                       \n",
       "3 Simvastatin  456418                       \n",
       "4 Tramadol     289634                       \n",
       "5 Ibuprofen    256129                       \n",
       "6 Metoprolol   210995                       \n",
       "  predicted_actionable_prescription_count_2024\n",
       "1 373255.2349                                 \n",
       "2 142681.6263                                 \n",
       "3 107799.7281                                 \n",
       "4 128472.4495                                 \n",
       "5  18430.1794                                 \n",
       "6    346.6322                                 "
      ]
     },
     "metadata": {},
     "output_type": "display_data"
    }
   ],
   "source": [
    "head(prescription_df)"
   ]
  },
  {
   "cell_type": "code",
   "execution_count": 4,
   "id": "ed3a0e4b",
   "metadata": {
    "vscode": {
     "languageId": "r"
    }
   },
   "outputs": [
    {
     "name": "stderr",
     "output_type": "stream",
     "text": [
      "Warning message:\n",
      "“\u001b[1m\u001b[22mA numeric `legend.position` argument in `theme()` was deprecated in ggplot2 3.5.0.\n",
      "\u001b[36mℹ\u001b[39m Please use the `legend.position.inside` argument of `theme()` instead.”\n"
     ]
    },
    {
     "data": {
      "image/png": "[encoded data removed]"
     },
     "metadata": {
      "image/png": {
       "height": 420,
       "width": 420
      }
     },
     "output_type": "display_data"
    }
   ],
   "source": [
    "# Reshape the data to a long format\n",
    "prescription_long <- prescription_df %>%\n",
    "  select(Drug, total_prescription_count_2024, predicted_actionable_prescription_count_2024) %>%\n",
    "  mutate(\n",
    "    non_actionable_count = total_prescription_count_2024 - predicted_actionable_prescription_count_2024\n",
    "  ) %>%\n",
    "  pivot_longer(\n",
    "    cols = c(non_actionable_count, predicted_actionable_prescription_count_2024),\n",
    "    names_to = \"Prescription_Type\",\n",
    "    values_to = \"Count\"\n",
    "  )\n",
    "prescription_long$Prescription_Type <- factor(\n",
    "  prescription_long$Prescription_Type, \n",
    "  levels = c(\"non_actionable_count\", \"predicted_actionable_prescription_count_2024\"),\n",
    "  labels = c(\"Non-actionable prescriptions\", \"Actionable prescriptions\")\n",
    ")\n",
    "\n",
    "# Create the stacked bar chart\n",
    "grouped_bar_chart <- ggplot(prescription_long, aes(x = Drug, y = Count, fill = Prescription_Type)) +\n",
    "  geom_bar(stat = \"identity\") +\n",
    "  labs(\n",
    "    title = \"\",\n",
    "    x = \"Drug\",\n",
    "    y = \"Prescription Count in 2024\\nHong Kong\",\n",
    "    fill = \"\"\n",
    "  ) + \n",
    "  scale_fill_manual(\n",
    "    values = c(\n",
    "      \"Non-actionable prescriptions\" = \"#CCCCCC\",\n",
    "      \"Actionable prescriptions\" = \"#333333\"\n",
    "    )\n",
    "  ) + \n",
    "  scale_y_continuous(\n",
    "      labels = scales::comma_format(), \n",
    "      breaks = seq(0, 700000, by = 100000),  # Set y-axis ticks at 5% intervals\n",
    "      limits = c(0, 725000),     \n",
    "      expand = c(0, 0)  # Remove space at the bottom of the y-axis\n",
    "  ) + \n",
    "  # theme_minimal(base_family = \"Arial\") +\n",
    "  theme_minimal() +\n",
    "  theme(\n",
    "    # # Font sizes for publication\n",
    "    # axis.text.y = element_text(size = 6),  # Former x-axis text, now on y-axis\n",
    "    # axis.text.x = element_text(angle = 45, size = 6, hjust = 1),  # Former y-axis text, now on x-axis\n",
    "    # axis.title.y = element_text(size = 7),  # Former x-axis title\n",
    "    # axis.title.x = element_text(size = 7),  # Former y-axis title\n",
    "    # legend.title = element_text(size = 7),\n",
    "    # legend.text = element_text(size = 6),\n",
    "    # Font sizes for notebook\n",
    "    axis.text.y = element_text(size = 12),  # Former x-axis text, now on y-axis\n",
    "    axis.text.x = element_text(angle = 45, size = 12, hjust = 1),  # Former y-axis text, now on x-axis\n",
    "    axis.title.y = element_text(size = 14),  # Former x-axis title\n",
    "    axis.title.x = element_text(size = 14),  # Former y-axis title\n",
    "    legend.title = element_text(size = 14),\n",
    "    legend.text = element_text(size = 12),\n",
    "\n",
    "    plot.title = element_blank(),\n",
    "    panel.grid = element_blank(), \n",
    "    axis.line = element_line(color = \"black\"), \n",
    "    legend.key.size = unit(0.3, \"cm\"),\n",
    "    # legend.position = \"none\",\n",
    "    legend.position = c(0.75, 0.9)\n",
    "  )\n",
    "\n",
    "# Display the plot\n",
    "grouped_bar_chart\n",
    "\n",
    "\n",
    "# # Export the plot to PDF    \n",
    "# ggsave(\n",
    "#   filename = \"results/pgx/prescription_actionable_counts.pdf\", \n",
    "#   plot = grouped_bar_chart, \n",
    "#   width = 60, height = 58,\n",
    "#   units = \"mm\", dpi = 600\n",
    "# )"
   ]
  },
  {
   "cell_type": "code",
   "execution_count": null,
   "id": "51bc0cd6",
   "metadata": {
    "vscode": {
     "languageId": "r"
    }
   },
   "outputs": [],
   "source": []
  }
 ],
 "metadata": {
  "kernelspec": {
   "display_name": "R",
   "language": "R",
   "name": "ir"
  },
  "language_info": {
   "codemirror_mode": "r",
   "file_extension": ".r",
   "mimetype": "text/x-r-source",
   "name": "R",
   "pygments_lexer": "r",
   "version": "4.4.1"
  }
 },
 "nbformat": 4,
 "nbformat_minor": 5
}
