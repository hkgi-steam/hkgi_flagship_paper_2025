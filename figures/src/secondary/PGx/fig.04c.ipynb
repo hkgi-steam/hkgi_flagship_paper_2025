{
 "cells": [
  {
   "cell_type": "code",
   "execution_count": 1,
   "id": "7f5c9f63",
   "metadata": {
    "vscode": {
     "languageId": "r"
    }
   },
   "outputs": [
    {
     "name": "stderr",
     "output_type": "stream",
     "text": [
      "Warning message:\n",
      "“package ‘ggrepel’ was built under R version 4.4.3”\n"
     ]
    }
   ],
   "source": [
    "options(jupyter.plot_mimetypes = c(\"image/png\"))\n",
    "\n",
    "suppressPackageStartupMessages(library(dplyr))\n",
    "suppressPackageStartupMessages(library(tidyr))\n",
    "suppressPackageStartupMessages(library(ggplot2))\n",
    "suppressPackageStartupMessages(library(patchwork))\n",
    "suppressPackageStartupMessages(library(ggrepel))\n",
    "\n",
    "## For loading Arial font for publication\n",
    "# library(extrafont)\n",
    "\n",
    "# font_import(pattern = \"Arial\", prompt = FALSE)\n",
    "# loadfonts(device = \"pdf\")"
   ]
  },
  {
   "cell_type": "code",
   "execution_count": 2,
   "id": "15a7520e",
   "metadata": {
    "vscode": {
     "languageId": "r"
    }
   },
   "outputs": [],
   "source": [
    "idv_act_tsv <- \"resources/per_idv_actionability.tsv\"\n",
    "idv_act_df <- read.table(idv_act_tsv, sep = \"\\t\", header = TRUE, stringsAsFactors = FALSE)"
   ]
  },
  {
   "cell_type": "code",
   "execution_count": 3,
   "id": "35c62aa3",
   "metadata": {
    "vscode": {
     "languageId": "r"
    }
   },
   "outputs": [
    {
     "name": "stderr",
     "output_type": "stream",
     "text": [
      "Warning message:\n",
      "“\u001b[1m\u001b[22mRemoved 2 rows containing missing values or values outside the scale range (`geom_bar()`).”\n"
     ]
    },
    {
     "data": {
      "image/png": "[encoded data removed]"
     },
     "metadata": {
      "image/png": {
       "height": 420,
       "width": 420
      }
     },
     "output_type": "display_data"
    }
   ],
   "source": [
    "# Histogram of \"count\"\n",
    "histogram <- ggplot(idv_act_df, aes(x = actionable_gene_count)) +\n",
    "  geom_histogram(binwidth = 1, fill = \"#333333\", color = \"white\") +\n",
    "  labs(title = \"\",\n",
    "       x = \"No. of Actionable Pharmacogenes\",\n",
    "       y = \"No. of Participants\") +\n",
    "  scale_x_continuous(\n",
    "      breaks = seq(0, max(idv_act_df$actionable_gene_count), by = 1),\n",
    "      limits = c(0, max(idv_act_df$actionable_gene_count))\n",
    "  ) + \n",
    "  scale_y_continuous(\n",
    "      breaks = seq(0, 4500, by = 1000),  # Changed from 500 to 1000\n",
    "      limits = c(0, 4500),     \n",
    "      expand = c(0, 0)  # Remove space at the bottom of the y-axis\n",
    "  ) +\n",
    "  # theme_minimal(base_family = \"Arial\") +\n",
    "  theme_minimal() +\n",
    "  theme(\n",
    "    # Publication sizes\n",
    "    # axis.text.y = element_text(size = 5),\n",
    "    # axis.text.x = element_text(size = 6),\n",
    "    # axis.title.y = element_text(size = 7),\n",
    "    # axis.title.x = element_text(size = 7),\n",
    "    # legend.title = element_text(size = 7),\n",
    "    # legend.text = element_text(size = 6),\n",
    "    # Notebook sizes\n",
    "    axis.text.y = element_text(size = 12),\n",
    "    axis.text.x = element_text(size = 12),\n",
    "    axis.title.y = element_text(size = 14),\n",
    "    axis.title.x = element_text(size = 14),\n",
    "    legend.title = element_text(size = 14),\n",
    "    legend.text = element_text(size = 12),\n",
    "\n",
    "    plot.title = element_blank(),\n",
    "    panel.grid = element_blank(), \n",
    "    axis.line = element_line(color = \"black\"), \n",
    "    legend.key.size = unit(0.3, \"cm\"),\n",
    "    legend.position = \"none\",\n",
    "    plot.margin = margin(10, 2, 2, 2)\n",
    "  )\n",
    "\n",
    "histogram\n",
    "\n",
    "# # Export the plot to PDF\n",
    "# ggsave(\n",
    "#   filename = \"results/pgx/actionable_pharmacogenes_histogram.pdf\", \n",
    "#   plot = histogram, \n",
    "#   width = 82.5, height = 28,\n",
    "#   units = \"mm\", dpi = 600\n",
    "# )"
   ]
  },
  {
   "cell_type": "code",
   "execution_count": null,
   "id": "3aa9f846",
   "metadata": {
    "vscode": {
     "languageId": "r"
    }
   },
   "outputs": [],
   "source": []
  }
 ],
 "metadata": {
  "kernelspec": {
   "display_name": "R",
   "language": "R",
   "name": "ir"
  },
  "language_info": {
   "codemirror_mode": "r",
   "file_extension": ".r",
   "mimetype": "text/x-r-source",
   "name": "R",
   "pygments_lexer": "r",
   "version": "4.4.1"
  }
 },
 "nbformat": 4,
 "nbformat_minor": 5
}
