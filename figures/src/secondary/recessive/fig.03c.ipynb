{
 "cells": [
  {
   "cell_type": "code",
   "execution_count": 1,
   "id": "80fc8f50",
   "metadata": {
    "vscode": {
     "languageId": "r"
    }
   },
   "outputs": [],
   "source": [
    "options(jupyter.plot_mimetypes = c(\"image/png\"))\n",
    "\n",
    "suppressPackageStartupMessages(library(dplyr))\n",
    "suppressPackageStartupMessages(library(tidyr))\n",
    "suppressPackageStartupMessages(library(ggplot2))\n",
    "suppressPackageStartupMessages(library(patchwork))\n",
    "\n",
    "## For loading Arial font for publication\n",
    "# library(extrafont)\n",
    "\n",
    "# font_import(pattern = \"Arial\", prompt = FALSE)\n",
    "# loadfonts(device = \"pdf\")"
   ]
  },
  {
   "cell_type": "code",
   "execution_count": 2,
   "id": "a69850c9",
   "metadata": {
    "vscode": {
     "languageId": "r"
    }
   },
   "outputs": [],
   "source": [
    "# Read the master df\n",
    "master_csv <- \"resources/carrier.genes.plus_actual_at_risk_birth_rate.csv\"\n",
    "master_df <- read.csv(file = master_csv, header = TRUE, sep = \",\", stringsAsFactors = FALSE)"
   ]
  },
  {
   "cell_type": "code",
   "execution_count": 3,
   "id": "743aac74",
   "metadata": {
    "vscode": {
     "languageId": "r"
    }
   },
   "outputs": [],
   "source": [
    "# Define custom colors for ACMG tiers\n",
    "custom_colors <- c(\n",
    "  \"tier_1\" = \"#6F9BFF\", \n",
    "  \"tier_2\" = \"#E2695F\", \n",
    "  \"tier_3\" = \"#71EDBC\", \n",
    "  \"tier_4\" = \"#FEE54C\", \n",
    "  \"grey\" = \"#333333\", \n",
    "  \"light_grey\" = \"#CCCCCC\"\n",
    ")"
   ]
  },
  {
   "cell_type": "markdown",
   "id": "ecc7a52a",
   "metadata": {},
   "source": [
    "## Tiering plots - ACMG tiers across populations"
   ]
  },
  {
   "cell_type": "code",
   "execution_count": 4,
   "id": "15401312",
   "metadata": {
    "vscode": {
     "languageId": "r"
    }
   },
   "outputs": [],
   "source": [
    "NFE_df <- master_df %>% \n",
    "    select(gene, acmg_tier_gnomAD.NFE, carrier_rate_gnomAD.NFE) %>%\n",
    "    rename(acmg_tier = acmg_tier_gnomAD.NFE, carrier_rate = carrier_rate_gnomAD.NFE) %>% \n",
    "    filter(acmg_tier != \"tier_4\")\n",
    "\n",
    "# Treat the acmg_tier as a factor\n",
    "NFE_df$acmg_tier <- factor(NFE_df$acmg_tier, levels = c(\"tier_1\", \"tier_2\", \"tier_3\"))\n",
    "\n",
    "# Sort the data frame by acmg_tier then carrier_rate\n",
    "NFE_df <- NFE_df %>%\n",
    "  arrange(acmg_tier, desc(carrier_rate))\n",
    "\n",
    "# Fill NA with 0\n",
    "NFE_df[is.na(NFE_df)] <- 0\n",
    "\n",
    "# Add a column indicating the rank of each gene within the dataframe\n",
    "NFE_df <- NFE_df %>%\n",
    "  mutate(rank = row_number())\n",
    "\n",
    "# Calculate the cumulative sum of carrier_rate\n",
    "NFE_df <- NFE_df %>%\n",
    "  mutate(cumulative_sum = cumsum(carrier_rate))\n",
    "\n",
    "# Add a dummy entry for each tier, indicating the end of the last tier\n",
    "t1_df <- NFE_df %>% filter(acmg_tier == \"tier_1\")\n",
    "t2_df <- NFE_df %>% filter(acmg_tier == \"tier_2\")\n",
    "t3_df <- NFE_df %>% filter(acmg_tier == \"tier_3\")\n",
    "dummy_df <- data.frame(\n",
    "    rank = c(\n",
    "        0, \n",
    "        t1_df[nrow(t1_df),'rank'], \n",
    "        t2_df[nrow(t2_df),'rank']\n",
    "    ), \n",
    "    cumulative_sum = c(\n",
    "        0, \n",
    "        t1_df[nrow(t1_df),'cumulative_sum'], \n",
    "        t2_df[nrow(t2_df),'cumulative_sum']\n",
    "    ), \n",
    "    acmg_tier = c(\"tier_1\", \"tier_2\", \"tier_3\")\n",
    ")\n",
    "NFE_df <- NFE_df %>% \n",
    "  bind_rows(dummy_df) %>% \n",
    "  arrange(acmg_tier, cumulative_sum)  # Reorder the data\n",
    "\n",
    "NFE_df$Population <- \"European\"    # Mark the Population"
   ]
  },
  {
   "cell_type": "code",
   "execution_count": 5,
   "id": "ee1176d6",
   "metadata": {
    "vscode": {
     "languageId": "r"
    }
   },
   "outputs": [],
   "source": [
    "AFR_df <- master_df %>% \n",
    "    select(gene, acmg_tier_gnomAD.AFR, carrier_rate_gnomAD.AFR) %>%\n",
    "    rename(acmg_tier = acmg_tier_gnomAD.AFR, carrier_rate = carrier_rate_gnomAD.AFR) %>% \n",
    "    filter(acmg_tier != \"tier_4\")\n",
    "\n",
    "# Treat the acmg_tier as a factor\n",
    "AFR_df$acmg_tier <- factor(AFR_df$acmg_tier, levels = c(\"tier_1\", \"tier_2\", \"tier_3\"))\n",
    "\n",
    "# Sort the data frame by acmg_tier then carrier_rate\n",
    "AFR_df <- AFR_df %>%\n",
    "  arrange(acmg_tier, desc(carrier_rate))\n",
    "\n",
    "# Fill NA with 0\n",
    "AFR_df[is.na(AFR_df)] <- 0\n",
    "\n",
    "# Add a column indicating the rank of each gene within the dataframe\n",
    "AFR_df <- AFR_df %>%\n",
    "  mutate(rank = row_number())\n",
    "\n",
    "# Calculate the cumulative sum of carrier_rate\n",
    "AFR_df <- AFR_df %>%\n",
    "  mutate(cumulative_sum = cumsum(carrier_rate))\n",
    "\n",
    "# Add a dummy entry for each tier, indicating the end of the last tier\n",
    "t1_df <- AFR_df %>% filter(acmg_tier == \"tier_1\")\n",
    "t2_df <- AFR_df %>% filter(acmg_tier == \"tier_2\")\n",
    "t3_df <- AFR_df %>% filter(acmg_tier == \"tier_3\")\n",
    "dummy_df <- data.frame(\n",
    "    rank = c(\n",
    "        0, \n",
    "        t1_df[nrow(t1_df),'rank'], \n",
    "        t2_df[nrow(t2_df),'rank']\n",
    "    ), \n",
    "    cumulative_sum = c(\n",
    "        0, \n",
    "        t1_df[nrow(t1_df),'cumulative_sum'], \n",
    "        t2_df[nrow(t2_df),'cumulative_sum']\n",
    "    ), \n",
    "    acmg_tier = c(\"tier_1\", \"tier_2\", \"tier_3\")\n",
    ")\n",
    "AFR_df <- AFR_df %>% \n",
    "  bind_rows(dummy_df) %>% \n",
    "  arrange(acmg_tier, cumulative_sum)  # Reorder the data\n",
    "\n",
    "AFR_df$Population <- \"African\"    # Mark the Population"
   ]
  },
  {
   "cell_type": "code",
   "execution_count": 6,
   "id": "118cedb6",
   "metadata": {
    "vscode": {
     "languageId": "r"
    }
   },
   "outputs": [],
   "source": [
    "EAS_df <- master_df %>% \n",
    "    select(gene, acmg_tier_gnomAD.EAS, carrier_rate_gnomAD.EAS) %>%\n",
    "    rename(acmg_tier = acmg_tier_gnomAD.EAS, carrier_rate = carrier_rate_gnomAD.EAS) %>% \n",
    "    filter(acmg_tier != \"tier_4\")\n",
    "\n",
    "# Treat the acmg_tier as a factor\n",
    "EAS_df$acmg_tier <- factor(EAS_df$acmg_tier, levels = c(\"tier_1\", \"tier_2\", \"tier_3\"))\n",
    "\n",
    "# Sort the data frame by acmg_tier then carrier_rate\n",
    "EAS_df <- EAS_df %>%\n",
    "  arrange(acmg_tier, desc(carrier_rate))\n",
    "\n",
    "# Fill NA with 0\n",
    "EAS_df[is.na(EAS_df)] <- 0\n",
    "\n",
    "# Add a column indicating the rank of each gene within the datEASame\n",
    "EAS_df <- EAS_df %>%\n",
    "  mutate(rank = row_number())\n",
    "\n",
    "# Calculate the cumulative sum of carrier_rate\n",
    "EAS_df <- EAS_df %>%\n",
    "  mutate(cumulative_sum = cumsum(carrier_rate))\n",
    "\n",
    "# Add a dummy entry for each tier, indicating the end of the last tier\n",
    "t1_df <- EAS_df %>% filter(acmg_tier == \"tier_1\")\n",
    "t2_df <- EAS_df %>% filter(acmg_tier == \"tier_2\")\n",
    "t3_df <- EAS_df %>% filter(acmg_tier == \"tier_3\")\n",
    "dummy_df <- data.frame(\n",
    "    rank = c(\n",
    "        0, \n",
    "        t1_df[nrow(t1_df),'rank'], \n",
    "        t2_df[nrow(t2_df),'rank']\n",
    "    ), \n",
    "    cumulative_sum = c(\n",
    "        0, \n",
    "        t1_df[nrow(t1_df),'cumulative_sum'], \n",
    "        t2_df[nrow(t2_df),'cumulative_sum']\n",
    "    ), \n",
    "    acmg_tier = c(\"tier_1\", \"tier_2\", \"tier_3\")\n",
    ")\n",
    "EAS_df <- EAS_df %>% \n",
    "  bind_rows(dummy_df) %>% \n",
    "  arrange(acmg_tier, cumulative_sum)  # Reorder the data\n",
    "\n",
    "EAS_df$Population <- \"East Asian\"    # Mark the Population"
   ]
  },
  {
   "cell_type": "code",
   "execution_count": 7,
   "id": "30d37596",
   "metadata": {
    "vscode": {
     "languageId": "r"
    }
   },
   "outputs": [],
   "source": [
    "CHI_df <- master_df %>% \n",
    "    select(gene, acmg_tier_hkgi, carrier_rate_hkgi) %>%\n",
    "    rename(acmg_tier = acmg_tier_hkgi, carrier_rate = carrier_rate_hkgi) %>% \n",
    "    filter(acmg_tier != \"tier_4\")\n",
    "\n",
    "# Treat the acmg_tier as a factor\n",
    "CHI_df$acmg_tier <- factor(CHI_df$acmg_tier, levels = c(\"tier_1\", \"tier_2\", \"tier_3\"))\n",
    "\n",
    "# Sort the data frame by acmg_tier then carrier_rate\n",
    "CHI_df <- CHI_df %>%\n",
    "  arrange(acmg_tier, desc(carrier_rate))\n",
    "\n",
    "# Fill NA with 0\n",
    "CHI_df[is.na(CHI_df)] <- 0\n",
    "\n",
    "# Add a column indicating the rank of each gene within the datCHIame\n",
    "CHI_df <- CHI_df %>%\n",
    "  mutate(rank = row_number())\n",
    "\n",
    "# Calculate the cumulative sum of carrier_rate\n",
    "CHI_df <- CHI_df %>%\n",
    "  mutate(cumulative_sum = cumsum(carrier_rate))\n",
    "\n",
    "# Add a dummy entry for each tier, indicating the end of the last tier\n",
    "t1_df <- CHI_df %>% filter(acmg_tier == \"tier_1\")\n",
    "t2_df <- CHI_df %>% filter(acmg_tier == \"tier_2\")\n",
    "t3_df <- CHI_df %>% filter(acmg_tier == \"tier_3\")\n",
    "dummy_df <- data.frame(\n",
    "    rank = c(\n",
    "        0, \n",
    "        t1_df[nrow(t1_df),'rank'], \n",
    "        t2_df[nrow(t2_df),'rank']\n",
    "    ), \n",
    "    cumulative_sum = c(\n",
    "        0, \n",
    "        t1_df[nrow(t1_df),'cumulative_sum'], \n",
    "        t2_df[nrow(t2_df),'cumulative_sum']\n",
    "    ), \n",
    "    acmg_tier = c(\"tier_1\", \"tier_2\", \"tier_3\")\n",
    ")\n",
    "CHI_df <- CHI_df %>% \n",
    "  bind_rows(dummy_df) %>% \n",
    "  arrange(acmg_tier, cumulative_sum)  # Reorder the data\n",
    "\n",
    "CHI_df$Population <- \"Chinese\"    # Mark the Population"
   ]
  },
  {
   "cell_type": "code",
   "execution_count": 8,
   "id": "bde08fa0",
   "metadata": {
    "vscode": {
     "languageId": "r"
    }
   },
   "outputs": [],
   "source": [
    "combined_df <- rbind(NFE_df, AFR_df, EAS_df, CHI_df)\n",
    "combined_df$Population <- factor(combined_df$Population, levels = c(\"European\", \"African\", \"East Asian\", \"Chinese\"))\n",
    "combined_df <- combined_df %>% \n",
    "    select(Population, acmg_tier, rank, cumulative_sum)"
   ]
  },
  {
   "cell_type": "code",
   "execution_count": 9,
   "id": "74148c4a",
   "metadata": {
    "vscode": {
     "languageId": "r"
    }
   },
   "outputs": [],
   "source": [
    "plot_df <- combined_df %>% \n",
    "    filter(acmg_tier == \"tier_1\" | acmg_tier == \"tier_2\" | acmg_tier == \"tier_3\")"
   ]
  },
  {
   "cell_type": "code",
   "execution_count": 10,
   "id": "317eb3ba",
   "metadata": {
    "vscode": {
     "languageId": "r"
    }
   },
   "outputs": [
    {
     "name": "stderr",
     "output_type": "stream",
     "text": [
      "Warning message:\n",
      "“\u001b[1m\u001b[22mUsing `size` aesthetic for lines was deprecated in ggplot2 3.4.0.\n",
      "\u001b[36mℹ\u001b[39m Please use `linewidth` instead.”\n"
     ]
    },
    {
     "data": {
      "image/png": "[encoded data removed]"
     },
     "metadata": {
      "image/png": {
       "height": 420,
       "width": 420
      }
     },
     "output_type": "display_data"
    }
   ],
   "source": [
    "line_plot <- ggplot(plot_df, aes(x = rank, y = cumulative_sum, color = acmg_tier, linetype = Population)) +\n",
    "    # Reduce line width to 0.6 and add alpha for transparency\n",
    "  geom_line(size = 0.6, alpha = 0.8) +\n",
    "  scale_color_manual(\n",
    "    values = c(\n",
    "      \"tier_1\" = custom_colors[[\"tier_1\"]],\n",
    "      \"tier_2\" = custom_colors[[\"tier_2\"]],\n",
    "      \"tier_3\" = custom_colors[[\"tier_3\"]]\n",
    "    )\n",
    "  ) +\n",
    "  scale_linetype_manual(\n",
    "    values = c(\n",
    "      \"European\" = \"solid\",\n",
    "      \"African\" = \"dotdash\",\n",
    "      \"East Asian\" = \"dotted\",\n",
    "      \"Chinese\" = \"dashed\"\n",
    "    )\n",
    "  ) +\n",
    "  labs(\n",
    "    title = \"\",\n",
    "    x = \"Panel Size\",\n",
    "    y = \"cGCF\",\n",
    "    color = \"ACMG Tier\",\n",
    "    linetype = \"Population\"\n",
    "  ) + \n",
    "  scale_x_continuous(\n",
    "    breaks = seq(0, 111, by = 10),  # Set y-axis ticks at 5% intervals\n",
    "    limits = c(-5, 111), \n",
    "    expand = c(0, 0)  # Remove space at the bottom of the y-axis\n",
    "  ) + \n",
    "  scale_y_continuous(\n",
    "    breaks = seq(0, 0.7, by = 0.1),  # Set y-axis ticks at 5% intervals\n",
    "    limits = c(0, 0.7), \n",
    "    expand = c(0, 0)  # Remove space at the bottom of the y-axis\n",
    "  ) + \n",
    "  theme_minimal() +\n",
    "  # theme_minimal(base_family = \"Arial\") +\n",
    "  theme(\n",
    "    # plot.title = element_text(size = 14, hjust = 0.5), \n",
    "    plot.title = element_blank(),\n",
    "    panel.grid = element_blank(), \n",
    "    axis.line = element_line(color = \"black\"),\n",
    "    axis.title.y = element_text(size = 7),\n",
    "    axis.title.x = element_text(size = 7),\n",
    "    axis.text.y = element_text(size = 6),\n",
    "    axis.text.x = element_text(size = 6),\n",
    "    panel.grid.major.x = element_blank(),\n",
    "    panel.grid.minor.x = element_blank(),\n",
    "    # legend.position = c(0.9, 0.3), \n",
    "    legend.position = \"none\",\n",
    "    legend.title = element_text(size = 6),\n",
    "    legend.text = element_text(size = 5),\n",
    "    # Reduce spacing between legend elements\n",
    "    legend.spacing.x = unit(0.05, \"cm\"),\n",
    "    legend.spacing.y = unit(0.05, \"cm\"),\n",
    "    legend.margin = margin(0, 0, 0, 0),\n",
    "    # Make legend more compact\n",
    "    legend.key.height = unit(0.25, \"cm\"),\n",
    "    legend.key.width = unit(0.6, \"cm\"),\n",
    "    # Optional: adjust legend box spacing\n",
    "    legend.box.spacing = unit(0.1, \"cm\"),\n",
    "    plot.margin = margin(5, 5, 5, 5)\n",
    "  )\n",
    "\n",
    "\n",
    "\n",
    "line_plot\n",
    "\n",
    "# # Save the plot\n",
    "# ggsave(\n",
    "#   filename = \"results/secondary/recessive/main/acmg_tier_cGCF.pdf\",\n",
    "#   plot = line_plot,\n",
    "#   width = 60, height = 60,\n",
    "# \tunits = \"mm\", dpi = 600\n",
    "# )"
   ]
  },
  {
   "cell_type": "code",
   "execution_count": null,
   "id": "ff4bfbe5",
   "metadata": {
    "vscode": {
     "languageId": "r"
    }
   },
   "outputs": [],
   "source": []
  }
 ],
 "metadata": {
  "kernelspec": {
   "display_name": "R",
   "language": "R",
   "name": "ir"
  },
  "language_info": {
   "codemirror_mode": "r",
   "file_extension": ".r",
   "mimetype": "text/x-r-source",
   "name": "R",
   "pygments_lexer": "r",
   "version": "4.4.1"
  }
 },
 "nbformat": 4,
 "nbformat_minor": 5
}
