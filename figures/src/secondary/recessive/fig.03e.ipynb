{
 "cells": [
  {
   "cell_type": "code",
   "execution_count": 1,
   "id": "80fc8f50",
   "metadata": {
    "vscode": {
     "languageId": "r"
    }
   },
   "outputs": [],
   "source": [
    "options(jupyter.plot_mimetypes = c(\"image/png\"))\n",
    "\n",
    "suppressPackageStartupMessages(library(dplyr))\n",
    "suppressPackageStartupMessages(library(tidyr))\n",
    "suppressPackageStartupMessages(library(ggplot2))\n",
    "suppressPackageStartupMessages(library(patchwork))\n",
    "\n",
    "## For loading Arial font for publication\n",
    "# library(extrafont)\n",
    "\n",
    "# font_import(pattern = \"Arial\", prompt = FALSE)\n",
    "# loadfonts(device = \"pdf\")"
   ]
  },
  {
   "cell_type": "code",
   "execution_count": 2,
   "id": "a69850c9",
   "metadata": {
    "vscode": {
     "languageId": "r"
    }
   },
   "outputs": [],
   "source": [
    "# Read the master df\n",
    "master_csv <- \"resources/recessive.cross_studies_comparison.csv\"\n",
    "master_df <- read.csv(file = master_csv, header = TRUE, sep = \",\", stringsAsFactors = FALSE)"
   ]
  },
  {
   "cell_type": "code",
   "execution_count": 3,
   "id": "743aac74",
   "metadata": {
    "vscode": {
     "languageId": "r"
    }
   },
   "outputs": [],
   "source": [
    "# Define custom colors for ACMG tiers\n",
    "custom_colors <- c(\n",
    "  \"tier_1\" = \"#6F9BFF\", \n",
    "  \"tier_2\" = \"#E2695F\", \n",
    "  \"tier_3\" = \"#71EDBC\", \n",
    "  \"tier_4\" = \"#FEE54C\", \n",
    "  \"grey\" = \"#333333\", \n",
    "  \"light_grey\" = \"#CCCCCC\"\n",
    ")"
   ]
  },
  {
   "cell_type": "markdown",
   "id": "ecc7a52a",
   "metadata": {},
   "source": [
    "## Tiering plots - ACMG tiers across populations"
   ]
  },
  {
   "cell_type": "code",
   "execution_count": 4,
   "id": "15401312",
   "metadata": {
    "vscode": {
     "languageId": "r"
    }
   },
   "outputs": [],
   "source": [
    "NFE_df <- master_df %>% \n",
    "    select(gene, acmg_tier_gnomAD.NFE, carrier_rate_gnomAD.NFE) %>%\n",
    "    rename(acmg_tier = acmg_tier_gnomAD.NFE, carrier_rate = carrier_rate_gnomAD.NFE) %>% \n",
    "    filter(acmg_tier != \"tier_4\")\n",
    "\n",
    "# Treat the acmg_tier as a factor\n",
    "NFE_df$acmg_tier <- factor(NFE_df$acmg_tier, levels = c(\"tier_1\", \"tier_2\", \"tier_3\"))\n",
    "\n",
    "# Sort the data frame by acmg_tier then carrier_rate\n",
    "NFE_df <- NFE_df %>%\n",
    "  arrange(acmg_tier, desc(carrier_rate))\n",
    "\n",
    "# Fill NA with 0\n",
    "NFE_df[is.na(NFE_df)] <- 0\n",
    "\n",
    "# Add a column indicating the rank of each gene within the dataframe\n",
    "NFE_df <- NFE_df %>%\n",
    "  mutate(rank = row_number())\n",
    "\n",
    "# Calculate the cumulative sum of carrier_rate\n",
    "NFE_df <- NFE_df %>%\n",
    "  mutate(cumulative_sum = cumsum(carrier_rate))\n",
    "\n",
    "# Add a dummy entry for each tier, indicating the end of the last tier\n",
    "t1_df <- NFE_df %>% filter(acmg_tier == \"tier_1\")\n",
    "t2_df <- NFE_df %>% filter(acmg_tier == \"tier_2\")\n",
    "t3_df <- NFE_df %>% filter(acmg_tier == \"tier_3\")\n",
    "dummy_df <- data.frame(\n",
    "    rank = c(\n",
    "        0, \n",
    "        t1_df[nrow(t1_df),'rank'], \n",
    "        t2_df[nrow(t2_df),'rank']\n",
    "    ), \n",
    "    cumulative_sum = c(\n",
    "        0, \n",
    "        t1_df[nrow(t1_df),'cumulative_sum'], \n",
    "        t2_df[nrow(t2_df),'cumulative_sum']\n",
    "    ), \n",
    "    acmg_tier = c(\"tier_1\", \"tier_2\", \"tier_3\")\n",
    ")\n",
    "NFE_df <- NFE_df %>% \n",
    "  bind_rows(dummy_df) %>% \n",
    "  arrange(acmg_tier, cumulative_sum)  # Reorder the data\n",
    "\n",
    "NFE_df$Population <- \"European\"    # Mark the Population"
   ]
  },
  {
   "cell_type": "code",
   "execution_count": 5,
   "id": "ee1176d6",
   "metadata": {
    "vscode": {
     "languageId": "r"
    }
   },
   "outputs": [],
   "source": [
    "AFR_df <- master_df %>% \n",
    "    select(gene, acmg_tier_gnomAD.AFR, carrier_rate_gnomAD.AFR) %>%\n",
    "    rename(acmg_tier = acmg_tier_gnomAD.AFR, carrier_rate = carrier_rate_gnomAD.AFR) %>% \n",
    "    filter(acmg_tier != \"tier_4\")\n",
    "\n",
    "# Treat the acmg_tier as a factor\n",
    "AFR_df$acmg_tier <- factor(AFR_df$acmg_tier, levels = c(\"tier_1\", \"tier_2\", \"tier_3\"))\n",
    "\n",
    "# Sort the data frame by acmg_tier then carrier_rate\n",
    "AFR_df <- AFR_df %>%\n",
    "  arrange(acmg_tier, desc(carrier_rate))\n",
    "\n",
    "# Fill NA with 0\n",
    "AFR_df[is.na(AFR_df)] <- 0\n",
    "\n",
    "# Add a column indicating the rank of each gene within the dataframe\n",
    "AFR_df <- AFR_df %>%\n",
    "  mutate(rank = row_number())\n",
    "\n",
    "# Calculate the cumulative sum of carrier_rate\n",
    "AFR_df <- AFR_df %>%\n",
    "  mutate(cumulative_sum = cumsum(carrier_rate))\n",
    "\n",
    "# Add a dummy entry for each tier, indicating the end of the last tier\n",
    "t1_df <- AFR_df %>% filter(acmg_tier == \"tier_1\")\n",
    "t2_df <- AFR_df %>% filter(acmg_tier == \"tier_2\")\n",
    "t3_df <- AFR_df %>% filter(acmg_tier == \"tier_3\")\n",
    "dummy_df <- data.frame(\n",
    "    rank = c(\n",
    "        0, \n",
    "        t1_df[nrow(t1_df),'rank'], \n",
    "        t2_df[nrow(t2_df),'rank']\n",
    "    ), \n",
    "    cumulative_sum = c(\n",
    "        0, \n",
    "        t1_df[nrow(t1_df),'cumulative_sum'], \n",
    "        t2_df[nrow(t2_df),'cumulative_sum']\n",
    "    ), \n",
    "    acmg_tier = c(\"tier_1\", \"tier_2\", \"tier_3\")\n",
    ")\n",
    "AFR_df <- AFR_df %>% \n",
    "  bind_rows(dummy_df) %>% \n",
    "  arrange(acmg_tier, cumulative_sum)  # Reorder the data\n",
    "\n",
    "AFR_df$Population <- \"African\"    # Mark the Population"
   ]
  },
  {
   "cell_type": "code",
   "execution_count": 6,
   "id": "118cedb6",
   "metadata": {
    "vscode": {
     "languageId": "r"
    }
   },
   "outputs": [],
   "source": [
    "EAS_df <- master_df %>% \n",
    "    select(gene, acmg_tier_gnomAD.EAS, carrier_rate_gnomAD.EAS) %>%\n",
    "    rename(acmg_tier = acmg_tier_gnomAD.EAS, carrier_rate = carrier_rate_gnomAD.EAS) %>% \n",
    "    filter(acmg_tier != \"tier_4\")\n",
    "\n",
    "# Treat the acmg_tier as a factor\n",
    "EAS_df$acmg_tier <- factor(EAS_df$acmg_tier, levels = c(\"tier_1\", \"tier_2\", \"tier_3\"))\n",
    "\n",
    "# Sort the data frame by acmg_tier then carrier_rate\n",
    "EAS_df <- EAS_df %>%\n",
    "  arrange(acmg_tier, desc(carrier_rate))\n",
    "\n",
    "# Fill NA with 0\n",
    "EAS_df[is.na(EAS_df)] <- 0\n",
    "\n",
    "# Add a column indicating the rank of each gene within the datEASame\n",
    "EAS_df <- EAS_df %>%\n",
    "  mutate(rank = row_number())\n",
    "\n",
    "# Calculate the cumulative sum of carrier_rate\n",
    "EAS_df <- EAS_df %>%\n",
    "  mutate(cumulative_sum = cumsum(carrier_rate))\n",
    "\n",
    "# Add a dummy entry for each tier, indicating the end of the last tier\n",
    "t1_df <- EAS_df %>% filter(acmg_tier == \"tier_1\")\n",
    "t2_df <- EAS_df %>% filter(acmg_tier == \"tier_2\")\n",
    "t3_df <- EAS_df %>% filter(acmg_tier == \"tier_3\")\n",
    "dummy_df <- data.frame(\n",
    "    rank = c(\n",
    "        0, \n",
    "        t1_df[nrow(t1_df),'rank'], \n",
    "        t2_df[nrow(t2_df),'rank']\n",
    "    ), \n",
    "    cumulative_sum = c(\n",
    "        0, \n",
    "        t1_df[nrow(t1_df),'cumulative_sum'], \n",
    "        t2_df[nrow(t2_df),'cumulative_sum']\n",
    "    ), \n",
    "    acmg_tier = c(\"tier_1\", \"tier_2\", \"tier_3\")\n",
    ")\n",
    "EAS_df <- EAS_df %>% \n",
    "  bind_rows(dummy_df) %>% \n",
    "  arrange(acmg_tier, cumulative_sum)  # Reorder the data\n",
    "\n",
    "EAS_df$Population <- \"East Asian\"    # Mark the Population"
   ]
  },
  {
   "cell_type": "code",
   "execution_count": 7,
   "id": "30d37596",
   "metadata": {
    "vscode": {
     "languageId": "r"
    }
   },
   "outputs": [],
   "source": [
    "CHI_df <- master_df %>% \n",
    "    select(gene, acmg_tier_hkgi, carrier_rate_hkgi) %>%\n",
    "    rename(acmg_tier = acmg_tier_hkgi, carrier_rate = carrier_rate_hkgi) %>% \n",
    "    filter(acmg_tier != \"tier_4\")\n",
    "\n",
    "# Treat the acmg_tier as a factor\n",
    "CHI_df$acmg_tier <- factor(CHI_df$acmg_tier, levels = c(\"tier_1\", \"tier_2\", \"tier_3\"))\n",
    "\n",
    "# Sort the data frame by acmg_tier then carrier_rate\n",
    "CHI_df <- CHI_df %>%\n",
    "  arrange(acmg_tier, desc(carrier_rate))\n",
    "\n",
    "# Fill NA with 0\n",
    "CHI_df[is.na(CHI_df)] <- 0\n",
    "\n",
    "# Add a column indicating the rank of each gene within the datCHIame\n",
    "CHI_df <- CHI_df %>%\n",
    "  mutate(rank = row_number())\n",
    "\n",
    "# Calculate the cumulative sum of carrier_rate\n",
    "CHI_df <- CHI_df %>%\n",
    "  mutate(cumulative_sum = cumsum(carrier_rate))\n",
    "\n",
    "# Add a dummy entry for each tier, indicating the end of the last tier\n",
    "t1_df <- CHI_df %>% filter(acmg_tier == \"tier_1\")\n",
    "t2_df <- CHI_df %>% filter(acmg_tier == \"tier_2\")\n",
    "t3_df <- CHI_df %>% filter(acmg_tier == \"tier_3\")\n",
    "dummy_df <- data.frame(\n",
    "    rank = c(\n",
    "        0, \n",
    "        t1_df[nrow(t1_df),'rank'], \n",
    "        t2_df[nrow(t2_df),'rank']\n",
    "    ), \n",
    "    cumulative_sum = c(\n",
    "        0, \n",
    "        t1_df[nrow(t1_df),'cumulative_sum'], \n",
    "        t2_df[nrow(t2_df),'cumulative_sum']\n",
    "    ), \n",
    "    acmg_tier = c(\"tier_1\", \"tier_2\", \"tier_3\")\n",
    ")\n",
    "CHI_df <- CHI_df %>% \n",
    "  bind_rows(dummy_df) %>% \n",
    "  arrange(acmg_tier, cumulative_sum)  # Reorder the data\n",
    "\n",
    "CHI_df$Population <- \"Chinese\"    # Mark the Population"
   ]
  },
  {
   "cell_type": "code",
   "execution_count": 8,
   "id": "bde08fa0",
   "metadata": {
    "vscode": {
     "languageId": "r"
    }
   },
   "outputs": [],
   "source": [
    "combined_df <- rbind(NFE_df, AFR_df, EAS_df, CHI_df)\n",
    "combined_df$Population <- factor(combined_df$Population, levels = c(\"European\", \"African\", \"East Asian\", \"Chinese\"))\n",
    "combined_df <- combined_df %>% \n",
    "    select(Population, acmg_tier, rank, cumulative_sum)"
   ]
  },
  {
   "cell_type": "markdown",
   "id": "512f1270",
   "metadata": {
    "vscode": {
     "languageId": "r"
    }
   },
   "source": [
    "## Tiering plot - ACMG tiers vs HKGP tiers"
   ]
  },
  {
   "cell_type": "code",
   "execution_count": 9,
   "id": "ff2e8ad7",
   "metadata": {
    "vscode": {
     "languageId": "r"
    }
   },
   "outputs": [],
   "source": [
    "hkgp_eas_df <- master_df %>% \n",
    "    select(gene, tier_hkgi, carrier_rate_gnomAD.EAS) %>%\n",
    "    rename(tier = tier_hkgi, carrier_rate = carrier_rate_gnomAD.EAS) %>% \n",
    "    filter(tier != \"tier_4\")\n",
    "\n",
    "hkgp_eas_df$tier <- gsub(\"tier_3_xlink\", \"tier_3\", hkgp_eas_df$tier)    # Convert tier_3_xlink to tier_3\n",
    "hkgp_eas_df[is.na(hkgp_eas_df)] <- 0    # Fill NA with 0\n",
    "\n",
    "# Sort\n",
    "hkgp_eas_df$tier <- factor(hkgp_eas_df$tier, levels = c(\"tier_1\", \"tier_2\", \"tier_3\"))\n",
    "hkgp_eas_df <- hkgp_eas_df %>%\n",
    "  arrange(tier, desc(carrier_rate))\n",
    "\n",
    "# Add a column indicating the rank of each gene within the dataframe\n",
    "hkgp_eas_df <- hkgp_eas_df %>%\n",
    "  mutate(rank = row_number())\n",
    "\n",
    "# Calculate the cumulative sum of carrier_rate\n",
    "hkgp_eas_df <- hkgp_eas_df %>%\n",
    "  mutate(cumulative_sum = cumsum(carrier_rate))\n",
    "\n",
    "# Add a dummy entry for each tier, indicating the end of the last tier\n",
    "t1_df <- hkgp_eas_df %>% filter(tier == \"tier_1\")\n",
    "t2_df <- hkgp_eas_df %>% filter(tier == \"tier_2\")\n",
    "t3_df <- hkgp_eas_df %>% filter(tier == \"tier_3\")   \n",
    "dummy_df <- data.frame(\n",
    "    rank = c(\n",
    "        0, \n",
    "        t1_df[nrow(t1_df),'rank'], \n",
    "        t2_df[nrow(t2_df),'rank']\n",
    "    ), \n",
    "    cumulative_sum = c(\n",
    "        0, \n",
    "        t1_df[nrow(t1_df),'cumulative_sum'], \n",
    "        t2_df[nrow(t2_df),'cumulative_sum']\n",
    "    ), \n",
    "    tier = c(\"tier_1\", \"tier_2\", \"tier_3\")\n",
    ")\n",
    "hkgp_eas_df <- hkgp_eas_df %>% \n",
    "  bind_rows(dummy_df) %>% \n",
    "  arrange(tier, cumulative_sum)  # Reorder the data\n",
    "hkgp_eas_df$Population <- \"East Asian on HKGP tiers\"    # Mark the Population"
   ]
  },
  {
   "cell_type": "code",
   "execution_count": 10,
   "id": "2fae3231",
   "metadata": {
    "vscode": {
     "languageId": "r"
    }
   },
   "outputs": [],
   "source": [
    "hkgp_chi_df <- master_df %>% \n",
    "    select(gene, tier_hkgi, carrier_rate_hkgi) %>%\n",
    "    rename(tier = tier_hkgi, carrier_rate = carrier_rate_hkgi) %>% \n",
    "    filter(tier != \"tier_4\")\n",
    "\n",
    "hkgp_chi_df$tier <- gsub(\"tier_3_xlink\", \"tier_3\", hkgp_chi_df$tier)    # Convert tier_3_xlink to tier_3\n",
    "hkgp_chi_df[is.na(hkgp_chi_df)] <- 0    # Fill NA with 0\n",
    "\n",
    "# Sort\n",
    "hkgp_chi_df$tier <- factor(hkgp_chi_df$tier, levels = c(\"tier_1\", \"tier_2\", \"tier_3\"))\n",
    "hkgp_chi_df <- hkgp_chi_df %>%\n",
    "  arrange(tier, desc(carrier_rate))\n",
    "\n",
    "# Add a column indicating the rank of each gene within the dataframe\n",
    "hkgp_chi_df <- hkgp_chi_df %>%\n",
    "  mutate(rank = row_number())\n",
    "\n",
    "# Calculate the cumulative sum of carrier_rate\n",
    "hkgp_chi_df <- hkgp_chi_df %>%\n",
    "  mutate(cumulative_sum = cumsum(carrier_rate))\n",
    "\n",
    "# Add a dummy entry for each tier, indicating the end of the last tier\n",
    "t1_df <- hkgp_chi_df %>% filter(tier == \"tier_1\")\n",
    "t2_df <- hkgp_chi_df %>% filter(tier == \"tier_2\")\n",
    "t3_df <- hkgp_chi_df %>% filter(tier == \"tier_3\")\n",
    "dummy_df <- data.frame(\n",
    "    rank = c(\n",
    "        0, \n",
    "        t1_df[nrow(t1_df),'rank'], \n",
    "        t2_df[nrow(t2_df),'rank']\n",
    "    ), \n",
    "    cumulative_sum = c(\n",
    "        0, \n",
    "        t1_df[nrow(t1_df),'cumulative_sum'], \n",
    "        t2_df[nrow(t2_df),'cumulative_sum']\n",
    "    ), \n",
    "    tier = c(\"tier_1\", \"tier_2\", \"tier_3\")\n",
    ")\n",
    "hkgp_chi_df <- hkgp_chi_df %>% \n",
    "  bind_rows(dummy_df) %>% \n",
    "  arrange(tier, cumulative_sum)  # Reorder the data\n",
    "hkgp_chi_df$Population <- \"Chinese on HKGP tiers\"    # Mark the Population"
   ]
  },
  {
   "cell_type": "code",
   "execution_count": 11,
   "id": "0e8029e4",
   "metadata": {
    "vscode": {
     "languageId": "r"
    }
   },
   "outputs": [
    {
     "data": {
      "text/html": [
       "<table class=\"dataframe\">\n",
       "<caption>A data.frame: 6 × 6</caption>\n",
       "<thead>\n",
       "\t<tr><th></th><th scope=col>gene</th><th scope=col>tier</th><th scope=col>carrier_rate</th><th scope=col>rank</th><th scope=col>cumulative_sum</th><th scope=col>Population</th></tr>\n",
       "\t<tr><th></th><th scope=col>&lt;chr&gt;</th><th scope=col>&lt;chr&gt;</th><th scope=col>&lt;dbl&gt;</th><th scope=col>&lt;dbl&gt;</th><th scope=col>&lt;dbl&gt;</th><th scope=col>&lt;chr&gt;</th></tr>\n",
       "</thead>\n",
       "<tbody>\n",
       "\t<tr><th scope=row>58</th><td>MEFV  </td><td>tier_3</td><td>0.00515</td><td>55</td><td>1.06090</td><td>Chinese on HKGP tiers</td></tr>\n",
       "\t<tr><th scope=row>59</th><td>DNAAF6</td><td>tier_3</td><td>0.00117</td><td>56</td><td>1.06207</td><td>Chinese on HKGP tiers</td></tr>\n",
       "\t<tr><th scope=row>60</th><td>RS1   </td><td>tier_3</td><td>0.00085</td><td>57</td><td>1.06292</td><td>Chinese on HKGP tiers</td></tr>\n",
       "\t<tr><th scope=row>61</th><td>EDA   </td><td>tier_3</td><td>0.00085</td><td>58</td><td>1.06377</td><td>Chinese on HKGP tiers</td></tr>\n",
       "\t<tr><th scope=row>62</th><td>GLA   </td><td>tier_3</td><td>0.00075</td><td>59</td><td>1.06452</td><td>Chinese on HKGP tiers</td></tr>\n",
       "\t<tr><th scope=row>63</th><td>DMD   </td><td>tier_3</td><td>0.00053</td><td>60</td><td>1.06505</td><td>Chinese on HKGP tiers</td></tr>\n",
       "</tbody>\n",
       "</table>\n"
      ],
      "text/latex": [
       "A data.frame: 6 × 6\n",
       "\\begin{tabular}{r|llllll}\n",
       "  & gene & tier & carrier\\_rate & rank & cumulative\\_sum & Population\\\\\n",
       "  & <chr> & <chr> & <dbl> & <dbl> & <dbl> & <chr>\\\\\n",
       "\\hline\n",
       "\t58 & MEFV   & tier\\_3 & 0.00515 & 55 & 1.06090 & Chinese on HKGP tiers\\\\\n",
       "\t59 & DNAAF6 & tier\\_3 & 0.00117 & 56 & 1.06207 & Chinese on HKGP tiers\\\\\n",
       "\t60 & RS1    & tier\\_3 & 0.00085 & 57 & 1.06292 & Chinese on HKGP tiers\\\\\n",
       "\t61 & EDA    & tier\\_3 & 0.00085 & 58 & 1.06377 & Chinese on HKGP tiers\\\\\n",
       "\t62 & GLA    & tier\\_3 & 0.00075 & 59 & 1.06452 & Chinese on HKGP tiers\\\\\n",
       "\t63 & DMD    & tier\\_3 & 0.00053 & 60 & 1.06505 & Chinese on HKGP tiers\\\\\n",
       "\\end{tabular}\n"
      ],
      "text/markdown": [
       "\n",
       "A data.frame: 6 × 6\n",
       "\n",
       "| <!--/--> | gene &lt;chr&gt; | tier &lt;chr&gt; | carrier_rate &lt;dbl&gt; | rank &lt;dbl&gt; | cumulative_sum &lt;dbl&gt; | Population &lt;chr&gt; |\n",
       "|---|---|---|---|---|---|---|\n",
       "| 58 | MEFV   | tier_3 | 0.00515 | 55 | 1.06090 | Chinese on HKGP tiers |\n",
       "| 59 | DNAAF6 | tier_3 | 0.00117 | 56 | 1.06207 | Chinese on HKGP tiers |\n",
       "| 60 | RS1    | tier_3 | 0.00085 | 57 | 1.06292 | Chinese on HKGP tiers |\n",
       "| 61 | EDA    | tier_3 | 0.00085 | 58 | 1.06377 | Chinese on HKGP tiers |\n",
       "| 62 | GLA    | tier_3 | 0.00075 | 59 | 1.06452 | Chinese on HKGP tiers |\n",
       "| 63 | DMD    | tier_3 | 0.00053 | 60 | 1.06505 | Chinese on HKGP tiers |\n",
       "\n"
      ],
      "text/plain": [
       "   gene   tier   carrier_rate rank cumulative_sum Population           \n",
       "58 MEFV   tier_3 0.00515      55   1.06090        Chinese on HKGP tiers\n",
       "59 DNAAF6 tier_3 0.00117      56   1.06207        Chinese on HKGP tiers\n",
       "60 RS1    tier_3 0.00085      57   1.06292        Chinese on HKGP tiers\n",
       "61 EDA    tier_3 0.00085      58   1.06377        Chinese on HKGP tiers\n",
       "62 GLA    tier_3 0.00075      59   1.06452        Chinese on HKGP tiers\n",
       "63 DMD    tier_3 0.00053      60   1.06505        Chinese on HKGP tiers"
      ]
     },
     "metadata": {},
     "output_type": "display_data"
    }
   ],
   "source": [
    "tail(hkgp_chi_df)"
   ]
  },
  {
   "cell_type": "code",
   "execution_count": 12,
   "id": "088d2eec",
   "metadata": {
    "vscode": {
     "languageId": "r"
    }
   },
   "outputs": [
    {
     "data": {
      "text/html": [
       "<table class=\"dataframe\">\n",
       "<caption>A data.frame: 6 × 6</caption>\n",
       "<thead>\n",
       "\t<tr><th></th><th scope=col>gene</th><th scope=col>acmg_tier</th><th scope=col>carrier_rate</th><th scope=col>rank</th><th scope=col>cumulative_sum</th><th scope=col>Population</th></tr>\n",
       "\t<tr><th></th><th scope=col>&lt;chr&gt;</th><th scope=col>&lt;chr&gt;</th><th scope=col>&lt;dbl&gt;</th><th scope=col>&lt;dbl&gt;</th><th scope=col>&lt;dbl&gt;</th><th scope=col>&lt;chr&gt;</th></tr>\n",
       "</thead>\n",
       "<tbody>\n",
       "\t<tr><th scope=row>102</th><td>FMR1 </td><td>tier_3</td><td>0</td><td> 99</td><td>0.62407</td><td>Chinese</td></tr>\n",
       "\t<tr><th scope=row>103</th><td>ARX  </td><td>tier_3</td><td>0</td><td>100</td><td>0.62407</td><td>Chinese</td></tr>\n",
       "\t<tr><th scope=row>104</th><td>DHDDS</td><td>tier_3</td><td>0</td><td>101</td><td>0.62407</td><td>Chinese</td></tr>\n",
       "\t<tr><th scope=row>105</th><td>L1CAM</td><td>tier_3</td><td>0</td><td>102</td><td>0.62407</td><td>Chinese</td></tr>\n",
       "\t<tr><th scope=row>106</th><td>PLP1 </td><td>tier_3</td><td>0</td><td>103</td><td>0.62407</td><td>Chinese</td></tr>\n",
       "\t<tr><th scope=row>107</th><td>NR0B1</td><td>tier_3</td><td>0</td><td>104</td><td>0.62407</td><td>Chinese</td></tr>\n",
       "</tbody>\n",
       "</table>\n"
      ],
      "text/latex": [
       "A data.frame: 6 × 6\n",
       "\\begin{tabular}{r|llllll}\n",
       "  & gene & acmg\\_tier & carrier\\_rate & rank & cumulative\\_sum & Population\\\\\n",
       "  & <chr> & <chr> & <dbl> & <dbl> & <dbl> & <chr>\\\\\n",
       "\\hline\n",
       "\t102 & FMR1  & tier\\_3 & 0 &  99 & 0.62407 & Chinese\\\\\n",
       "\t103 & ARX   & tier\\_3 & 0 & 100 & 0.62407 & Chinese\\\\\n",
       "\t104 & DHDDS & tier\\_3 & 0 & 101 & 0.62407 & Chinese\\\\\n",
       "\t105 & L1CAM & tier\\_3 & 0 & 102 & 0.62407 & Chinese\\\\\n",
       "\t106 & PLP1  & tier\\_3 & 0 & 103 & 0.62407 & Chinese\\\\\n",
       "\t107 & NR0B1 & tier\\_3 & 0 & 104 & 0.62407 & Chinese\\\\\n",
       "\\end{tabular}\n"
      ],
      "text/markdown": [
       "\n",
       "A data.frame: 6 × 6\n",
       "\n",
       "| <!--/--> | gene &lt;chr&gt; | acmg_tier &lt;chr&gt; | carrier_rate &lt;dbl&gt; | rank &lt;dbl&gt; | cumulative_sum &lt;dbl&gt; | Population &lt;chr&gt; |\n",
       "|---|---|---|---|---|---|---|\n",
       "| 102 | FMR1  | tier_3 | 0 |  99 | 0.62407 | Chinese |\n",
       "| 103 | ARX   | tier_3 | 0 | 100 | 0.62407 | Chinese |\n",
       "| 104 | DHDDS | tier_3 | 0 | 101 | 0.62407 | Chinese |\n",
       "| 105 | L1CAM | tier_3 | 0 | 102 | 0.62407 | Chinese |\n",
       "| 106 | PLP1  | tier_3 | 0 | 103 | 0.62407 | Chinese |\n",
       "| 107 | NR0B1 | tier_3 | 0 | 104 | 0.62407 | Chinese |\n",
       "\n"
      ],
      "text/plain": [
       "    gene  acmg_tier carrier_rate rank cumulative_sum Population\n",
       "102 FMR1  tier_3    0             99  0.62407        Chinese   \n",
       "103 ARX   tier_3    0            100  0.62407        Chinese   \n",
       "104 DHDDS tier_3    0            101  0.62407        Chinese   \n",
       "105 L1CAM tier_3    0            102  0.62407        Chinese   \n",
       "106 PLP1  tier_3    0            103  0.62407        Chinese   \n",
       "107 NR0B1 tier_3    0            104  0.62407        Chinese   "
      ]
     },
     "metadata": {},
     "output_type": "display_data"
    }
   ],
   "source": [
    "tail(CHI_df)"
   ]
  },
  {
   "cell_type": "code",
   "execution_count": 13,
   "id": "3231ed2f",
   "metadata": {
    "vscode": {
     "languageId": "r"
    }
   },
   "outputs": [],
   "source": [
    "# Get subset of combined_df for East Asian and Chinese populations\n",
    "plot2_df <- combined_df %>% \n",
    "    filter(Population == \"East Asian\" | Population == \"Chinese\") %>% \n",
    "    rename(tier = acmg_tier)\n",
    "\n",
    "# Add \"on ACMG tiers\" to the Population \n",
    "plot2_df$Population <- gsub(\"East Asian\", \"East Asian on ACMG tiers\", plot2_df$Population)\n",
    "plot2_df$Population <- gsub(\"Chinese\", \"Chinese on ACMG tiers\", plot2_df$Population)"
   ]
  },
  {
   "cell_type": "code",
   "execution_count": 14,
   "id": "06522589",
   "metadata": {
    "vscode": {
     "languageId": "r"
    }
   },
   "outputs": [],
   "source": [
    "plot2_df <- rbind(\n",
    "    plot2_df, \n",
    "    hkgp_eas_df %>% \n",
    "        select(Population, tier, rank, cumulative_sum), \n",
    "    hkgp_chi_df %>% \n",
    "        select(Population, tier, rank, cumulative_sum)\n",
    ")"
   ]
  },
  {
   "cell_type": "code",
   "execution_count": 15,
   "id": "792ddc20",
   "metadata": {
    "vscode": {
     "languageId": "r"
    }
   },
   "outputs": [
    {
     "name": "stderr",
     "output_type": "stream",
     "text": [
      "Warning message:\n",
      "“\u001b[1m\u001b[22mUsing `size` aesthetic for lines was deprecated in ggplot2 3.4.0.\n",
      "\u001b[36mℹ\u001b[39m Please use `linewidth` instead.”\n"
     ]
    },
    {
     "data": {
      "image/png": "[encoded data removed]"
     },
     "metadata": {
      "image/png": {
       "height": 420,
       "width": 420
      }
     },
     "output_type": "display_data"
    }
   ],
   "source": [
    "line2_plot <- ggplot(\n",
    "    plot2_df %>% filter(tier == \"tier_1\" | tier == \"tier_2\" | tier == \"tier_3\"), \n",
    "    aes(x = rank, y = cumulative_sum, color = tier, linetype = Population)\n",
    "  ) +\n",
    "    # Reduce line width to 0.6 and add alpha for transparency\n",
    "  geom_line(size = 0.6, alpha = 0.8) +\n",
    "  scale_color_manual(\n",
    "    values = c(\n",
    "      \"tier_1\" = custom_colors[[\"tier_1\"]],\n",
    "      \"tier_2\" = custom_colors[[\"tier_2\"]],\n",
    "      \"tier_3\" = custom_colors[[\"tier_3\"]]\n",
    "    )\n",
    "  ) +\n",
    "  scale_linetype_manual(\n",
    "    values = c(\n",
    "      \"Chinese on HKGP tiers\" = \"solid\",\n",
    "      \"East Asian on HKGP tiers\" = \"dotdash\",\n",
    "      \"East Asian on ACMG tiers\" = \"dotted\",\n",
    "      \"Chinese on ACMG tiers\" = \"dashed\"\n",
    "    ),\n",
    "    labels = c(\n",
    "      \"Chinese on HKGP tiers\" = \"Chinese on HKGP tiers\",\n",
    "      \"East Asian on HKGP tiers\" = \"East Asian on HKGP tiers\",\n",
    "      \"East Asian on ACMG tiers\" = \"East Asian on ACMG tiers\",\n",
    "      \"Chinese on ACMG tiers\" = \"Chinese on ACMG tiers\"\n",
    "    )\n",
    "  ) +\n",
    "  labs(\n",
    "    title = \"\",\n",
    "    x = \"Panel Size\",\n",
    "    y = \"cGCF\",\n",
    "    color = \"Tier\",\n",
    "    linetype = \"Population\"\n",
    "  ) + \n",
    "  scale_x_continuous(\n",
    "    breaks = seq(0, 111, by = 10),  # Set y-axis ticks at 5% intervals\n",
    "    limits = c(-5, 111), \n",
    "    expand = c(0, 0)  # Remove space at the bottom of the y-axis\n",
    "  ) + \n",
    "  scale_y_continuous(\n",
    "    breaks = seq(0, 1.1, by = 0.1),  # Set y-axis ticks at 5% intervals\n",
    "    limits = c(0, 1.1), \n",
    "    expand = c(0, 0)  # Remove space at the bottom of the y-axis\n",
    "  ) + \n",
    "  \n",
    "  # theme_minimal(base_family = \"Arial\") +\n",
    "  theme_minimal() +\n",
    "  theme(\n",
    "    # plot.title = element_text(size = 14, hjust = 0.5), \n",
    "    plot.title = element_blank(),\n",
    "    panel.grid = element_blank(), \n",
    "    axis.line = element_line(color = \"black\"),\n",
    "    axis.title.y = element_text(size = 7),\n",
    "    axis.title.x = element_text(size = 7),\n",
    "    axis.text.y = element_text(size = 6),\n",
    "    axis.text.x = element_text(size = 6),\n",
    "    panel.grid.major.x = element_blank(),\n",
    "    panel.grid.minor.x = element_blank(),\n",
    "    # legend.position = c(0.9, 0.3), \n",
    "    legend.position = \"none\",\n",
    "    legend.title = element_text(size = 6),\n",
    "    legend.text = element_text(size = 5),\n",
    "    # Reduce spacing between legend elements\n",
    "    legend.spacing.x = unit(0.05, \"cm\"),\n",
    "    legend.spacing.y = unit(0.05, \"cm\"),\n",
    "    legend.margin = margin(0, 0, 0, 0),\n",
    "    # Make legend more compact\n",
    "    legend.key.height = unit(0.25, \"cm\"),\n",
    "    legend.key.width = unit(0.6, \"cm\"),\n",
    "    # Optional: adjust legend box spacing\n",
    "    legend.box.spacing = unit(0.1, \"cm\"),\n",
    "    plot.margin = margin(5, 5, 5, 5)\n",
    "  )\n",
    "\n",
    "\n",
    "line2_plot\n",
    "\n",
    "\n",
    "# # Save the plot\n",
    "# ggsave(\n",
    "#   filename = \"results/secondary/recessive/main/hkgp_tier_cGCF.pdf\",\n",
    "#   plot = line2_plot,\n",
    "#   width = 60, height = 60,\n",
    "# \tunits = \"mm\", dpi = 600\n",
    "# )"
   ]
  },
  {
   "cell_type": "code",
   "execution_count": null,
   "id": "ec5a86f6-73be-429c-9298-e710b9bd724a",
   "metadata": {},
   "outputs": [],
   "source": []
  }
 ],
 "metadata": {
  "kernelspec": {
   "display_name": "R",
   "language": "R",
   "name": "ir"
  },
  "language_info": {
   "codemirror_mode": "r",
   "file_extension": ".r",
   "mimetype": "text/x-r-source",
   "name": "R",
   "pygments_lexer": "r",
   "version": "4.4.1"
  }
 },
 "nbformat": 4,
 "nbformat_minor": 5
}
